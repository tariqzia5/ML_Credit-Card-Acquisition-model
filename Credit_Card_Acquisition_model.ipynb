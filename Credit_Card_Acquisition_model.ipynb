{
  "cells": [
    {
      "cell_type": "markdown",
      "metadata": {
        "id": "view-in-github",
        "colab_type": "text"
      },
      "source": [
        "<a href=\"https://colab.research.google.com/github/tariqzia5/ML_Credit-Card-Acquisition-model/blob/main/Credit_Card_Acquisition_model.ipynb\" target=\"_parent\"><img src=\"https://colab.research.google.com/assets/colab-badge.svg\" alt=\"Open In Colab\"/></a>"
      ]
    },
    {
      "cell_type": "markdown",
      "metadata": {
        "id": "8Vh_W-3BTnG2"
      },
      "source": [
        "# **PROBLEM STATEMENT**\n",
        "Data Link https://www.kaggle.com/datasets/rikdifos/credit-card-approval-prediction\n",
        "\n",
        "# About Dataset\n",
        "\n",
        "A Credit Card Dataset for Machine Learning!\n",
        "\n",
        "# Context\n",
        "\n",
        "Credit score cards are a common risk control method in the financial industry. It uses personal information and data submitted by credit card applicants to predict the probability of future defaults and credit card borrowings. The bank is able to decide whether to issue a credit card to the applicant. Credit scores can objectively quantify the magnitude of risk.\n",
        " \n",
        "Credit score cards are based on historical data.Past models may lose their original predictive power. Logistic model is a common method for credit scoring. Because Logistic is suitable for binary classification tasks and can calculate the coefficients of each feature. In order to facilitate understanding and operation, the score card will multiply the logistic regression coefficient by a certain value (such as 100) and round it.\n",
        " \n",
        "Predictive methods such as Boosting, Random Forest, and Support Vector Machines have been introduced into credit card scoring. \n",
        "\n",
        "# Task\n",
        "\n",
        "Build a machine learning model to predict if an applicant is 'good' or 'bad' client, different from other tasks, the definition of 'good' or 'bad' is not given. You should use some techique, such as vintage analysis to construct you label. "
      ]
    },
    {
      "cell_type": "markdown",
      "metadata": {
        "id": "XbeMOHb9b0b1"
      },
      "source": [
        "# **IMPORTING THE LIBRARIES AND DATASET**"
      ]
    },
    {
      "cell_type": "code",
      "execution_count": 6,
      "metadata": {
        "id": "cV-N92RgUoZu"
      },
      "outputs": [],
      "source": [
        "#Importing basic packages\n",
        "import pandas as pd\n",
        "import numpy as np\n",
        "\n",
        "# For Graphs\n",
        "import matplotlib.pyplot as plt \n",
        "import seaborn as sns\n",
        "# For beautification of charts\n",
        "from seaborn.widgets import color_palette\n",
        "# For SIZE of charts\n",
        "sns.set(rc={'figure.figsize':(15,6)})\n",
        "\n",
        "# For Logistic Regression\n",
        "from sklearn.linear_model import LogisticRegression\n",
        "import statsmodels.api as sm\n",
        "from sklearn.metrics import confusion_matrix\n",
        "# For Train data & Test data split\n",
        "from sklearn.model_selection import train_test_split"
      ]
    },
    {
      "cell_type": "markdown",
      "metadata": {
        "id": "vMNtWOyeVs5I"
      },
      "source": [
        "Loading the RAW data to Python Enviromnment for further processing"
      ]
    },
    {
      "cell_type": "code",
      "source": [
        "from google.colab import drive\n",
        "drive.mount('/content/drive')"
      ],
      "metadata": {
        "id": "7qAyDfGs5B9k",
        "outputId": "499b3bdf-8db2-47b0-91c3-aaa4e5922dc9",
        "colab": {
          "base_uri": "https://localhost:8080/"
        }
      },
      "execution_count": 3,
      "outputs": [
        {
          "output_type": "stream",
          "name": "stdout",
          "text": [
            "Drive already mounted at /content/drive; to attempt to forcibly remount, call drive.mount(\"/content/drive\", force_remount=True).\n"
          ]
        }
      ]
    },
    {
      "cell_type": "code",
      "execution_count": 12,
      "metadata": {
        "id": "nKTGF3QHUoiW"
      },
      "outputs": [],
      "source": [
        "#Loading the data files from Google Drive\n",
        "APPLICATION_RECORD = pd.read_csv(\"/content/drive/MyDrive/ML_Raw_File/Credit Card Acquisition model/application_record.csv\")\n",
        "CREDIT_RECORD = pd.read_csv(\"/content/drive/MyDrive/ML_Raw_File/Credit Card Acquisition model/credit_record.csv\")"
      ]
    },
    {
      "cell_type": "markdown",
      "metadata": {
        "id": "G-s2Xpn44fF1"
      },
      "source": [
        "# **BASIC DETAILS**"
      ]
    },
    {
      "cell_type": "code",
      "execution_count": 13,
      "metadata": {
        "colab": {
          "base_uri": "https://localhost:8080/"
        },
        "id": "k0J2DGP14oeI",
        "outputId": "c4428cff-6846-47f0-e2a1-56af0ab5f3c7"
      },
      "outputs": [
        {
          "output_type": "stream",
          "name": "stdout",
          "text": [
            "APPLICATION_RECORD shape is: (438557, 18)\n",
            "        ID CODE_GENDER FLAG_OWN_CAR FLAG_OWN_REALTY  CNT_CHILDREN  \\\n",
            "0  5008804           M            Y               Y             0   \n",
            "1  5008805           M            Y               Y             0   \n",
            "2  5008806           M            Y               Y             0   \n",
            "3  5008808           F            N               Y             0   \n",
            "4  5008809           F            N               Y             0   \n",
            "\n",
            "   AMT_INCOME_TOTAL      NAME_INCOME_TYPE            NAME_EDUCATION_TYPE  \\\n",
            "0          427500.0               Working               Higher education   \n",
            "1          427500.0               Working               Higher education   \n",
            "2          112500.0               Working  Secondary / secondary special   \n",
            "3          270000.0  Commercial associate  Secondary / secondary special   \n",
            "4          270000.0  Commercial associate  Secondary / secondary special   \n",
            "\n",
            "     NAME_FAMILY_STATUS  NAME_HOUSING_TYPE  DAYS_BIRTH  DAYS_EMPLOYED  \\\n",
            "0        Civil marriage   Rented apartment      -12005          -4542   \n",
            "1        Civil marriage   Rented apartment      -12005          -4542   \n",
            "2               Married  House / apartment      -21474          -1134   \n",
            "3  Single / not married  House / apartment      -19110          -3051   \n",
            "4  Single / not married  House / apartment      -19110          -3051   \n",
            "\n",
            "   FLAG_MOBIL  FLAG_WORK_PHONE  FLAG_PHONE  FLAG_EMAIL OCCUPATION_TYPE  \\\n",
            "0           1                1           0           0             NaN   \n",
            "1           1                1           0           0             NaN   \n",
            "2           1                0           0           0  Security staff   \n",
            "3           1                0           1           1     Sales staff   \n",
            "4           1                0           1           1     Sales staff   \n",
            "\n",
            "   CNT_FAM_MEMBERS  \n",
            "0              2.0  \n",
            "1              2.0  \n",
            "2              2.0  \n",
            "3              1.0  \n",
            "4              1.0  \n",
            "CREDIT_RECORD shape is: (1048575, 3)\n",
            "        ID  MONTHS_BALANCE STATUS\n",
            "0  5001711               0      X\n",
            "1  5001711              -1      0\n",
            "2  5001711              -2      0\n",
            "3  5001711              -3      0\n",
            "4  5001712               0      C\n"
          ]
        }
      ],
      "source": [
        "# Number of Rows & Columns\n",
        "# SHAPE & PREVIEW\n",
        "print('APPLICATION_RECORD shape is:',APPLICATION_RECORD.shape) #--(438557, 18)\n",
        "print(APPLICATION_RECORD.head())\n",
        "print('CREDIT_RECORD shape is:',CREDIT_RECORD.shape) #--(1048575, 3)\n",
        "print(CREDIT_RECORD.head())"
      ]
    },
    {
      "cell_type": "markdown",
      "source": [
        "Checking for Null Values and Suspicious Records"
      ],
      "metadata": {
        "id": "pzNJWkt3-YaV"
      }
    },
    {
      "cell_type": "code",
      "execution_count": 14,
      "metadata": {
        "colab": {
          "base_uri": "https://localhost:8080/"
        },
        "id": "NV0RRMVm4uWM",
        "outputId": "dc5248d3-70c9-40fd-a6a8-95848b632e8a"
      },
      "outputs": [
        {
          "output_type": "stream",
          "name": "stdout",
          "text": [
            "<class 'pandas.core.frame.DataFrame'>\n",
            "RangeIndex: 438557 entries, 0 to 438556\n",
            "Data columns (total 18 columns):\n",
            " #   Column               Non-Null Count   Dtype  \n",
            "---  ------               --------------   -----  \n",
            " 0   ID                   438557 non-null  int64  \n",
            " 1   CODE_GENDER          438557 non-null  object \n",
            " 2   FLAG_OWN_CAR         438557 non-null  object \n",
            " 3   FLAG_OWN_REALTY      438557 non-null  object \n",
            " 4   CNT_CHILDREN         438557 non-null  int64  \n",
            " 5   AMT_INCOME_TOTAL     438557 non-null  float64\n",
            " 6   NAME_INCOME_TYPE     438557 non-null  object \n",
            " 7   NAME_EDUCATION_TYPE  438557 non-null  object \n",
            " 8   NAME_FAMILY_STATUS   438557 non-null  object \n",
            " 9   NAME_HOUSING_TYPE    438557 non-null  object \n",
            " 10  DAYS_BIRTH           438557 non-null  int64  \n",
            " 11  DAYS_EMPLOYED        438557 non-null  int64  \n",
            " 12  FLAG_MOBIL           438557 non-null  int64  \n",
            " 13  FLAG_WORK_PHONE      438557 non-null  int64  \n",
            " 14  FLAG_PHONE           438557 non-null  int64  \n",
            " 15  FLAG_EMAIL           438557 non-null  int64  \n",
            " 16  OCCUPATION_TYPE      304354 non-null  object \n",
            " 17  CNT_FAM_MEMBERS      438557 non-null  float64\n",
            "dtypes: float64(2), int64(8), object(8)\n",
            "memory usage: 60.2+ MB\n"
          ]
        }
      ],
      "source": [
        "APPLICATION_RECORD.columns.values\n",
        "APPLICATION_RECORD.info()\n",
        "#OCCUPATION_TYPE has missing records"
      ]
    },
    {
      "cell_type": "code",
      "source": [
        "CREDIT_RECORD.columns.values\n",
        "CREDIT_RECORD.info()\n",
        "#no missing records"
      ],
      "metadata": {
        "colab": {
          "base_uri": "https://localhost:8080/"
        },
        "id": "huIJ5kn0-Jln",
        "outputId": "2f31b0f2-0a47-4cd5-b89b-a7ec93ecbabb"
      },
      "execution_count": 15,
      "outputs": [
        {
          "output_type": "stream",
          "name": "stdout",
          "text": [
            "<class 'pandas.core.frame.DataFrame'>\n",
            "RangeIndex: 1048575 entries, 0 to 1048574\n",
            "Data columns (total 3 columns):\n",
            " #   Column          Non-Null Count    Dtype \n",
            "---  ------          --------------    ----- \n",
            " 0   ID              1048575 non-null  int64 \n",
            " 1   MONTHS_BALANCE  1048575 non-null  int64 \n",
            " 2   STATUS          1048575 non-null  object\n",
            "dtypes: int64(2), object(1)\n",
            "memory usage: 24.0+ MB\n"
          ]
        }
      ]
    },
    {
      "cell_type": "markdown",
      "source": [
        "Checking the relationship between two tables using the ID variable"
      ],
      "metadata": {
        "id": "gbJuDJZK_qEz"
      }
    },
    {
      "cell_type": "code",
      "execution_count": null,
      "metadata": {
        "colab": {
          "base_uri": "https://localhost:8080/"
        },
        "id": "k6quMZ1V4yeA",
        "outputId": "6299812f-60d1-464f-8b70-e5a14ef2d359"
      },
      "outputs": [
        {
          "output_type": "stream",
          "name": "stdout",
          "text": [
            "Unique ID in CREDIT_RECORD: 45985\n",
            "Unique ID in APPLICATION_RECORD: 438510\n",
            "Unique ID in CREDIT_RECORD: 45985\n",
            "Unique ID in APPLICATION_RECORD: 438510\n"
          ]
        }
      ],
      "source": [
        "CREDIT_RECORD\n",
        "#45985 Records\n",
        "APPLICATION_RECORD\n",
        "#438510 Records\n",
        "print('Unique ID in CREDIT_RECORD:',len(CREDIT_RECORD['ID'].unique()))\n",
        "print('Unique ID in APPLICATION_RECORD:',len(APPLICATION_RECORD['ID'].unique()))\n",
        "#NOTE TO SELF-unique gives the array of unique records, nunique gives the count\n",
        "#SAME thing can be done by using len and also nunique\n",
        "print('Unique ID in CREDIT_RECORD:',CREDIT_RECORD['ID'].nunique())\n",
        "print('Unique ID in APPLICATION_RECORD:',APPLICATION_RECORD['ID'].nunique() )"
      ]
    },
    {
      "cell_type": "markdown",
      "metadata": {
        "id": "kgZdwXpUUrDY"
      },
      "source": [
        "# **DATA EXPLORATION AND VALIDATION**"
      ]
    },
    {
      "cell_type": "markdown",
      "metadata": {
        "id": "WLRiEkSfzeym"
      },
      "source": [
        "## **CATEGORICAL/DISCRETE FILEDS**\n",
        "********************\n",
        "********************\n",
        "\n",
        "#### **APPLICATION_RECORD**\n",
        "\n",
        "======================\n",
        "*   ID-DISCRETE\n",
        "*   CNT_CHILDREN-DISCRETE\n",
        "*   CNT_FAM_MEMBERS-DISCRETE\n",
        "*   CODE_GENDER-CATEGORICAL\n",
        "*   FLAG_OWN_CAR-CATEGORICAL\n",
        "*   FLAG_OWN_REALTY-CATEGORICAL\n",
        "*   NAME_INCOME_TYPE-CATEGORICAL\n",
        "*   NAME_EDUCATION_TYPE-CATEGORICAL\n",
        "*   NAME_FAMILY_STATUS-CATEGORICAL\n",
        "*   NAME_HOUSING_TYPE-CATEGORICAL\n",
        "*   FLAG_MOBIL-CATEGORICAL\n",
        "*   FLAG_WORK_PHONE-CATEGORICAL\n",
        "*   FLAG_PHONE-CATEGORICAL\n",
        "*   NFLAG_EMAIL-CATEGORICAL\n",
        "*   OCCUPATION_TYPE-CATEGORICAL\n",
        "***************\n",
        "\n",
        "\n",
        "\n",
        "\n",
        "#### **CREDIT_RECORD**\n",
        "\n",
        "================\n",
        "*   ID-DISCRETE\n",
        "*   STATUS-DISCRETE\n",
        "******\n",
        "\n"
      ]
    },
    {
      "cell_type": "markdown",
      "metadata": {
        "id": "uYY6T9fQ1X5h"
      },
      "source": [
        "## **CONTINUOUS FILEDS**\n",
        "********************\n",
        "********************\n",
        "\n",
        "#### **APPLICATION_RECORD**\n",
        "\n",
        "==================\n",
        "\n",
        "\n",
        "*   AMT_INCOME_TOTAL-CONTINUOUS\n",
        "*   DAYS_BIRTH-CONTINUOUS\n",
        "*   DAYS_EMPLOYED-CONTINUOUS\n",
        "***************\n",
        "\n",
        "\n",
        "\n",
        "#### **CREDIT_RECORD**\n",
        "\n",
        "================\n",
        "\n",
        "*   MONTHS_BALANCE-CONTINUOUS\n",
        "******"
      ]
    },
    {
      "cell_type": "markdown",
      "metadata": {
        "id": "u2EqAOIx-kT8"
      },
      "source": [
        "### **CATEGORICAL/DISCRETE FIELD**\n"
      ]
    },
    {
      "cell_type": "markdown",
      "source": [
        "#### APPLICATION_RECORD['ID']-Discrete Field \n",
        "\n",
        "This denotes the client number."
      ],
      "metadata": {
        "id": "XZGr8b53Aqrw"
      }
    },
    {
      "cell_type": "code",
      "execution_count": null,
      "metadata": {
        "colab": {
          "base_uri": "https://localhost:8080/"
        },
        "id": "WojAy-u94Enw",
        "outputId": "8b93a57a-c29f-44a2-c23f-df2b397f9722"
      },
      "outputs": [
        {
          "output_type": "execute_result",
          "data": {
            "text/plain": [
              "array([7602432, 7052783, 7838075, 7053557, 7023651, 7213374, 7089090,\n",
              "       7576316, 7023108, 7137299, 7836711, 7022197, 7636389, 7207977,\n",
              "       7045794, 7154819, 7836971, 7416167, 7702238, 7155150, 7317997,\n",
              "       7036518, 7772847, 7243768, 7743418, 7090931, 7603224, 7833087,\n",
              "       7742298, 7050948, 7174719, 7744386, 7052812, 7022327, 7154598,\n",
              "       7046068, 7045885, 7636756, 7702516, 7099881, 7372589, 7024111,\n",
              "       7282535, 7742853, 7135270, 7091721, 7618285])"
            ]
          },
          "metadata": {},
          "execution_count": 124
        }
      ],
      "source": [
        "# APPLICATION_RECORD['ID']-Discrete Field \n",
        "# ID HAS 438510 UNIQUE Records ,47 Records are duplicate having only one extra record\n",
        "# GOOD THING IS THESE 47 RECORDS ARE NOT PRESENT IN THE CREDIT_RECORD TABLE\n",
        "\n",
        "ID_COUNT=APPLICATION_RECORD.groupby(['ID']).agg({'ID':'count'})\n",
        "DUPLICATE_ID=ID_COUNT[ID_COUNT['ID']>1]\n",
        "len(DUPLICATE_ID)  #47 Reocrds are duplicate\n",
        "\n",
        "#Checking few record\n",
        "APPLICATION_RECORD[APPLICATION_RECORD['ID']==7022197] #Male & Female\n",
        "APPLICATION_RECORD[APPLICATION_RECORD['ID']==7207977] #Female & Female ,OCCUPATION_TYPE is not there when pensioner, then started working\n",
        "APPLICATION_RECORD[APPLICATION_RECORD['ID']==7036518] #Female & Female ,\n",
        "APPLICATION_RECORD[APPLICATION_RECORD['ID']==7089090] #Female & Female,NAME_INCOME_TYPE is diff,AMT_INCOME_TOTAL is diff,DAYS_BIRTH is diff\n",
        "DUP_ID=APPLICATION_RECORD[APPLICATION_RECORD['ID'].duplicated()==True]['ID'].unique()\n",
        "DUP_ID"
      ]
    },
    {
      "cell_type": "code",
      "execution_count": null,
      "metadata": {
        "colab": {
          "base_uri": "https://localhost:8080/",
          "height": 49
        },
        "id": "4cVOT5AyO8c9",
        "outputId": "e08b7c44-cefb-4054-fd1f-e0422529811a"
      },
      "outputs": [
        {
          "output_type": "execute_result",
          "data": {
            "text/plain": [
              "Empty DataFrame\n",
              "Columns: [ID, MONTHS_BALANCE, STATUS]\n",
              "Index: []"
            ],
            "text/html": [
              "\n",
              "  <div id=\"df-fcd60447-0947-468c-a116-d476b99f7eba\">\n",
              "    <div class=\"colab-df-container\">\n",
              "      <div>\n",
              "<style scoped>\n",
              "    .dataframe tbody tr th:only-of-type {\n",
              "        vertical-align: middle;\n",
              "    }\n",
              "\n",
              "    .dataframe tbody tr th {\n",
              "        vertical-align: top;\n",
              "    }\n",
              "\n",
              "    .dataframe thead th {\n",
              "        text-align: right;\n",
              "    }\n",
              "</style>\n",
              "<table border=\"1\" class=\"dataframe\">\n",
              "  <thead>\n",
              "    <tr style=\"text-align: right;\">\n",
              "      <th></th>\n",
              "      <th>ID</th>\n",
              "      <th>MONTHS_BALANCE</th>\n",
              "      <th>STATUS</th>\n",
              "    </tr>\n",
              "  </thead>\n",
              "  <tbody>\n",
              "  </tbody>\n",
              "</table>\n",
              "</div>\n",
              "      <button class=\"colab-df-convert\" onclick=\"convertToInteractive('df-fcd60447-0947-468c-a116-d476b99f7eba')\"\n",
              "              title=\"Convert this dataframe to an interactive table.\"\n",
              "              style=\"display:none;\">\n",
              "        \n",
              "  <svg xmlns=\"http://www.w3.org/2000/svg\" height=\"24px\"viewBox=\"0 0 24 24\"\n",
              "       width=\"24px\">\n",
              "    <path d=\"M0 0h24v24H0V0z\" fill=\"none\"/>\n",
              "    <path d=\"M18.56 5.44l.94 2.06.94-2.06 2.06-.94-2.06-.94-.94-2.06-.94 2.06-2.06.94zm-11 1L8.5 8.5l.94-2.06 2.06-.94-2.06-.94L8.5 2.5l-.94 2.06-2.06.94zm10 10l.94 2.06.94-2.06 2.06-.94-2.06-.94-.94-2.06-.94 2.06-2.06.94z\"/><path d=\"M17.41 7.96l-1.37-1.37c-.4-.4-.92-.59-1.43-.59-.52 0-1.04.2-1.43.59L10.3 9.45l-7.72 7.72c-.78.78-.78 2.05 0 2.83L4 21.41c.39.39.9.59 1.41.59.51 0 1.02-.2 1.41-.59l7.78-7.78 2.81-2.81c.8-.78.8-2.07 0-2.86zM5.41 20L4 18.59l7.72-7.72 1.47 1.35L5.41 20z\"/>\n",
              "  </svg>\n",
              "      </button>\n",
              "      \n",
              "  <style>\n",
              "    .colab-df-container {\n",
              "      display:flex;\n",
              "      flex-wrap:wrap;\n",
              "      gap: 12px;\n",
              "    }\n",
              "\n",
              "    .colab-df-convert {\n",
              "      background-color: #E8F0FE;\n",
              "      border: none;\n",
              "      border-radius: 50%;\n",
              "      cursor: pointer;\n",
              "      display: none;\n",
              "      fill: #1967D2;\n",
              "      height: 32px;\n",
              "      padding: 0 0 0 0;\n",
              "      width: 32px;\n",
              "    }\n",
              "\n",
              "    .colab-df-convert:hover {\n",
              "      background-color: #E2EBFA;\n",
              "      box-shadow: 0px 1px 2px rgba(60, 64, 67, 0.3), 0px 1px 3px 1px rgba(60, 64, 67, 0.15);\n",
              "      fill: #174EA6;\n",
              "    }\n",
              "\n",
              "    [theme=dark] .colab-df-convert {\n",
              "      background-color: #3B4455;\n",
              "      fill: #D2E3FC;\n",
              "    }\n",
              "\n",
              "    [theme=dark] .colab-df-convert:hover {\n",
              "      background-color: #434B5C;\n",
              "      box-shadow: 0px 1px 3px 1px rgba(0, 0, 0, 0.15);\n",
              "      filter: drop-shadow(0px 1px 2px rgba(0, 0, 0, 0.3));\n",
              "      fill: #FFFFFF;\n",
              "    }\n",
              "  </style>\n",
              "\n",
              "      <script>\n",
              "        const buttonEl =\n",
              "          document.querySelector('#df-fcd60447-0947-468c-a116-d476b99f7eba button.colab-df-convert');\n",
              "        buttonEl.style.display =\n",
              "          google.colab.kernel.accessAllowed ? 'block' : 'none';\n",
              "\n",
              "        async function convertToInteractive(key) {\n",
              "          const element = document.querySelector('#df-fcd60447-0947-468c-a116-d476b99f7eba');\n",
              "          const dataTable =\n",
              "            await google.colab.kernel.invokeFunction('convertToInteractive',\n",
              "                                                     [key], {});\n",
              "          if (!dataTable) return;\n",
              "\n",
              "          const docLinkHtml = 'Like what you see? Visit the ' +\n",
              "            '<a target=\"_blank\" href=https://colab.research.google.com/notebooks/data_table.ipynb>data table notebook</a>'\n",
              "            + ' to learn more about interactive tables.';\n",
              "          element.innerHTML = '';\n",
              "          dataTable['output_type'] = 'display_data';\n",
              "          await google.colab.output.renderOutput(dataTable, element);\n",
              "          const docLink = document.createElement('div');\n",
              "          docLink.innerHTML = docLinkHtml;\n",
              "          element.appendChild(docLink);\n",
              "        }\n",
              "      </script>\n",
              "    </div>\n",
              "  </div>\n",
              "  "
            ]
          },
          "metadata": {},
          "execution_count": 125
        }
      ],
      "source": [
        "\n",
        "APPLICATION_RECORD[APPLICATION_RECORD['ID'].isin ([7602432, 7052783, 7838075, 7053557, 7023651, 7213374, 7089090,\n",
        "       7576316, 7023108, 7137299, 7836711, 7022197, 7636389, 7207977,\n",
        "       7045794, 7154819, 7836971, 7416167, 7702238, 7155150, 7317997,\n",
        "       7036518, 7772847, 7243768, 7743418, 7090931, 7603224, 7833087,\n",
        "       7742298, 7050948, 7174719, 7744386, 7052812, 7022327, 7154598,\n",
        "       7046068, 7045885, 7636756, 7702516, 7099881, 7372589, 7024111,\n",
        "       7282535, 7742853, 7135270, 7091721, 7618285])]\n",
        "\n",
        "CREDIT_RECORD[CREDIT_RECORD['ID'].isin ([7602432, 7052783, 7838075, 7053557, 7023651, 7213374, 7089090,\n",
        "       7576316, 7023108, 7137299, 7836711, 7022197, 7636389, 7207977,\n",
        "       7045794, 7154819, 7836971, 7416167, 7702238, 7155150, 7317997,\n",
        "       7036518, 7772847, 7243768, 7743418, 7090931, 7603224, 7833087,\n",
        "       7742298, 7050948, 7174719, 7744386, 7052812, 7022327, 7154598,\n",
        "       7046068, 7045885, 7636756, 7702516, 7099881, 7372589, 7024111,\n",
        "       7282535, 7742853, 7135270, 7091721, 7618285])]"
      ]
    },
    {
      "cell_type": "markdown",
      "source": [
        "#### APPLICATION_RECORD['CNT_CHILDREN']-Discrete Field\n",
        "\n",
        "This denotes the number of children the client has."
      ],
      "metadata": {
        "id": "cQJDH23mA7qe"
      }
    },
    {
      "cell_type": "code",
      "execution_count": null,
      "metadata": {
        "colab": {
          "base_uri": "https://localhost:8080/"
        },
        "id": "oLydWHrUD0Tq",
        "outputId": "25ec692e-d123-4baa-88c6-1ebbb8502805"
      },
      "outputs": [
        {
          "output_type": "stream",
          "name": "stdout",
          "text": [
            "0     304071\n",
            "1      88527\n",
            "2      39884\n",
            "3       5430\n",
            "4        486\n",
            "5        133\n",
            "7          9\n",
            "9          5\n",
            "12         4\n",
            "6          4\n",
            "14         3\n",
            "19         1\n",
            "Name: CNT_CHILDREN, dtype: int64\n"
          ]
        },
        {
          "output_type": "execute_result",
          "data": {
            "text/plain": [
              "0.0"
            ]
          },
          "metadata": {},
          "execution_count": 126
        }
      ],
      "source": [
        "# APPLICATION_RECORD['CNT_CHILDREN']-Discrete Field\n",
        "# 99.9% Records are correct, Only .1% Record has issues where children count is 19\n",
        "# 5105054--SINGLE/NOTMARRIED BUT HAVING 19 CHILDRENS, MAY BE A DEFAULT VALUE.Rest all values where children are >10 are either married or separated.\n",
        "# Issue with one record\n",
        "# IMPUTATION BASED ON MEDIAN\n",
        "# 8 Records out of 438557 have children more than 10.\n",
        "# For records having count of children less than 10, mean is .427150,median is 0\n",
        "# For entire dataset of children count mean is .427390 and median is 0\n",
        "# So it will not make any great impact\n",
        "# Hence no cleaning required\n",
        "\n",
        "print(APPLICATION_RECORD['CNT_CHILDREN'].value_counts())\n",
        "\n",
        "#Testing what happens when we apply percentile on Discrete\n",
        "util_percentiles=APPLICATION_RECORD['CNT_CHILDREN'].quantile([0.05, 0.1, 0.25, 0.5, 0.75, 0.80, 0.9,0.91,0.95,0.96,0.97,0.975,0.98,0.99,.999,1])\n",
        "round(util_percentiles,2)\n",
        "APPLICATION_RECORD[APPLICATION_RECORD['CNT_CHILDREN']>10]\n",
        "APPLICATION_RECORD[APPLICATION_RECORD['NAME_FAMILY_STATUS']=='Single / not married']['CNT_CHILDREN'].unique()\n",
        "APPLICATION_RECORD[APPLICATION_RECORD['CNT_CHILDREN']>10]['NAME_FAMILY_STATUS'].value_counts()\n",
        "APPLICATION_RECORD[APPLICATION_RECORD['CNT_CHILDREN']>10]['CNT_CHILDREN'].describe()\n",
        "APPLICATION_RECORD[APPLICATION_RECORD['CNT_CHILDREN']<=10]['CNT_CHILDREN'].describe()\n",
        "APPLICATION_RECORD['CNT_CHILDREN'].describe()\n",
        "APPLICATION_RECORD['CNT_CHILDREN'].median()"
      ]
    },
    {
      "cell_type": "markdown",
      "source": [
        "#### APPLICATION_RECORD['CNT_FAM_MEMBERS']-Discrete Field\n",
        "\n",
        "This denotes the family size of the client."
      ],
      "metadata": {
        "id": "sB42FKsZBn3p"
      }
    },
    {
      "cell_type": "code",
      "execution_count": null,
      "metadata": {
        "colab": {
          "base_uri": "https://localhost:8080/"
        },
        "id": "OZt6acD1Fb1p",
        "outputId": "10f4e6dc-e43f-4e68-9b2d-de414fd43e66"
      },
      "outputs": [
        {
          "output_type": "stream",
          "name": "stdout",
          "text": [
            "2.0     233891\n",
            "1.0      84492\n",
            "3.0      77128\n",
            "4.0      37356\n",
            "5.0       5081\n",
            "6.0        459\n",
            "7.0        124\n",
            "9.0          9\n",
            "11.0         5\n",
            "14.0         4\n",
            "8.0          4\n",
            "15.0         3\n",
            "20.0         1\n",
            "Name: CNT_FAM_MEMBERS, dtype: int64\n"
          ]
        },
        {
          "output_type": "execute_result",
          "data": {
            "text/plain": [
              "count    438557.000000\n",
              "mean          2.194465\n",
              "std           0.897207\n",
              "min           1.000000\n",
              "25%           2.000000\n",
              "50%           2.000000\n",
              "75%           3.000000\n",
              "max          20.000000\n",
              "Name: CNT_FAM_MEMBERS, dtype: float64"
            ]
          },
          "metadata": {},
          "execution_count": 127
        }
      ],
      "source": [
        "# APPLICATION_RECORD['CNT_FAM_MEMBERS']-Discrete Field\n",
        "# EVERY RECORD HAS FAMILY MEMBERS, MIN FAMILY MEMBERS ARE 2\n",
        "# 5105054-SINGLE/NOTMARRIED BUT HAVING 20 FAMILY MEMBERS, MAY BE A DEFAULT VALUE.Rest all values where family members are >10 are either married or separated or civil marriage etc.\n",
        "# IMPUTATION BASED ON MEDIAN\n",
        "# 13 Records out of 438557 have Family more than 10.\n",
        "# For records having count of Family less than 10, mean is 2.194129 median is 2\n",
        "# So it will not make any great impact\n",
        "# Hence no cleaning required\n",
        "\n",
        "print(APPLICATION_RECORD['CNT_FAM_MEMBERS'].value_counts())\n",
        "APPLICATION_RECORD[APPLICATION_RECORD['CNT_FAM_MEMBERS']>19]\n",
        "APPLICATION_RECORD[APPLICATION_RECORD['CNT_FAM_MEMBERS']>10]\n",
        "APPLICATION_RECORD[APPLICATION_RECORD['NAME_FAMILY_STATUS']=='Single / not married']['CNT_FAM_MEMBERS'].unique()\n",
        "APPLICATION_RECORD[APPLICATION_RECORD['CNT_FAM_MEMBERS']>10]['NAME_FAMILY_STATUS'].value_counts()\n",
        "APPLICATION_RECORD[APPLICATION_RECORD['CNT_FAM_MEMBERS']>10]['CNT_FAM_MEMBERS'].describe()\n",
        "APPLICATION_RECORD[APPLICATION_RECORD['CNT_FAM_MEMBERS']>=10]['CNT_FAM_MEMBERS'].describe()\n",
        "APPLICATION_RECORD[APPLICATION_RECORD['CNT_FAM_MEMBERS']<=10]['CNT_FAM_MEMBERS'].describe()\n",
        "APPLICATION_RECORD['CNT_FAM_MEMBERS'].describe()\n"
      ]
    },
    {
      "cell_type": "markdown",
      "source": [
        "#### CREDIT_RECORD['ID']-Discrete Field \n",
        "\n",
        "This denotes the client number like we have in APPLICATION_RECORD"
      ],
      "metadata": {
        "id": "PYQxHibPB9i3"
      }
    },
    {
      "cell_type": "code",
      "execution_count": null,
      "metadata": {
        "colab": {
          "base_uri": "https://localhost:8080/"
        },
        "id": "0GiK5gOUHB9P",
        "outputId": "5371340c-061f-4166-bd9b-42b93191ad2b"
      },
      "outputs": [
        {
          "output_type": "execute_result",
          "data": {
            "text/plain": [
              "45985"
            ]
          },
          "metadata": {},
          "execution_count": 128
        }
      ],
      "source": [
        "# CREDIT_RECORD['ID']-Discrete Field \n",
        "# ID HAS 1048575 Records ,45985 IDs are unique\n",
        "\n",
        "ID_COUNT=CREDIT_RECORD.groupby(['ID']).agg({'ID':'count'})\n",
        "len(CREDIT_RECORD['ID'].unique())"
      ]
    },
    {
      "cell_type": "markdown",
      "source": [
        "#### CREDIT_RECORD['STATUS']-Discrete Field \n",
        "\n",
        "This denotes the status of credit account of the customer for various months depending on whether he is paying on time or delaying. The following are the status depending on the payment of debt.\n",
        "\n",
        "\n",
        "*   0: 1-29 days past due \n",
        "*   1: 30-59 days past due \n",
        "*   2: 60-89 days overdue \n",
        "*   3: 90-119 days overdue \n",
        "*   4: 120-149 days overdue \n",
        "*   5: Overdue or bad debts, write-offs for more than 150 days \n",
        "*   C: paid off that month \n",
        "*   X: No loan for the month"
      ],
      "metadata": {
        "id": "pM5arv1uCVH9"
      }
    },
    {
      "cell_type": "code",
      "execution_count": null,
      "metadata": {
        "colab": {
          "base_uri": "https://localhost:8080/"
        },
        "id": "Eu3i8bjkIJxU",
        "outputId": "4ae1dd1f-9b9c-4f15-a26b-3a0dcd7dc79a"
      },
      "outputs": [
        {
          "output_type": "execute_result",
          "data": {
            "text/plain": [
              "C    442031\n",
              "0    383120\n",
              "X    209230\n",
              "1     11090\n",
              "5      1693\n",
              "2       868\n",
              "3       320\n",
              "4       223\n",
              "Name: STATUS, dtype: int64"
            ]
          },
          "metadata": {},
          "execution_count": 129
        }
      ],
      "source": [
        "# CREDIT_RECORD['STATUS']-Discrete Field \n",
        "# ID HAS 1048575 Records ,45985 IDs Records are unique\n",
        "# All records are present\n",
        "CREDIT_RECORD['STATUS'].value_counts()\n"
      ]
    },
    {
      "cell_type": "markdown",
      "source": [
        "#### APPLICATION_RECORD['CODE_GENDER']-Categorical Fiels\n",
        "\n",
        "This denotes the sex of the customer\n",
        "\n",
        "*   M-Male\n",
        "*   F-Female\n",
        "\n"
      ],
      "metadata": {
        "id": "E26xbu32EAgA"
      }
    },
    {
      "cell_type": "code",
      "execution_count": null,
      "metadata": {
        "colab": {
          "base_uri": "https://localhost:8080/",
          "height": 465
        },
        "id": "P1Z2jW4LjwXP",
        "outputId": "1b403352-fd40-4980-f150-0e919c5aaf13"
      },
      "outputs": [
        {
          "output_type": "stream",
          "name": "stdout",
          "text": [
            "F    294440\n",
            "M    144117\n",
            "Name: CODE_GENDER, dtype: int64\n"
          ]
        },
        {
          "output_type": "execute_result",
          "data": {
            "text/plain": [
              "<matplotlib.axes._subplots.AxesSubplot at 0x7f952e450cd0>"
            ]
          },
          "metadata": {},
          "execution_count": 130
        },
        {
          "output_type": "display_data",
          "data": {
            "text/plain": [
              "<Figure size 1080x432 with 1 Axes>"
            ],
            "image/png": "[encoded data removed]"
          },
          "metadata": {}
        }
      ],
      "source": [
        "from seaborn.widgets import color_palette\n",
        "# APPLICATION_RECORD['CODE_GENDER']-Categorical Fiels\n",
        "# No Outliers Found\n",
        "# No Records Missing\n",
        "# Takes the value M,F\n",
        "# Ratio of M:F is almost=1:2\n",
        "# Need to replace M,F with 1,0 for predictive modelling\n",
        "#1-M,0-F\n",
        "\n",
        "print(APPLICATION_RECORD['CODE_GENDER'].value_counts())\n",
        "#NOTE TO SELF--TO CHANGE COLOR PALETTE, USE THIS\n",
        "#sns.countplot(y=\"CODE_GENDER\",  data=APPLICATION_RECORD,palette=['#432371',\"#FAAE7B\"])\n",
        "#sns.countplot(y=\"CODE_GENDER\",  data=APPLICATION_RECORD,palette=['magenta',\"purple\"])\n",
        "sns.countplot(y=\"CODE_GENDER\",  data=APPLICATION_RECORD)"
      ]
    },
    {
      "cell_type": "markdown",
      "source": [
        "####APPLICATION_RECORD['FLAG_OWN_CAR']-Categorical Fiels\n",
        "\n",
        "This denotes whether the client owns a car or not\n",
        "\n",
        "*   Y-Yes\n",
        "*   N-No\n",
        "\n"
      ],
      "metadata": {
        "id": "nnKQUyKnEhsw"
      }
    },
    {
      "cell_type": "code",
      "execution_count": null,
      "metadata": {
        "colab": {
          "base_uri": "https://localhost:8080/",
          "height": 465
        },
        "id": "cEPqQb6hwItX",
        "outputId": "dbecd844-27ca-4dfa-e078-fa6c414fa057"
      },
      "outputs": [
        {
          "output_type": "stream",
          "name": "stdout",
          "text": [
            "N    275459\n",
            "Y    163098\n",
            "Name: FLAG_OWN_CAR, dtype: int64\n"
          ]
        },
        {
          "output_type": "execute_result",
          "data": {
            "text/plain": [
              "<matplotlib.axes._subplots.AxesSubplot at 0x7f952e46e1d0>"
            ]
          },
          "metadata": {},
          "execution_count": 131
        },
        {
          "output_type": "display_data",
          "data": {
            "text/plain": [
              "<Figure size 1080x432 with 1 Axes>"
            ],
            "image/png": "[encoded data removed]"
          },
          "metadata": {}
        }
      ],
      "source": [
        "# APPLICATION_RECORD['FLAG_OWN_CAR']-Categorical Fiels\n",
        "# No Outliers Found\n",
        "# No Records Missing\n",
        "# Takes the value Y,N\n",
        "# Need to replace Y,N with 1,0 for predictive modelling\n",
        "#1-Y,0-N\n",
        "print(APPLICATION_RECORD['FLAG_OWN_CAR'].value_counts())\n",
        "sns.countplot(y=\"FLAG_OWN_CAR\",  data=APPLICATION_RECORD)"
      ]
    },
    {
      "cell_type": "markdown",
      "source": [
        "####APPLICATION_RECORD[FLAG_OWN_REALTY']-Categorical Fiels\n",
        "\n",
        "This denotes whether the client owns a car or not\n",
        "\n",
        "*   Y-Yes\n",
        "*   N-No\n",
        "\n"
      ],
      "metadata": {
        "id": "i1xgqTUvEyye"
      }
    },
    {
      "cell_type": "code",
      "execution_count": null,
      "metadata": {
        "colab": {
          "base_uri": "https://localhost:8080/",
          "height": 465
        },
        "collapsed": true,
        "id": "nW_fwp2Bwis4",
        "outputId": "75dd3834-8271-46f2-ffca-ae067ef8fc1c"
      },
      "outputs": [
        {
          "output_type": "stream",
          "name": "stdout",
          "text": [
            "Y    304074\n",
            "N    134483\n",
            "Name: FLAG_OWN_REALTY, dtype: int64\n"
          ]
        },
        {
          "output_type": "execute_result",
          "data": {
            "text/plain": [
              "<matplotlib.axes._subplots.AxesSubplot at 0x7f95240dba50>"
            ]
          },
          "metadata": {},
          "execution_count": 132
        },
        {
          "output_type": "display_data",
          "data": {
            "text/plain": [
              "<Figure size 1080x432 with 1 Axes>"
            ],
            "image/png": "[encoded data removed]"
          },
          "metadata": {}
        }
      ],
      "source": [
        "# APPLICATION_RECORD[FLAG_OWN_REALTY']-Categorical Fiels\n",
        "# No Outliers Found\n",
        "# No Records Missing\n",
        "# Takes the value Y,N\n",
        "# Ratio of Y:N is almost 2:1\n",
        "# Need to replace Y,N with 1,0 for predictive modelling\n",
        "#1-Y,0-N\n",
        "print(APPLICATION_RECORD['FLAG_OWN_REALTY'].value_counts())\n",
        "sns.countplot(y=\"FLAG_OWN_REALTY\",  data=APPLICATION_RECORD)"
      ]
    },
    {
      "cell_type": "markdown",
      "source": [
        "####APPLICATION_RECORD['NAME_INCOME_TYPE']-Categorical Field\n",
        "\n",
        "This denotes under which income category does the client falls.\n",
        "\n",
        "*   Working\n",
        "*   Commercial associate\n",
        "*   Pensioner\n",
        "*   State servant\n",
        "*   Student\n",
        "\n"
      ],
      "metadata": {
        "id": "QDxMuStyFWZY"
      }
    },
    {
      "cell_type": "code",
      "execution_count": null,
      "metadata": {
        "colab": {
          "base_uri": "https://localhost:8080/",
          "height": 1000
        },
        "id": "p0AW8Io7E-lH",
        "outputId": "b7e4d919-f29e-42f7-cd1d-eed12724f259"
      },
      "outputs": [
        {
          "output_type": "stream",
          "name": "stdout",
          "text": [
            "Working                 226104\n",
            "Commercial associate    100757\n",
            "Pensioner                75493\n",
            "State servant            36186\n",
            "Student                     17\n",
            "Name: NAME_INCOME_TYPE, dtype: int64\n"
          ]
        },
        {
          "output_type": "execute_result",
          "data": {
            "text/plain": [
              "             ID CODE_GENDER FLAG_OWN_CAR FLAG_OWN_REALTY  CNT_CHILDREN  \\\n",
              "1464    5010456           F            N               Y             0   \n",
              "1465    5010457           F            N               Y             0   \n",
              "1466    5010458           F            N               Y             0   \n",
              "1467    5010459           F            N               Y             0   \n",
              "1468    5010460           F            N               Y             0   \n",
              "1469    5010461           F            N               Y             0   \n",
              "1470    5010462           F            N               Y             0   \n",
              "1471    5010463           F            N               Y             0   \n",
              "6220    5025088           M            N               N             0   \n",
              "6221    6063169           M            N               N             0   \n",
              "6222    6063170           M            N               N             0   \n",
              "16563   5047796           F            N               Y             1   \n",
              "16564   5047798           F            N               Y             1   \n",
              "143278  5680635           F            N               N             1   \n",
              "190788  5873396           M            N               Y             2   \n",
              "325209  6292012           M            Y               Y             0   \n",
              "325210  6292013           M            Y               Y             0   \n",
              "\n",
              "        AMT_INCOME_TOTAL NAME_INCOME_TYPE            NAME_EDUCATION_TYPE  \\\n",
              "1464            171000.0          Student               Higher education   \n",
              "1465            171000.0          Student               Higher education   \n",
              "1466            171000.0          Student               Higher education   \n",
              "1467            171000.0          Student               Higher education   \n",
              "1468            171000.0          Student               Higher education   \n",
              "1469            171000.0          Student               Higher education   \n",
              "1470            171000.0          Student               Higher education   \n",
              "1471            171000.0          Student               Higher education   \n",
              "6220            135000.0          Student               Higher education   \n",
              "6221            135000.0          Student               Higher education   \n",
              "6222            135000.0          Student               Higher education   \n",
              "16563           112500.0          Student  Secondary / secondary special   \n",
              "16564           112500.0          Student  Secondary / secondary special   \n",
              "143278          225000.0          Student  Secondary / secondary special   \n",
              "190788          175500.0          Student  Secondary / secondary special   \n",
              "325209          157500.0          Student              Incomplete higher   \n",
              "325210          157500.0          Student              Incomplete higher   \n",
              "\n",
              "          NAME_FAMILY_STATUS  NAME_HOUSING_TYPE  DAYS_BIRTH  DAYS_EMPLOYED  \\\n",
              "1464                 Married  House / apartment      -18756          -3904   \n",
              "1465                 Married  House / apartment      -18756          -3904   \n",
              "1466                 Married  House / apartment      -18756          -3904   \n",
              "1467                 Married  House / apartment      -18756          -3904   \n",
              "1468                 Married  House / apartment      -18756          -3904   \n",
              "1469                 Married  House / apartment      -18756          -3904   \n",
              "1470                 Married  House / apartment      -18756          -3904   \n",
              "1471                 Married  House / apartment      -18756          -3904   \n",
              "6220    Single / not married       With parents       -9115           -581   \n",
              "6221    Single / not married       With parents       -9115           -581   \n",
              "6222    Single / not married       With parents       -9115           -581   \n",
              "16563         Civil marriage  House / apartment      -12127           -795   \n",
              "16564         Civil marriage  House / apartment      -12127           -795   \n",
              "143278        Civil marriage   Rented apartment      -12280          -3620   \n",
              "190788               Married  House / apartment      -17264           -382   \n",
              "325209  Single / not married   Office apartment       -8285          -1692   \n",
              "325210  Single / not married   Office apartment       -8285          -1692   \n",
              "\n",
              "        FLAG_MOBIL  FLAG_WORK_PHONE  FLAG_PHONE  FLAG_EMAIL OCCUPATION_TYPE  \\\n",
              "1464             1                0           0           1      Core staff   \n",
              "1465             1                0           0           1      Core staff   \n",
              "1466             1                0           0           1      Core staff   \n",
              "1467             1                0           0           1      Core staff   \n",
              "1468             1                0           0           1      Core staff   \n",
              "1469             1                0           0           1      Core staff   \n",
              "1470             1                0           0           1      Core staff   \n",
              "1471             1                0           0           1      Core staff   \n",
              "6220             1                0           0           1             NaN   \n",
              "6221             1                0           0           1             NaN   \n",
              "6222             1                0           0           1             NaN   \n",
              "16563            1                0           0           0        Laborers   \n",
              "16564            1                0           0           0        Laborers   \n",
              "143278           1                0           0           0      Core staff   \n",
              "190788           1                0           0           0        Laborers   \n",
              "325209           1                0           0           0             NaN   \n",
              "325210           1                0           0           0             NaN   \n",
              "\n",
              "        CNT_FAM_MEMBERS  \n",
              "1464                2.0  \n",
              "1465                2.0  \n",
              "1466                2.0  \n",
              "1467                2.0  \n",
              "1468                2.0  \n",
              "1469                2.0  \n",
              "1470                2.0  \n",
              "1471                2.0  \n",
              "6220                1.0  \n",
              "6221                1.0  \n",
              "6222                1.0  \n",
              "16563               3.0  \n",
              "16564               3.0  \n",
              "143278              3.0  \n",
              "190788              4.0  \n",
              "325209              1.0  \n",
              "325210              1.0  "
            ],
            "text/html": [
              "\n",
              "  <div id=\"df-5d4c5c82-83af-49a3-ad8a-5ffc0ace7830\">\n",
              "    <div class=\"colab-df-container\">\n",
              "      <div>\n",
              "<style scoped>\n",
              "    .dataframe tbody tr th:only-of-type {\n",
              "        vertical-align: middle;\n",
              "    }\n",
              "\n",
              "    .dataframe tbody tr th {\n",
              "        vertical-align: top;\n",
              "    }\n",
              "\n",
              "    .dataframe thead th {\n",
              "        text-align: right;\n",
              "    }\n",
              "</style>\n",
              "<table border=\"1\" class=\"dataframe\">\n",
              "  <thead>\n",
              "    <tr style=\"text-align: right;\">\n",
              "      <th></th>\n",
              "      <th>ID</th>\n",
              "      <th>CODE_GENDER</th>\n",
              "      <th>FLAG_OWN_CAR</th>\n",
              "      <th>FLAG_OWN_REALTY</th>\n",
              "      <th>CNT_CHILDREN</th>\n",
              "      <th>AMT_INCOME_TOTAL</th>\n",
              "      <th>NAME_INCOME_TYPE</th>\n",
              "      <th>NAME_EDUCATION_TYPE</th>\n",
              "      <th>NAME_FAMILY_STATUS</th>\n",
              "      <th>NAME_HOUSING_TYPE</th>\n",
              "      <th>DAYS_BIRTH</th>\n",
              "      <th>DAYS_EMPLOYED</th>\n",
              "      <th>FLAG_MOBIL</th>\n",
              "      <th>FLAG_WORK_PHONE</th>\n",
              "      <th>FLAG_PHONE</th>\n",
              "      <th>FLAG_EMAIL</th>\n",
              "      <th>OCCUPATION_TYPE</th>\n",
              "      <th>CNT_FAM_MEMBERS</th>\n",
              "    </tr>\n",
              "  </thead>\n",
              "  <tbody>\n",
              "    <tr>\n",
              "      <th>1464</th>\n",
              "      <td>5010456</td>\n",
              "      <td>F</td>\n",
              "      <td>N</td>\n",
              "      <td>Y</td>\n",
              "      <td>0</td>\n",
              "      <td>171000.0</td>\n",
              "      <td>Student</td>\n",
              "      <td>Higher education</td>\n",
              "      <td>Married</td>\n",
              "      <td>House / apartment</td>\n",
              "      <td>-18756</td>\n",
              "      <td>-3904</td>\n",
              "      <td>1</td>\n",
              "      <td>0</td>\n",
              "      <td>0</td>\n",
              "      <td>1</td>\n",
              "      <td>Core staff</td>\n",
              "      <td>2.0</td>\n",
              "    </tr>\n",
              "    <tr>\n",
              "      <th>1465</th>\n",
              "      <td>5010457</td>\n",
              "      <td>F</td>\n",
              "      <td>N</td>\n",
              "      <td>Y</td>\n",
              "      <td>0</td>\n",
              "      <td>171000.0</td>\n",
              "      <td>Student</td>\n",
              "      <td>Higher education</td>\n",
              "      <td>Married</td>\n",
              "      <td>House / apartment</td>\n",
              "      <td>-18756</td>\n",
              "      <td>-3904</td>\n",
              "      <td>1</td>\n",
              "      <td>0</td>\n",
              "      <td>0</td>\n",
              "      <td>1</td>\n",
              "      <td>Core staff</td>\n",
              "      <td>2.0</td>\n",
              "    </tr>\n",
              "    <tr>\n",
              "      <th>1466</th>\n",
              "      <td>5010458</td>\n",
              "      <td>F</td>\n",
              "      <td>N</td>\n",
              "      <td>Y</td>\n",
              "      <td>0</td>\n",
              "      <td>171000.0</td>\n",
              "      <td>Student</td>\n",
              "      <td>Higher education</td>\n",
              "      <td>Married</td>\n",
              "      <td>House / apartment</td>\n",
              "      <td>-18756</td>\n",
              "      <td>-3904</td>\n",
              "      <td>1</td>\n",
              "      <td>0</td>\n",
              "      <td>0</td>\n",
              "      <td>1</td>\n",
              "      <td>Core staff</td>\n",
              "      <td>2.0</td>\n",
              "    </tr>\n",
              "    <tr>\n",
              "      <th>1467</th>\n",
              "      <td>5010459</td>\n",
              "      <td>F</td>\n",
              "      <td>N</td>\n",
              "      <td>Y</td>\n",
              "      <td>0</td>\n",
              "      <td>171000.0</td>\n",
              "      <td>Student</td>\n",
              "      <td>Higher education</td>\n",
              "      <td>Married</td>\n",
              "      <td>House / apartment</td>\n",
              "      <td>-18756</td>\n",
              "      <td>-3904</td>\n",
              "      <td>1</td>\n",
              "      <td>0</td>\n",
              "      <td>0</td>\n",
              "      <td>1</td>\n",
              "      <td>Core staff</td>\n",
              "      <td>2.0</td>\n",
              "    </tr>\n",
              "    <tr>\n",
              "      <th>1468</th>\n",
              "      <td>5010460</td>\n",
              "      <td>F</td>\n",
              "      <td>N</td>\n",
              "      <td>Y</td>\n",
              "      <td>0</td>\n",
              "      <td>171000.0</td>\n",
              "      <td>Student</td>\n",
              "      <td>Higher education</td>\n",
              "      <td>Married</td>\n",
              "      <td>House / apartment</td>\n",
              "      <td>-18756</td>\n",
              "      <td>-3904</td>\n",
              "      <td>1</td>\n",
              "      <td>0</td>\n",
              "      <td>0</td>\n",
              "      <td>1</td>\n",
              "      <td>Core staff</td>\n",
              "      <td>2.0</td>\n",
              "    </tr>\n",
              "    <tr>\n",
              "      <th>1469</th>\n",
              "      <td>5010461</td>\n",
              "      <td>F</td>\n",
              "      <td>N</td>\n",
              "      <td>Y</td>\n",
              "      <td>0</td>\n",
              "      <td>171000.0</td>\n",
              "      <td>Student</td>\n",
              "      <td>Higher education</td>\n",
              "      <td>Married</td>\n",
              "      <td>House / apartment</td>\n",
              "      <td>-18756</td>\n",
              "      <td>-3904</td>\n",
              "      <td>1</td>\n",
              "      <td>0</td>\n",
              "      <td>0</td>\n",
              "      <td>1</td>\n",
              "      <td>Core staff</td>\n",
              "      <td>2.0</td>\n",
              "    </tr>\n",
              "    <tr>\n",
              "      <th>1470</th>\n",
              "      <td>5010462</td>\n",
              "      <td>F</td>\n",
              "      <td>N</td>\n",
              "      <td>Y</td>\n",
              "      <td>0</td>\n",
              "      <td>171000.0</td>\n",
              "      <td>Student</td>\n",
              "      <td>Higher education</td>\n",
              "      <td>Married</td>\n",
              "      <td>House / apartment</td>\n",
              "      <td>-18756</td>\n",
              "      <td>-3904</td>\n",
              "      <td>1</td>\n",
              "      <td>0</td>\n",
              "      <td>0</td>\n",
              "      <td>1</td>\n",
              "      <td>Core staff</td>\n",
              "      <td>2.0</td>\n",
              "    </tr>\n",
              "    <tr>\n",
              "      <th>1471</th>\n",
              "      <td>5010463</td>\n",
              "      <td>F</td>\n",
              "      <td>N</td>\n",
              "      <td>Y</td>\n",
              "      <td>0</td>\n",
              "      <td>171000.0</td>\n",
              "      <td>Student</td>\n",
              "      <td>Higher education</td>\n",
              "      <td>Married</td>\n",
              "      <td>House / apartment</td>\n",
              "      <td>-18756</td>\n",
              "      <td>-3904</td>\n",
              "      <td>1</td>\n",
              "      <td>0</td>\n",
              "      <td>0</td>\n",
              "      <td>1</td>\n",
              "      <td>Core staff</td>\n",
              "      <td>2.0</td>\n",
              "    </tr>\n",
              "    <tr>\n",
              "      <th>6220</th>\n",
              "      <td>5025088</td>\n",
              "      <td>M</td>\n",
              "      <td>N</td>\n",
              "      <td>N</td>\n",
              "      <td>0</td>\n",
              "      <td>135000.0</td>\n",
              "      <td>Student</td>\n",
              "      <td>Higher education</td>\n",
              "      <td>Single / not married</td>\n",
              "      <td>With parents</td>\n",
              "      <td>-9115</td>\n",
              "      <td>-581</td>\n",
              "      <td>1</td>\n",
              "      <td>0</td>\n",
              "      <td>0</td>\n",
              "      <td>1</td>\n",
              "      <td>NaN</td>\n",
              "      <td>1.0</td>\n",
              "    </tr>\n",
              "    <tr>\n",
              "      <th>6221</th>\n",
              "      <td>6063169</td>\n",
              "      <td>M</td>\n",
              "      <td>N</td>\n",
              "      <td>N</td>\n",
              "      <td>0</td>\n",
              "      <td>135000.0</td>\n",
              "      <td>Student</td>\n",
              "      <td>Higher education</td>\n",
              "      <td>Single / not married</td>\n",
              "      <td>With parents</td>\n",
              "      <td>-9115</td>\n",
              "      <td>-581</td>\n",
              "      <td>1</td>\n",
              "      <td>0</td>\n",
              "      <td>0</td>\n",
              "      <td>1</td>\n",
              "      <td>NaN</td>\n",
              "      <td>1.0</td>\n",
              "    </tr>\n",
              "    <tr>\n",
              "      <th>6222</th>\n",
              "      <td>6063170</td>\n",
              "      <td>M</td>\n",
              "      <td>N</td>\n",
              "      <td>N</td>\n",
              "      <td>0</td>\n",
              "      <td>135000.0</td>\n",
              "      <td>Student</td>\n",
              "      <td>Higher education</td>\n",
              "      <td>Single / not married</td>\n",
              "      <td>With parents</td>\n",
              "      <td>-9115</td>\n",
              "      <td>-581</td>\n",
              "      <td>1</td>\n",
              "      <td>0</td>\n",
              "      <td>0</td>\n",
              "      <td>1</td>\n",
              "      <td>NaN</td>\n",
              "      <td>1.0</td>\n",
              "    </tr>\n",
              "    <tr>\n",
              "      <th>16563</th>\n",
              "      <td>5047796</td>\n",
              "      <td>F</td>\n",
              "      <td>N</td>\n",
              "      <td>Y</td>\n",
              "      <td>1</td>\n",
              "      <td>112500.0</td>\n",
              "      <td>Student</td>\n",
              "      <td>Secondary / secondary special</td>\n",
              "      <td>Civil marriage</td>\n",
              "      <td>House / apartment</td>\n",
              "      <td>-12127</td>\n",
              "      <td>-795</td>\n",
              "      <td>1</td>\n",
              "      <td>0</td>\n",
              "      <td>0</td>\n",
              "      <td>0</td>\n",
              "      <td>Laborers</td>\n",
              "      <td>3.0</td>\n",
              "    </tr>\n",
              "    <tr>\n",
              "      <th>16564</th>\n",
              "      <td>5047798</td>\n",
              "      <td>F</td>\n",
              "      <td>N</td>\n",
              "      <td>Y</td>\n",
              "      <td>1</td>\n",
              "      <td>112500.0</td>\n",
              "      <td>Student</td>\n",
              "      <td>Secondary / secondary special</td>\n",
              "      <td>Civil marriage</td>\n",
              "      <td>House / apartment</td>\n",
              "      <td>-12127</td>\n",
              "      <td>-795</td>\n",
              "      <td>1</td>\n",
              "      <td>0</td>\n",
              "      <td>0</td>\n",
              "      <td>0</td>\n",
              "      <td>Laborers</td>\n",
              "      <td>3.0</td>\n",
              "    </tr>\n",
              "    <tr>\n",
              "      <th>143278</th>\n",
              "      <td>5680635</td>\n",
              "      <td>F</td>\n",
              "      <td>N</td>\n",
              "      <td>N</td>\n",
              "      <td>1</td>\n",
              "      <td>225000.0</td>\n",
              "      <td>Student</td>\n",
              "      <td>Secondary / secondary special</td>\n",
              "      <td>Civil marriage</td>\n",
              "      <td>Rented apartment</td>\n",
              "      <td>-12280</td>\n",
              "      <td>-3620</td>\n",
              "      <td>1</td>\n",
              "      <td>0</td>\n",
              "      <td>0</td>\n",
              "      <td>0</td>\n",
              "      <td>Core staff</td>\n",
              "      <td>3.0</td>\n",
              "    </tr>\n",
              "    <tr>\n",
              "      <th>190788</th>\n",
              "      <td>5873396</td>\n",
              "      <td>M</td>\n",
              "      <td>N</td>\n",
              "      <td>Y</td>\n",
              "      <td>2</td>\n",
              "      <td>175500.0</td>\n",
              "      <td>Student</td>\n",
              "      <td>Secondary / secondary special</td>\n",
              "      <td>Married</td>\n",
              "      <td>House / apartment</td>\n",
              "      <td>-17264</td>\n",
              "      <td>-382</td>\n",
              "      <td>1</td>\n",
              "      <td>0</td>\n",
              "      <td>0</td>\n",
              "      <td>0</td>\n",
              "      <td>Laborers</td>\n",
              "      <td>4.0</td>\n",
              "    </tr>\n",
              "    <tr>\n",
              "      <th>325209</th>\n",
              "      <td>6292012</td>\n",
              "      <td>M</td>\n",
              "      <td>Y</td>\n",
              "      <td>Y</td>\n",
              "      <td>0</td>\n",
              "      <td>157500.0</td>\n",
              "      <td>Student</td>\n",
              "      <td>Incomplete higher</td>\n",
              "      <td>Single / not married</td>\n",
              "      <td>Office apartment</td>\n",
              "      <td>-8285</td>\n",
              "      <td>-1692</td>\n",
              "      <td>1</td>\n",
              "      <td>0</td>\n",
              "      <td>0</td>\n",
              "      <td>0</td>\n",
              "      <td>NaN</td>\n",
              "      <td>1.0</td>\n",
              "    </tr>\n",
              "    <tr>\n",
              "      <th>325210</th>\n",
              "      <td>6292013</td>\n",
              "      <td>M</td>\n",
              "      <td>Y</td>\n",
              "      <td>Y</td>\n",
              "      <td>0</td>\n",
              "      <td>157500.0</td>\n",
              "      <td>Student</td>\n",
              "      <td>Incomplete higher</td>\n",
              "      <td>Single / not married</td>\n",
              "      <td>Office apartment</td>\n",
              "      <td>-8285</td>\n",
              "      <td>-1692</td>\n",
              "      <td>1</td>\n",
              "      <td>0</td>\n",
              "      <td>0</td>\n",
              "      <td>0</td>\n",
              "      <td>NaN</td>\n",
              "      <td>1.0</td>\n",
              "    </tr>\n",
              "  </tbody>\n",
              "</table>\n",
              "</div>\n",
              "      <button class=\"colab-df-convert\" onclick=\"convertToInteractive('df-5d4c5c82-83af-49a3-ad8a-5ffc0ace7830')\"\n",
              "              title=\"Convert this dataframe to an interactive table.\"\n",
              "              style=\"display:none;\">\n",
              "        \n",
              "  <svg xmlns=\"http://www.w3.org/2000/svg\" height=\"24px\"viewBox=\"0 0 24 24\"\n",
              "       width=\"24px\">\n",
              "    <path d=\"M0 0h24v24H0V0z\" fill=\"none\"/>\n",
              "    <path d=\"M18.56 5.44l.94 2.06.94-2.06 2.06-.94-2.06-.94-.94-2.06-.94 2.06-2.06.94zm-11 1L8.5 8.5l.94-2.06 2.06-.94-2.06-.94L8.5 2.5l-.94 2.06-2.06.94zm10 10l.94 2.06.94-2.06 2.06-.94-2.06-.94-.94-2.06-.94 2.06-2.06.94z\"/><path d=\"M17.41 7.96l-1.37-1.37c-.4-.4-.92-.59-1.43-.59-.52 0-1.04.2-1.43.59L10.3 9.45l-7.72 7.72c-.78.78-.78 2.05 0 2.83L4 21.41c.39.39.9.59 1.41.59.51 0 1.02-.2 1.41-.59l7.78-7.78 2.81-2.81c.8-.78.8-2.07 0-2.86zM5.41 20L4 18.59l7.72-7.72 1.47 1.35L5.41 20z\"/>\n",
              "  </svg>\n",
              "      </button>\n",
              "      \n",
              "  <style>\n",
              "    .colab-df-container {\n",
              "      display:flex;\n",
              "      flex-wrap:wrap;\n",
              "      gap: 12px;\n",
              "    }\n",
              "\n",
              "    .colab-df-convert {\n",
              "      background-color: #E8F0FE;\n",
              "      border: none;\n",
              "      border-radius: 50%;\n",
              "      cursor: pointer;\n",
              "      display: none;\n",
              "      fill: #1967D2;\n",
              "      height: 32px;\n",
              "      padding: 0 0 0 0;\n",
              "      width: 32px;\n",
              "    }\n",
              "\n",
              "    .colab-df-convert:hover {\n",
              "      background-color: #E2EBFA;\n",
              "      box-shadow: 0px 1px 2px rgba(60, 64, 67, 0.3), 0px 1px 3px 1px rgba(60, 64, 67, 0.15);\n",
              "      fill: #174EA6;\n",
              "    }\n",
              "\n",
              "    [theme=dark] .colab-df-convert {\n",
              "      background-color: #3B4455;\n",
              "      fill: #D2E3FC;\n",
              "    }\n",
              "\n",
              "    [theme=dark] .colab-df-convert:hover {\n",
              "      background-color: #434B5C;\n",
              "      box-shadow: 0px 1px 3px 1px rgba(0, 0, 0, 0.15);\n",
              "      filter: drop-shadow(0px 1px 2px rgba(0, 0, 0, 0.3));\n",
              "      fill: #FFFFFF;\n",
              "    }\n",
              "  </style>\n",
              "\n",
              "      <script>\n",
              "        const buttonEl =\n",
              "          document.querySelector('#df-5d4c5c82-83af-49a3-ad8a-5ffc0ace7830 button.colab-df-convert');\n",
              "        buttonEl.style.display =\n",
              "          google.colab.kernel.accessAllowed ? 'block' : 'none';\n",
              "\n",
              "        async function convertToInteractive(key) {\n",
              "          const element = document.querySelector('#df-5d4c5c82-83af-49a3-ad8a-5ffc0ace7830');\n",
              "          const dataTable =\n",
              "            await google.colab.kernel.invokeFunction('convertToInteractive',\n",
              "                                                     [key], {});\n",
              "          if (!dataTable) return;\n",
              "\n",
              "          const docLinkHtml = 'Like what you see? Visit the ' +\n",
              "            '<a target=\"_blank\" href=https://colab.research.google.com/notebooks/data_table.ipynb>data table notebook</a>'\n",
              "            + ' to learn more about interactive tables.';\n",
              "          element.innerHTML = '';\n",
              "          dataTable['output_type'] = 'display_data';\n",
              "          await google.colab.output.renderOutput(dataTable, element);\n",
              "          const docLink = document.createElement('div');\n",
              "          docLink.innerHTML = docLinkHtml;\n",
              "          element.appendChild(docLink);\n",
              "        }\n",
              "      </script>\n",
              "    </div>\n",
              "  </div>\n",
              "  "
            ]
          },
          "metadata": {},
          "execution_count": 133
        },
        {
          "output_type": "display_data",
          "data": {
            "text/plain": [
              "<Figure size 1080x432 with 1 Axes>"
            ],
            "image/png": "[encoded data removed]"
          },
          "metadata": {}
        }
      ],
      "source": [
        "# APPLICATION_RECORD['NAME_INCOME_TYPE']-Categorical Field\n",
        "# Takes 5 Values-'Working','Commercial associate','Pensioner','State servant','Student'\n",
        "# Data seems fine,no missing value, distribution as per discrete values looks normal\n",
        "# Students are there who have annual income.It may be because of Stipend\n",
        "print(APPLICATION_RECORD['NAME_INCOME_TYPE'].value_counts())\n",
        "sns.countplot(x=\"NAME_INCOME_TYPE\",  data=APPLICATION_RECORD)\n",
        "APPLICATION_RECORD[APPLICATION_RECORD['NAME_INCOME_TYPE']=='Student']"
      ]
    },
    {
      "cell_type": "markdown",
      "source": [
        "####APPLICATION_RECORD['NAME_EDUCATION_TYPE']-Categorical Field\n",
        "\n",
        "It denotes the education level of the client.\n",
        "\n",
        "\n",
        "*   Secondary / secondary special\n",
        "*   Higher education\n",
        "*   Incomplete higher\n",
        "*   Lower secondary\n",
        "*   Academic degree\n",
        "\n"
      ],
      "metadata": {
        "id": "sUsI07OCF7Fy"
      }
    },
    {
      "cell_type": "code",
      "execution_count": null,
      "metadata": {
        "colab": {
          "base_uri": "https://localhost:8080/",
          "height": 519
        },
        "id": "bXYWQVJqiUxA",
        "outputId": "e72207fc-103b-4480-e356-e79763ea3333"
      },
      "outputs": [
        {
          "output_type": "stream",
          "name": "stdout",
          "text": [
            "Secondary / secondary special    301821\n",
            "Higher education                 117522\n",
            "Incomplete higher                 14851\n",
            "Lower secondary                    4051\n",
            "Academic degree                     312\n",
            "Name: NAME_EDUCATION_TYPE, dtype: int64\n"
          ]
        },
        {
          "output_type": "execute_result",
          "data": {
            "text/plain": [
              "<matplotlib.axes._subplots.AxesSubplot at 0x7f95202aefd0>"
            ]
          },
          "metadata": {},
          "execution_count": 134
        },
        {
          "output_type": "display_data",
          "data": {
            "text/plain": [
              "<Figure size 1080x432 with 1 Axes>"
            ],
            "image/png": "[encoded data removed]"
          },
          "metadata": {}
        }
      ],
      "source": [
        "# APPLICATION_RECORD['NAME_EDUCATION_TYPE']-Categorical Field\n",
        "# Takes 5 Values-'Secondary / secondary special','Higher education','Incomplete higher','Lower secondary','Academic degree'\n",
        "# Data seems fine,no missing value, distribution as per discrete values looks normal\n",
        "#NOTE TO SELF-THIS IS TO CHANGE THE SIZE AS PICTURE WAS COMING CLUMSY\n",
        "#sns.set(rc={'figure.figsize':(15,8)}) \n",
        "print(APPLICATION_RECORD['NAME_EDUCATION_TYPE'].value_counts())\n",
        "sns.countplot(x=\"NAME_EDUCATION_TYPE\",  data=APPLICATION_RECORD)"
      ]
    },
    {
      "cell_type": "markdown",
      "source": [
        "####APPLICATION_RECORD['NAME_FAMILY_STATUS']-Categorical Field\n",
        "\n",
        "This denotes the marital status of the client\n",
        "\n",
        "\n",
        "*   Married\n",
        "*   Single / not married\n",
        "*   Civil marriage\n",
        "*   Separated\n",
        "*   Widow\n",
        "\n"
      ],
      "metadata": {
        "id": "mLzeL2S6GrXH"
      }
    },
    {
      "cell_type": "code",
      "execution_count": null,
      "metadata": {
        "colab": {
          "base_uri": "https://localhost:8080/",
          "height": 519
        },
        "id": "vpUzuHLnjER2",
        "outputId": "df2f6b1a-a0aa-472b-cf82-ba3ce58dde7e"
      },
      "outputs": [
        {
          "output_type": "stream",
          "name": "stdout",
          "text": [
            "Married                 299828\n",
            "Single / not married     55271\n",
            "Civil marriage           36532\n",
            "Separated                27251\n",
            "Widow                    19675\n",
            "Name: NAME_FAMILY_STATUS, dtype: int64\n"
          ]
        },
        {
          "output_type": "execute_result",
          "data": {
            "text/plain": [
              "<matplotlib.axes._subplots.AxesSubplot at 0x7f9520215e10>"
            ]
          },
          "metadata": {},
          "execution_count": 135
        },
        {
          "output_type": "display_data",
          "data": {
            "text/plain": [
              "<Figure size 1080x432 with 1 Axes>"
            ],
            "image/png": "[encoded data removed]"
          },
          "metadata": {}
        }
      ],
      "source": [
        "# APPLICATION_RECORD['NAME_FAMILY_STATUS']-Categorical Field\n",
        "# Takes 5 Values-'Married','Single / not married','Civil marriage','Separated','Widow'\n",
        "# Data seems fine,no missing value, distribution as per discrete values looks normal\n",
        "print(APPLICATION_RECORD['NAME_FAMILY_STATUS'].value_counts())\n",
        "sns.countplot(x=\"NAME_FAMILY_STATUS\",  data=APPLICATION_RECORD)"
      ]
    },
    {
      "cell_type": "markdown",
      "source": [
        "####APPLICATION_RECORD['NAME_HOUSING_TYPE']-Categorical Field\n",
        "\n",
        "This denotes the way of living of the client\n",
        "\n",
        "*   House / apartment\n",
        "*   With parents\n",
        "*   Municipal apartment\n",
        "*   Rented apartment\n",
        "*   Office apartment\n",
        "*   Co-op apartment"
      ],
      "metadata": {
        "id": "nGrHXucvHW2y"
      }
    },
    {
      "cell_type": "code",
      "execution_count": null,
      "metadata": {
        "colab": {
          "base_uri": "https://localhost:8080/",
          "height": 537
        },
        "id": "nRrVGqwxjwaF",
        "outputId": "0facbded-0092-4f26-c752-b6ac0203bd3c"
      },
      "outputs": [
        {
          "output_type": "stream",
          "name": "stdout",
          "text": [
            "House / apartment      393831\n",
            "With parents            19077\n",
            "Municipal apartment     14214\n",
            "Rented apartment         5974\n",
            "Office apartment         3922\n",
            "Co-op apartment          1539\n",
            "Name: NAME_HOUSING_TYPE, dtype: int64\n"
          ]
        },
        {
          "output_type": "execute_result",
          "data": {
            "text/plain": [
              "<matplotlib.axes._subplots.AxesSubplot at 0x7f95201ffad0>"
            ]
          },
          "metadata": {},
          "execution_count": 136
        },
        {
          "output_type": "display_data",
          "data": {
            "text/plain": [
              "<Figure size 1080x432 with 1 Axes>"
            ],
            "image/png": "[encoded data removed]"
          },
          "metadata": {}
        }
      ],
      "source": [
        "# APPLICATION_RECORD['NAME_HOUSING_TYPE']-Categorical Field\n",
        "# Takes 6 Values-'House / apartment','With parents','Municipal apartment','Rented apartment','Office apartment','Co-op apartment'\n",
        "# Data seems fine,no missing value, distribution as per discrete values looks normal\n",
        "print(APPLICATION_RECORD['NAME_HOUSING_TYPE'].value_counts())\n",
        "sns.countplot(x=\"NAME_HOUSING_TYPE\",  data=APPLICATION_RECORD)"
      ]
    },
    {
      "cell_type": "markdown",
      "source": [
        "####APPLICATION_RECORD['FLAG_MOBIL']-Categorical Field\n",
        "\n",
        "This denotes whether the client owns a mobile phone or not.\n",
        "*   1-Owns Mobile\n",
        "*   0-Does not own a mobile."
      ],
      "metadata": {
        "id": "FZ9VGqmnIgiX"
      }
    },
    {
      "cell_type": "code",
      "execution_count": null,
      "metadata": {
        "colab": {
          "base_uri": "https://localhost:8080/",
          "height": 448
        },
        "id": "5rNR2SFMRy0U",
        "outputId": "41a3aa7a-f633-4f86-fe3d-c8e2a94d9ffb"
      },
      "outputs": [
        {
          "output_type": "stream",
          "name": "stdout",
          "text": [
            "1    438557\n",
            "Name: FLAG_MOBIL, dtype: int64\n"
          ]
        },
        {
          "output_type": "execute_result",
          "data": {
            "text/plain": [
              "<matplotlib.axes._subplots.AxesSubplot at 0x7f95201647d0>"
            ]
          },
          "metadata": {},
          "execution_count": 137
        },
        {
          "output_type": "display_data",
          "data": {
            "text/plain": [
              "<Figure size 1080x432 with 1 Axes>"
            ],
            "image/png": "[encoded data removed]"
          },
          "metadata": {}
        }
      ],
      "source": [
        "# APPLICATION_RECORD['FLAG_MOBIL']-Categorical Field\n",
        "# Takes 2 Values-1,0\n",
        "# Data seems fine,no missing value\n",
        "# All records have FLAG_MOBIL as 1 which is quite natural looking at present day world scenario\n",
        "# We aill drop this column while building the model as it is a SINGULAR MATRIX\n",
        "# A singular matrix when fed to few of the Logistic Regression package like (Logit) gives error and also it doesnot help the model to learn anything.\n",
        "print(APPLICATION_RECORD['FLAG_MOBIL'].value_counts())\n",
        "# sns.set(rc={'figure.figsize':(3,4)})\n",
        "sns.countplot(x=\"FLAG_MOBIL\",  data=APPLICATION_RECORD)"
      ]
    },
    {
      "cell_type": "markdown",
      "source": [
        "####APPLICATION_RECORD['FLAG_WORK_PHONE']-Categorical Field\n",
        "\n",
        "This denotes whether the client have a work phone or not.\n",
        "\n",
        "*   1-Having a work phone\n",
        "*   0-Does not have a work phone\n",
        "\n"
      ],
      "metadata": {
        "id": "_Q6a765PJfqP"
      }
    },
    {
      "cell_type": "code",
      "execution_count": null,
      "metadata": {
        "colab": {
          "base_uri": "https://localhost:8080/",
          "height": 465
        },
        "id": "yO3eG-9qSSFb",
        "outputId": "51bcb42f-9767-4594-a9d7-18a76d193b72"
      },
      "outputs": [
        {
          "output_type": "stream",
          "name": "stdout",
          "text": [
            "0    348156\n",
            "1     90401\n",
            "Name: FLAG_WORK_PHONE, dtype: int64\n"
          ]
        },
        {
          "output_type": "execute_result",
          "data": {
            "text/plain": [
              "<matplotlib.axes._subplots.AxesSubplot at 0x7f95201245d0>"
            ]
          },
          "metadata": {},
          "execution_count": 138
        },
        {
          "output_type": "display_data",
          "data": {
            "text/plain": [
              "<Figure size 1080x432 with 1 Axes>"
            ],
            "image/png": "[encoded data removed]"
          },
          "metadata": {}
        }
      ],
      "source": [
        "# APPLICATION_RECORD['FLAG_WORK_PHONE']-Categorical Field\n",
        "# Takes 2 Values-1,0\n",
        "# Data seems fine,no missing value\n",
        "# Date distribution is in the ratio close to 1:3.5/4 which looks fine considering the flag is for Work Phone\n",
        "# 1-For having work phone,0 for not having work phone\n",
        "#sns.set(rc={'figure.figsize':(15,6)})\n",
        "print(APPLICATION_RECORD['FLAG_WORK_PHONE'].value_counts())\n",
        "sns.countplot(x=\"FLAG_WORK_PHONE\",  data=APPLICATION_RECORD)"
      ]
    },
    {
      "cell_type": "markdown",
      "source": [
        "####APPLICATION_RECORD['FLAG_PHONE']-Categorical Field\n",
        "This denotes whether the client owns a land phone or not.\n",
        "\n",
        "*   1-Have a phone\n",
        "*   0-Do not have a phone\n",
        "\n"
      ],
      "metadata": {
        "id": "gREFsPdPJzcF"
      }
    },
    {
      "cell_type": "code",
      "execution_count": null,
      "metadata": {
        "colab": {
          "base_uri": "https://localhost:8080/",
          "height": 465
        },
        "id": "WQukhAIgSxlV",
        "outputId": "fe185e0f-a095-40e1-b4c5-d21174748f15"
      },
      "outputs": [
        {
          "output_type": "stream",
          "name": "stdout",
          "text": [
            "0    312353\n",
            "1    126204\n",
            "Name: FLAG_PHONE, dtype: int64\n"
          ]
        },
        {
          "output_type": "execute_result",
          "data": {
            "text/plain": [
              "<matplotlib.axes._subplots.AxesSubplot at 0x7f952013b090>"
            ]
          },
          "metadata": {},
          "execution_count": 139
        },
        {
          "output_type": "display_data",
          "data": {
            "text/plain": [
              "<Figure size 1080x432 with 1 Axes>"
            ],
            "image/png": "[encoded data removed]"
          },
          "metadata": {}
        }
      ],
      "source": [
        "# APPLICATION_RECORD['FLAG_PHONE']-Categorical Field\n",
        "# Takes 2 Values-1,0\n",
        "# Data seems fine,no missing value\n",
        "# Date distribution is in the ratio close to 1:2.5 which looks fine considering the flag is for Phone\n",
        "# 1-For having phone,0 for not having phone\n",
        "print(APPLICATION_RECORD['FLAG_PHONE'].value_counts())\n",
        "sns.countplot(x=\"FLAG_PHONE\",  data=APPLICATION_RECORD)"
      ]
    },
    {
      "cell_type": "markdown",
      "source": [
        "####APPLICATION_RECORD['FLAG_EMAIL']-Categorical Field\n",
        "\n",
        "This denotes whether the client has email or not\n",
        "\n",
        "*   1-Have Email\n",
        "*   0-Do Not Have Email\n",
        "\n"
      ],
      "metadata": {
        "id": "gszgOMvtPIWV"
      }
    },
    {
      "cell_type": "code",
      "execution_count": null,
      "metadata": {
        "colab": {
          "base_uri": "https://localhost:8080/",
          "height": 465
        },
        "id": "okj0M3ToTAiY",
        "outputId": "5b6e91f7-0dc8-44a4-f696-efbe3d20423b"
      },
      "outputs": [
        {
          "output_type": "stream",
          "name": "stdout",
          "text": [
            "0    391102\n",
            "1     47455\n",
            "Name: FLAG_EMAIL, dtype: int64\n",
            "0.12133663341021013\n"
          ]
        },
        {
          "output_type": "display_data",
          "data": {
            "text/plain": [
              "<Figure size 1080x432 with 1 Axes>"
            ],
            "image/png": "[encoded data removed]"
          },
          "metadata": {}
        }
      ],
      "source": [
        "# APPLICATION_RECORD['FLAG_EMAIL']-Categorical Field\n",
        "# Takes 2 Values-1,0\n",
        "# Data seems fine,no missing value\n",
        "# Only 12 % of records hold an e-mail, rest does not have email which looks suspicious. May be the data is not entered so it is taking 0\n",
        "# 1-For having email,0 for not having email\n",
        "print(APPLICATION_RECORD['FLAG_EMAIL'].value_counts())\n",
        "sns.countplot(x=\"FLAG_EMAIL\",  data=APPLICATION_RECORD)\n",
        "\n",
        "print(len(APPLICATION_RECORD['FLAG_EMAIL'][APPLICATION_RECORD['FLAG_EMAIL']==1])/len(APPLICATION_RECORD['FLAG_EMAIL'][APPLICATION_RECORD['FLAG_EMAIL']==0]))"
      ]
    },
    {
      "cell_type": "markdown",
      "source": [
        "####APPLICATION_RECORD['OCCUPATION_TYPE']-Categorical Field\n",
        "\n",
        "It denotes in which type of occupation,the client is involved in.\n",
        "\n",
        "*   Laborers             \n",
        "*   Core staff           \n",
        "*   Sales staff          \n",
        "*   Managers             \n",
        "*   Drivers              \n",
        "*   High skill tech staff\n",
        "*   Accountants          \n",
        "*   Medicine staff       \n",
        "*   Cooking staff        \n",
        "*   Security staff       \n",
        "*   Cleaning staff       \n",
        "*   Private service staff\n",
        "*   Low-skill Laborers   \n",
        "*   Secretaries          \n",
        "*   Waiters/barmen staff \n",
        "*   Realty agents        \n",
        "*   HR staff             \n",
        "*   IT staff             \n",
        "\n",
        "\n"
      ],
      "metadata": {
        "id": "Nym8FotnPsAn"
      }
    },
    {
      "cell_type": "code",
      "execution_count": null,
      "metadata": {
        "colab": {
          "base_uri": "https://localhost:8080/",
          "height": 751
        },
        "id": "kLS_kd46UKGh",
        "outputId": "31cdca56-9768-4024-c996-0a77f6c12b4a"
      },
      "outputs": [
        {
          "output_type": "stream",
          "name": "stdout",
          "text": [
            "Laborers                 78240\n",
            "Core staff               43007\n",
            "Sales staff              41098\n",
            "Managers                 35487\n",
            "Drivers                  26090\n",
            "High skill tech staff    17289\n",
            "Accountants              15985\n",
            "Medicine staff           13520\n",
            "Cooking staff             8076\n",
            "Security staff            7993\n",
            "Cleaning staff            5845\n",
            "Private service staff     3456\n",
            "Low-skill Laborers        2140\n",
            "Secretaries               2044\n",
            "Waiters/barmen staff      1665\n",
            "Realty agents             1041\n",
            "HR staff                   774\n",
            "IT staff                   604\n",
            "Name: OCCUPATION_TYPE, dtype: int64\n"
          ]
        },
        {
          "output_type": "execute_result",
          "data": {
            "text/plain": [
              "0.44094376942639163"
            ]
          },
          "metadata": {},
          "execution_count": 141
        },
        {
          "output_type": "display_data",
          "data": {
            "text/plain": [
              "<Figure size 1080x432 with 1 Axes>"
            ],
            "image/png": "[encoded data removed]"
          },
          "metadata": {}
        }
      ],
      "source": [
        "# APPLICATION_RECORD['OCCUPATION_TYPE']-Categorical Field\n",
        "# Takes 18 Discrete Values like Laborers,Core staff etc\n",
        "# Data has missing records\n",
        "# 134203 records are null,304354 records present\n",
        "# 44% of Data is null\n",
        "print(APPLICATION_RECORD['OCCUPATION_TYPE'].value_counts())\n",
        "sns.countplot(y=\"OCCUPATION_TYPE\",  data=APPLICATION_RECORD)\n",
        "APPLICATION_RECORD['OCCUPATION_TYPE'].isnull().sum()/APPLICATION_RECORD['OCCUPATION_TYPE'].count()\n"
      ]
    },
    {
      "cell_type": "markdown",
      "metadata": {
        "id": "NDTVONj4-zt4"
      },
      "source": [
        "\n",
        "### **CONTINUOUS FILED**"
      ]
    },
    {
      "cell_type": "markdown",
      "source": [
        "####APPLICATION_RECORD['AMT_INCOME_TOTAL']-CONTINUOUS FIELD\n",
        "\n",
        "It denotes the total income of the client"
      ],
      "metadata": {
        "id": "IEnxOhTcQoLq"
      }
    },
    {
      "cell_type": "code",
      "execution_count": null,
      "metadata": {
        "colab": {
          "base_uri": "https://localhost:8080/",
          "height": 567
        },
        "id": "xELWBtqS-eMQ",
        "outputId": "6507f6ae-03bf-4c66-9243-a061f929b519"
      },
      "outputs": [
        {
          "output_type": "stream",
          "name": "stdout",
          "text": [
            "187.4195377937978\n"
          ]
        },
        {
          "output_type": "execute_result",
          "data": {
            "text/plain": [
              "count    438550.000000\n",
              "mean        187.419538\n",
              "std         106.920010\n",
              "min          26.100000\n",
              "25%         121.500000\n",
              "50%         160.780500\n",
              "75%         225.000000\n",
              "max        4500.000000\n",
              "Name: AMT_INCOME_TOTAL, dtype: float64"
            ]
          },
          "metadata": {},
          "execution_count": 142
        },
        {
          "output_type": "display_data",
          "data": {
            "text/plain": [
              "<Figure size 1080x432 with 1 Axes>"
            ],
            "image/png": "[encoded data removed]"
          },
          "metadata": {}
        }
      ],
      "source": [
        "# APPLICATION_RECORD['AMT_INCOME_TOTAL']-CONTINUOUS FIELD\n",
        "# NO MISSING RECORDS\n",
        "# BOX PLOT SHOWS THE DATA HAS HEAVY OUTLIERS\n",
        "# mean=187524\n",
        "# median=160780\n",
        "# mean and median are close\n",
        "# ALTHOUGH BOX PLOT SHOWS THERE ARE OUTLIERS BUT IN REALITY THERE IS UNIFORM DISTRIBUTION\n",
        "# Issue is with people having AMT_INCOME_TOTAL = 6750000 and they work as labourers, so it might be a default value\n",
        "# When AMT_INCOME_TOTAL without data 6750000 is taken\n",
        "# Mean(in thousand)=187.419538, Median(in thousand)=160.780500\n",
        "# When all records are considered then\n",
        "# Mean(in thousand)=187.524286,Median(in thousand)=160.780500\n",
        "# Not much of difference is coming in calculation but will move ahead with Imputation based on Median\n",
        "plt.boxplot(APPLICATION_RECORD[\"AMT_INCOME_TOTAL\"])\n",
        "util_percentiles=APPLICATION_RECORD['AMT_INCOME_TOTAL'].quantile([0.05, 0.1, 0.25, 0.5, 0.75, 0.80, 0.9,0.91,0.95,0.96,0.97,0.975,0.98,0.99,1])\n",
        "round(util_percentiles,2)\n",
        "#NOTE TO SELF-DRAWING A FREQUENCY COUNT PLOT FOR CONTINUOUS DATA WILL NOT GIVE US ANYTHING TO UNDERSTAND\n",
        "# plt.hist(APPLICATION_RECORD['AMT_INCOME_TOTAL'])\n",
        "AMT_INCOME_TOTAL_v1=APPLICATION_RECORD['AMT_INCOME_TOTAL']/1000\n",
        "AMT_INCOME_TOTAL_v1.describe()\n",
        "util_percentiles=APPLICATION_RECORD['AMT_INCOME_TOTAL'].quantile([0.05, 0.1, 0.25, 0.5, 0.75, 0.80, 0.9,0.91,0.95,0.96,0.97,0.975,0.98,0.99,0.991,0.992,0.993,0.994,0.995,0.996,0.997,0.998,0.999,1])\n",
        "round(util_percentiles,2)\n",
        "(APPLICATION_RECORD[APPLICATION_RECORD['AMT_INCOME_TOTAL']!=6750000]['AMT_INCOME_TOTAL']/1000).describe()\n",
        "(APPLICATION_RECORD['AMT_INCOME_TOTAL']/1000).describe()\n",
        "\n",
        "print((APPLICATION_RECORD[APPLICATION_RECORD['AMT_INCOME_TOTAL']!=6750000]['AMT_INCOME_TOTAL']/1000).mean())\n",
        "(APPLICATION_RECORD[APPLICATION_RECORD['AMT_INCOME_TOTAL']!=6750000]['AMT_INCOME_TOTAL']/1000).describe()"
      ]
    },
    {
      "cell_type": "code",
      "source": [
        "util_percentiles"
      ],
      "metadata": {
        "id": "IAUtWZrH9mSX"
      },
      "execution_count": null,
      "outputs": []
    },
    {
      "cell_type": "markdown",
      "source": [
        "####APPLICATION_RECORD['DAYS_BIRTH']-CONTINUOUS FIELD(Birthday)\n",
        "\n",
        "It denotes the DOB of the client. This is storing data backwards from current date. For example -1 denotes yesterday. "
      ],
      "metadata": {
        "id": "LdjEVWImQxyg"
      }
    },
    {
      "cell_type": "code",
      "execution_count": null,
      "metadata": {
        "colab": {
          "base_uri": "https://localhost:8080/",
          "height": 538
        },
        "id": "mxYr0kJiExS5",
        "outputId": "7f6e7cbd-5398-48de-ff3f-46bd68496a27"
      },
      "outputs": [
        {
          "output_type": "execute_result",
          "data": {
            "text/plain": [
              "count    438557.000000\n",
              "mean     -15997.904649\n",
              "std        4185.030007\n",
              "min      -25201.000000\n",
              "25%      -19483.000000\n",
              "50%      -15630.000000\n",
              "75%      -12514.000000\n",
              "max       -7489.000000\n",
              "Name: DAYS_BIRTH, dtype: float64"
            ]
          },
          "metadata": {},
          "execution_count": 143
        },
        {
          "output_type": "display_data",
          "data": {
            "text/plain": [
              "<Figure size 1080x432 with 1 Axes>"
            ],
            "image/png": "[encoded data removed]"
          },
          "metadata": {}
        }
      ],
      "source": [
        "# APPLICATION_RECORD['DAYS_BIRTH']-CONTINUOUS FIELD(Birthday)\n",
        "# Count backwards from current day (0), -1 means yesterday\n",
        "# NO MISSING RECORDS\n",
        "# No Records with positive values\n",
        "# Box Plot looks normal\n",
        "# mean=-15998, median=-15630, so outliers are very small\n",
        "# max=-7489,min=-25201(Oldest person is 69 yrs old, youngest is 20 yrs old)\n",
        "plt.boxplot(APPLICATION_RECORD[\"DAYS_BIRTH\"])\n",
        "APPLICATION_RECORD[APPLICATION_RECORD[\"DAYS_BIRTH\"]>0]\n",
        "APPLICATION_RECORD[\"DAYS_BIRTH\"].describe()\n",
        "\n",
        "\n"
      ]
    },
    {
      "cell_type": "markdown",
      "source": [
        "####APPLICATION_RECORD['DAYS_EMPLOYED']-CONTINUOUS FIELD(Employed since)\n",
        "It denotes the total working experince of the employee. This also saves data counting days backward from current date.For example -1 implements the employee has been working for 1 day only and any positive data denotes that the employee is not working."
      ],
      "metadata": {
        "id": "Xo9RP8BVRd_D"
      }
    },
    {
      "cell_type": "code",
      "execution_count": null,
      "metadata": {
        "colab": {
          "base_uri": "https://localhost:8080/",
          "height": 520
        },
        "id": "o034tLgnnrTX",
        "outputId": "a6b6a000-ddbe-415d-c875-afb7dc3a785d"
      },
      "outputs": [
        {
          "output_type": "execute_result",
          "data": {
            "text/plain": [
              "{'whiskers': [<matplotlib.lines.Line2D at 0x7f9505f14fd0>,\n",
              "  <matplotlib.lines.Line2D at 0x7f9505f14a90>],\n",
              " 'caps': [<matplotlib.lines.Line2D at 0x7f9505f14f50>,\n",
              "  <matplotlib.lines.Line2D at 0x7f9520101e50>],\n",
              " 'boxes': [<matplotlib.lines.Line2D at 0x7f9505f76890>],\n",
              " 'medians': [<matplotlib.lines.Line2D at 0x7f9520024390>],\n",
              " 'fliers': [<matplotlib.lines.Line2D at 0x7f9520024290>],\n",
              " 'means': []}"
            ]
          },
          "metadata": {},
          "execution_count": 144
        },
        {
          "output_type": "display_data",
          "data": {
            "text/plain": [
              "<Figure size 1080x432 with 1 Axes>"
            ],
            "image/png": "[encoded data removed]"
          },
          "metadata": {}
        }
      ],
      "source": [
        "# APPLICATION_RECORD['DAYS_EMPLOYED']-CONTINUOUS FIELD(Employed since)\n",
        "# Count backwards from current day (0), -1 means yesterday\n",
        "# Count backwards from current day(0). If positive, it means the person currently unemployed.\n",
        "# NO MISSING RECORDS\n",
        "# 75329 Records with positive values found with vaue as 365243 which might be a default value\n",
        "# Box Plot does not looks normal because of the above point\n",
        "# mean=-60563, median=-1467, so huge outliers are there\n",
        "# max=365243,min=-17531(Max work experience is 48 yrs,min work experience is 13 days)\n",
        "# 82.82% Records are ok\n",
        "# DAYS_EMPLOYED value = 365243 for Pensioners,Reason for outliers on the upper side,DAYS_EMPLOYED=NaN\n",
        "# 164 Records are there who are Pensioners but default value is not 365243\n",
        "# 365243 is the only positive value but it is more than 584 yrs so out of bound exception is coming as timedelta cannot take beyond 584 yrs, so converting this to 10\n",
        "\n",
        "APPLICATION_RECORD[APPLICATION_RECORD[\"DAYS_EMPLOYED\"]>0]\n",
        "APPLICATION_RECORD[APPLICATION_RECORD[\"DAYS_EMPLOYED\"]>0]['DAYS_EMPLOYED'].unique()\n",
        "plt.boxplot(APPLICATION_RECORD[\"DAYS_EMPLOYED\"])\n",
        "APPLICATION_RECORD[\"DAYS_EMPLOYED\"].mean()\n",
        "APPLICATION_RECORD[\"DAYS_EMPLOYED\"].describe()\n",
        "util_percentiles=APPLICATION_RECORD['DAYS_EMPLOYED'].quantile([0.00,0.01,0.02,0.03,0.04,0.05, 0.1, 0.25, 0.5, 0.75, 0.80,.81,.82,.825,.826,.827,.8281,.8282,.8283,.8284,.8285,.8286,.8287,.8288,.8289,.829,.83,.84,.85,.86,.87,.88,.89, 0.9,0.91,0.95,0.96,0.97,0.975,0.98,0.99,1])\n",
        "round(util_percentiles,2)\n",
        "APPLICATION_RECORD_V1=APPLICATION_RECORD[APPLICATION_RECORD['DAYS_EMPLOYED']==365243][['DAYS_EMPLOYED','OCCUPATION_TYPE','AMT_INCOME_TOTAL','NAME_INCOME_TYPE']]\n",
        "APPLICATION_RECORD_V1['OCCUPATION_TYPE'].unique()\n",
        "APPLICATION_RECORD_V2=APPLICATION_RECORD[APPLICATION_RECORD['DAYS_EMPLOYED']!=365243]\n",
        "plt.boxplot(APPLICATION_RECORD_V2[\"DAYS_EMPLOYED\"])\n"
      ]
    },
    {
      "cell_type": "markdown",
      "source": [
        "####CREDIT_RECORD['MONTHS_BALANCE']-CONTINUOUS FIELD\n",
        "\n",
        "This denotes the data of individual number of months for which customer is associated with the business and it's corresponding status is shown in STATUS variable"
      ],
      "metadata": {
        "id": "ZqKr93ovUCDz"
      }
    },
    {
      "cell_type": "code",
      "execution_count": null,
      "metadata": {
        "colab": {
          "base_uri": "https://localhost:8080/",
          "height": 1000
        },
        "id": "OcYovvpsaEye",
        "outputId": "570cdd08-b967-4d92-c0da-40d9538d6688"
      },
      "outputs": [
        {
          "output_type": "execute_result",
          "data": {
            "text/plain": [
              "0.0000   -60.0\n",
              "0.0100   -54.0\n",
              "0.0200   -51.0\n",
              "0.0300   -49.0\n",
              "0.0400   -47.0\n",
              "0.0500   -46.0\n",
              "0.1000   -40.0\n",
              "0.2500   -29.0\n",
              "0.5000   -17.0\n",
              "0.7500    -7.0\n",
              "0.8000    -6.0\n",
              "0.8100    -5.0\n",
              "0.8200    -5.0\n",
              "0.8250    -5.0\n",
              "0.8260    -5.0\n",
              "0.8270    -5.0\n",
              "0.8281    -5.0\n",
              "0.8282    -5.0\n",
              "0.8283    -5.0\n",
              "0.8284    -5.0\n",
              "0.8285    -5.0\n",
              "0.8286    -5.0\n",
              "0.8287    -5.0\n",
              "0.8288    -5.0\n",
              "0.8289    -5.0\n",
              "0.8290    -5.0\n",
              "0.8300    -5.0\n",
              "0.8400    -4.0\n",
              "0.8500    -4.0\n",
              "0.8600    -4.0\n",
              "0.8700    -3.0\n",
              "0.8800    -3.0\n",
              "0.8900    -3.0\n",
              "0.9000    -3.0\n",
              "0.9100    -2.0\n",
              "0.9500    -1.0\n",
              "0.9600    -1.0\n",
              "0.9700     0.0\n",
              "0.9750     0.0\n",
              "0.9800     0.0\n",
              "0.9900     0.0\n",
              "1.0000     0.0\n",
              "Name: MONTHS_BALANCE, dtype: float64"
            ]
          },
          "metadata": {},
          "execution_count": 145
        },
        {
          "output_type": "display_data",
          "data": {
            "text/plain": [
              "<Figure size 1080x432 with 1 Axes>"
            ],
            "image/png": "[encoded data removed]"
          },
          "metadata": {}
        }
      ],
      "source": [
        "# CREDIT_RECORD['MONTHS_BALANCE']-CONTINUOUS FIELD\n",
        "# NO MISSING VALUES\n",
        "# NO VALUES GREATER THAN 0\n",
        "# DATA UPTO 61 MONTHS IS PRESENT INCLUDING CURRENT MONTH\n",
        "# INITIAL ANALYSIS OF BOX PLOT SHOWS THE BODY IS GOOD SO LESS NUMBER OF OUTLIERS\n",
        "CREDIT_RECORD[CREDIT_RECORD[\"MONTHS_BALANCE\"]>0]\n",
        "CREDIT_RECORD[\"MONTHS_BALANCE\"].value_counts()\n",
        "plt.boxplot(CREDIT_RECORD[\"MONTHS_BALANCE\"])\n",
        "util_percentiles=CREDIT_RECORD['MONTHS_BALANCE'].quantile([0.00,0.01,0.02,0.03,0.04,0.05, 0.1, 0.25, 0.5, 0.75, 0.80,.81,.82,.825,.826,.827,.8281,.8282,.8283,.8284,.8285,.8286,.8287,.8288,.8289,.829,.83,.84,.85,.86,.87,.88,.89, 0.9,0.91,0.95,0.96,0.97,0.975,0.98,0.99,1])\n",
        "round(util_percentiles,2)"
      ]
    },
    {
      "cell_type": "markdown",
      "metadata": {
        "id": "4OraqZQPkLSX"
      },
      "source": [
        "# **DERIVING THE TARGET VARIABLE**\n",
        "\n"
      ]
    },
    {
      "cell_type": "markdown",
      "metadata": {
        "id": "skoRrhyQ03A6"
      },
      "source": [
        "The target variable will be derived using two logic\n",
        "\n",
        "**1) FOR STRICT BANK**\n",
        "A customer who will be even having a single record of 1 month DPD will be considered as BAD CUSTOMER\n",
        "\n",
        "**1) FOR LENIENT BANK**\n",
        "A customer with records of 1 month DPD and 2 month DPD will be considered as GOOD CUSTOMERS given that they do not have a single record of 3 months DPD"
      ]
    },
    {
      "cell_type": "code",
      "execution_count": null,
      "metadata": {
        "colab": {
          "base_uri": "https://localhost:8080/",
          "height": 424
        },
        "id": "IPF9cWRmmGKt",
        "outputId": "1de4505e-c637-47a1-8402-c670a34719d0"
      },
      "outputs": [
        {
          "output_type": "execute_result",
          "data": {
            "text/plain": [
              "              ID  MONTHS_BALANCE STATUS\n",
              "0        5001711               0      X\n",
              "1        5001711              -1      0\n",
              "2        5001711              -2      0\n",
              "3        5001711              -3      0\n",
              "4        5001712               0      C\n",
              "...          ...             ...    ...\n",
              "1048570  5150487             -25      C\n",
              "1048571  5150487             -26      C\n",
              "1048572  5150487             -27      C\n",
              "1048573  5150487             -28      C\n",
              "1048574  5150487             -29      C\n",
              "\n",
              "[1048575 rows x 3 columns]"
            ],
            "text/html": [
              "\n",
              "  <div id=\"df-831b7f04-c616-4a7e-bbd2-33871b6bd550\">\n",
              "    <div class=\"colab-df-container\">\n",
              "      <div>\n",
              "<style scoped>\n",
              "    .dataframe tbody tr th:only-of-type {\n",
              "        vertical-align: middle;\n",
              "    }\n",
              "\n",
              "    .dataframe tbody tr th {\n",
              "        vertical-align: top;\n",
              "    }\n",
              "\n",
              "    .dataframe thead th {\n",
              "        text-align: right;\n",
              "    }\n",
              "</style>\n",
              "<table border=\"1\" class=\"dataframe\">\n",
              "  <thead>\n",
              "    <tr style=\"text-align: right;\">\n",
              "      <th></th>\n",
              "      <th>ID</th>\n",
              "      <th>MONTHS_BALANCE</th>\n",
              "      <th>STATUS</th>\n",
              "    </tr>\n",
              "  </thead>\n",
              "  <tbody>\n",
              "    <tr>\n",
              "      <th>0</th>\n",
              "      <td>5001711</td>\n",
              "      <td>0</td>\n",
              "      <td>X</td>\n",
              "    </tr>\n",
              "    <tr>\n",
              "      <th>1</th>\n",
              "      <td>5001711</td>\n",
              "      <td>-1</td>\n",
              "      <td>0</td>\n",
              "    </tr>\n",
              "    <tr>\n",
              "      <th>2</th>\n",
              "      <td>5001711</td>\n",
              "      <td>-2</td>\n",
              "      <td>0</td>\n",
              "    </tr>\n",
              "    <tr>\n",
              "      <th>3</th>\n",
              "      <td>5001711</td>\n",
              "      <td>-3</td>\n",
              "      <td>0</td>\n",
              "    </tr>\n",
              "    <tr>\n",
              "      <th>4</th>\n",
              "      <td>5001712</td>\n",
              "      <td>0</td>\n",
              "      <td>C</td>\n",
              "    </tr>\n",
              "    <tr>\n",
              "      <th>...</th>\n",
              "      <td>...</td>\n",
              "      <td>...</td>\n",
              "      <td>...</td>\n",
              "    </tr>\n",
              "    <tr>\n",
              "      <th>1048570</th>\n",
              "      <td>5150487</td>\n",
              "      <td>-25</td>\n",
              "      <td>C</td>\n",
              "    </tr>\n",
              "    <tr>\n",
              "      <th>1048571</th>\n",
              "      <td>5150487</td>\n",
              "      <td>-26</td>\n",
              "      <td>C</td>\n",
              "    </tr>\n",
              "    <tr>\n",
              "      <th>1048572</th>\n",
              "      <td>5150487</td>\n",
              "      <td>-27</td>\n",
              "      <td>C</td>\n",
              "    </tr>\n",
              "    <tr>\n",
              "      <th>1048573</th>\n",
              "      <td>5150487</td>\n",
              "      <td>-28</td>\n",
              "      <td>C</td>\n",
              "    </tr>\n",
              "    <tr>\n",
              "      <th>1048574</th>\n",
              "      <td>5150487</td>\n",
              "      <td>-29</td>\n",
              "      <td>C</td>\n",
              "    </tr>\n",
              "  </tbody>\n",
              "</table>\n",
              "<p>1048575 rows × 3 columns</p>\n",
              "</div>\n",
              "      <button class=\"colab-df-convert\" onclick=\"convertToInteractive('df-831b7f04-c616-4a7e-bbd2-33871b6bd550')\"\n",
              "              title=\"Convert this dataframe to an interactive table.\"\n",
              "              style=\"display:none;\">\n",
              "        \n",
              "  <svg xmlns=\"http://www.w3.org/2000/svg\" height=\"24px\"viewBox=\"0 0 24 24\"\n",
              "       width=\"24px\">\n",
              "    <path d=\"M0 0h24v24H0V0z\" fill=\"none\"/>\n",
              "    <path d=\"M18.56 5.44l.94 2.06.94-2.06 2.06-.94-2.06-.94-.94-2.06-.94 2.06-2.06.94zm-11 1L8.5 8.5l.94-2.06 2.06-.94-2.06-.94L8.5 2.5l-.94 2.06-2.06.94zm10 10l.94 2.06.94-2.06 2.06-.94-2.06-.94-.94-2.06-.94 2.06-2.06.94z\"/><path d=\"M17.41 7.96l-1.37-1.37c-.4-.4-.92-.59-1.43-.59-.52 0-1.04.2-1.43.59L10.3 9.45l-7.72 7.72c-.78.78-.78 2.05 0 2.83L4 21.41c.39.39.9.59 1.41.59.51 0 1.02-.2 1.41-.59l7.78-7.78 2.81-2.81c.8-.78.8-2.07 0-2.86zM5.41 20L4 18.59l7.72-7.72 1.47 1.35L5.41 20z\"/>\n",
              "  </svg>\n",
              "      </button>\n",
              "      \n",
              "  <style>\n",
              "    .colab-df-container {\n",
              "      display:flex;\n",
              "      flex-wrap:wrap;\n",
              "      gap: 12px;\n",
              "    }\n",
              "\n",
              "    .colab-df-convert {\n",
              "      background-color: #E8F0FE;\n",
              "      border: none;\n",
              "      border-radius: 50%;\n",
              "      cursor: pointer;\n",
              "      display: none;\n",
              "      fill: #1967D2;\n",
              "      height: 32px;\n",
              "      padding: 0 0 0 0;\n",
              "      width: 32px;\n",
              "    }\n",
              "\n",
              "    .colab-df-convert:hover {\n",
              "      background-color: #E2EBFA;\n",
              "      box-shadow: 0px 1px 2px rgba(60, 64, 67, 0.3), 0px 1px 3px 1px rgba(60, 64, 67, 0.15);\n",
              "      fill: #174EA6;\n",
              "    }\n",
              "\n",
              "    [theme=dark] .colab-df-convert {\n",
              "      background-color: #3B4455;\n",
              "      fill: #D2E3FC;\n",
              "    }\n",
              "\n",
              "    [theme=dark] .colab-df-convert:hover {\n",
              "      background-color: #434B5C;\n",
              "      box-shadow: 0px 1px 3px 1px rgba(0, 0, 0, 0.15);\n",
              "      filter: drop-shadow(0px 1px 2px rgba(0, 0, 0, 0.3));\n",
              "      fill: #FFFFFF;\n",
              "    }\n",
              "  </style>\n",
              "\n",
              "      <script>\n",
              "        const buttonEl =\n",
              "          document.querySelector('#df-831b7f04-c616-4a7e-bbd2-33871b6bd550 button.colab-df-convert');\n",
              "        buttonEl.style.display =\n",
              "          google.colab.kernel.accessAllowed ? 'block' : 'none';\n",
              "\n",
              "        async function convertToInteractive(key) {\n",
              "          const element = document.querySelector('#df-831b7f04-c616-4a7e-bbd2-33871b6bd550');\n",
              "          const dataTable =\n",
              "            await google.colab.kernel.invokeFunction('convertToInteractive',\n",
              "                                                     [key], {});\n",
              "          if (!dataTable) return;\n",
              "\n",
              "          const docLinkHtml = 'Like what you see? Visit the ' +\n",
              "            '<a target=\"_blank\" href=https://colab.research.google.com/notebooks/data_table.ipynb>data table notebook</a>'\n",
              "            + ' to learn more about interactive tables.';\n",
              "          element.innerHTML = '';\n",
              "          dataTable['output_type'] = 'display_data';\n",
              "          await google.colab.output.renderOutput(dataTable, element);\n",
              "          const docLink = document.createElement('div');\n",
              "          docLink.innerHTML = docLinkHtml;\n",
              "          element.appendChild(docLink);\n",
              "        }\n",
              "      </script>\n",
              "    </div>\n",
              "  </div>\n",
              "  "
            ]
          },
          "metadata": {},
          "execution_count": 146
        }
      ],
      "source": [
        "CREDIT_RECORD['ID'].value_counts().describe()\n",
        "#OBSERVATION-MIN RECORD IS PRESENT FOR 1 MONTH(CURRENT MONTH),MAX RECORD IS PRESENT FOR 61  OR 5 YRS\n",
        "CREDIT_RECORD.groupby(['ID']).agg({'MONTHS_BALANCE':'min'})\n",
        "CREDIT_RECORD.sort_values(by=['ID','MONTHS_BALANCE'],ascending=([True,False]))\n"
      ]
    },
    {
      "cell_type": "markdown",
      "metadata": {
        "id": "qixMQ8QB-eoT"
      },
      "source": [
        "FINDINGS\n",
        "--------\n",
        "As we can clearly see that in STRICT approach the percentage of GOOD customers is hardly 13% and that of BAD customers is 87 percent which is not an ideal scenario. So we will take the lenient approach which is actually followed by many banks when they report a customer as bad customer or a loan/cc as NPA only after a customer has failed to pay after 2 months DPD. So we will consider the LENIENT approach where the percentage of BAD customers is close to 1.5% only which is an ideal case considering banking industry."
      ]
    },
    {
      "cell_type": "code",
      "execution_count": null,
      "metadata": {
        "colab": {
          "base_uri": "https://localhost:8080/",
          "height": 488
        },
        "id": "pOXzerD7sUky",
        "outputId": "ba820edb-e077-4c08-d756-3116537e8b0f"
      },
      "outputs": [
        {
          "output_type": "execute_result",
          "data": {
            "text/plain": [
              "STATUS       ID  1_MONTH_LATE  2_MONTH_LATE  3_MONTH_LATE  4_MONTH_LATE  \\\n",
              "0       5001711             3             0             0             0   \n",
              "1       5001712            10             0             0             0   \n",
              "2       5001713             0             0             0             0   \n",
              "3       5001714             0             0             0             0   \n",
              "4       5001715             0             0             0             0   \n",
              "...         ...           ...           ...           ...           ...   \n",
              "45980   5150482            12             0             0             0   \n",
              "45981   5150483             0             0             0             0   \n",
              "45982   5150484            12             0             0             0   \n",
              "45983   5150485             2             0             0             0   \n",
              "45984   5150487             0             0             0             0   \n",
              "\n",
              "STATUS  5_MONTH_LATE  OVERDUE_BAD_DEBT  PAID_OFF  NO_LOAN  TOTAL_NO_OF_MONTHS  \n",
              "0                  0                 0         0        1                   4  \n",
              "1                  0                 0         9        0                  19  \n",
              "2                  0                 0         0       22                  22  \n",
              "3                  0                 0         0       15                  15  \n",
              "4                  0                 0         0       60                  60  \n",
              "...              ...               ...       ...      ...                 ...  \n",
              "45980              0                 0         6        0                  18  \n",
              "45981              0                 0         0       18                  18  \n",
              "45982              0                 0         1        0                  13  \n",
              "45983              0                 0         0        0                   2  \n",
              "45984              0                 0        30        0                  30  \n",
              "\n",
              "[45985 rows x 10 columns]"
            ],
            "text/html": [
              "\n",
              "  <div id=\"df-57cdc127-a7fe-4210-b946-91060067a436\">\n",
              "    <div class=\"colab-df-container\">\n",
              "      <div>\n",
              "<style scoped>\n",
              "    .dataframe tbody tr th:only-of-type {\n",
              "        vertical-align: middle;\n",
              "    }\n",
              "\n",
              "    .dataframe tbody tr th {\n",
              "        vertical-align: top;\n",
              "    }\n",
              "\n",
              "    .dataframe thead th {\n",
              "        text-align: right;\n",
              "    }\n",
              "</style>\n",
              "<table border=\"1\" class=\"dataframe\">\n",
              "  <thead>\n",
              "    <tr style=\"text-align: right;\">\n",
              "      <th>STATUS</th>\n",
              "      <th>ID</th>\n",
              "      <th>1_MONTH_LATE</th>\n",
              "      <th>2_MONTH_LATE</th>\n",
              "      <th>3_MONTH_LATE</th>\n",
              "      <th>4_MONTH_LATE</th>\n",
              "      <th>5_MONTH_LATE</th>\n",
              "      <th>OVERDUE_BAD_DEBT</th>\n",
              "      <th>PAID_OFF</th>\n",
              "      <th>NO_LOAN</th>\n",
              "      <th>TOTAL_NO_OF_MONTHS</th>\n",
              "    </tr>\n",
              "  </thead>\n",
              "  <tbody>\n",
              "    <tr>\n",
              "      <th>0</th>\n",
              "      <td>5001711</td>\n",
              "      <td>3</td>\n",
              "      <td>0</td>\n",
              "      <td>0</td>\n",
              "      <td>0</td>\n",
              "      <td>0</td>\n",
              "      <td>0</td>\n",
              "      <td>0</td>\n",
              "      <td>1</td>\n",
              "      <td>4</td>\n",
              "    </tr>\n",
              "    <tr>\n",
              "      <th>1</th>\n",
              "      <td>5001712</td>\n",
              "      <td>10</td>\n",
              "      <td>0</td>\n",
              "      <td>0</td>\n",
              "      <td>0</td>\n",
              "      <td>0</td>\n",
              "      <td>0</td>\n",
              "      <td>9</td>\n",
              "      <td>0</td>\n",
              "      <td>19</td>\n",
              "    </tr>\n",
              "    <tr>\n",
              "      <th>2</th>\n",
              "      <td>5001713</td>\n",
              "      <td>0</td>\n",
              "      <td>0</td>\n",
              "      <td>0</td>\n",
              "      <td>0</td>\n",
              "      <td>0</td>\n",
              "      <td>0</td>\n",
              "      <td>0</td>\n",
              "      <td>22</td>\n",
              "      <td>22</td>\n",
              "    </tr>\n",
              "    <tr>\n",
              "      <th>3</th>\n",
              "      <td>5001714</td>\n",
              "      <td>0</td>\n",
              "      <td>0</td>\n",
              "      <td>0</td>\n",
              "      <td>0</td>\n",
              "      <td>0</td>\n",
              "      <td>0</td>\n",
              "      <td>0</td>\n",
              "      <td>15</td>\n",
              "      <td>15</td>\n",
              "    </tr>\n",
              "    <tr>\n",
              "      <th>4</th>\n",
              "      <td>5001715</td>\n",
              "      <td>0</td>\n",
              "      <td>0</td>\n",
              "      <td>0</td>\n",
              "      <td>0</td>\n",
              "      <td>0</td>\n",
              "      <td>0</td>\n",
              "      <td>0</td>\n",
              "      <td>60</td>\n",
              "      <td>60</td>\n",
              "    </tr>\n",
              "    <tr>\n",
              "      <th>...</th>\n",
              "      <td>...</td>\n",
              "      <td>...</td>\n",
              "      <td>...</td>\n",
              "      <td>...</td>\n",
              "      <td>...</td>\n",
              "      <td>...</td>\n",
              "      <td>...</td>\n",
              "      <td>...</td>\n",
              "      <td>...</td>\n",
              "      <td>...</td>\n",
              "    </tr>\n",
              "    <tr>\n",
              "      <th>45980</th>\n",
              "      <td>5150482</td>\n",
              "      <td>12</td>\n",
              "      <td>0</td>\n",
              "      <td>0</td>\n",
              "      <td>0</td>\n",
              "      <td>0</td>\n",
              "      <td>0</td>\n",
              "      <td>6</td>\n",
              "      <td>0</td>\n",
              "      <td>18</td>\n",
              "    </tr>\n",
              "    <tr>\n",
              "      <th>45981</th>\n",
              "      <td>5150483</td>\n",
              "      <td>0</td>\n",
              "      <td>0</td>\n",
              "      <td>0</td>\n",
              "      <td>0</td>\n",
              "      <td>0</td>\n",
              "      <td>0</td>\n",
              "      <td>0</td>\n",
              "      <td>18</td>\n",
              "      <td>18</td>\n",
              "    </tr>\n",
              "    <tr>\n",
              "      <th>45982</th>\n",
              "      <td>5150484</td>\n",
              "      <td>12</td>\n",
              "      <td>0</td>\n",
              "      <td>0</td>\n",
              "      <td>0</td>\n",
              "      <td>0</td>\n",
              "      <td>0</td>\n",
              "      <td>1</td>\n",
              "      <td>0</td>\n",
              "      <td>13</td>\n",
              "    </tr>\n",
              "    <tr>\n",
              "      <th>45983</th>\n",
              "      <td>5150485</td>\n",
              "      <td>2</td>\n",
              "      <td>0</td>\n",
              "      <td>0</td>\n",
              "      <td>0</td>\n",
              "      <td>0</td>\n",
              "      <td>0</td>\n",
              "      <td>0</td>\n",
              "      <td>0</td>\n",
              "      <td>2</td>\n",
              "    </tr>\n",
              "    <tr>\n",
              "      <th>45984</th>\n",
              "      <td>5150487</td>\n",
              "      <td>0</td>\n",
              "      <td>0</td>\n",
              "      <td>0</td>\n",
              "      <td>0</td>\n",
              "      <td>0</td>\n",
              "      <td>0</td>\n",
              "      <td>30</td>\n",
              "      <td>0</td>\n",
              "      <td>30</td>\n",
              "    </tr>\n",
              "  </tbody>\n",
              "</table>\n",
              "<p>45985 rows × 10 columns</p>\n",
              "</div>\n",
              "      <button class=\"colab-df-convert\" onclick=\"convertToInteractive('df-57cdc127-a7fe-4210-b946-91060067a436')\"\n",
              "              title=\"Convert this dataframe to an interactive table.\"\n",
              "              style=\"display:none;\">\n",
              "        \n",
              "  <svg xmlns=\"http://www.w3.org/2000/svg\" height=\"24px\"viewBox=\"0 0 24 24\"\n",
              "       width=\"24px\">\n",
              "    <path d=\"M0 0h24v24H0V0z\" fill=\"none\"/>\n",
              "    <path d=\"M18.56 5.44l.94 2.06.94-2.06 2.06-.94-2.06-.94-.94-2.06-.94 2.06-2.06.94zm-11 1L8.5 8.5l.94-2.06 2.06-.94-2.06-.94L8.5 2.5l-.94 2.06-2.06.94zm10 10l.94 2.06.94-2.06 2.06-.94-2.06-.94-.94-2.06-.94 2.06-2.06.94z\"/><path d=\"M17.41 7.96l-1.37-1.37c-.4-.4-.92-.59-1.43-.59-.52 0-1.04.2-1.43.59L10.3 9.45l-7.72 7.72c-.78.78-.78 2.05 0 2.83L4 21.41c.39.39.9.59 1.41.59.51 0 1.02-.2 1.41-.59l7.78-7.78 2.81-2.81c.8-.78.8-2.07 0-2.86zM5.41 20L4 18.59l7.72-7.72 1.47 1.35L5.41 20z\"/>\n",
              "  </svg>\n",
              "      </button>\n",
              "      \n",
              "  <style>\n",
              "    .colab-df-container {\n",
              "      display:flex;\n",
              "      flex-wrap:wrap;\n",
              "      gap: 12px;\n",
              "    }\n",
              "\n",
              "    .colab-df-convert {\n",
              "      background-color: #E8F0FE;\n",
              "      border: none;\n",
              "      border-radius: 50%;\n",
              "      cursor: pointer;\n",
              "      display: none;\n",
              "      fill: #1967D2;\n",
              "      height: 32px;\n",
              "      padding: 0 0 0 0;\n",
              "      width: 32px;\n",
              "    }\n",
              "\n",
              "    .colab-df-convert:hover {\n",
              "      background-color: #E2EBFA;\n",
              "      box-shadow: 0px 1px 2px rgba(60, 64, 67, 0.3), 0px 1px 3px 1px rgba(60, 64, 67, 0.15);\n",
              "      fill: #174EA6;\n",
              "    }\n",
              "\n",
              "    [theme=dark] .colab-df-convert {\n",
              "      background-color: #3B4455;\n",
              "      fill: #D2E3FC;\n",
              "    }\n",
              "\n",
              "    [theme=dark] .colab-df-convert:hover {\n",
              "      background-color: #434B5C;\n",
              "      box-shadow: 0px 1px 3px 1px rgba(0, 0, 0, 0.15);\n",
              "      filter: drop-shadow(0px 1px 2px rgba(0, 0, 0, 0.3));\n",
              "      fill: #FFFFFF;\n",
              "    }\n",
              "  </style>\n",
              "\n",
              "      <script>\n",
              "        const buttonEl =\n",
              "          document.querySelector('#df-57cdc127-a7fe-4210-b946-91060067a436 button.colab-df-convert');\n",
              "        buttonEl.style.display =\n",
              "          google.colab.kernel.accessAllowed ? 'block' : 'none';\n",
              "\n",
              "        async function convertToInteractive(key) {\n",
              "          const element = document.querySelector('#df-57cdc127-a7fe-4210-b946-91060067a436');\n",
              "          const dataTable =\n",
              "            await google.colab.kernel.invokeFunction('convertToInteractive',\n",
              "                                                     [key], {});\n",
              "          if (!dataTable) return;\n",
              "\n",
              "          const docLinkHtml = 'Like what you see? Visit the ' +\n",
              "            '<a target=\"_blank\" href=https://colab.research.google.com/notebooks/data_table.ipynb>data table notebook</a>'\n",
              "            + ' to learn more about interactive tables.';\n",
              "          element.innerHTML = '';\n",
              "          dataTable['output_type'] = 'display_data';\n",
              "          await google.colab.output.renderOutput(dataTable, element);\n",
              "          const docLink = document.createElement('div');\n",
              "          docLink.innerHTML = docLinkHtml;\n",
              "          element.appendChild(docLink);\n",
              "        }\n",
              "      </script>\n",
              "    </div>\n",
              "  </div>\n",
              "  "
            ]
          },
          "metadata": {},
          "execution_count": 147
        }
      ],
      "source": [
        "# THE LOGIC IS DERIVED BASED ON THE FACTOR THAT OUT OF ALL THE VARIED MONTHS DATA PRESENT FOR DIFFERENT CUSTOMERS WHICH CUSTOMER HAS BEEN IN WHICH CATEGORY FOR HOW MANY TIMES.\n",
        "# STATUS\n",
        "#========\n",
        "# 0: 1-29 days past due \n",
        "# 1: 30-59 days past due \n",
        "# 2: 60-89 days overdue \n",
        "# 3: 90-119 days overdue \n",
        "# 4: 120-149 days overdue \n",
        "# 5: Overdue or bad debts, write-offs for more than 150 days \n",
        "# C: paid off that month \n",
        "# X: No loan for the month\n",
        "CREDIT_RECORD_V1=pd.pivot_table(CREDIT_RECORD, values ='MONTHS_BALANCE', index =['ID'],columns =['STATUS'],aggfunc= {'STATUS':'count'}).fillna(0).reset_index().astype(int)\n",
        "CREDIT_RECORD_V1['TOTAL_NO_OF_MONTHS']=CREDIT_RECORD_V1['0']+CREDIT_RECORD_V1['1']+CREDIT_RECORD_V1['2']+CREDIT_RECORD_V1['3']+CREDIT_RECORD_V1['4']+CREDIT_RECORD_V1['5']+CREDIT_RECORD_V1['C']+CREDIT_RECORD_V1['X']\n",
        "CREDIT_RECORD_V1.rename(columns={'0':'1_MONTH_LATE','1':'2_MONTH_LATE','2':'3_MONTH_LATE','3':'4_MONTH_LATE','4':'5_MONTH_LATE','5':'OVERDUE_BAD_DEBT','C':'PAID_OFF','X':'NO_LOAN',},inplace=True)\n",
        "CREDIT_RECORD_V1"
      ]
    },
    {
      "cell_type": "markdown",
      "source": [
        "INTRODUCING THE TARGET VARIABLE GOOD_OR_BAD\n",
        "* 1-GOOD\n",
        "* 2-BAD"
      ],
      "metadata": {
        "id": "ngnGon2SWM26"
      }
    },
    {
      "cell_type": "markdown",
      "source": [
        "FOR STRICT BANK-ANY CUSTOMER WHO HAVE RECORD OF EVEN 1 MONTHS DPD IS CONSIDERED AS BAD CUSTOMER"
      ],
      "metadata": {
        "id": "duB4EW8wWeub"
      }
    },
    {
      "cell_type": "code",
      "source": [
        "CREDIT_RECORD_STRICT=CREDIT_RECORD_V1\n",
        "CREDIT_RECORD_STRICT['GOOD_OR_BAD']=0\n",
        "CREDIT_RECORD_STRICT['GOOD_OR_BAD'][(CREDIT_RECORD_STRICT['1_MONTH_LATE']==0) & \n",
        "                                    (CREDIT_RECORD_STRICT['2_MONTH_LATE']==0) &\n",
        "                                    (CREDIT_RECORD_STRICT['3_MONTH_LATE']==0) &\n",
        "                                    (CREDIT_RECORD_STRICT['4_MONTH_LATE']==0) &\n",
        "                                    (CREDIT_RECORD_STRICT['5_MONTH_LATE']==0) &\n",
        "                                    (CREDIT_RECORD_STRICT['OVERDUE_BAD_DEBT']==0)]=1\n",
        "print('CREDIT_RECORD_STRICT \\n',CREDIT_RECORD_STRICT['GOOD_OR_BAD'].value_counts())"
      ],
      "metadata": {
        "colab": {
          "base_uri": "https://localhost:8080/"
        },
        "id": "pMmvyp_hVg-T",
        "outputId": "7a586369-1980-4013-c9a1-c91be1ccf463"
      },
      "execution_count": null,
      "outputs": [
        {
          "output_type": "stream",
          "name": "stdout",
          "text": [
            "CREDIT_RECORD_STRICT \n",
            " 0    40032\n",
            "1     5953\n",
            "Name: GOOD_OR_BAD, dtype: int64\n"
          ]
        }
      ]
    },
    {
      "cell_type": "markdown",
      "source": [
        "FOR LENIENT BANK-ANY CUSTOMER WHO HAVE RECORD FOR 3 MONTH AND ABOVE DPD IS CONSIDERED AS BAD CUSTOMER"
      ],
      "metadata": {
        "id": "d6YL9AK_WjXA"
      }
    },
    {
      "cell_type": "code",
      "source": [
        "CREDIT_RECORD_LENIENT=CREDIT_RECORD_V1\n",
        "CREDIT_RECORD_LENIENT['GOOD_OR_BAD']=0\n",
        "CREDIT_RECORD_LENIENT['GOOD_OR_BAD'][(CREDIT_RECORD_LENIENT['3_MONTH_LATE']==0) &\n",
        "                                    (CREDIT_RECORD_LENIENT['4_MONTH_LATE']==0) &\n",
        "                                    (CREDIT_RECORD_LENIENT['5_MONTH_LATE']==0) &\n",
        "                                    (CREDIT_RECORD_LENIENT['OVERDUE_BAD_DEBT']==0)]=1\n",
        "print('CREDIT_RECORD_LENIENT \\n',CREDIT_RECORD_LENIENT['GOOD_OR_BAD'].value_counts())"
      ],
      "metadata": {
        "colab": {
          "base_uri": "https://localhost:8080/"
        },
        "id": "mUaZ0wekVadG",
        "outputId": "f3d1bdca-bf8d-4ccc-c941-6a8694807a96"
      },
      "execution_count": null,
      "outputs": [
        {
          "output_type": "stream",
          "name": "stdout",
          "text": [
            "CREDIT_RECORD_LENIENT \n",
            " 1    45318\n",
            "0      667\n",
            "Name: GOOD_OR_BAD, dtype: int64\n"
          ]
        }
      ]
    },
    {
      "cell_type": "markdown",
      "metadata": {
        "id": "dV0_XFIOUwZ2"
      },
      "source": [
        "# **DATA CLEANING AND DATA PREPARATION**"
      ]
    },
    {
      "cell_type": "markdown",
      "source": [
        "##### APPLICATION_RECORD['ID']\n",
        "\n",
        "CLEANING METHOD-Deletion of duplicate record"
      ],
      "metadata": {
        "id": "mwmgGW_vW9Cv"
      }
    },
    {
      "cell_type": "code",
      "execution_count": null,
      "metadata": {
        "colab": {
          "base_uri": "https://localhost:8080/",
          "height": 627
        },
        "id": "WhW26tx7qno3",
        "outputId": "87d92eba-c992-406a-b6be-73950eed4295"
      },
      "outputs": [
        {
          "output_type": "execute_result",
          "data": {
            "text/plain": [
              "             ID CODE_GENDER FLAG_OWN_CAR FLAG_OWN_REALTY  CNT_CHILDREN  \\\n",
              "0       5008804           M            Y               Y             0   \n",
              "1       5008805           M            Y               Y             0   \n",
              "2       5008806           M            Y               Y             0   \n",
              "3       5008808           F            N               Y             0   \n",
              "4       5008809           F            N               Y             0   \n",
              "...         ...         ...          ...             ...           ...   \n",
              "438552  6840104           M            N               Y             0   \n",
              "438553  6840222           F            N               N             0   \n",
              "438554  6841878           F            N               N             0   \n",
              "438555  6842765           F            N               Y             0   \n",
              "438556  6842885           F            N               Y             0   \n",
              "\n",
              "        AMT_INCOME_TOTAL      NAME_INCOME_TYPE            NAME_EDUCATION_TYPE  \\\n",
              "0               427500.0               Working               Higher education   \n",
              "1               427500.0               Working               Higher education   \n",
              "2               112500.0               Working  Secondary / secondary special   \n",
              "3               270000.0  Commercial associate  Secondary / secondary special   \n",
              "4               270000.0  Commercial associate  Secondary / secondary special   \n",
              "...                  ...                   ...                            ...   \n",
              "438552          135000.0             Pensioner  Secondary / secondary special   \n",
              "438553          103500.0               Working  Secondary / secondary special   \n",
              "438554           54000.0  Commercial associate               Higher education   \n",
              "438555           72000.0             Pensioner  Secondary / secondary special   \n",
              "438556          121500.0               Working  Secondary / secondary special   \n",
              "\n",
              "          NAME_FAMILY_STATUS  NAME_HOUSING_TYPE  DAYS_BIRTH  DAYS_EMPLOYED  \\\n",
              "0             Civil marriage   Rented apartment      -12005          -4542   \n",
              "1             Civil marriage   Rented apartment      -12005          -4542   \n",
              "2                    Married  House / apartment      -21474          -1134   \n",
              "3       Single / not married  House / apartment      -19110          -3051   \n",
              "4       Single / not married  House / apartment      -19110          -3051   \n",
              "...                      ...                ...         ...            ...   \n",
              "438552             Separated  House / apartment      -22717         365243   \n",
              "438553  Single / not married  House / apartment      -15939          -3007   \n",
              "438554  Single / not married       With parents       -8169           -372   \n",
              "438555               Married  House / apartment      -21673         365243   \n",
              "438556               Married  House / apartment      -18858          -1201   \n",
              "\n",
              "        FLAG_MOBIL  FLAG_WORK_PHONE  FLAG_PHONE  FLAG_EMAIL OCCUPATION_TYPE  \\\n",
              "0                1                1           0           0             NaN   \n",
              "1                1                1           0           0             NaN   \n",
              "2                1                0           0           0  Security staff   \n",
              "3                1                0           1           1     Sales staff   \n",
              "4                1                0           1           1     Sales staff   \n",
              "...            ...              ...         ...         ...             ...   \n",
              "438552           1                0           0           0             NaN   \n",
              "438553           1                0           0           0        Laborers   \n",
              "438554           1                1           0           0     Sales staff   \n",
              "438555           1                0           0           0             NaN   \n",
              "438556           1                0           1           0     Sales staff   \n",
              "\n",
              "        CNT_FAM_MEMBERS  \n",
              "0                   2.0  \n",
              "1                   2.0  \n",
              "2                   2.0  \n",
              "3                   1.0  \n",
              "4                   1.0  \n",
              "...                 ...  \n",
              "438552              1.0  \n",
              "438553              1.0  \n",
              "438554              1.0  \n",
              "438555              2.0  \n",
              "438556              2.0  \n",
              "\n",
              "[438510 rows x 18 columns]"
            ],
            "text/html": [
              "\n",
              "  <div id=\"df-83ffcedf-4979-4f94-aa80-1e566e3768df\">\n",
              "    <div class=\"colab-df-container\">\n",
              "      <div>\n",
              "<style scoped>\n",
              "    .dataframe tbody tr th:only-of-type {\n",
              "        vertical-align: middle;\n",
              "    }\n",
              "\n",
              "    .dataframe tbody tr th {\n",
              "        vertical-align: top;\n",
              "    }\n",
              "\n",
              "    .dataframe thead th {\n",
              "        text-align: right;\n",
              "    }\n",
              "</style>\n",
              "<table border=\"1\" class=\"dataframe\">\n",
              "  <thead>\n",
              "    <tr style=\"text-align: right;\">\n",
              "      <th></th>\n",
              "      <th>ID</th>\n",
              "      <th>CODE_GENDER</th>\n",
              "      <th>FLAG_OWN_CAR</th>\n",
              "      <th>FLAG_OWN_REALTY</th>\n",
              "      <th>CNT_CHILDREN</th>\n",
              "      <th>AMT_INCOME_TOTAL</th>\n",
              "      <th>NAME_INCOME_TYPE</th>\n",
              "      <th>NAME_EDUCATION_TYPE</th>\n",
              "      <th>NAME_FAMILY_STATUS</th>\n",
              "      <th>NAME_HOUSING_TYPE</th>\n",
              "      <th>DAYS_BIRTH</th>\n",
              "      <th>DAYS_EMPLOYED</th>\n",
              "      <th>FLAG_MOBIL</th>\n",
              "      <th>FLAG_WORK_PHONE</th>\n",
              "      <th>FLAG_PHONE</th>\n",
              "      <th>FLAG_EMAIL</th>\n",
              "      <th>OCCUPATION_TYPE</th>\n",
              "      <th>CNT_FAM_MEMBERS</th>\n",
              "    </tr>\n",
              "  </thead>\n",
              "  <tbody>\n",
              "    <tr>\n",
              "      <th>0</th>\n",
              "      <td>5008804</td>\n",
              "      <td>M</td>\n",
              "      <td>Y</td>\n",
              "      <td>Y</td>\n",
              "      <td>0</td>\n",
              "      <td>427500.0</td>\n",
              "      <td>Working</td>\n",
              "      <td>Higher education</td>\n",
              "      <td>Civil marriage</td>\n",
              "      <td>Rented apartment</td>\n",
              "      <td>-12005</td>\n",
              "      <td>-4542</td>\n",
              "      <td>1</td>\n",
              "      <td>1</td>\n",
              "      <td>0</td>\n",
              "      <td>0</td>\n",
              "      <td>NaN</td>\n",
              "      <td>2.0</td>\n",
              "    </tr>\n",
              "    <tr>\n",
              "      <th>1</th>\n",
              "      <td>5008805</td>\n",
              "      <td>M</td>\n",
              "      <td>Y</td>\n",
              "      <td>Y</td>\n",
              "      <td>0</td>\n",
              "      <td>427500.0</td>\n",
              "      <td>Working</td>\n",
              "      <td>Higher education</td>\n",
              "      <td>Civil marriage</td>\n",
              "      <td>Rented apartment</td>\n",
              "      <td>-12005</td>\n",
              "      <td>-4542</td>\n",
              "      <td>1</td>\n",
              "      <td>1</td>\n",
              "      <td>0</td>\n",
              "      <td>0</td>\n",
              "      <td>NaN</td>\n",
              "      <td>2.0</td>\n",
              "    </tr>\n",
              "    <tr>\n",
              "      <th>2</th>\n",
              "      <td>5008806</td>\n",
              "      <td>M</td>\n",
              "      <td>Y</td>\n",
              "      <td>Y</td>\n",
              "      <td>0</td>\n",
              "      <td>112500.0</td>\n",
              "      <td>Working</td>\n",
              "      <td>Secondary / secondary special</td>\n",
              "      <td>Married</td>\n",
              "      <td>House / apartment</td>\n",
              "      <td>-21474</td>\n",
              "      <td>-1134</td>\n",
              "      <td>1</td>\n",
              "      <td>0</td>\n",
              "      <td>0</td>\n",
              "      <td>0</td>\n",
              "      <td>Security staff</td>\n",
              "      <td>2.0</td>\n",
              "    </tr>\n",
              "    <tr>\n",
              "      <th>3</th>\n",
              "      <td>5008808</td>\n",
              "      <td>F</td>\n",
              "      <td>N</td>\n",
              "      <td>Y</td>\n",
              "      <td>0</td>\n",
              "      <td>270000.0</td>\n",
              "      <td>Commercial associate</td>\n",
              "      <td>Secondary / secondary special</td>\n",
              "      <td>Single / not married</td>\n",
              "      <td>House / apartment</td>\n",
              "      <td>-19110</td>\n",
              "      <td>-3051</td>\n",
              "      <td>1</td>\n",
              "      <td>0</td>\n",
              "      <td>1</td>\n",
              "      <td>1</td>\n",
              "      <td>Sales staff</td>\n",
              "      <td>1.0</td>\n",
              "    </tr>\n",
              "    <tr>\n",
              "      <th>4</th>\n",
              "      <td>5008809</td>\n",
              "      <td>F</td>\n",
              "      <td>N</td>\n",
              "      <td>Y</td>\n",
              "      <td>0</td>\n",
              "      <td>270000.0</td>\n",
              "      <td>Commercial associate</td>\n",
              "      <td>Secondary / secondary special</td>\n",
              "      <td>Single / not married</td>\n",
              "      <td>House / apartment</td>\n",
              "      <td>-19110</td>\n",
              "      <td>-3051</td>\n",
              "      <td>1</td>\n",
              "      <td>0</td>\n",
              "      <td>1</td>\n",
              "      <td>1</td>\n",
              "      <td>Sales staff</td>\n",
              "      <td>1.0</td>\n",
              "    </tr>\n",
              "    <tr>\n",
              "      <th>...</th>\n",
              "      <td>...</td>\n",
              "      <td>...</td>\n",
              "      <td>...</td>\n",
              "      <td>...</td>\n",
              "      <td>...</td>\n",
              "      <td>...</td>\n",
              "      <td>...</td>\n",
              "      <td>...</td>\n",
              "      <td>...</td>\n",
              "      <td>...</td>\n",
              "      <td>...</td>\n",
              "      <td>...</td>\n",
              "      <td>...</td>\n",
              "      <td>...</td>\n",
              "      <td>...</td>\n",
              "      <td>...</td>\n",
              "      <td>...</td>\n",
              "      <td>...</td>\n",
              "    </tr>\n",
              "    <tr>\n",
              "      <th>438552</th>\n",
              "      <td>6840104</td>\n",
              "      <td>M</td>\n",
              "      <td>N</td>\n",
              "      <td>Y</td>\n",
              "      <td>0</td>\n",
              "      <td>135000.0</td>\n",
              "      <td>Pensioner</td>\n",
              "      <td>Secondary / secondary special</td>\n",
              "      <td>Separated</td>\n",
              "      <td>House / apartment</td>\n",
              "      <td>-22717</td>\n",
              "      <td>365243</td>\n",
              "      <td>1</td>\n",
              "      <td>0</td>\n",
              "      <td>0</td>\n",
              "      <td>0</td>\n",
              "      <td>NaN</td>\n",
              "      <td>1.0</td>\n",
              "    </tr>\n",
              "    <tr>\n",
              "      <th>438553</th>\n",
              "      <td>6840222</td>\n",
              "      <td>F</td>\n",
              "      <td>N</td>\n",
              "      <td>N</td>\n",
              "      <td>0</td>\n",
              "      <td>103500.0</td>\n",
              "      <td>Working</td>\n",
              "      <td>Secondary / secondary special</td>\n",
              "      <td>Single / not married</td>\n",
              "      <td>House / apartment</td>\n",
              "      <td>-15939</td>\n",
              "      <td>-3007</td>\n",
              "      <td>1</td>\n",
              "      <td>0</td>\n",
              "      <td>0</td>\n",
              "      <td>0</td>\n",
              "      <td>Laborers</td>\n",
              "      <td>1.0</td>\n",
              "    </tr>\n",
              "    <tr>\n",
              "      <th>438554</th>\n",
              "      <td>6841878</td>\n",
              "      <td>F</td>\n",
              "      <td>N</td>\n",
              "      <td>N</td>\n",
              "      <td>0</td>\n",
              "      <td>54000.0</td>\n",
              "      <td>Commercial associate</td>\n",
              "      <td>Higher education</td>\n",
              "      <td>Single / not married</td>\n",
              "      <td>With parents</td>\n",
              "      <td>-8169</td>\n",
              "      <td>-372</td>\n",
              "      <td>1</td>\n",
              "      <td>1</td>\n",
              "      <td>0</td>\n",
              "      <td>0</td>\n",
              "      <td>Sales staff</td>\n",
              "      <td>1.0</td>\n",
              "    </tr>\n",
              "    <tr>\n",
              "      <th>438555</th>\n",
              "      <td>6842765</td>\n",
              "      <td>F</td>\n",
              "      <td>N</td>\n",
              "      <td>Y</td>\n",
              "      <td>0</td>\n",
              "      <td>72000.0</td>\n",
              "      <td>Pensioner</td>\n",
              "      <td>Secondary / secondary special</td>\n",
              "      <td>Married</td>\n",
              "      <td>House / apartment</td>\n",
              "      <td>-21673</td>\n",
              "      <td>365243</td>\n",
              "      <td>1</td>\n",
              "      <td>0</td>\n",
              "      <td>0</td>\n",
              "      <td>0</td>\n",
              "      <td>NaN</td>\n",
              "      <td>2.0</td>\n",
              "    </tr>\n",
              "    <tr>\n",
              "      <th>438556</th>\n",
              "      <td>6842885</td>\n",
              "      <td>F</td>\n",
              "      <td>N</td>\n",
              "      <td>Y</td>\n",
              "      <td>0</td>\n",
              "      <td>121500.0</td>\n",
              "      <td>Working</td>\n",
              "      <td>Secondary / secondary special</td>\n",
              "      <td>Married</td>\n",
              "      <td>House / apartment</td>\n",
              "      <td>-18858</td>\n",
              "      <td>-1201</td>\n",
              "      <td>1</td>\n",
              "      <td>0</td>\n",
              "      <td>1</td>\n",
              "      <td>0</td>\n",
              "      <td>Sales staff</td>\n",
              "      <td>2.0</td>\n",
              "    </tr>\n",
              "  </tbody>\n",
              "</table>\n",
              "<p>438510 rows × 18 columns</p>\n",
              "</div>\n",
              "      <button class=\"colab-df-convert\" onclick=\"convertToInteractive('df-83ffcedf-4979-4f94-aa80-1e566e3768df')\"\n",
              "              title=\"Convert this dataframe to an interactive table.\"\n",
              "              style=\"display:none;\">\n",
              "        \n",
              "  <svg xmlns=\"http://www.w3.org/2000/svg\" height=\"24px\"viewBox=\"0 0 24 24\"\n",
              "       width=\"24px\">\n",
              "    <path d=\"M0 0h24v24H0V0z\" fill=\"none\"/>\n",
              "    <path d=\"M18.56 5.44l.94 2.06.94-2.06 2.06-.94-2.06-.94-.94-2.06-.94 2.06-2.06.94zm-11 1L8.5 8.5l.94-2.06 2.06-.94-2.06-.94L8.5 2.5l-.94 2.06-2.06.94zm10 10l.94 2.06.94-2.06 2.06-.94-2.06-.94-.94-2.06-.94 2.06-2.06.94z\"/><path d=\"M17.41 7.96l-1.37-1.37c-.4-.4-.92-.59-1.43-.59-.52 0-1.04.2-1.43.59L10.3 9.45l-7.72 7.72c-.78.78-.78 2.05 0 2.83L4 21.41c.39.39.9.59 1.41.59.51 0 1.02-.2 1.41-.59l7.78-7.78 2.81-2.81c.8-.78.8-2.07 0-2.86zM5.41 20L4 18.59l7.72-7.72 1.47 1.35L5.41 20z\"/>\n",
              "  </svg>\n",
              "      </button>\n",
              "      \n",
              "  <style>\n",
              "    .colab-df-container {\n",
              "      display:flex;\n",
              "      flex-wrap:wrap;\n",
              "      gap: 12px;\n",
              "    }\n",
              "\n",
              "    .colab-df-convert {\n",
              "      background-color: #E8F0FE;\n",
              "      border: none;\n",
              "      border-radius: 50%;\n",
              "      cursor: pointer;\n",
              "      display: none;\n",
              "      fill: #1967D2;\n",
              "      height: 32px;\n",
              "      padding: 0 0 0 0;\n",
              "      width: 32px;\n",
              "    }\n",
              "\n",
              "    .colab-df-convert:hover {\n",
              "      background-color: #E2EBFA;\n",
              "      box-shadow: 0px 1px 2px rgba(60, 64, 67, 0.3), 0px 1px 3px 1px rgba(60, 64, 67, 0.15);\n",
              "      fill: #174EA6;\n",
              "    }\n",
              "\n",
              "    [theme=dark] .colab-df-convert {\n",
              "      background-color: #3B4455;\n",
              "      fill: #D2E3FC;\n",
              "    }\n",
              "\n",
              "    [theme=dark] .colab-df-convert:hover {\n",
              "      background-color: #434B5C;\n",
              "      box-shadow: 0px 1px 3px 1px rgba(0, 0, 0, 0.15);\n",
              "      filter: drop-shadow(0px 1px 2px rgba(0, 0, 0, 0.3));\n",
              "      fill: #FFFFFF;\n",
              "    }\n",
              "  </style>\n",
              "\n",
              "      <script>\n",
              "        const buttonEl =\n",
              "          document.querySelector('#df-83ffcedf-4979-4f94-aa80-1e566e3768df button.colab-df-convert');\n",
              "        buttonEl.style.display =\n",
              "          google.colab.kernel.accessAllowed ? 'block' : 'none';\n",
              "\n",
              "        async function convertToInteractive(key) {\n",
              "          const element = document.querySelector('#df-83ffcedf-4979-4f94-aa80-1e566e3768df');\n",
              "          const dataTable =\n",
              "            await google.colab.kernel.invokeFunction('convertToInteractive',\n",
              "                                                     [key], {});\n",
              "          if (!dataTable) return;\n",
              "\n",
              "          const docLinkHtml = 'Like what you see? Visit the ' +\n",
              "            '<a target=\"_blank\" href=https://colab.research.google.com/notebooks/data_table.ipynb>data table notebook</a>'\n",
              "            + ' to learn more about interactive tables.';\n",
              "          element.innerHTML = '';\n",
              "          dataTable['output_type'] = 'display_data';\n",
              "          await google.colab.output.renderOutput(dataTable, element);\n",
              "          const docLink = document.createElement('div');\n",
              "          docLink.innerHTML = docLinkHtml;\n",
              "          element.appendChild(docLink);\n",
              "        }\n",
              "      </script>\n",
              "    </div>\n",
              "  </div>\n",
              "  "
            ]
          },
          "metadata": {},
          "execution_count": 150
        }
      ],
      "source": [
        "# APPLICATION_RECORD['ID']-Discrete Field \n",
        "# ID HAS 438510 UNIQUE Records ,47 Records are duplicate having only one extra record\n",
        "# GOOD THING IS THESE 47 RECORDS ARE NOT PRESENT IN THE CREDIT_RECORD TABLE\n",
        "# AS SUGGESTED BY SIR, GOING TO DROP ANY ONE RANDOM RECORD AS THE PERCENTAGE IS VERY LESS\n",
        "\n",
        "APPLICATION_RECORD_V1=APPLICATION_RECORD.drop_duplicates(subset=['ID'], keep='last')\n",
        "APPLICATION_RECORD_V1"
      ]
    },
    {
      "cell_type": "markdown",
      "source": [
        "####APPLICATION_RECORD[\"AMT_INCOME_TOTAL\"]\n",
        "CLEANING METHOD-Standalone imputation based on median"
      ],
      "metadata": {
        "id": "a6D5fEzjXLFM"
      }
    },
    {
      "cell_type": "code",
      "execution_count": null,
      "metadata": {
        "colab": {
          "base_uri": "https://localhost:8080/",
          "height": 1000
        },
        "id": "O4LYHRWFBWjx",
        "outputId": "8c7230a1-40fa-4981-e386-91a8a6ec0a2e"
      },
      "outputs": [
        {
          "output_type": "stream",
          "name": "stderr",
          "text": [
            "/usr/local/lib/python3.7/dist-packages/ipykernel_launcher.py:10: SettingWithCopyWarning: \n",
            "A value is trying to be set on a copy of a slice from a DataFrame.\n",
            "Try using .loc[row_indexer,col_indexer] = value instead\n",
            "\n",
            "See the caveats in the documentation: https://pandas.pydata.org/pandas-docs/stable/user_guide/indexing.html#returning-a-view-versus-a-copy\n",
            "  # Remove the CWD from sys.path while we load stuff.\n",
            "/usr/local/lib/python3.7/dist-packages/ipykernel_launcher.py:11: SettingWithCopyWarning: \n",
            "A value is trying to be set on a copy of a slice from a DataFrame\n",
            "\n",
            "See the caveats in the documentation: https://pandas.pydata.org/pandas-docs/stable/user_guide/indexing.html#returning-a-view-versus-a-copy\n",
            "  # This is added back by InteractiveShellApp.init_path()\n",
            "/usr/local/lib/python3.7/dist-packages/pandas/core/generic.py:8870: SettingWithCopyWarning: \n",
            "A value is trying to be set on a copy of a slice from a DataFrame\n",
            "\n",
            "See the caveats in the documentation: https://pandas.pydata.org/pandas-docs/stable/user_guide/indexing.html#returning-a-view-versus-a-copy\n",
            "  return self._update_inplace(result)\n",
            "/usr/local/lib/python3.7/dist-packages/pandas/core/frame.py:4913: SettingWithCopyWarning: \n",
            "A value is trying to be set on a copy of a slice from a DataFrame\n",
            "\n",
            "See the caveats in the documentation: https://pandas.pydata.org/pandas-docs/stable/user_guide/indexing.html#returning-a-view-versus-a-copy\n",
            "  errors=errors,\n"
          ]
        },
        {
          "output_type": "execute_result",
          "data": {
            "text/plain": [
              "             ID CODE_GENDER FLAG_OWN_CAR FLAG_OWN_REALTY  CNT_CHILDREN  \\\n",
              "0       5008804           M            Y               Y             0   \n",
              "1       5008805           M            Y               Y             0   \n",
              "2       5008806           M            Y               Y             0   \n",
              "3       5008808           F            N               Y             0   \n",
              "4       5008809           F            N               Y             0   \n",
              "...         ...         ...          ...             ...           ...   \n",
              "438552  6840104           M            N               Y             0   \n",
              "438553  6840222           F            N               N             0   \n",
              "438554  6841878           F            N               N             0   \n",
              "438555  6842765           F            N               Y             0   \n",
              "438556  6842885           F            N               Y             0   \n",
              "\n",
              "            NAME_INCOME_TYPE            NAME_EDUCATION_TYPE  \\\n",
              "0                    Working               Higher education   \n",
              "1                    Working               Higher education   \n",
              "2                    Working  Secondary / secondary special   \n",
              "3       Commercial associate  Secondary / secondary special   \n",
              "4       Commercial associate  Secondary / secondary special   \n",
              "...                      ...                            ...   \n",
              "438552             Pensioner  Secondary / secondary special   \n",
              "438553               Working  Secondary / secondary special   \n",
              "438554  Commercial associate               Higher education   \n",
              "438555             Pensioner  Secondary / secondary special   \n",
              "438556               Working  Secondary / secondary special   \n",
              "\n",
              "          NAME_FAMILY_STATUS  NAME_HOUSING_TYPE  DAYS_BIRTH  DAYS_EMPLOYED  \\\n",
              "0             Civil marriage   Rented apartment      -12005          -4542   \n",
              "1             Civil marriage   Rented apartment      -12005          -4542   \n",
              "2                    Married  House / apartment      -21474          -1134   \n",
              "3       Single / not married  House / apartment      -19110          -3051   \n",
              "4       Single / not married  House / apartment      -19110          -3051   \n",
              "...                      ...                ...         ...            ...   \n",
              "438552             Separated  House / apartment      -22717         365243   \n",
              "438553  Single / not married  House / apartment      -15939          -3007   \n",
              "438554  Single / not married       With parents       -8169           -372   \n",
              "438555               Married  House / apartment      -21673         365243   \n",
              "438556               Married  House / apartment      -18858          -1201   \n",
              "\n",
              "        FLAG_MOBIL  FLAG_WORK_PHONE  FLAG_PHONE  FLAG_EMAIL OCCUPATION_TYPE  \\\n",
              "0                1                1           0           0             NaN   \n",
              "1                1                1           0           0             NaN   \n",
              "2                1                0           0           0  Security staff   \n",
              "3                1                0           1           1     Sales staff   \n",
              "4                1                0           1           1     Sales staff   \n",
              "...            ...              ...         ...         ...             ...   \n",
              "438552           1                0           0           0             NaN   \n",
              "438553           1                0           0           0        Laborers   \n",
              "438554           1                1           0           0     Sales staff   \n",
              "438555           1                0           0           0             NaN   \n",
              "438556           1                0           1           0     Sales staff   \n",
              "\n",
              "        CNT_FAM_MEMBERS  AMT_INCOME_TOTAL_NEW  \n",
              "0                   2.0              427500.0  \n",
              "1                   2.0              427500.0  \n",
              "2                   2.0              112500.0  \n",
              "3                   1.0              270000.0  \n",
              "4                   1.0              270000.0  \n",
              "...                 ...                   ...  \n",
              "438552              1.0              135000.0  \n",
              "438553              1.0              103500.0  \n",
              "438554              1.0               54000.0  \n",
              "438555              2.0               72000.0  \n",
              "438556              2.0              121500.0  \n",
              "\n",
              "[438510 rows x 18 columns]"
            ],
            "text/html": [
              "\n",
              "  <div id=\"df-263ff595-4949-4863-b21e-325f8d5c72f4\">\n",
              "    <div class=\"colab-df-container\">\n",
              "      <div>\n",
              "<style scoped>\n",
              "    .dataframe tbody tr th:only-of-type {\n",
              "        vertical-align: middle;\n",
              "    }\n",
              "\n",
              "    .dataframe tbody tr th {\n",
              "        vertical-align: top;\n",
              "    }\n",
              "\n",
              "    .dataframe thead th {\n",
              "        text-align: right;\n",
              "    }\n",
              "</style>\n",
              "<table border=\"1\" class=\"dataframe\">\n",
              "  <thead>\n",
              "    <tr style=\"text-align: right;\">\n",
              "      <th></th>\n",
              "      <th>ID</th>\n",
              "      <th>CODE_GENDER</th>\n",
              "      <th>FLAG_OWN_CAR</th>\n",
              "      <th>FLAG_OWN_REALTY</th>\n",
              "      <th>CNT_CHILDREN</th>\n",
              "      <th>NAME_INCOME_TYPE</th>\n",
              "      <th>NAME_EDUCATION_TYPE</th>\n",
              "      <th>NAME_FAMILY_STATUS</th>\n",
              "      <th>NAME_HOUSING_TYPE</th>\n",
              "      <th>DAYS_BIRTH</th>\n",
              "      <th>DAYS_EMPLOYED</th>\n",
              "      <th>FLAG_MOBIL</th>\n",
              "      <th>FLAG_WORK_PHONE</th>\n",
              "      <th>FLAG_PHONE</th>\n",
              "      <th>FLAG_EMAIL</th>\n",
              "      <th>OCCUPATION_TYPE</th>\n",
              "      <th>CNT_FAM_MEMBERS</th>\n",
              "      <th>AMT_INCOME_TOTAL_NEW</th>\n",
              "    </tr>\n",
              "  </thead>\n",
              "  <tbody>\n",
              "    <tr>\n",
              "      <th>0</th>\n",
              "      <td>5008804</td>\n",
              "      <td>M</td>\n",
              "      <td>Y</td>\n",
              "      <td>Y</td>\n",
              "      <td>0</td>\n",
              "      <td>Working</td>\n",
              "      <td>Higher education</td>\n",
              "      <td>Civil marriage</td>\n",
              "      <td>Rented apartment</td>\n",
              "      <td>-12005</td>\n",
              "      <td>-4542</td>\n",
              "      <td>1</td>\n",
              "      <td>1</td>\n",
              "      <td>0</td>\n",
              "      <td>0</td>\n",
              "      <td>NaN</td>\n",
              "      <td>2.0</td>\n",
              "      <td>427500.0</td>\n",
              "    </tr>\n",
              "    <tr>\n",
              "      <th>1</th>\n",
              "      <td>5008805</td>\n",
              "      <td>M</td>\n",
              "      <td>Y</td>\n",
              "      <td>Y</td>\n",
              "      <td>0</td>\n",
              "      <td>Working</td>\n",
              "      <td>Higher education</td>\n",
              "      <td>Civil marriage</td>\n",
              "      <td>Rented apartment</td>\n",
              "      <td>-12005</td>\n",
              "      <td>-4542</td>\n",
              "      <td>1</td>\n",
              "      <td>1</td>\n",
              "      <td>0</td>\n",
              "      <td>0</td>\n",
              "      <td>NaN</td>\n",
              "      <td>2.0</td>\n",
              "      <td>427500.0</td>\n",
              "    </tr>\n",
              "    <tr>\n",
              "      <th>2</th>\n",
              "      <td>5008806</td>\n",
              "      <td>M</td>\n",
              "      <td>Y</td>\n",
              "      <td>Y</td>\n",
              "      <td>0</td>\n",
              "      <td>Working</td>\n",
              "      <td>Secondary / secondary special</td>\n",
              "      <td>Married</td>\n",
              "      <td>House / apartment</td>\n",
              "      <td>-21474</td>\n",
              "      <td>-1134</td>\n",
              "      <td>1</td>\n",
              "      <td>0</td>\n",
              "      <td>0</td>\n",
              "      <td>0</td>\n",
              "      <td>Security staff</td>\n",
              "      <td>2.0</td>\n",
              "      <td>112500.0</td>\n",
              "    </tr>\n",
              "    <tr>\n",
              "      <th>3</th>\n",
              "      <td>5008808</td>\n",
              "      <td>F</td>\n",
              "      <td>N</td>\n",
              "      <td>Y</td>\n",
              "      <td>0</td>\n",
              "      <td>Commercial associate</td>\n",
              "      <td>Secondary / secondary special</td>\n",
              "      <td>Single / not married</td>\n",
              "      <td>House / apartment</td>\n",
              "      <td>-19110</td>\n",
              "      <td>-3051</td>\n",
              "      <td>1</td>\n",
              "      <td>0</td>\n",
              "      <td>1</td>\n",
              "      <td>1</td>\n",
              "      <td>Sales staff</td>\n",
              "      <td>1.0</td>\n",
              "      <td>270000.0</td>\n",
              "    </tr>\n",
              "    <tr>\n",
              "      <th>4</th>\n",
              "      <td>5008809</td>\n",
              "      <td>F</td>\n",
              "      <td>N</td>\n",
              "      <td>Y</td>\n",
              "      <td>0</td>\n",
              "      <td>Commercial associate</td>\n",
              "      <td>Secondary / secondary special</td>\n",
              "      <td>Single / not married</td>\n",
              "      <td>House / apartment</td>\n",
              "      <td>-19110</td>\n",
              "      <td>-3051</td>\n",
              "      <td>1</td>\n",
              "      <td>0</td>\n",
              "      <td>1</td>\n",
              "      <td>1</td>\n",
              "      <td>Sales staff</td>\n",
              "      <td>1.0</td>\n",
              "      <td>270000.0</td>\n",
              "    </tr>\n",
              "    <tr>\n",
              "      <th>...</th>\n",
              "      <td>...</td>\n",
              "      <td>...</td>\n",
              "      <td>...</td>\n",
              "      <td>...</td>\n",
              "      <td>...</td>\n",
              "      <td>...</td>\n",
              "      <td>...</td>\n",
              "      <td>...</td>\n",
              "      <td>...</td>\n",
              "      <td>...</td>\n",
              "      <td>...</td>\n",
              "      <td>...</td>\n",
              "      <td>...</td>\n",
              "      <td>...</td>\n",
              "      <td>...</td>\n",
              "      <td>...</td>\n",
              "      <td>...</td>\n",
              "      <td>...</td>\n",
              "    </tr>\n",
              "    <tr>\n",
              "      <th>438552</th>\n",
              "      <td>6840104</td>\n",
              "      <td>M</td>\n",
              "      <td>N</td>\n",
              "      <td>Y</td>\n",
              "      <td>0</td>\n",
              "      <td>Pensioner</td>\n",
              "      <td>Secondary / secondary special</td>\n",
              "      <td>Separated</td>\n",
              "      <td>House / apartment</td>\n",
              "      <td>-22717</td>\n",
              "      <td>365243</td>\n",
              "      <td>1</td>\n",
              "      <td>0</td>\n",
              "      <td>0</td>\n",
              "      <td>0</td>\n",
              "      <td>NaN</td>\n",
              "      <td>1.0</td>\n",
              "      <td>135000.0</td>\n",
              "    </tr>\n",
              "    <tr>\n",
              "      <th>438553</th>\n",
              "      <td>6840222</td>\n",
              "      <td>F</td>\n",
              "      <td>N</td>\n",
              "      <td>N</td>\n",
              "      <td>0</td>\n",
              "      <td>Working</td>\n",
              "      <td>Secondary / secondary special</td>\n",
              "      <td>Single / not married</td>\n",
              "      <td>House / apartment</td>\n",
              "      <td>-15939</td>\n",
              "      <td>-3007</td>\n",
              "      <td>1</td>\n",
              "      <td>0</td>\n",
              "      <td>0</td>\n",
              "      <td>0</td>\n",
              "      <td>Laborers</td>\n",
              "      <td>1.0</td>\n",
              "      <td>103500.0</td>\n",
              "    </tr>\n",
              "    <tr>\n",
              "      <th>438554</th>\n",
              "      <td>6841878</td>\n",
              "      <td>F</td>\n",
              "      <td>N</td>\n",
              "      <td>N</td>\n",
              "      <td>0</td>\n",
              "      <td>Commercial associate</td>\n",
              "      <td>Higher education</td>\n",
              "      <td>Single / not married</td>\n",
              "      <td>With parents</td>\n",
              "      <td>-8169</td>\n",
              "      <td>-372</td>\n",
              "      <td>1</td>\n",
              "      <td>1</td>\n",
              "      <td>0</td>\n",
              "      <td>0</td>\n",
              "      <td>Sales staff</td>\n",
              "      <td>1.0</td>\n",
              "      <td>54000.0</td>\n",
              "    </tr>\n",
              "    <tr>\n",
              "      <th>438555</th>\n",
              "      <td>6842765</td>\n",
              "      <td>F</td>\n",
              "      <td>N</td>\n",
              "      <td>Y</td>\n",
              "      <td>0</td>\n",
              "      <td>Pensioner</td>\n",
              "      <td>Secondary / secondary special</td>\n",
              "      <td>Married</td>\n",
              "      <td>House / apartment</td>\n",
              "      <td>-21673</td>\n",
              "      <td>365243</td>\n",
              "      <td>1</td>\n",
              "      <td>0</td>\n",
              "      <td>0</td>\n",
              "      <td>0</td>\n",
              "      <td>NaN</td>\n",
              "      <td>2.0</td>\n",
              "      <td>72000.0</td>\n",
              "    </tr>\n",
              "    <tr>\n",
              "      <th>438556</th>\n",
              "      <td>6842885</td>\n",
              "      <td>F</td>\n",
              "      <td>N</td>\n",
              "      <td>Y</td>\n",
              "      <td>0</td>\n",
              "      <td>Working</td>\n",
              "      <td>Secondary / secondary special</td>\n",
              "      <td>Married</td>\n",
              "      <td>House / apartment</td>\n",
              "      <td>-18858</td>\n",
              "      <td>-1201</td>\n",
              "      <td>1</td>\n",
              "      <td>0</td>\n",
              "      <td>1</td>\n",
              "      <td>0</td>\n",
              "      <td>Sales staff</td>\n",
              "      <td>2.0</td>\n",
              "      <td>121500.0</td>\n",
              "    </tr>\n",
              "  </tbody>\n",
              "</table>\n",
              "<p>438510 rows × 18 columns</p>\n",
              "</div>\n",
              "      <button class=\"colab-df-convert\" onclick=\"convertToInteractive('df-263ff595-4949-4863-b21e-325f8d5c72f4')\"\n",
              "              title=\"Convert this dataframe to an interactive table.\"\n",
              "              style=\"display:none;\">\n",
              "        \n",
              "  <svg xmlns=\"http://www.w3.org/2000/svg\" height=\"24px\"viewBox=\"0 0 24 24\"\n",
              "       width=\"24px\">\n",
              "    <path d=\"M0 0h24v24H0V0z\" fill=\"none\"/>\n",
              "    <path d=\"M18.56 5.44l.94 2.06.94-2.06 2.06-.94-2.06-.94-.94-2.06-.94 2.06-2.06.94zm-11 1L8.5 8.5l.94-2.06 2.06-.94-2.06-.94L8.5 2.5l-.94 2.06-2.06.94zm10 10l.94 2.06.94-2.06 2.06-.94-2.06-.94-.94-2.06-.94 2.06-2.06.94z\"/><path d=\"M17.41 7.96l-1.37-1.37c-.4-.4-.92-.59-1.43-.59-.52 0-1.04.2-1.43.59L10.3 9.45l-7.72 7.72c-.78.78-.78 2.05 0 2.83L4 21.41c.39.39.9.59 1.41.59.51 0 1.02-.2 1.41-.59l7.78-7.78 2.81-2.81c.8-.78.8-2.07 0-2.86zM5.41 20L4 18.59l7.72-7.72 1.47 1.35L5.41 20z\"/>\n",
              "  </svg>\n",
              "      </button>\n",
              "      \n",
              "  <style>\n",
              "    .colab-df-container {\n",
              "      display:flex;\n",
              "      flex-wrap:wrap;\n",
              "      gap: 12px;\n",
              "    }\n",
              "\n",
              "    .colab-df-convert {\n",
              "      background-color: #E8F0FE;\n",
              "      border: none;\n",
              "      border-radius: 50%;\n",
              "      cursor: pointer;\n",
              "      display: none;\n",
              "      fill: #1967D2;\n",
              "      height: 32px;\n",
              "      padding: 0 0 0 0;\n",
              "      width: 32px;\n",
              "    }\n",
              "\n",
              "    .colab-df-convert:hover {\n",
              "      background-color: #E2EBFA;\n",
              "      box-shadow: 0px 1px 2px rgba(60, 64, 67, 0.3), 0px 1px 3px 1px rgba(60, 64, 67, 0.15);\n",
              "      fill: #174EA6;\n",
              "    }\n",
              "\n",
              "    [theme=dark] .colab-df-convert {\n",
              "      background-color: #3B4455;\n",
              "      fill: #D2E3FC;\n",
              "    }\n",
              "\n",
              "    [theme=dark] .colab-df-convert:hover {\n",
              "      background-color: #434B5C;\n",
              "      box-shadow: 0px 1px 3px 1px rgba(0, 0, 0, 0.15);\n",
              "      filter: drop-shadow(0px 1px 2px rgba(0, 0, 0, 0.3));\n",
              "      fill: #FFFFFF;\n",
              "    }\n",
              "  </style>\n",
              "\n",
              "      <script>\n",
              "        const buttonEl =\n",
              "          document.querySelector('#df-263ff595-4949-4863-b21e-325f8d5c72f4 button.colab-df-convert');\n",
              "        buttonEl.style.display =\n",
              "          google.colab.kernel.accessAllowed ? 'block' : 'none';\n",
              "\n",
              "        async function convertToInteractive(key) {\n",
              "          const element = document.querySelector('#df-263ff595-4949-4863-b21e-325f8d5c72f4');\n",
              "          const dataTable =\n",
              "            await google.colab.kernel.invokeFunction('convertToInteractive',\n",
              "                                                     [key], {});\n",
              "          if (!dataTable) return;\n",
              "\n",
              "          const docLinkHtml = 'Like what you see? Visit the ' +\n",
              "            '<a target=\"_blank\" href=https://colab.research.google.com/notebooks/data_table.ipynb>data table notebook</a>'\n",
              "            + ' to learn more about interactive tables.';\n",
              "          element.innerHTML = '';\n",
              "          dataTable['output_type'] = 'display_data';\n",
              "          await google.colab.output.renderOutput(dataTable, element);\n",
              "          const docLink = document.createElement('div');\n",
              "          docLink.innerHTML = docLinkHtml;\n",
              "          element.appendChild(docLink);\n",
              "        }\n",
              "      </script>\n",
              "    </div>\n",
              "  </div>\n",
              "  "
            ]
          },
          "metadata": {},
          "execution_count": 151
        }
      ],
      "source": [
        "# APPLICATION_RECORD[\"AMT_INCOME_TOTAL\"]-Continuous Field\n",
        "# IMPUTATION BASED ON MEDIAN\n",
        "# Issue is with people having AMT_INCOME_TOTAL = 6750000 and they work as labourers, so it might be a default value\n",
        "# When AMT_INCOME_TOTAL without data 6750000 is taken\n",
        "# Mean(in thousand)=187.419538, Median(in thousand)=160.780500\n",
        "# When all records are considered then\n",
        "# Mean(in thousand)=187.524286,Median(in thousand)=160.780500\n",
        "# Not much of difference is coming in calculation but will move ahead with Imputation based on Median\n",
        "AMT_INCOME_TOTAL_MEDIAN=round(APPLICATION_RECORD_V1[\"AMT_INCOME_TOTAL\"].median(),0)\n",
        "APPLICATION_RECORD_V1[\"AMT_INCOME_TOTAL_NEW\"]=APPLICATION_RECORD_V1[\"AMT_INCOME_TOTAL\"]\n",
        "APPLICATION_RECORD_V1['AMT_INCOME_TOTAL_NEW'][APPLICATION_RECORD_V1[\"AMT_INCOME_TOTAL\"]==6750000]=AMT_INCOME_TOTAL_MEDIAN\n",
        "(APPLICATION_RECORD_V1[\"AMT_INCOME_TOTAL_NEW\"]/1000).describe()\n",
        "APPLICATION_RECORD_V1.drop('AMT_INCOME_TOTAL',inplace=True,axis=1)\n",
        "APPLICATION_RECORD_V1"
      ]
    },
    {
      "cell_type": "markdown",
      "source": [
        "####APPLICATION_RECORD['OCCUPATION_TYPE']\n",
        "\n",
        "CLEANING METHOD-Just replacing the missing values with Missing NA value"
      ],
      "metadata": {
        "id": "DrznFMyJX8zi"
      }
    },
    {
      "cell_type": "code",
      "execution_count": null,
      "metadata": {
        "colab": {
          "base_uri": "https://localhost:8080/"
        },
        "id": "tNSevwtOyeHh",
        "outputId": "e7f852a4-d60b-416c-abce-52c9f76493f9"
      },
      "outputs": [
        {
          "output_type": "stream",
          "name": "stderr",
          "text": [
            "/usr/local/lib/python3.7/dist-packages/ipykernel_launcher.py:11: SettingWithCopyWarning: \n",
            "A value is trying to be set on a copy of a slice from a DataFrame\n",
            "\n",
            "See the caveats in the documentation: https://pandas.pydata.org/pandas-docs/stable/user_guide/indexing.html#returning-a-view-versus-a-copy\n",
            "  # This is added back by InteractiveShellApp.init_path()\n",
            "/usr/local/lib/python3.7/dist-packages/pandas/core/generic.py:8870: SettingWithCopyWarning: \n",
            "A value is trying to be set on a copy of a slice from a DataFrame\n",
            "\n",
            "See the caveats in the documentation: https://pandas.pydata.org/pandas-docs/stable/user_guide/indexing.html#returning-a-view-versus-a-copy\n",
            "  return self._update_inplace(result)\n"
          ]
        },
        {
          "output_type": "execute_result",
          "data": {
            "text/plain": [
              "Missing NA               134187\n",
              "Laborers                  78234\n",
              "Core staff                43000\n",
              "Sales staff               41096\n",
              "Managers                  35483\n",
              "Drivers                   26085\n",
              "High skill tech staff     17287\n",
              "Accountants               15982\n",
              "Medicine staff            13520\n",
              "Cooking staff              8074\n",
              "Security staff             7993\n",
              "Cleaning staff             5845\n",
              "Private service staff      3456\n",
              "Low-skill Laborers         2140\n",
              "Secretaries                2044\n",
              "Waiters/barmen staff       1665\n",
              "Realty agents              1041\n",
              "HR staff                    774\n",
              "IT staff                    604\n",
              "Name: OCCUPATION_TYPE, dtype: int64"
            ]
          },
          "metadata": {},
          "execution_count": 152
        }
      ],
      "source": [
        "# APPLICATION_RECORD['OCCUPATION_TYPE']-Categorical Field\n",
        "# Takes 18 Discrete Values like Laborers,Core staff etc\n",
        "# Data has missing records\n",
        "# 134203 records are null,304354 records present\n",
        "# 44% of Data is null\n",
        "#Discrete Field so the imputation has to be based on Target Variable cross tab.\n",
        "#For the time being just creating the FLAG. \n",
        "#IMPUTATION BASED ON TARGET VARIABLE ALSO MAY NOT WORK BECAUSE DATA SET HAS 18 DISCRETE VALUES AS OF NOW AND MISSING DATA IS 44%\n",
        "#SO EVEN IF WE DO CROSSTAB THEN ALSO IT MIGHT NOT MATCH WITH ANY CATEGORY. \n",
        "#SO AS PER SUGGESTION OF SIR, REPLACING THIS WITH \"Missing NA\"\n",
        "APPLICATION_RECORD_V1['OCCUPATION_TYPE'][APPLICATION_RECORD_V1['OCCUPATION_TYPE'].isnull()]=\"Missing NA\"\n",
        "APPLICATION_RECORD_V1['OCCUPATION_TYPE'].value_counts()"
      ]
    },
    {
      "cell_type": "markdown",
      "source": [
        "####APPLICATION_RECORD[\"DAYS_EMPLOYED\"]\n",
        "CLEANING METHOD-Just creating a flag for workig and non working.\n",
        "\n",
        "*   1-Working\n",
        "*   0-Not Working\n",
        "\n"
      ],
      "metadata": {
        "id": "0IpCHF01YPHn"
      }
    },
    {
      "cell_type": "code",
      "execution_count": null,
      "metadata": {
        "colab": {
          "base_uri": "https://localhost:8080/"
        },
        "id": "mMINeVlfdh5d",
        "outputId": "0fd9fa80-cf3f-491b-ebcc-33a059cf55ee"
      },
      "outputs": [
        {
          "output_type": "stream",
          "name": "stderr",
          "text": [
            "/usr/local/lib/python3.7/dist-packages/ipykernel_launcher.py:5: SettingWithCopyWarning: \n",
            "A value is trying to be set on a copy of a slice from a DataFrame.\n",
            "Try using .loc[row_indexer,col_indexer] = value instead\n",
            "\n",
            "See the caveats in the documentation: https://pandas.pydata.org/pandas-docs/stable/user_guide/indexing.html#returning-a-view-versus-a-copy\n",
            "  \"\"\"\n",
            "/usr/local/lib/python3.7/dist-packages/ipykernel_launcher.py:6: SettingWithCopyWarning: \n",
            "A value is trying to be set on a copy of a slice from a DataFrame\n",
            "\n",
            "See the caveats in the documentation: https://pandas.pydata.org/pandas-docs/stable/user_guide/indexing.html#returning-a-view-versus-a-copy\n",
            "  \n"
          ]
        },
        {
          "output_type": "execute_result",
          "data": {
            "text/plain": [
              "1    363191\n",
              "0     75319\n",
              "Name: FLAG_EMPLOYED, dtype: int64"
            ]
          },
          "metadata": {},
          "execution_count": 153
        }
      ],
      "source": [
        "# APPLICATION_RECORD[\"DAYS_EMPLOYED\"]-Continuous Field\n",
        "# CAN NOT DO IMPUTATION BASED ON MEDIAN HERE BECAUSE IF WE REPLACE THE DEFAULT VALUE WITH MEDIAN THE IT WILL SHOW AS THOSE ID ARE WORKING NOW WHERE AS THOSE PEOPLE ARE ACTUALLY NOT WORKING\n",
        "# SO JUST CREATING A FLAG WHETHER WORKING OR NOT\n",
        "# Working=1(363228),Non Working=(75329)\n",
        "APPLICATION_RECORD_V1['FLAG_EMPLOYED']=1\n",
        "APPLICATION_RECORD_V1['FLAG_EMPLOYED'][APPLICATION_RECORD_V1['DAYS_EMPLOYED']>0]=0\n",
        "APPLICATION_RECORD_V1['FLAG_EMPLOYED'].value_counts()\n"
      ]
    },
    {
      "cell_type": "markdown",
      "source": [
        "####JOINING BOTH TABLES TO GET FINAL DATASET\n",
        "\n",
        "DF-FINAL DATAFRAME."
      ],
      "metadata": {
        "id": "PebaUCsWZ2ca"
      }
    },
    {
      "cell_type": "code",
      "execution_count": null,
      "metadata": {
        "colab": {
          "base_uri": "https://localhost:8080/"
        },
        "id": "-9sKV8WY5uGv",
        "outputId": "01560aa8-d2f2-4215-82e0-fb181af045e7"
      },
      "outputs": [
        {
          "output_type": "stream",
          "name": "stdout",
          "text": [
            "Final Data Frame\n",
            "================\n",
            " ['ID' '1_MONTH_LATE' '2_MONTH_LATE' '3_MONTH_LATE' '4_MONTH_LATE'\n",
            " '5_MONTH_LATE' 'OVERDUE_BAD_DEBT' 'PAID_OFF' 'NO_LOAN'\n",
            " 'TOTAL_NO_OF_MONTHS' 'GOOD_OR_BAD' 'CODE_GENDER' 'FLAG_OWN_CAR'\n",
            " 'FLAG_OWN_REALTY' 'CNT_CHILDREN' 'NAME_INCOME_TYPE' 'NAME_EDUCATION_TYPE'\n",
            " 'NAME_FAMILY_STATUS' 'NAME_HOUSING_TYPE' 'DAYS_BIRTH' 'DAYS_EMPLOYED'\n",
            " 'FLAG_MOBIL' 'FLAG_WORK_PHONE' 'FLAG_PHONE' 'FLAG_EMAIL'\n",
            " 'OCCUPATION_TYPE' 'CNT_FAM_MEMBERS' 'AMT_INCOME_TOTAL_NEW'\n",
            " 'FLAG_EMPLOYED']\n",
            "Good customers : 35841\n",
            "Bad customers : 616\n"
          ]
        }
      ],
      "source": [
        "#36457 RECORDS\n",
        "DF=pd.merge(left=CREDIT_RECORD_LENIENT,right=APPLICATION_RECORD_V1,on='ID',how='inner')\n",
        "print('Final Data Frame\\n================\\n',DF.columns.values)\n",
        "DF['GOOD_OR_BAD'].value_counts()\n",
        "print('Good customers :',len(DF['GOOD_OR_BAD'][DF['GOOD_OR_BAD']==1]))\n",
        "print('Bad customers :',len(DF['GOOD_OR_BAD'][DF['GOOD_OR_BAD']==0]))"
      ]
    },
    {
      "cell_type": "markdown",
      "source": [
        "FINDINGS\n",
        "\n",
        "Good customers : 35841\n",
        "\n",
        "Bad customers : 616\n",
        "\n",
        "Total customers : 36457"
      ],
      "metadata": {
        "id": "SjMNA40Eapb9"
      }
    },
    {
      "cell_type": "markdown",
      "source": [
        "**COMPLICATION RESOLUTION**\n",
        "-----------------------\n",
        "\n",
        "*   SINGULAR MATRIX\n",
        "*   ACCURACY,SENSITIVITY,SPECIFICITY TOO HIGH, CLOSE TO 100%\n",
        "*   TEST DATA HAVING SLIGHTLY BETTER ACCURACY THAN TRAIN DATA \n",
        "\n",
        "***********\n",
        "\n",
        "\n",
        "\n",
        "1. ANY MATRIX WHICH COMPRISES OF RECORDS OF ONLY SINGLE CLASS EITHER CLASS0 OR CLASS1 WILL CAUSE A PROBLEM WHILE BUILDING MODEL AS THE MODEL DOES NOT LEARN ANYTHING FROM IT.SO WE WILL DROP THE COLUMN FLAG_MOBIL AS ALL OF ITS RECORDS CONSISTS OF CLASS1 VALUES ONLY.\n",
        "2. HERE WE ARE DERIVING THE TARGET VARIABLE(Y-->GOOD_OR_BAD) FROM CREDIT_RECORD DATAFRAME BY TAKING '1_MONTH_LATE','2_MONTH_LATE',\n",
        "'3_MONTH_LATE','4_MONTH_LATE','5_MONTH_LATE','OVERDUE_BAD_DEBT','PAID_OFF','NO_LOAN' INTO CONSIDERATION. THIS IS CREATING A PROBLEM BECAUSE WE ARE DERIVING TARGET VARIABLE FORM THESE COLUMNS AND ALSO WE ARE PREDICTING THE SAME THING USING THE SAME VARIABLES. SO INDIVIDUAL IMPACT WILL DEFINITELY BE SEEN BUT THE MODEL ACCURACY WILL GO AS HIGH AS 100% BECAUSE WE ARE PREDICTING WHAT WE ARE DERIVING\n",
        "3. THIRD CASE-SOMETIMES WHILE BUILDING THE MODEL WE COPY THE Y VARIABLE INTO XTRAIN AND XTEST. THIS WILL ALSO GIVE TOO HIGH ACCURACY BECAUSE THE RELATION WILL BECOME 1:1\n",
        "\n",
        "\n",
        "SOLUTION\n",
        "*****\n",
        "1. APPLICABLE TO ONLY THIS PROJECT- REMOVE ALL THE VARIABLES WHICH YOU HAVE USED TO DERIVE THE TARGET VARIABLE\n",
        "2. APPLICABLE TO ALL PROJECTS-REMOVE ALL SINGULAR MATRICES AND ALSO BEFORE BUILDING THE MODEL, CHECK THE COLUMNS IN XTRAIN AND XTEST\n",
        "\n",
        "\n"
      ],
      "metadata": {
        "id": "ZxwF7qx-EyNu"
      }
    },
    {
      "cell_type": "markdown",
      "metadata": {
        "id": "mkKUCQ-0AevJ"
      },
      "source": [
        "#MODEL M1\n",
        "METHOD-Logistic Regression\n",
        "\n",
        "METHODOLOGY-Building the first basic model with only numerical variables.\n",
        "\n",
        "PACKAGE-sklearn & statsmodel"
      ]
    },
    {
      "cell_type": "code",
      "execution_count": null,
      "metadata": {
        "colab": {
          "base_uri": "https://localhost:8080/"
        },
        "id": "VCcNmugOAviw",
        "outputId": "8128bb91-10b7-4ca5-b9dc-1f0527f5b261"
      },
      "outputs": [
        {
          "output_type": "stream",
          "name": "stdout",
          "text": [
            "Intercept [1.14416593e-08]\n",
            "Coefficients [[ 4.71260045e-08  4.34477511e-09 -1.96960115e-04  1.14416593e-08\n",
            "   3.23800333e-09  3.57299568e-09  4.73865026e-10  2.56247724e-08\n",
            "   6.02932989e-06  7.27003071e-09]]\n"
          ]
        },
        {
          "output_type": "stream",
          "name": "stderr",
          "text": [
            "/usr/local/lib/python3.7/dist-packages/sklearn/utils/validation.py:993: DataConversionWarning: A column-vector y was passed when a 1d array was expected. Please change the shape of y to (n_samples, ), for example using ravel().\n",
            "  y = column_or_1d(y, warn=True)\n"
          ]
        },
        {
          "output_type": "stream",
          "name": "stdout",
          "text": [
            "Optimization terminated successfully.\n",
            "         Current function value: 0.080467\n",
            "         Iterations 9\n",
            "Optimization terminated successfully.\n",
            "         Current function value: 0.080467\n",
            "         Iterations 9\n",
            "                           Logit Regression Results                           \n",
            "==============================================================================\n",
            "Dep. Variable:            GOOD_OR_BAD   No. Observations:                36457\n",
            "Model:                          Logit   Df Residuals:                    36447\n",
            "Method:                           MLE   Df Model:                            9\n",
            "Date:                Tue, 11 Oct 2022   Pseudo R-squ.:                 0.06108\n",
            "Time:                        19:04:35   Log-Likelihood:                -2933.6\n",
            "converged:                       True   LL-Null:                       -3124.4\n",
            "Covariance Type:            nonrobust   LLR p-value:                 1.099e-76\n",
            "========================================================================================\n",
            "                           coef    std err          z      P>|z|      [0.025      0.975]\n",
            "----------------------------------------------------------------------------------------\n",
            "TOTAL_NO_OF_MONTHS      -0.0482      0.002    -19.380      0.000      -0.053      -0.043\n",
            "CNT_CHILDREN            -0.2833      0.118     -2.409      0.016      -0.514      -0.053\n",
            "DAYS_BIRTH           -3.724e-05   1.33e-05     -2.791      0.005   -6.34e-05   -1.11e-05\n",
            "FLAG_MOBIL               3.9693      0.345     11.489      0.000       3.292       4.646\n",
            "FLAG_WORK_PHONE         -0.1043      0.105     -0.990      0.322      -0.311       0.102\n",
            "FLAG_PHONE               0.0185      0.095      0.196      0.845      -0.167       0.204\n",
            "FLAG_EMAIL               0.0867      0.149      0.584      0.559      -0.204       0.378\n",
            "CNT_FAM_MEMBERS          0.2816      0.094      3.006      0.003       0.098       0.465\n",
            "AMT_INCOME_TOTAL_NEW  7.027e-08   4.23e-07      0.166      0.868   -7.58e-07    8.99e-07\n",
            "FLAG_EMPLOYED            0.3750      0.145      2.594      0.009       0.092       0.658\n",
            "========================================================================================\n"
          ]
        }
      ],
      "source": [
        "from sklearn.linear_model import LogisticRegression\n",
        "\n",
        "logistic= LogisticRegression()\n",
        "DF_M1_X=DF.drop(['GOOD_OR_BAD','ID','CODE_GENDER','FLAG_OWN_CAR','FLAG_OWN_REALTY','NAME_INCOME_TYPE','NAME_EDUCATION_TYPE',\n",
        "         'NAME_FAMILY_STATUS','NAME_HOUSING_TYPE','DAYS_EMPLOYED','OCCUPATION_TYPE','1_MONTH_LATE','2_MONTH_LATE',\n",
        "         '3_MONTH_LATE','4_MONTH_LATE','5_MONTH_LATE','OVERDUE_BAD_DEBT','PAID_OFF','NO_LOAN'],axis=1)\n",
        "DF_M1_y=DF[['GOOD_OR_BAD']]\n",
        "M1_SKLEARN=logistic.fit(DF_M1_X,DF_M1_y)\n",
        "print(\"Intercept\", logistic.intercept_)\n",
        "print(\"Coefficients\", logistic.coef_)\n",
        "\n",
        "#NOTE TO SELF, WE CAN EITHER WRITE THIS WAY \n",
        "# import statsmodels.api as sm\n",
        "# m1=sm.Logit(DF['GOOD_OR_BAD'],DF[['1_MONTH_LATE']+['2_MONTH_LATE']+['3_MONTH_LATE']+['4_MONTH_LATE']+['5_MONTH_LATE']+\n",
        "#                                  ['OVERDUE_BAD_DEBT']+['PAID_OFF']+['NO_LOAN']+['TOTAL_NO_OF_MONTHS']+['CNT_CHILDREN']+\n",
        "#                                  ['DAYS_BIRTH']+['FLAG_MOBIL']+['FLAG_WORK_PHONE']+['FLAG_PHONE']+['FLAG_EMAIL']+\n",
        "#                                  ['CNT_FAM_MEMBERS']+['AMT_INCOME_TOTAL_NEW']+['FLAG_EMPLOYED']])\n",
        "\n",
        "# OR SIMPLY IN THIS WAY\n",
        "import statsmodels.api as sm\n",
        "M1_STATSMODEL=sm.Logit(DF_M1_y,DF_M1_X)\n",
        "M1_STATSMODEL.fit()\n",
        "print(M1_STATSMODEL.fit().summary())\n"
      ]
    },
    {
      "cell_type": "markdown",
      "metadata": {
        "id": "xi8hobAQLkD_"
      },
      "source": [
        "CHECKING INDIVIDUAL IMPACT OF VARIABLES-M1\n",
        "---------------------------------------\n",
        "\n",
        "We can see that FLAG_WORK_PHONE,FLAG_PHONE,FLAG_EMAIL & AMT_INCOME_TOTAL_NEW have P>|z|>0.05 so we will drop these and check again."
      ]
    },
    {
      "cell_type": "code",
      "execution_count": null,
      "metadata": {
        "colab": {
          "base_uri": "https://localhost:8080/"
        },
        "id": "IhBJ2_xuLp8E",
        "outputId": "32e3c111-f6da-4bfb-9f05-ec6daa71f744"
      },
      "outputs": [
        {
          "output_type": "stream",
          "name": "stdout",
          "text": [
            "Optimization terminated successfully.\n",
            "         Current function value: 0.080488\n",
            "         Iterations 9\n",
            "Optimization terminated successfully.\n",
            "         Current function value: 0.080488\n",
            "         Iterations 9\n",
            "                           Logit Regression Results                           \n",
            "==============================================================================\n",
            "Dep. Variable:            GOOD_OR_BAD   No. Observations:                36457\n",
            "Model:                          Logit   Df Residuals:                    36451\n",
            "Method:                           MLE   Df Model:                            5\n",
            "Date:                Tue, 11 Oct 2022   Pseudo R-squ.:                 0.06084\n",
            "Time:                        19:04:35   Log-Likelihood:                -2934.3\n",
            "converged:                       True   LL-Null:                       -3124.4\n",
            "Covariance Type:            nonrobust   LLR p-value:                 5.478e-80\n",
            "======================================================================================\n",
            "                         coef    std err          z      P>|z|      [0.025      0.975]\n",
            "--------------------------------------------------------------------------------------\n",
            "TOTAL_NO_OF_MONTHS    -0.0482      0.002    -19.396      0.000      -0.053      -0.043\n",
            "CNT_CHILDREN          -0.2774      0.117     -2.361      0.018      -0.508      -0.047\n",
            "DAYS_BIRTH         -3.748e-05   1.33e-05     -2.826      0.005   -6.35e-05   -1.15e-05\n",
            "FLAG_MOBIL             3.9918      0.340     11.729      0.000       3.325       4.659\n",
            "CNT_FAM_MEMBERS        0.2768      0.094      2.959      0.003       0.093       0.460\n",
            "FLAG_EMPLOYED          0.3558      0.140      2.544      0.011       0.082       0.630\n",
            "======================================================================================\n"
          ]
        }
      ],
      "source": [
        "import statsmodels.api as sm\n",
        "M1_STATSMODEL=sm.Logit(DF_M1_y,DF_M1_X.drop(['FLAG_WORK_PHONE','FLAG_PHONE','FLAG_EMAIL','AMT_INCOME_TOTAL_NEW'],axis=1))\n",
        "M1_STATSMODEL.fit()\n",
        "print(M1_STATSMODEL.fit().summary())"
      ]
    },
    {
      "cell_type": "markdown",
      "metadata": {
        "id": "xn4JQf65H9kC"
      },
      "source": [
        "MULTICOLLINEARITY-M1\n",
        "------------------------------\n",
        "\n",
        "\n",
        "Did not find any multicollinearity in Model M!"
      ]
    },
    {
      "cell_type": "code",
      "execution_count": null,
      "metadata": {
        "id": "674j0F4lIq1I"
      },
      "outputs": [],
      "source": [
        "import statsmodels.formula.api as sm\n",
        "\n",
        "def vif_cal(input_data):\n",
        "    x_vars=input_data\n",
        "    xvar_names=x_vars.columns\n",
        "    for i in range(0,xvar_names.shape[0]):\n",
        "        y=x_vars[xvar_names[i]] \n",
        "        x=x_vars[xvar_names.drop(xvar_names[i])]\n",
        "        rsq=sm.ols(formula=\"y~x\", data=x_vars).fit().rsquared  \n",
        "        vif=round(1/(1-rsq),2)\n",
        "        print (xvar_names[i], \" VIF = \" , vif)"
      ]
    },
    {
      "cell_type": "markdown",
      "metadata": {
        "id": "SSJLX3MBJwMT"
      },
      "source": [
        "As we can see that removing 1_MONTH_LATE column actually reduced the VIF of rest of the columns to less than 5. so we will remove this column and build the model again"
      ]
    },
    {
      "cell_type": "code",
      "execution_count": null,
      "metadata": {
        "colab": {
          "base_uri": "https://localhost:8080/"
        },
        "id": "3ZYtc9aRI5-u",
        "outputId": "04bf2686-2619-4677-c1bc-939c5d4c90d2"
      },
      "outputs": [
        {
          "output_type": "stream",
          "name": "stdout",
          "text": [
            "TOTAL_NO_OF_MONTHS  VIF =  1.01\n",
            "CNT_CHILDREN  VIF =  4.9\n",
            "DAYS_BIRTH  VIF =  1.75\n",
            "FLAG_MOBIL  VIF =  0.0\n",
            "CNT_FAM_MEMBERS  VIF =  4.79\n",
            "FLAG_EMPLOYED  VIF =  1.64\n"
          ]
        },
        {
          "output_type": "stream",
          "name": "stderr",
          "text": [
            "/usr/local/lib/python3.7/dist-packages/statsmodels/regression/linear_model.py:1715: RuntimeWarning: divide by zero encountered in double_scalars\n",
            "  return 1 - self.ssr/self.centered_tss\n"
          ]
        }
      ],
      "source": [
        "vif_cal(input_data=DF_M1_X.drop(['FLAG_WORK_PHONE','FLAG_PHONE','FLAG_EMAIL','AMT_INCOME_TOTAL_NEW'],axis=1))"
      ]
    },
    {
      "cell_type": "markdown",
      "metadata": {
        "id": "JxsHClBxPBSn"
      },
      "source": [
        "MODEL M1(After checking Multicollinearity and Individual Impact of Variables)"
      ]
    },
    {
      "cell_type": "code",
      "execution_count": null,
      "metadata": {
        "colab": {
          "base_uri": "https://localhost:8080/"
        },
        "id": "0jJJPCH-KXOq",
        "outputId": "b84ec96a-b92a-4134-cfc1-1bd82645431d"
      },
      "outputs": [
        {
          "output_type": "stream",
          "name": "stderr",
          "text": [
            "/usr/local/lib/python3.7/dist-packages/sklearn/utils/validation.py:993: DataConversionWarning: A column-vector y was passed when a 1d array was expected. Please change the shape of y to (n_samples, ), for example using ravel().\n",
            "  y = column_or_1d(y, warn=True)\n"
          ]
        },
        {
          "output_type": "stream",
          "name": "stdout",
          "text": [
            "Intercept [0.00099901]\n",
            "Coefficients [[-0.02603757  0.00112611 -0.00031745  0.00099901  0.00300479  0.00152164]]\n",
            "Optimization terminated successfully.\n",
            "         Current function value: 0.080488\n",
            "         Iterations 9\n",
            "Optimization terminated successfully.\n",
            "         Current function value: 0.080488\n",
            "         Iterations 9\n",
            "                           Logit Regression Results                           \n",
            "==============================================================================\n",
            "Dep. Variable:            GOOD_OR_BAD   No. Observations:                36457\n",
            "Model:                          Logit   Df Residuals:                    36451\n",
            "Method:                           MLE   Df Model:                            5\n",
            "Date:                Tue, 11 Oct 2022   Pseudo R-squ.:                 0.06084\n",
            "Time:                        19:04:36   Log-Likelihood:                -2934.3\n",
            "converged:                       True   LL-Null:                       -3124.4\n",
            "Covariance Type:            nonrobust   LLR p-value:                 5.478e-80\n",
            "======================================================================================\n",
            "                         coef    std err          z      P>|z|      [0.025      0.975]\n",
            "--------------------------------------------------------------------------------------\n",
            "TOTAL_NO_OF_MONTHS    -0.0482      0.002    -19.396      0.000      -0.053      -0.043\n",
            "CNT_CHILDREN          -0.2774      0.117     -2.361      0.018      -0.508      -0.047\n",
            "DAYS_BIRTH         -3.748e-05   1.33e-05     -2.826      0.005   -6.35e-05   -1.15e-05\n",
            "FLAG_MOBIL             3.9918      0.340     11.729      0.000       3.325       4.659\n",
            "CNT_FAM_MEMBERS        0.2768      0.094      2.959      0.003       0.093       0.460\n",
            "FLAG_EMPLOYED          0.3558      0.140      2.544      0.011       0.082       0.630\n",
            "======================================================================================\n"
          ]
        }
      ],
      "source": [
        "from sklearn.linear_model import LogisticRegression\n",
        "\n",
        "logistic= LogisticRegression()\n",
        "DF_M1_X=DF_M1_X.drop(['FLAG_WORK_PHONE','FLAG_PHONE','FLAG_EMAIL','AMT_INCOME_TOTAL_NEW'],axis=1) \n",
        "M1_SKLEARN=logistic.fit(DF_M1_X,DF_M1_y)\n",
        "print(\"Intercept\", logistic.intercept_)\n",
        "print(\"Coefficients\", logistic.coef_)\n",
        "import statsmodels.api as sm\n",
        "M1_STATSMODEL=sm.Logit(DF_M1_y,DF_M1_X)\n",
        "M1_STATSMODEL.fit()\n",
        "print(M1_STATSMODEL.fit().summary())"
      ]
    },
    {
      "cell_type": "markdown",
      "metadata": {
        "id": "t9oq3CBpVlLz"
      },
      "source": [
        "MODEL VALIDATION-M1\n",
        "-------------------\n"
      ]
    },
    {
      "cell_type": "code",
      "execution_count": null,
      "metadata": {
        "colab": {
          "base_uri": "https://localhost:8080/"
        },
        "id": "rCEZBhtZVrWr",
        "outputId": "aa201562-370f-4078-a65e-bc74d3df0b17"
      },
      "outputs": [
        {
          "output_type": "stream",
          "name": "stdout",
          "text": [
            "[[    0   616]\n",
            " [    0 35841]]\n",
            "SENSITIVITY: 0.0\n",
            "SPECIFICITY: 1.0\n"
          ]
        }
      ],
      "source": [
        "PREDICT_M1=logistic.predict(DF_M1_X)\n",
        "PREDICT_M1\n",
        "\n",
        "CM_M1 = confusion_matrix(DF_M1_y,PREDICT_M1)\n",
        "print(CM_M1)\n",
        "SENSITIVITY_M1=(CM_M1[0,0]/(CM_M1[0,0]+CM_M1[0,1]))\n",
        "SPECIFICITY_M1=(CM_M1[1,1]/(CM_M1[1,0]+CM_M1[1,1]))\n",
        "print('SENSITIVITY:',SENSITIVITY_M1)\n",
        "print('SPECIFICITY:',SPECIFICITY_M1)\n"
      ]
    },
    {
      "cell_type": "markdown",
      "metadata": {
        "id": "ph8N4sUlYBJv"
      },
      "source": [
        "FINDINGS- We can clearly see that there is a huge imbalance in CLASS-0 and CLASS-1, so we will go for HANDLING CLASS IMBALANCE"
      ]
    },
    {
      "cell_type": "code",
      "execution_count": null,
      "metadata": {
        "colab": {
          "base_uri": "https://localhost:8080/"
        },
        "id": "ovIl0m5qXNc6",
        "outputId": "2b9bf93e-12cd-4623-cab2-945d79a67cc0"
      },
      "outputs": [
        {
          "output_type": "stream",
          "name": "stdout",
          "text": [
            "              precision    recall  f1-score   support\n",
            "\n",
            "           0       0.00      0.00      0.00       616\n",
            "           1       0.98      1.00      0.99     35841\n",
            "\n",
            "    accuracy                           0.98     36457\n",
            "   macro avg       0.49      0.50      0.50     36457\n",
            "weighted avg       0.97      0.98      0.97     36457\n",
            "\n"
          ]
        },
        {
          "output_type": "stream",
          "name": "stderr",
          "text": [
            "/usr/local/lib/python3.7/dist-packages/sklearn/metrics/_classification.py:1318: UndefinedMetricWarning: Precision and F-score are ill-defined and being set to 0.0 in labels with no predicted samples. Use `zero_division` parameter to control this behavior.\n",
            "  _warn_prf(average, modifier, msg_start, len(result))\n",
            "/usr/local/lib/python3.7/dist-packages/sklearn/metrics/_classification.py:1318: UndefinedMetricWarning: Precision and F-score are ill-defined and being set to 0.0 in labels with no predicted samples. Use `zero_division` parameter to control this behavior.\n",
            "  _warn_prf(average, modifier, msg_start, len(result))\n",
            "/usr/local/lib/python3.7/dist-packages/sklearn/metrics/_classification.py:1318: UndefinedMetricWarning: Precision and F-score are ill-defined and being set to 0.0 in labels with no predicted samples. Use `zero_division` parameter to control this behavior.\n",
            "  _warn_prf(average, modifier, msg_start, len(result))\n"
          ]
        }
      ],
      "source": [
        "from sklearn.metrics import classification_report\n",
        "print(classification_report(DF_M1_y,PREDICT_M1))"
      ]
    },
    {
      "cell_type": "code",
      "execution_count": null,
      "metadata": {
        "colab": {
          "base_uri": "https://localhost:8080/"
        },
        "id": "KAhx7J1eaxzL",
        "outputId": "694ed726-277f-4d10-fbfa-7f0504275035"
      },
      "outputs": [
        {
          "output_type": "stream",
          "name": "stdout",
          "text": [
            "false_positive_rate [0. 1.]\n",
            "true_positive_rate [0. 1.]\n",
            "thresholds [2 1]\n"
          ]
        }
      ],
      "source": [
        "from sklearn.metrics import roc_curve, auc\n",
        "import matplotlib.pyplot as plt\n",
        "\n",
        "\n",
        "false_positive_rate, true_positive_rate, thresholds = roc_curve(DF_M1_y, PREDICT_M1)\n",
        "print(\"false_positive_rate\", false_positive_rate)\n",
        "print(\"true_positive_rate\", true_positive_rate)\n",
        "print(\"thresholds\", thresholds)"
      ]
    },
    {
      "cell_type": "markdown",
      "metadata": {
        "id": "Z2c3aElHYY2u"
      },
      "source": [
        "FINDINGS- The ROC curve and AUC showed that how flawed is our model"
      ]
    },
    {
      "cell_type": "code",
      "execution_count": null,
      "metadata": {
        "colab": {
          "base_uri": "https://localhost:8080/",
          "height": 428
        },
        "id": "efgvMLSVa_aF",
        "outputId": "b6a77519-5eaa-4c76-c93f-eaf58898c8d1"
      },
      "outputs": [
        {
          "output_type": "display_data",
          "data": {
            "text/plain": [
              "<Figure size 1080x432 with 1 Axes>"
            ],
            "image/png": "[encoded data removed]"
          },
          "metadata": {}
        },
        {
          "output_type": "execute_result",
          "data": {
            "text/plain": [
              "0.5"
            ]
          },
          "metadata": {},
          "execution_count": 163
        }
      ],
      "source": [
        "import matplotlib.pyplot as plt\n",
        "plt.title('ROC Curve')\n",
        "#Drawing ROC Curve\n",
        "plt.plot(false_positive_rate, true_positive_rate)\n",
        "\n",
        "#X and Y  Axis Limits \n",
        "plt.xlim([-0,1])\n",
        "plt.ylim([-0,1])\n",
        "\n",
        "# Labels \n",
        "plt.ylabel('True Positive Rate(Sensitivity)')\n",
        "plt.xlabel('False Positive Rate(Specificity)')\n",
        "plt.show()\n",
        "roc_auc = auc(false_positive_rate, true_positive_rate)\n",
        "roc_auc"
      ]
    },
    {
      "cell_type": "markdown",
      "metadata": {
        "id": "cXfpCxNtYQ7u"
      },
      "source": [
        "###HANDLING CLASS IMBALANCE-M1\n",
        "---------------------------\n"
      ]
    },
    {
      "cell_type": "code",
      "execution_count": null,
      "metadata": {
        "id": "aw3hp_d5Yak8"
      },
      "outputs": [],
      "source": [
        "DF_M1=DF[['TOTAL_NO_OF_MONTHS','CNT_CHILDREN','DAYS_BIRTH','FLAG_MOBIL','CNT_FAM_MEMBERS','FLAG_EMPLOYED','GOOD_OR_BAD']]\n",
        "DF_M1_CLASS0=DF_M1[DF_M1['GOOD_OR_BAD']==0]\n",
        "DF_M1_CLASS1=DF_M1[DF_M1['GOOD_OR_BAD']==1]\n"
      ]
    },
    {
      "cell_type": "markdown",
      "metadata": {
        "id": "6KeKNI7Tdvvu"
      },
      "source": [
        "We will use all three methods for treating CLASS IMBALANCE\n",
        "\n",
        "\n",
        "\n",
        "1.   Oversampling of Inferior Class-CLASS0\n",
        "2.   Undersampling of Superior Class-CLASS1\n",
        "3.   SMOTE-Synthetic Minority Oversampling Technique\n",
        "\n",
        "\n",
        "\n"
      ]
    },
    {
      "cell_type": "code",
      "execution_count": null,
      "metadata": {
        "id": "0aQR6MJSeQxL"
      },
      "outputs": [],
      "source": [
        "# Over Sampling of Inferior Class\n",
        "DF_M1_CLASS0=DF_M1_CLASS0.sample(int(10*len(DF_M1[DF_M1['GOOD_OR_BAD']==0])),replace=True)\n",
        "# Under Sampling of Superior Class\n",
        "DF_M1_CLASS1=DF_M1_CLASS1.sample(int(.8*len(DF_M1[DF_M1['GOOD_OR_BAD']==1])),replace=True)\n",
        "DF_M1_BAL=pd.concat([DF_M1_CLASS0,DF_M1_CLASS1])\n",
        "DF_M1_BAL['GOOD_OR_BAD'].value_counts()\n",
        "\n",
        "\n",
        "##FINDINGS-- After applying the first two methods we got the following results\n",
        "# GOOD Customers=28672\n",
        "# BAD Customers=6160\n",
        "\n",
        "#Let's now move to SMOTE\n",
        "from imblearn.over_sampling import SMOTE \n",
        "smote = SMOTE(sampling_strategy=0.8,random_state = 2)\n",
        "DF_M1_X_BAL, DF_M1_y_BAL = smote.fit_resample(DF_M1_BAL.drop('GOOD_OR_BAD',axis=1), DF_M1_BAL[['GOOD_OR_BAD']])\n",
        "\n",
        "DF_M1_BAL=DF_M1_X_BAL\n",
        "DF_M1_BAL['GOOD_OR_BAD']=DF_M1_y_BAL\n"
      ]
    },
    {
      "cell_type": "markdown",
      "metadata": {
        "id": "_5iljt7hgljE"
      },
      "source": [
        "M1-AFTER HANDLING CLASS IMBALANCE\n",
        "\n"
      ]
    },
    {
      "cell_type": "code",
      "execution_count": null,
      "metadata": {
        "id": "RWT09daHmqAu"
      },
      "outputs": [],
      "source": [
        "model_formula=\"GOOD_OR_BAD ~ TOTAL_NO_OF_MONTHS + CNT_CHILDREN + DAYS_BIRTH + CNT_FAM_MEMBERS + FLAG_EMPLOYED\""
      ]
    },
    {
      "cell_type": "markdown",
      "metadata": {
        "id": "1Fav27D9oUrC"
      },
      "source": [
        "FINDINGS- AS FLAG MOBILE CONTAINS ONLY 1, SO IT IS CREATING A SINGULAR MATRIX, SO REMOVING IT, AFTER REMOVING, WHILE VALIDATING THE MODEL, WE FOUND THAT CNT_CHILDREN HAS P>|Z| ASGREATER THAN 0.05 SO WILL DROP THAT ALSO"
      ]
    },
    {
      "cell_type": "code",
      "execution_count": null,
      "metadata": {
        "colab": {
          "base_uri": "https://localhost:8080/"
        },
        "id": "h9Ie-hfOgrt6",
        "outputId": "0ecb46e6-3e02-4d4e-a429-37b544028c49"
      },
      "outputs": [
        {
          "output_type": "stream",
          "name": "stdout",
          "text": [
            "Optimization terminated successfully.\n",
            "         Current function value: 0.614645\n",
            "         Iterations 5\n",
            "                           Logit Regression Results                           \n",
            "==============================================================================\n",
            "Dep. Variable:            GOOD_OR_BAD   No. Observations:                51609\n",
            "Model:                          Logit   Df Residuals:                    51603\n",
            "Method:                           MLE   Df Model:                            5\n",
            "Date:                Tue, 11 Oct 2022   Pseudo R-squ.:                  0.1053\n",
            "Time:                        19:04:37   Log-Likelihood:                -31721.\n",
            "converged:                       True   LL-Null:                       -35453.\n",
            "Covariance Type:            nonrobust   LLR p-value:                     0.000\n",
            "======================================================================================\n",
            "                         coef    std err          z      P>|z|      [0.025      0.975]\n",
            "--------------------------------------------------------------------------------------\n",
            "Intercept              0.2168      0.078      2.793      0.005       0.065       0.369\n",
            "TOTAL_NO_OF_MONTHS    -0.0494      0.001    -79.683      0.000      -0.051      -0.048\n",
            "CNT_CHILDREN          -0.1306      0.027     -4.789      0.000      -0.184      -0.077\n",
            "DAYS_BIRTH         -4.155e-05   3.05e-06    -13.616      0.000   -4.75e-05   -3.56e-05\n",
            "CNT_FAM_MEMBERS        0.2008      0.022      9.313      0.000       0.159       0.243\n",
            "FLAG_EMPLOYED          0.3562      0.033     10.853      0.000       0.292       0.421\n",
            "======================================================================================\n"
          ]
        }
      ],
      "source": [
        "import statsmodels.formula.api as sm\n",
        "\n",
        "MODEL_M1=sm.logit(model_formula, data=DF_M1_BAL)\n",
        "results=MODEL_M1.fit()\n",
        "print(results.summary())"
      ]
    },
    {
      "cell_type": "code",
      "execution_count": null,
      "metadata": {
        "colab": {
          "base_uri": "https://localhost:8080/"
        },
        "id": "KKv44xsDo8bz",
        "outputId": "8188d347-605b-4e54-9184-e406d29cc614"
      },
      "outputs": [
        {
          "output_type": "stream",
          "name": "stdout",
          "text": [
            "Optimization terminated successfully.\n",
            "         Current function value: 0.614867\n",
            "         Iterations 5\n",
            "                           Logit Regression Results                           \n",
            "==============================================================================\n",
            "Dep. Variable:            GOOD_OR_BAD   No. Observations:                51609\n",
            "Model:                          Logit   Df Residuals:                    51604\n",
            "Method:                           MLE   Df Model:                            4\n",
            "Date:                Tue, 11 Oct 2022   Pseudo R-squ.:                  0.1049\n",
            "Time:                        19:04:37   Log-Likelihood:                -31733.\n",
            "converged:                       True   LL-Null:                       -35453.\n",
            "Covariance Type:            nonrobust   LLR p-value:                     0.000\n",
            "======================================================================================\n",
            "                         coef    std err          z      P>|z|      [0.025      0.975]\n",
            "--------------------------------------------------------------------------------------\n",
            "Intercept              0.3066      0.075      4.069      0.000       0.159       0.454\n",
            "TOTAL_NO_OF_MONTHS    -0.0494      0.001    -79.770      0.000      -0.051      -0.048\n",
            "DAYS_BIRTH          -4.41e-05   3.01e-06    -14.675      0.000      -5e-05   -3.82e-05\n",
            "CNT_FAM_MEMBERS        0.1120      0.011     10.195      0.000       0.090       0.134\n",
            "FLAG_EMPLOYED          0.3667      0.033     11.199      0.000       0.303       0.431\n",
            "======================================================================================\n"
          ]
        },
        {
          "output_type": "execute_result",
          "data": {
            "text/plain": [
              "array([0.37289274, 0.42699438, 0.63321669, ..., 0.32541036, 0.55898709,\n",
              "       0.52717682])"
            ]
          },
          "metadata": {},
          "execution_count": 168
        }
      ],
      "source": [
        "model_formula=\"GOOD_OR_BAD ~ TOTAL_NO_OF_MONTHS  + DAYS_BIRTH + CNT_FAM_MEMBERS + FLAG_EMPLOYED\"\n",
        "import statsmodels.formula.api as sm\n",
        "\n",
        "MODEL_M1=sm.logit(model_formula, data=DF_M1_BAL)\n",
        "results=MODEL_M1.fit()\n",
        "print(results.summary())\n",
        "predictions = results.predict()\n",
        "predictions"
      ]
    },
    {
      "cell_type": "code",
      "execution_count": null,
      "metadata": {
        "colab": {
          "base_uri": "https://localhost:8080/"
        },
        "id": "-VcWCKexqcZM",
        "outputId": "da9491f9-9601-407b-a5aa-30fe93904173"
      },
      "outputs": [
        {
          "output_type": "stream",
          "name": "stderr",
          "text": [
            "/usr/local/lib/python3.7/dist-packages/sklearn/utils/validation.py:993: DataConversionWarning: A column-vector y was passed when a 1d array was expected. Please change the shape of y to (n_samples, ), for example using ravel().\n",
            "  y = column_or_1d(y, warn=True)\n"
          ]
        },
        {
          "output_type": "stream",
          "name": "stdout",
          "text": [
            "Intercept [0.05276206]\n",
            "Coefficients [[-4.80878313e-02 -5.33698767e-05  2.32159747e-01  1.13718961e-01]]\n"
          ]
        }
      ],
      "source": [
        "logistic= LogisticRegression()\n",
        "DF_M1_X=DF_M1_X_BAL.drop(['FLAG_MOBIL','GOOD_OR_BAD','CNT_CHILDREN'],axis=1)\n",
        "DF_M1_y=DF_M1_X_BAL[['GOOD_OR_BAD']]\n",
        "MODEL_M1=logistic.fit(DF_M1_X,DF_M1_y)\n",
        "print(\"Intercept\", logistic.intercept_)\n",
        "print(\"Coefficients\", logistic.coef_)"
      ]
    },
    {
      "cell_type": "code",
      "execution_count": null,
      "metadata": {
        "colab": {
          "base_uri": "https://localhost:8080/"
        },
        "id": "us6u7A1xrkpT",
        "outputId": "4401ea0e-cb74-415f-cea8-c06608523090"
      },
      "outputs": [
        {
          "output_type": "stream",
          "name": "stdout",
          "text": [
            "[[12971  9966]\n",
            " [ 7038 21634]]\n",
            "SENSITIVITY: 0.5655055151065963\n",
            "SPECIFICITY: 0.7545340401785714\n",
            "ACCURACY: 0.6705225832703599\n",
            "PRECISION_CLASS0 :  0.6482582837723024\n",
            "RECALL_CLASS0 :  0.5655055151065963\n",
            "F1_CLASS0 :  0.6040609137055837\n",
            "PRECISION_CLASS1 :  0.684620253164557\n",
            "RECALL_CLASS1 :  0.7545340401785714\n",
            "F1_CLASS1 :  0.7178789487655959\n"
          ]
        }
      ],
      "source": [
        "PREDICT_M1=logistic.predict(DF_M1_X)\n",
        "PREDICT_M1\n",
        "\n",
        "CM_M1 = confusion_matrix(DF_M1_y,PREDICT_M1)\n",
        "print(CM_M1)\n",
        "SENSITIVITY_M1=(CM_M1[0,0]/(CM_M1[0,0]+CM_M1[0,1]))\n",
        "SPECIFICITY_M1=(CM_M1[1,1]/(CM_M1[1,0]+CM_M1[1,1]))\n",
        "ACCURACY_M1=(CM_M1[0,0]+CM_M1[1,1])/(CM_M1.sum().sum())\n",
        "PRECISION_CLASS0 = CM_M1[0,0]/(CM_M1[0,0]+CM_M1[1,0])\n",
        "RECALL_CLASS0 = CM_M1[0,0]/(CM_M1[0,0]+CM_M1[0,1])\n",
        "F1_CLASS0 = 2/((1/PRECISION_CLASS0)+(1/RECALL_CLASS0))\n",
        "PRECISION_CLASS1 = CM_M1[1,1]/(CM_M1[0,1]+CM_M1[1,1])\n",
        "RECALL_CLASS1 = CM_M1[1,1]/(CM_M1[1,0]+CM_M1[1,1])\n",
        "F1_CLASS1 = 2/((1/PRECISION_CLASS1)+(1/RECALL_CLASS1))\n",
        "\n",
        "print('SENSITIVITY:',SENSITIVITY_M1)\n",
        "print('SPECIFICITY:',SPECIFICITY_M1)\n",
        "print('ACCURACY:',ACCURACY_M1)\n",
        "print('PRECISION_CLASS0 : ', PRECISION_CLASS0 )\n",
        "print('RECALL_CLASS0 : ', RECALL_CLASS0 )\n",
        "print('F1_CLASS0 : ', F1_CLASS0 )\n",
        "print('PRECISION_CLASS1 : ', PRECISION_CLASS1 )\n",
        "print('RECALL_CLASS1 : ', RECALL_CLASS1 )\n",
        "print('F1_CLASS1 : ', F1_CLASS1 )\n",
        "\n",
        "\n"
      ]
    },
    {
      "cell_type": "code",
      "execution_count": null,
      "metadata": {
        "colab": {
          "base_uri": "https://localhost:8080/"
        },
        "id": "wlHSWNqFsBut",
        "outputId": "2bca6d29-4e0d-4bc6-cf97-7b04220fdf6f"
      },
      "outputs": [
        {
          "output_type": "stream",
          "name": "stdout",
          "text": [
            "              precision    recall  f1-score   support\n",
            "\n",
            "           0       0.65      0.57      0.60     22937\n",
            "           1       0.68      0.75      0.72     28672\n",
            "\n",
            "    accuracy                           0.67     51609\n",
            "   macro avg       0.67      0.66      0.66     51609\n",
            "weighted avg       0.67      0.67      0.67     51609\n",
            "\n"
          ]
        }
      ],
      "source": [
        "from sklearn.metrics import classification_report\n",
        "print(classification_report(DF_M1_y,PREDICT_M1))"
      ]
    },
    {
      "cell_type": "code",
      "execution_count": null,
      "metadata": {
        "colab": {
          "base_uri": "https://localhost:8080/",
          "height": 499
        },
        "id": "2izIQdnupIkB",
        "outputId": "a96cdd88-c6b0-468a-cebc-b65f20e1e352"
      },
      "outputs": [
        {
          "output_type": "stream",
          "name": "stdout",
          "text": [
            "false_positive_rate [0.         0.         0.         ... 0.99899725 1.         1.        ]\n",
            "true_positive_rate [0.00000000e+00 3.48772321e-05 1.74386161e-04 ... 9.99895368e-01\n",
            " 9.99895368e-01 1.00000000e+00]\n",
            "thresholds [1.95709761 0.95709761 0.93942098 ... 0.15391063 0.15018733 0.14163834]\n"
          ]
        },
        {
          "output_type": "display_data",
          "data": {
            "text/plain": [
              "<Figure size 1080x432 with 1 Axes>"
            ],
            "image/png": "[encoded data removed]"
          },
          "metadata": {}
        },
        {
          "output_type": "execute_result",
          "data": {
            "text/plain": [
              "0.715876267823958"
            ]
          },
          "metadata": {},
          "execution_count": 172
        }
      ],
      "source": [
        "from sklearn.metrics import roc_curve, auc\n",
        "import matplotlib.pyplot as plt\n",
        "\n",
        "\n",
        "false_positive_rate, true_positive_rate, thresholds = roc_curve(DF_M1_BAL[['GOOD_OR_BAD']], predictions)\n",
        "print(\"false_positive_rate\", false_positive_rate)\n",
        "print(\"true_positive_rate\", true_positive_rate)\n",
        "print(\"thresholds\", thresholds)\n",
        "\n",
        "import matplotlib.pyplot as plt\n",
        "plt.title('ROC Curve')\n",
        "#Drawing ROC Curve\n",
        "plt.plot(false_positive_rate, true_positive_rate)\n",
        "\n",
        "#X and Y  Axis Limits \n",
        "plt.xlim([-0,1])\n",
        "plt.ylim([-0,1])\n",
        "\n",
        "# Labels \n",
        "plt.ylabel('True Positive Rate(Sensitivity)')\n",
        "plt.xlabel('False Positive Rate(Specificity)')\n",
        "plt.show()\n",
        "roc_auc = auc(false_positive_rate, true_positive_rate)\n",
        "roc_auc"
      ]
    },
    {
      "cell_type": "markdown",
      "metadata": {
        "id": "v2qJIPAuyC07"
      },
      "source": [
        "###ADJUSTING THRESHOLD-M1\n",
        "=====================\n",
        "\n",
        "\n",
        "FINDINGS- By changing the threshold to .7, we could increase the sensitivity, However the AUC is decreasing\n",
        "\n",
        "DATA WITH THRESHOLD=0.5\n",
        "-----------------------\n",
        "\n",
        "\n",
        "\n",
        "*   SENSITIVITY: 0.5900074116057026\n",
        "*   SPECIFICITY: 0.7156110491071429\n",
        "*   ACCURACY: 0.6597880214691236\n",
        "*   PRECISION_CLASS0 :  0.6240143864988241\n",
        "*   RECALL_CLASS0 :  0.5900074116057026\n",
        "*   F1_CLASS0 :  0.606534600215131\n",
        "*   PRECISION_CLASS1 :  0.6857161954414812\n",
        "*   RECALL_CLASS1 :  0.7156110491071429\n",
        "*   F1_CLASS1 :  0.7003447451957538\n",
        "*   AUC : 0.7242620700251738\n",
        "\n",
        "\n",
        "DATA WITH THRESHOLD=0.7\n",
        "-----------------------\n",
        "\n",
        "*   SENSITIVITY: 0.8642368226010376\n",
        "*   SPECIFICITY: 0.43812779017857145\n",
        "*   ACCURACY: 0.6275068302040342\n",
        "*   PRECISION_CLASS0 :  0.551665599866418\n",
        "*   RECALL_CLASS0 :  0.8642368226010376\n",
        "*   F1_CLASS0 :  0.6734499745201291\n",
        "*   PRECISION_CLASS1 :  0.8013523858127073\n",
        "*   RECALL_CLASS1 :  0.43812779017857145\n",
        "*   F1_CLASS1 :  0.566519346982953\n",
        "*   AUC : 0.6511823063898046"
      ]
    },
    {
      "cell_type": "code",
      "execution_count": null,
      "metadata": {
        "colab": {
          "base_uri": "https://localhost:8080/",
          "height": 607
        },
        "id": "N3oZxto4wGS6",
        "outputId": "63ff9af6-ccdf-4aaa-d10e-074ad60590c6"
      },
      "outputs": [
        {
          "output_type": "stream",
          "name": "stdout",
          "text": [
            "[[19462  3475]\n",
            " [16943 11729]]\n",
            "SENSITIVITY: 0.8484980599032131\n",
            "SPECIFICITY: 0.40907505580357145\n",
            "ACCURACY: 0.6043713305818752\n",
            "PRECISION_CLASS0 :  0.534596896030765\n",
            "RECALL_CLASS0 :  0.8484980599032131\n",
            "F1_CLASS0 :  0.6559266623976273\n",
            "PRECISION_CLASS1 :  0.7714417258616154\n",
            "RECALL_CLASS1 :  0.40907505580357145\n",
            "F1_CLASS1 :  0.5346430850578905\n"
          ]
        },
        {
          "output_type": "execute_result",
          "data": {
            "text/plain": [
              "0.6287865578533923"
            ]
          },
          "metadata": {},
          "execution_count": 173
        },
        {
          "output_type": "display_data",
          "data": {
            "text/plain": [
              "<Figure size 1080x432 with 1 Axes>"
            ],
            "image/png": "[encoded data removed]"
          },
          "metadata": {}
        }
      ],
      "source": [
        "predictions = results.predict()\n",
        "### Converting predicted values into classes using threshold\n",
        "threshold=0.7\n",
        "predicted_class1=[ 0 if x < threshold else 1 for x in predictions]\n",
        "\n",
        "CM_M1 = confusion_matrix(DF_M1_y,predicted_class1)\n",
        "print(CM_M1)\n",
        "SENSITIVITY_M1=(CM_M1[0,0]/(CM_M1[0,0]+CM_M1[0,1]))\n",
        "SPECIFICITY_M1=(CM_M1[1,1]/(CM_M1[1,0]+CM_M1[1,1]))\n",
        "ACCURACY_M1=(CM_M1[0,0]+CM_M1[1,1])/(CM_M1.sum().sum())\n",
        "PRECISION_CLASS0 = CM_M1[0,0]/(CM_M1[0,0]+CM_M1[1,0])\n",
        "RECALL_CLASS0 = CM_M1[0,0]/(CM_M1[0,0]+CM_M1[0,1])\n",
        "F1_CLASS0 = 2/((1/PRECISION_CLASS0)+(1/RECALL_CLASS0))\n",
        "PRECISION_CLASS1 = CM_M1[1,1]/(CM_M1[0,1]+CM_M1[1,1])\n",
        "RECALL_CLASS1 = CM_M1[1,1]/(CM_M1[1,0]+CM_M1[1,1])\n",
        "F1_CLASS1 = 2/((1/PRECISION_CLASS1)+(1/RECALL_CLASS1))\n",
        "\n",
        "print('SENSITIVITY:',SENSITIVITY_M1)\n",
        "print('SPECIFICITY:',SPECIFICITY_M1)\n",
        "print('ACCURACY:',ACCURACY_M1)\n",
        "print('PRECISION_CLASS0 : ', PRECISION_CLASS0 )\n",
        "print('RECALL_CLASS0 : ', RECALL_CLASS0 )\n",
        "print('F1_CLASS0 : ', F1_CLASS0 )\n",
        "print('PRECISION_CLASS1 : ', PRECISION_CLASS1 )\n",
        "print('RECALL_CLASS1 : ', RECALL_CLASS1 )\n",
        "print('F1_CLASS1 : ', F1_CLASS1 )\n",
        "\n",
        "\n",
        "false_positive_rate, true_positive_rate, thresholds = roc_curve(DF_M1_BAL[['GOOD_OR_BAD']], predicted_class1)\n",
        "\n",
        "import matplotlib.pyplot as plt\n",
        "plt.title('ROC Curve')\n",
        "#Drawing ROC Curve\n",
        "plt.plot(false_positive_rate, true_positive_rate)\n",
        "\n",
        "roc_auc = auc(false_positive_rate, true_positive_rate)\n",
        "roc_auc"
      ]
    },
    {
      "cell_type": "markdown",
      "metadata": {
        "id": "ZAhk6-RUPk27"
      },
      "source": [
        "### RANK ORDERING-*M1*"
      ]
    },
    {
      "cell_type": "code",
      "execution_count": null,
      "metadata": {
        "colab": {
          "base_uri": "https://localhost:8080/"
        },
        "id": "lC4oy9tWPtD9",
        "outputId": "0b2ad33b-a7bf-4971-ec87-e98b16afe9ea"
      },
      "outputs": [
        {
          "output_type": "stream",
          "name": "stdout",
          "text": [
            "Optimization terminated successfully.\n",
            "         Current function value: 0.614867\n",
            "         Iterations 5\n",
            "                           Logit Regression Results                           \n",
            "==============================================================================\n",
            "Dep. Variable:            GOOD_OR_BAD   No. Observations:                51609\n",
            "Model:                          Logit   Df Residuals:                    51604\n",
            "Method:                           MLE   Df Model:                            4\n",
            "Date:                Tue, 11 Oct 2022   Pseudo R-squ.:                  0.1049\n",
            "Time:                        19:04:38   Log-Likelihood:                -31733.\n",
            "converged:                       True   LL-Null:                       -35453.\n",
            "Covariance Type:            nonrobust   LLR p-value:                     0.000\n",
            "======================================================================================\n",
            "                         coef    std err          z      P>|z|      [0.025      0.975]\n",
            "--------------------------------------------------------------------------------------\n",
            "Intercept              0.3066      0.075      4.069      0.000       0.159       0.454\n",
            "TOTAL_NO_OF_MONTHS    -0.0494      0.001    -79.770      0.000      -0.051      -0.048\n",
            "DAYS_BIRTH          -4.41e-05   3.01e-06    -14.675      0.000      -5e-05   -3.82e-05\n",
            "CNT_FAM_MEMBERS        0.1120      0.011     10.195      0.000       0.090       0.134\n",
            "FLAG_EMPLOYED          0.3667      0.033     11.199      0.000       0.303       0.431\n",
            "======================================================================================\n"
          ]
        },
        {
          "output_type": "execute_result",
          "data": {
            "text/plain": [
              "array([0.37289274, 0.42699438, 0.63321669, ..., 0.32541036, 0.55898709,\n",
              "       0.52717682])"
            ]
          },
          "metadata": {},
          "execution_count": 174
        }
      ],
      "source": [
        "model_formula=\"GOOD_OR_BAD ~ TOTAL_NO_OF_MONTHS  + DAYS_BIRTH + CNT_FAM_MEMBERS + FLAG_EMPLOYED\"\n",
        "import statsmodels.formula.api as sm\n",
        "\n",
        "MODEL_M1=sm.logit(model_formula, data=DF_M1_BAL)\n",
        "results=MODEL_M1.fit()\n",
        "print(results.summary())\n",
        "predictions = results.predict()\n",
        "predictions"
      ]
    },
    {
      "cell_type": "code",
      "execution_count": null,
      "metadata": {
        "colab": {
          "base_uri": "https://localhost:8080/",
          "height": 424
        },
        "id": "D7QWo-HffRl5",
        "outputId": "e8d62bf0-00d5-457b-e4f3-cfaa29a88a1c"
      },
      "outputs": [
        {
          "output_type": "execute_result",
          "data": {
            "text/plain": [
              "       TOTAL_NO_OF_MONTHS  CNT_CHILDREN  DAYS_BIRTH  FLAG_MOBIL  \\\n",
              "0                      16             0      -12005           1   \n",
              "1                      15             0      -12005           1   \n",
              "2                      30             0      -21474           1   \n",
              "3                       5             0      -19110           1   \n",
              "4                       5             0      -19110           1   \n",
              "...                   ...           ...         ...         ...   \n",
              "36452                  18             1      -10808           1   \n",
              "36453                  18             1      -10808           1   \n",
              "36454                  13             1      -10808           1   \n",
              "36455                   2             1      -10808           1   \n",
              "36456                  30             0      -19398           1   \n",
              "\n",
              "       CNT_FAM_MEMBERS  FLAG_EMPLOYED  GOOD_OR_BAD  \n",
              "0                  2.0              1            1  \n",
              "1                  2.0              1            1  \n",
              "2                  2.0              1            1  \n",
              "3                  1.0              1            1  \n",
              "4                  1.0              1            1  \n",
              "...                ...            ...          ...  \n",
              "36452              3.0              1            1  \n",
              "36453              3.0              1            1  \n",
              "36454              3.0              1            1  \n",
              "36455              3.0              1            1  \n",
              "36456              2.0              1            1  \n",
              "\n",
              "[36457 rows x 7 columns]"
            ],
            "text/html": [
              "\n",
              "  <div id=\"df-03e34f3a-da27-4b99-9740-e935cf804d68\">\n",
              "    <div class=\"colab-df-container\">\n",
              "      <div>\n",
              "<style scoped>\n",
              "    .dataframe tbody tr th:only-of-type {\n",
              "        vertical-align: middle;\n",
              "    }\n",
              "\n",
              "    .dataframe tbody tr th {\n",
              "        vertical-align: top;\n",
              "    }\n",
              "\n",
              "    .dataframe thead th {\n",
              "        text-align: right;\n",
              "    }\n",
              "</style>\n",
              "<table border=\"1\" class=\"dataframe\">\n",
              "  <thead>\n",
              "    <tr style=\"text-align: right;\">\n",
              "      <th></th>\n",
              "      <th>TOTAL_NO_OF_MONTHS</th>\n",
              "      <th>CNT_CHILDREN</th>\n",
              "      <th>DAYS_BIRTH</th>\n",
              "      <th>FLAG_MOBIL</th>\n",
              "      <th>CNT_FAM_MEMBERS</th>\n",
              "      <th>FLAG_EMPLOYED</th>\n",
              "      <th>GOOD_OR_BAD</th>\n",
              "    </tr>\n",
              "  </thead>\n",
              "  <tbody>\n",
              "    <tr>\n",
              "      <th>0</th>\n",
              "      <td>16</td>\n",
              "      <td>0</td>\n",
              "      <td>-12005</td>\n",
              "      <td>1</td>\n",
              "      <td>2.0</td>\n",
              "      <td>1</td>\n",
              "      <td>1</td>\n",
              "    </tr>\n",
              "    <tr>\n",
              "      <th>1</th>\n",
              "      <td>15</td>\n",
              "      <td>0</td>\n",
              "      <td>-12005</td>\n",
              "      <td>1</td>\n",
              "      <td>2.0</td>\n",
              "      <td>1</td>\n",
              "      <td>1</td>\n",
              "    </tr>\n",
              "    <tr>\n",
              "      <th>2</th>\n",
              "      <td>30</td>\n",
              "      <td>0</td>\n",
              "      <td>-21474</td>\n",
              "      <td>1</td>\n",
              "      <td>2.0</td>\n",
              "      <td>1</td>\n",
              "      <td>1</td>\n",
              "    </tr>\n",
              "    <tr>\n",
              "      <th>3</th>\n",
              "      <td>5</td>\n",
              "      <td>0</td>\n",
              "      <td>-19110</td>\n",
              "      <td>1</td>\n",
              "      <td>1.0</td>\n",
              "      <td>1</td>\n",
              "      <td>1</td>\n",
              "    </tr>\n",
              "    <tr>\n",
              "      <th>4</th>\n",
              "      <td>5</td>\n",
              "      <td>0</td>\n",
              "      <td>-19110</td>\n",
              "      <td>1</td>\n",
              "      <td>1.0</td>\n",
              "      <td>1</td>\n",
              "      <td>1</td>\n",
              "    </tr>\n",
              "    <tr>\n",
              "      <th>...</th>\n",
              "      <td>...</td>\n",
              "      <td>...</td>\n",
              "      <td>...</td>\n",
              "      <td>...</td>\n",
              "      <td>...</td>\n",
              "      <td>...</td>\n",
              "      <td>...</td>\n",
              "    </tr>\n",
              "    <tr>\n",
              "      <th>36452</th>\n",
              "      <td>18</td>\n",
              "      <td>1</td>\n",
              "      <td>-10808</td>\n",
              "      <td>1</td>\n",
              "      <td>3.0</td>\n",
              "      <td>1</td>\n",
              "      <td>1</td>\n",
              "    </tr>\n",
              "    <tr>\n",
              "      <th>36453</th>\n",
              "      <td>18</td>\n",
              "      <td>1</td>\n",
              "      <td>-10808</td>\n",
              "      <td>1</td>\n",
              "      <td>3.0</td>\n",
              "      <td>1</td>\n",
              "      <td>1</td>\n",
              "    </tr>\n",
              "    <tr>\n",
              "      <th>36454</th>\n",
              "      <td>13</td>\n",
              "      <td>1</td>\n",
              "      <td>-10808</td>\n",
              "      <td>1</td>\n",
              "      <td>3.0</td>\n",
              "      <td>1</td>\n",
              "      <td>1</td>\n",
              "    </tr>\n",
              "    <tr>\n",
              "      <th>36455</th>\n",
              "      <td>2</td>\n",
              "      <td>1</td>\n",
              "      <td>-10808</td>\n",
              "      <td>1</td>\n",
              "      <td>3.0</td>\n",
              "      <td>1</td>\n",
              "      <td>1</td>\n",
              "    </tr>\n",
              "    <tr>\n",
              "      <th>36456</th>\n",
              "      <td>30</td>\n",
              "      <td>0</td>\n",
              "      <td>-19398</td>\n",
              "      <td>1</td>\n",
              "      <td>2.0</td>\n",
              "      <td>1</td>\n",
              "      <td>1</td>\n",
              "    </tr>\n",
              "  </tbody>\n",
              "</table>\n",
              "<p>36457 rows × 7 columns</p>\n",
              "</div>\n",
              "      <button class=\"colab-df-convert\" onclick=\"convertToInteractive('df-03e34f3a-da27-4b99-9740-e935cf804d68')\"\n",
              "              title=\"Convert this dataframe to an interactive table.\"\n",
              "              style=\"display:none;\">\n",
              "        \n",
              "  <svg xmlns=\"http://www.w3.org/2000/svg\" height=\"24px\"viewBox=\"0 0 24 24\"\n",
              "       width=\"24px\">\n",
              "    <path d=\"M0 0h24v24H0V0z\" fill=\"none\"/>\n",
              "    <path d=\"M18.56 5.44l.94 2.06.94-2.06 2.06-.94-2.06-.94-.94-2.06-.94 2.06-2.06.94zm-11 1L8.5 8.5l.94-2.06 2.06-.94-2.06-.94L8.5 2.5l-.94 2.06-2.06.94zm10 10l.94 2.06.94-2.06 2.06-.94-2.06-.94-.94-2.06-.94 2.06-2.06.94z\"/><path d=\"M17.41 7.96l-1.37-1.37c-.4-.4-.92-.59-1.43-.59-.52 0-1.04.2-1.43.59L10.3 9.45l-7.72 7.72c-.78.78-.78 2.05 0 2.83L4 21.41c.39.39.9.59 1.41.59.51 0 1.02-.2 1.41-.59l7.78-7.78 2.81-2.81c.8-.78.8-2.07 0-2.86zM5.41 20L4 18.59l7.72-7.72 1.47 1.35L5.41 20z\"/>\n",
              "  </svg>\n",
              "      </button>\n",
              "      \n",
              "  <style>\n",
              "    .colab-df-container {\n",
              "      display:flex;\n",
              "      flex-wrap:wrap;\n",
              "      gap: 12px;\n",
              "    }\n",
              "\n",
              "    .colab-df-convert {\n",
              "      background-color: #E8F0FE;\n",
              "      border: none;\n",
              "      border-radius: 50%;\n",
              "      cursor: pointer;\n",
              "      display: none;\n",
              "      fill: #1967D2;\n",
              "      height: 32px;\n",
              "      padding: 0 0 0 0;\n",
              "      width: 32px;\n",
              "    }\n",
              "\n",
              "    .colab-df-convert:hover {\n",
              "      background-color: #E2EBFA;\n",
              "      box-shadow: 0px 1px 2px rgba(60, 64, 67, 0.3), 0px 1px 3px 1px rgba(60, 64, 67, 0.15);\n",
              "      fill: #174EA6;\n",
              "    }\n",
              "\n",
              "    [theme=dark] .colab-df-convert {\n",
              "      background-color: #3B4455;\n",
              "      fill: #D2E3FC;\n",
              "    }\n",
              "\n",
              "    [theme=dark] .colab-df-convert:hover {\n",
              "      background-color: #434B5C;\n",
              "      box-shadow: 0px 1px 3px 1px rgba(0, 0, 0, 0.15);\n",
              "      filter: drop-shadow(0px 1px 2px rgba(0, 0, 0, 0.3));\n",
              "      fill: #FFFFFF;\n",
              "    }\n",
              "  </style>\n",
              "\n",
              "      <script>\n",
              "        const buttonEl =\n",
              "          document.querySelector('#df-03e34f3a-da27-4b99-9740-e935cf804d68 button.colab-df-convert');\n",
              "        buttonEl.style.display =\n",
              "          google.colab.kernel.accessAllowed ? 'block' : 'none';\n",
              "\n",
              "        async function convertToInteractive(key) {\n",
              "          const element = document.querySelector('#df-03e34f3a-da27-4b99-9740-e935cf804d68');\n",
              "          const dataTable =\n",
              "            await google.colab.kernel.invokeFunction('convertToInteractive',\n",
              "                                                     [key], {});\n",
              "          if (!dataTable) return;\n",
              "\n",
              "          const docLinkHtml = 'Like what you see? Visit the ' +\n",
              "            '<a target=\"_blank\" href=https://colab.research.google.com/notebooks/data_table.ipynb>data table notebook</a>'\n",
              "            + ' to learn more about interactive tables.';\n",
              "          element.innerHTML = '';\n",
              "          dataTable['output_type'] = 'display_data';\n",
              "          await google.colab.output.renderOutput(dataTable, element);\n",
              "          const docLink = document.createElement('div');\n",
              "          docLink.innerHTML = docLinkHtml;\n",
              "          element.appendChild(docLink);\n",
              "        }\n",
              "      </script>\n",
              "    </div>\n",
              "  </div>\n",
              "  "
            ]
          },
          "metadata": {},
          "execution_count": 175
        }
      ],
      "source": [
        "DF_M1"
      ]
    },
    {
      "cell_type": "markdown",
      "metadata": {
        "id": "f2djrlNA8yS5"
      },
      "source": [
        "##**DECISION TREE(BEFORE FEATURE ENGINEERING)**\n",
        "\n"
      ]
    },
    {
      "cell_type": "code",
      "execution_count": null,
      "metadata": {
        "colab": {
          "base_uri": "https://localhost:8080/",
          "height": 1000
        },
        "id": "hSUkBqoy89F2",
        "outputId": "77385989-603d-446e-b91f-d9f9fdbf6010"
      },
      "outputs": [
        {
          "output_type": "stream",
          "name": "stdout",
          "text": [
            "|--- TOTAL_NO_OF_MONTHS <= 35.50\n",
            "|   |--- TOTAL_NO_OF_MONTHS <= 9.50\n",
            "|   |   |--- TOTAL_NO_OF_MONTHS <= 4.50\n",
            "|   |   |   |--- class: 1\n",
            "|   |   |--- TOTAL_NO_OF_MONTHS >  4.50\n",
            "|   |   |   |--- DAYS_BIRTH <= -11007.50\n",
            "|   |   |   |   |--- CNT_FAM_MEMBERS <= 1.50\n",
            "|   |   |   |   |   |--- DAYS_BIRTH <= -19436.00\n",
            "|   |   |   |   |   |   |--- DAYS_BIRTH <= -24595.50\n",
            "|   |   |   |   |   |   |   |--- class: 0\n",
            "|   |   |   |   |   |   |--- DAYS_BIRTH >  -24595.50\n",
            "|   |   |   |   |   |   |   |--- class: 1\n",
            "|   |   |   |   |   |--- DAYS_BIRTH >  -19436.00\n",
            "|   |   |   |   |   |   |--- DAYS_BIRTH <= -18945.50\n",
            "|   |   |   |   |   |   |   |--- class: 0\n",
            "|   |   |   |   |   |   |--- DAYS_BIRTH >  -18945.50\n",
            "|   |   |   |   |   |   |   |--- class: 1\n",
            "|   |   |   |   |--- CNT_FAM_MEMBERS >  1.50\n",
            "|   |   |   |   |   |--- class: 1\n",
            "|   |   |   |--- DAYS_BIRTH >  -11007.50\n",
            "|   |   |   |   |--- DAYS_BIRTH <= -10137.50\n",
            "|   |   |   |   |   |--- DAYS_BIRTH <= -11005.50\n",
            "|   |   |   |   |   |   |--- class: 0\n",
            "|   |   |   |   |   |--- DAYS_BIRTH >  -11005.50\n",
            "|   |   |   |   |   |   |--- TOTAL_NO_OF_MONTHS <= 7.50\n",
            "|   |   |   |   |   |   |   |--- class: 1\n",
            "|   |   |   |   |   |   |--- TOTAL_NO_OF_MONTHS >  7.50\n",
            "|   |   |   |   |   |   |   |--- class: 0\n",
            "|   |   |   |   |--- DAYS_BIRTH >  -10137.50\n",
            "|   |   |   |   |   |--- class: 1\n",
            "|   |--- TOTAL_NO_OF_MONTHS >  9.50\n",
            "|   |   |--- TOTAL_NO_OF_MONTHS <= 21.50\n",
            "|   |   |   |--- DAYS_BIRTH <= -9847.50\n",
            "|   |   |   |   |--- DAYS_BIRTH <= -10394.50\n",
            "|   |   |   |   |   |--- DAYS_BIRTH <= -10397.00\n",
            "|   |   |   |   |   |   |--- DAYS_BIRTH <= -10655.50\n",
            "|   |   |   |   |   |   |   |--- DAYS_BIRTH <= -10662.50\n",
            "|   |   |   |   |   |   |   |   |--- FLAG_EMPLOYED <= 0.50\n",
            "|   |   |   |   |   |   |   |   |   |--- class: 1\n",
            "|   |   |   |   |   |   |   |   |--- FLAG_EMPLOYED >  0.50\n",
            "|   |   |   |   |   |   |   |   |   |--- DAYS_BIRTH <= -14215.50\n",
            "|   |   |   |   |   |   |   |   |   |   |--- DAYS_BIRTH <= -15451.00\n",
            "|   |   |   |   |   |   |   |   |   |   |   |--- truncated branch of depth 2\n",
            "|   |   |   |   |   |   |   |   |   |   |--- DAYS_BIRTH >  -15451.00\n",
            "|   |   |   |   |   |   |   |   |   |   |   |--- class: 1\n",
            "|   |   |   |   |   |   |   |   |   |--- DAYS_BIRTH >  -14215.50\n",
            "|   |   |   |   |   |   |   |   |   |   |--- DAYS_BIRTH <= -13918.00\n",
            "|   |   |   |   |   |   |   |   |   |   |   |--- truncated branch of depth 3\n",
            "|   |   |   |   |   |   |   |   |   |   |--- DAYS_BIRTH >  -13918.00\n",
            "|   |   |   |   |   |   |   |   |   |   |   |--- truncated branch of depth 3\n",
            "|   |   |   |   |   |   |   |--- DAYS_BIRTH >  -10662.50\n",
            "|   |   |   |   |   |   |   |   |--- class: 0\n",
            "|   |   |   |   |   |   |--- DAYS_BIRTH >  -10655.50\n",
            "|   |   |   |   |   |   |   |--- class: 1\n",
            "|   |   |   |   |   |--- DAYS_BIRTH >  -10397.00\n",
            "|   |   |   |   |   |   |--- class: 0\n",
            "|   |   |   |   |--- DAYS_BIRTH >  -10394.50\n",
            "|   |   |   |   |   |--- class: 1\n",
            "|   |   |   |--- DAYS_BIRTH >  -9847.50\n",
            "|   |   |   |   |--- DAYS_BIRTH <= -9777.00\n",
            "|   |   |   |   |   |--- TOTAL_NO_OF_MONTHS <= 13.50\n",
            "|   |   |   |   |   |   |--- class: 0\n",
            "|   |   |   |   |   |--- TOTAL_NO_OF_MONTHS >  13.50\n",
            "|   |   |   |   |   |   |--- class: 1\n",
            "|   |   |   |   |--- DAYS_BIRTH >  -9777.00\n",
            "|   |   |   |   |   |--- class: 1\n",
            "|   |   |--- TOTAL_NO_OF_MONTHS >  21.50\n",
            "|   |   |   |--- DAYS_BIRTH <= -17205.50\n",
            "|   |   |   |   |--- DAYS_BIRTH <= -21368.50\n",
            "|   |   |   |   |   |--- DAYS_BIRTH <= -22180.50\n",
            "|   |   |   |   |   |   |--- DAYS_BIRTH <= -22183.50\n",
            "|   |   |   |   |   |   |   |--- TOTAL_NO_OF_MONTHS <= 22.50\n",
            "|   |   |   |   |   |   |   |   |--- class: 0\n",
            "|   |   |   |   |   |   |   |--- TOTAL_NO_OF_MONTHS >  22.50\n",
            "|   |   |   |   |   |   |   |   |--- class: 1\n",
            "|   |   |   |   |   |   |--- DAYS_BIRTH >  -22183.50\n",
            "|   |   |   |   |   |   |   |--- class: 0\n",
            "|   |   |   |   |   |--- DAYS_BIRTH >  -22180.50\n",
            "|   |   |   |   |   |   |--- class: 1\n",
            "|   |   |   |   |--- DAYS_BIRTH >  -21368.50\n",
            "|   |   |   |   |   |--- DAYS_BIRTH <= -21229.50\n",
            "|   |   |   |   |   |   |--- class: 0\n",
            "|   |   |   |   |   |--- DAYS_BIRTH >  -21229.50\n",
            "|   |   |   |   |   |   |--- DAYS_BIRTH <= -20602.50\n",
            "|   |   |   |   |   |   |   |--- class: 1\n",
            "|   |   |   |   |   |   |--- DAYS_BIRTH >  -20602.50\n",
            "|   |   |   |   |   |   |   |--- class: 0\n",
            "|   |   |   |--- DAYS_BIRTH >  -17205.50\n",
            "|   |   |   |   |--- DAYS_BIRTH <= -12968.00\n",
            "|   |   |   |   |   |--- CNT_FAM_MEMBERS <= 3.87\n",
            "|   |   |   |   |   |   |--- TOTAL_NO_OF_MONTHS <= 31.50\n",
            "|   |   |   |   |   |   |   |--- class: 1\n",
            "|   |   |   |   |   |   |--- TOTAL_NO_OF_MONTHS >  31.50\n",
            "|   |   |   |   |   |   |   |--- DAYS_BIRTH <= -14509.00\n",
            "|   |   |   |   |   |   |   |   |--- DAYS_BIRTH <= -14874.50\n",
            "|   |   |   |   |   |   |   |   |   |--- TOTAL_NO_OF_MONTHS <= 34.50\n",
            "|   |   |   |   |   |   |   |   |   |   |--- class: 1\n",
            "|   |   |   |   |   |   |   |   |   |--- TOTAL_NO_OF_MONTHS >  34.50\n",
            "|   |   |   |   |   |   |   |   |   |   |--- class: 0\n",
            "|   |   |   |   |   |   |   |   |--- DAYS_BIRTH >  -14874.50\n",
            "|   |   |   |   |   |   |   |   |   |--- class: 0\n",
            "|   |   |   |   |   |   |   |--- DAYS_BIRTH >  -14509.00\n",
            "|   |   |   |   |   |   |   |   |--- class: 1\n",
            "|   |   |   |   |   |--- CNT_FAM_MEMBERS >  3.87\n",
            "|   |   |   |   |   |   |--- class: 1\n",
            "|   |   |   |   |--- DAYS_BIRTH >  -12968.00\n",
            "|   |   |   |   |   |--- DAYS_BIRTH <= -12074.00\n",
            "|   |   |   |   |   |   |--- class: 0\n",
            "|   |   |   |   |   |--- DAYS_BIRTH >  -12074.00\n",
            "|   |   |   |   |   |   |--- DAYS_BIRTH <= -11331.50\n",
            "|   |   |   |   |   |   |   |--- class: 1\n",
            "|   |   |   |   |   |   |--- DAYS_BIRTH >  -11331.50\n",
            "|   |   |   |   |   |   |   |--- DAYS_BIRTH <= -10389.00\n",
            "|   |   |   |   |   |   |   |   |--- CNT_FAM_MEMBERS <= 3.50\n",
            "|   |   |   |   |   |   |   |   |   |--- class: 0\n",
            "|   |   |   |   |   |   |   |   |--- CNT_FAM_MEMBERS >  3.50\n",
            "|   |   |   |   |   |   |   |   |   |--- class: 1\n",
            "|   |   |   |   |   |   |   |--- DAYS_BIRTH >  -10389.00\n",
            "|   |   |   |   |   |   |   |   |--- DAYS_BIRTH <= -9260.00\n",
            "|   |   |   |   |   |   |   |   |   |--- class: 1\n",
            "|   |   |   |   |   |   |   |   |--- DAYS_BIRTH >  -9260.00\n",
            "|   |   |   |   |   |   |   |   |   |--- DAYS_BIRTH <= -8960.00\n",
            "|   |   |   |   |   |   |   |   |   |   |--- class: 0\n",
            "|   |   |   |   |   |   |   |   |   |--- DAYS_BIRTH >  -8960.00\n",
            "|   |   |   |   |   |   |   |   |   |   |--- class: 1\n",
            "|--- TOTAL_NO_OF_MONTHS >  35.50\n",
            "|   |--- DAYS_BIRTH <= -11222.50\n",
            "|   |   |--- TOTAL_NO_OF_MONTHS <= 39.50\n",
            "|   |   |   |--- class: 0\n",
            "|   |   |--- TOTAL_NO_OF_MONTHS >  39.50\n",
            "|   |   |   |--- class: 0\n",
            "|   |--- DAYS_BIRTH >  -11222.50\n",
            "|   |   |--- class: 0\n",
            "\n"
          ]
        },
        {
          "output_type": "display_data",
          "data": {
            "text/plain": [
              "<Figure size 1440x720 with 1 Axes>"
            ],
            "image/png": "[encoded data removed]"
          },
          "metadata": {}
        }
      ],
      "source": [
        "from sklearn import tree\n",
        "\n",
        "#Building Tree Model\n",
        "DTree = tree.DecisionTreeClassifier(max_leaf_nodes = 50)\n",
        "DTree.fit(DF_M1_X,DF_M1_y)\n",
        "\n",
        "##Plotting the trees \n",
        "import matplotlib.pyplot as plt\n",
        "from sklearn.tree import plot_tree, export_text\n",
        "plt.figure(figsize=(20,10))\n",
        "plot_tree(DTree, filled=True, \n",
        "                     rounded=True,\n",
        "                     impurity=False,\n",
        "                     feature_names = list(DF_M1_X.columns))\n",
        "print( export_text(DTree, feature_names = list(DF_M1_X.columns)))"
      ]
    },
    {
      "cell_type": "markdown",
      "metadata": {
        "id": "Ad6simzN-3AJ"
      },
      "source": [
        "###**TREE VALIDATION**\n"
      ]
    },
    {
      "cell_type": "markdown",
      "metadata": {
        "id": "S-VDG3FlLS6X"
      },
      "source": [
        "FINDINGS-We noticed that in general, the train and test accuracy was almost similar about 89% and the sensitivity also increased, however when tested across the real data there was a huge difference of about 10% which we found. We will try FEATURE ENGINEERING NEXT and build our second model"
      ]
    },
    {
      "cell_type": "code",
      "execution_count": null,
      "metadata": {
        "colab": {
          "base_uri": "https://localhost:8080/"
        },
        "id": "qzO8Pxt2_BSx",
        "outputId": "4e86843c-2fe0-4b02-8119-e870aae4b8f5"
      },
      "outputs": [
        {
          "output_type": "stream",
          "name": "stdout",
          "text": [
            "[[17241  5696]\n",
            " [ 8177 20495]]\n",
            "[[17241  5696]\n",
            " [ 8177 20495]]\n",
            "SENSITIVITY: 0.7516676112830798\n",
            "SPECIFICITY: 0.7148088727678571\n",
            "ACCURACY: 0.7311902962661552\n",
            "PRECISION_CLASS0 :  0.6782988433393659\n",
            "RECALL_CLASS0 :  0.7516676112830798\n",
            "F1_CLASS0 :  0.7131010236790405\n",
            "PRECISION_CLASS1 :  0.7825207132220992\n",
            "RECALL_CLASS1 :  0.7148088727678571\n",
            "F1_CLASS1 :  0.747133769571478\n"
          ]
        }
      ],
      "source": [
        "##########Tree Validation\n",
        "#Tree Validation\n",
        "predict1 = DTree.predict(DF_M1_X)\n",
        "\n",
        "from sklearn.metrics import confusion_matrix ###for using confusion matrix###\n",
        "CM_M1 = confusion_matrix(DF_M1_y, predict1)\n",
        "print(CM_M1)\n",
        "\n",
        "CM_M1 = confusion_matrix(DF_M1_y,predict1)\n",
        "print(CM_M1)\n",
        "SENSITIVITY_M1=(CM_M1[0,0]/(CM_M1[0,0]+CM_M1[0,1]))\n",
        "SPECIFICITY_M1=(CM_M1[1,1]/(CM_M1[1,0]+CM_M1[1,1]))\n",
        "ACCURACY_M1=(CM_M1[0,0]+CM_M1[1,1])/(CM_M1.sum().sum())\n",
        "PRECISION_CLASS0 = CM_M1[0,0]/(CM_M1[0,0]+CM_M1[1,0])\n",
        "RECALL_CLASS0 = CM_M1[0,0]/(CM_M1[0,0]+CM_M1[0,1])\n",
        "F1_CLASS0 = 2/((1/PRECISION_CLASS0)+(1/RECALL_CLASS0))\n",
        "PRECISION_CLASS1 = CM_M1[1,1]/(CM_M1[0,1]+CM_M1[1,1])\n",
        "RECALL_CLASS1 = CM_M1[1,1]/(CM_M1[1,0]+CM_M1[1,1])\n",
        "F1_CLASS1 = 2/((1/PRECISION_CLASS1)+(1/RECALL_CLASS1))\n",
        "\n",
        "print('SENSITIVITY:',SENSITIVITY_M1)\n",
        "print('SPECIFICITY:',SPECIFICITY_M1)\n",
        "print('ACCURACY:',ACCURACY_M1)\n",
        "print('PRECISION_CLASS0 : ', PRECISION_CLASS0 )\n",
        "print('RECALL_CLASS0 : ', RECALL_CLASS0 )\n",
        "print('F1_CLASS0 : ', F1_CLASS0 )\n",
        "print('PRECISION_CLASS1 : ', PRECISION_CLASS1 )\n",
        "print('RECALL_CLASS1 : ', RECALL_CLASS1 )\n",
        "print('F1_CLASS1 : ', F1_CLASS1 )"
      ]
    },
    {
      "cell_type": "code",
      "execution_count": null,
      "metadata": {
        "id": "5DpGEiKNA7nX"
      },
      "outputs": [],
      "source": [
        "\n",
        "DF_REAL_DATA=DF[['TOTAL_NO_OF_MONTHS', 'DAYS_BIRTH', 'CNT_FAM_MEMBERS', 'FLAG_EMPLOYED','GOOD_OR_BAD']]\n",
        "DF_M1_BAL_TRAIN_TEST=DF_M1_BAL.drop(['FLAG_MOBIL','CNT_CHILDREN'],axis=1)"
      ]
    },
    {
      "cell_type": "code",
      "execution_count": null,
      "metadata": {
        "colab": {
          "base_uri": "https://localhost:8080/"
        },
        "id": "hi9-byVaBoMx",
        "outputId": "2414a1d4-ef8d-4013-8fc2-f3817695b4b9"
      },
      "outputs": [
        {
          "output_type": "stream",
          "name": "stdout",
          "text": [
            "Index(['TOTAL_NO_OF_MONTHS', 'DAYS_BIRTH', 'CNT_FAM_MEMBERS', 'FLAG_EMPLOYED',\n",
            "       'GOOD_OR_BAD'],\n",
            "      dtype='object')\n",
            "Index(['TOTAL_NO_OF_MONTHS', 'DAYS_BIRTH', 'CNT_FAM_MEMBERS', 'FLAG_EMPLOYED',\n",
            "       'GOOD_OR_BAD'],\n",
            "      dtype='object')\n"
          ]
        }
      ],
      "source": [
        "print(DF_REAL_DATA.columns)\n",
        "print(DF_M1_BAL_TRAIN_TEST.columns)"
      ]
    },
    {
      "cell_type": "code",
      "execution_count": null,
      "metadata": {
        "id": "URfe9IZ6Bx4X"
      },
      "outputs": [],
      "source": [
        "\n",
        "X_REAL_DATA=DF_REAL_DATA.drop('GOOD_OR_BAD',axis=1)\n",
        "y_REAL_DATA=DF_REAL_DATA[['GOOD_OR_BAD']]\n",
        "#SPLITTING TRAIN AND TEST DATA\n",
        "# X_train, X_test, y_train, y_test = train_test_split(X, y, test_size=0.2, random_state=42)\n",
        "X_train_real, X_test_real, y_train_real, y_test_real = train_test_split(X_REAL_DATA,y_REAL_DATA, train_size = 0.8 , random_state=333)\n",
        "\n"
      ]
    },
    {
      "cell_type": "code",
      "execution_count": null,
      "metadata": {
        "id": "Rsvn81Q9DvkS"
      },
      "outputs": [],
      "source": [
        "X_BAL_DATA=DF_M1_BAL_TRAIN_TEST.drop('GOOD_OR_BAD',axis=1)\n",
        "y_BAL_DATA=DF_M1_BAL_TRAIN_TEST[['GOOD_OR_BAD']]\n",
        "#SPLITTING TRAIN AND TEST DATA\n",
        "# X_train, X_test, y_train, y_test = train_test_split(X, y, test_size=0.2, random_state=42)\n",
        "X_train_bal, X_test_bal, y_train_bal, y_test_bal = train_test_split(X_BAL_DATA,y_BAL_DATA, train_size = 0.8 , random_state=333)\n"
      ]
    },
    {
      "cell_type": "code",
      "execution_count": null,
      "metadata": {
        "colab": {
          "base_uri": "https://localhost:8080/"
        },
        "id": "JgYGp6PnEdn8",
        "outputId": "31ef8adf-ca1a-49d0-b2d4-d4f0721af8d4"
      },
      "outputs": [
        {
          "output_type": "stream",
          "name": "stdout",
          "text": [
            "TRAIN DATA PARAMETERS \n",
            "\n",
            "[[16826  1518]\n",
            " [ 6621 16322]]\n",
            "SENSITIVITY: 0.9172481465329263\n",
            "SPECIFICITY: 0.711415246480408\n",
            "ACCURACY: 0.8028677307627098\n",
            "PRECISION_CLASS0 :  0.7176184586514266\n",
            "RECALL_CLASS0 :  0.9172481465329263\n",
            "F1_CLASS0 :  0.8052451484769447\n",
            "PRECISION_CLASS1 :  0.9149103139013453\n",
            "RECALL_CLASS1 :  0.711415246480408\n",
            "F1_CLASS1 :  0.800431552362504\n"
          ]
        }
      ],
      "source": [
        "#Building Tree Model\n",
        "DTree = tree.DecisionTreeClassifier(max_leaf_nodes = 150)\n",
        "DTree.fit(X_train_bal,y_train_bal)\n",
        "\n",
        "\n",
        "predict1 = DTree.predict(X_train_bal)\n",
        "\n",
        "from sklearn.metrics import confusion_matrix ###for using confusion matrix###\n",
        "CM_M1 = confusion_matrix(y_train_bal, predict1)\n",
        "\n",
        "\n",
        "SENSITIVITY_M1=(CM_M1[0,0]/(CM_M1[0,0]+CM_M1[0,1]))\n",
        "SPECIFICITY_M1=(CM_M1[1,1]/(CM_M1[1,0]+CM_M1[1,1]))\n",
        "ACCURACY_M1=(CM_M1[0,0]+CM_M1[1,1])/(CM_M1.sum().sum())\n",
        "PRECISION_CLASS0 = CM_M1[0,0]/(CM_M1[0,0]+CM_M1[1,0])\n",
        "RECALL_CLASS0 = CM_M1[0,0]/(CM_M1[0,0]+CM_M1[0,1])\n",
        "F1_CLASS0 = 2/((1/PRECISION_CLASS0)+(1/RECALL_CLASS0))\n",
        "PRECISION_CLASS1 = CM_M1[1,1]/(CM_M1[0,1]+CM_M1[1,1])\n",
        "RECALL_CLASS1 = CM_M1[1,1]/(CM_M1[1,0]+CM_M1[1,1])\n",
        "F1_CLASS1 = 2/((1/PRECISION_CLASS1)+(1/RECALL_CLASS1))\n",
        "print('TRAIN DATA PARAMETERS \\n')\n",
        "print(CM_M1)\n",
        "print('SENSITIVITY:',SENSITIVITY_M1)\n",
        "print('SPECIFICITY:',SPECIFICITY_M1)\n",
        "print('ACCURACY:',ACCURACY_M1)\n",
        "print('PRECISION_CLASS0 : ', PRECISION_CLASS0 )\n",
        "print('RECALL_CLASS0 : ', RECALL_CLASS0 )\n",
        "print('F1_CLASS0 : ', F1_CLASS0 )\n",
        "print('PRECISION_CLASS1 : ', PRECISION_CLASS1 )\n",
        "print('RECALL_CLASS1 : ', RECALL_CLASS1 )\n",
        "print('F1_CLASS1 : ', F1_CLASS1 )"
      ]
    },
    {
      "cell_type": "code",
      "execution_count": null,
      "metadata": {
        "colab": {
          "base_uri": "https://localhost:8080/"
        },
        "id": "mdm0eW_CFKea",
        "outputId": "70604ee2-f997-4409-a7a2-d90cf824bd8a"
      },
      "outputs": [
        {
          "output_type": "stream",
          "name": "stdout",
          "text": [
            "TEST DATA PARAMETERS \n",
            "\n",
            "[[4168  425]\n",
            " [1691 4038]]\n",
            "SENSITIVITY: 0.9074678859133464\n",
            "SPECIFICITY: 0.7048350497469017\n",
            "ACCURACY: 0.7950009688044952\n",
            "PRECISION_CLASS0 :  0.7113841952551629\n",
            "RECALL_CLASS0 :  0.9074678859133464\n",
            "F1_CLASS0 :  0.7975507079984692\n",
            "PRECISION_CLASS1 :  0.9047725745014564\n",
            "RECALL_CLASS1 :  0.7048350497469017\n",
            "F1_CLASS1 :  0.7923861852433282\n"
          ]
        }
      ],
      "source": [
        "DTree = tree.DecisionTreeClassifier(max_leaf_nodes = 150)\n",
        "DTree.fit(X_train_bal,y_train_bal)\n",
        "\n",
        "\n",
        "predict1 = DTree.predict(X_test_bal)\n",
        "\n",
        "from sklearn.metrics import confusion_matrix ###for using confusion matrix###\n",
        "CM_M1 = confusion_matrix(y_test_bal, predict1)\n",
        "\n",
        "\n",
        "SENSITIVITY_M1=(CM_M1[0,0]/(CM_M1[0,0]+CM_M1[0,1]))\n",
        "SPECIFICITY_M1=(CM_M1[1,1]/(CM_M1[1,0]+CM_M1[1,1]))\n",
        "ACCURACY_M1=(CM_M1[0,0]+CM_M1[1,1])/(CM_M1.sum().sum())\n",
        "PRECISION_CLASS0 = CM_M1[0,0]/(CM_M1[0,0]+CM_M1[1,0])\n",
        "RECALL_CLASS0 = CM_M1[0,0]/(CM_M1[0,0]+CM_M1[0,1])\n",
        "F1_CLASS0 = 2/((1/PRECISION_CLASS0)+(1/RECALL_CLASS0))\n",
        "PRECISION_CLASS1 = CM_M1[1,1]/(CM_M1[0,1]+CM_M1[1,1])\n",
        "RECALL_CLASS1 = CM_M1[1,1]/(CM_M1[1,0]+CM_M1[1,1])\n",
        "F1_CLASS1 = 2/((1/PRECISION_CLASS1)+(1/RECALL_CLASS1))\n",
        "print('TEST DATA PARAMETERS \\n')\n",
        "print(CM_M1)\n",
        "print('SENSITIVITY:',SENSITIVITY_M1)\n",
        "print('SPECIFICITY:',SPECIFICITY_M1)\n",
        "print('ACCURACY:',ACCURACY_M1)\n",
        "print('PRECISION_CLASS0 : ', PRECISION_CLASS0 )\n",
        "print('RECALL_CLASS0 : ', RECALL_CLASS0 )\n",
        "print('F1_CLASS0 : ', F1_CLASS0 )\n",
        "print('PRECISION_CLASS1 : ', PRECISION_CLASS1 )\n",
        "print('RECALL_CLASS1 : ', RECALL_CLASS1 )\n",
        "print('F1_CLASS1 : ', F1_CLASS1 )"
      ]
    },
    {
      "cell_type": "markdown",
      "metadata": {
        "id": "sZ3CrFv9JHo-"
      },
      "source": [
        "# FEATURE ENGINEERING"
      ]
    },
    {
      "cell_type": "markdown",
      "source": [
        "####APPLYING LABEL ENCODING ON ALL FLAGS\n",
        "\n",
        "\n",
        "*   FLAG_GENDER\n",
        "*   FLAG_OWN_CAR\n",
        "*   FLAG_OWN_REALTY\n",
        "*   NAME_EDUCATION_TYPE"
      ],
      "metadata": {
        "id": "OYzDe9b_eUEf"
      }
    },
    {
      "cell_type": "code",
      "execution_count": null,
      "metadata": {
        "colab": {
          "base_uri": "https://localhost:8080/"
        },
        "id": "DaXqhlB3JMLW",
        "outputId": "442e0984-703e-45de-f66c-2632cb0a678d"
      },
      "outputs": [
        {
          "output_type": "stream",
          "name": "stderr",
          "text": [
            "/usr/local/lib/python3.7/dist-packages/ipykernel_launcher.py:5: SettingWithCopyWarning: \n",
            "A value is trying to be set on a copy of a slice from a DataFrame\n",
            "\n",
            "See the caveats in the documentation: https://pandas.pydata.org/pandas-docs/stable/user_guide/indexing.html#returning-a-view-versus-a-copy\n",
            "  \"\"\"\n"
          ]
        }
      ],
      "source": [
        "# APPLYING LABEL ENCODING ON ALL FLAGS\n",
        "# CONVERTING CODE_GENDER FORM M,F TO 1,0 FOR PREDICTIVE MODELLING\n",
        "DF_FE=DF.drop(columns=['ID','1_MONTH_LATE','2_MONTH_LATE','3_MONTH_LATE','4_MONTH_LATE','5_MONTH_LATE','OVERDUE_BAD_DEBT','PAID_OFF','NO_LOAN'])\n",
        "DF_FE['FLAG_GENDER']=1\n",
        "DF_FE['FLAG_GENDER'][DF['CODE_GENDER']=='F']=0\n",
        "\n"
      ]
    },
    {
      "cell_type": "code",
      "source": [
        "# CONVERTING FLAG_OWN_CAR FORM Y,N TO 1,0 FOR PREDICTIVE MODELLING\n",
        "DF_FE[['FLAG_OWN_CAR']]= DF_FE[['FLAG_OWN_CAR']].replace(['N','Y'],[0,1])\n"
      ],
      "metadata": {
        "id": "uWySrNUPIVr2"
      },
      "execution_count": null,
      "outputs": []
    },
    {
      "cell_type": "code",
      "source": [
        "# CONVERTING FLAG_OWN_REALTY FORM Y,N TO 1,0 FOR PREDICTIVE MODELLING\n",
        "DF_FE[['FLAG_OWN_REALTY']]=DF_FE[['FLAG_OWN_REALTY']].replace(['N','Y'],[0,1])\n"
      ],
      "metadata": {
        "id": "nZB-l2R0IaWk"
      },
      "execution_count": null,
      "outputs": []
    },
    {
      "cell_type": "code",
      "source": [
        "# CONVERTING VALUES TO INTEGER TYPE\n",
        "DF_FE = DF_FE.astype({\"CNT_FAM_MEMBERS\":'int',\"AMT_INCOME_TOTAL_NEW\":'int'}) \n"
      ],
      "metadata": {
        "id": "OduuRD9ZIcBl"
      },
      "execution_count": null,
      "outputs": []
    },
    {
      "cell_type": "code",
      "source": [
        "# CONVERTING NAME_EDUCATION_TYPE AS PER THE FOLLOWING ORDER\n",
        "# Lower secondary-0\n",
        "# Secondary / secondary special-1\n",
        "# Incomplete higher-2\n",
        "# Higher education-3\n",
        "# Academic degree-4\n",
        "\n",
        "DF_FE[['NAME_EDUCATION_TYPE']]=DF_FE[['NAME_EDUCATION_TYPE']].replace(['Lower secondary','Secondary / secondary special','Incomplete higher','Higher education','Academic degree'],[0,1,2,3,4])\n",
        "DF_FE[['NAME_EDUCATION_TYPE']].value_counts()\n"
      ],
      "metadata": {
        "colab": {
          "base_uri": "https://localhost:8080/"
        },
        "id": "G70LIbexIgZw",
        "outputId": "83f498e8-1091-437e-ce6f-2750084e9115"
      },
      "execution_count": null,
      "outputs": [
        {
          "output_type": "execute_result",
          "data": {
            "text/plain": [
              "NAME_EDUCATION_TYPE\n",
              "1                      24777\n",
              "3                       9864\n",
              "2                       1410\n",
              "0                        374\n",
              "4                         32\n",
              "dtype: int64"
            ]
          },
          "metadata": {},
          "execution_count": 188
        }
      ]
    },
    {
      "cell_type": "code",
      "source": [
        "DF_FE.dtypes"
      ],
      "metadata": {
        "colab": {
          "base_uri": "https://localhost:8080/"
        },
        "id": "F2FBQrJVb5IK",
        "outputId": "49f51db1-1525-4bd4-98a5-45abeb082f56"
      },
      "execution_count": null,
      "outputs": [
        {
          "output_type": "execute_result",
          "data": {
            "text/plain": [
              "TOTAL_NO_OF_MONTHS       int64\n",
              "GOOD_OR_BAD              int64\n",
              "CODE_GENDER             object\n",
              "FLAG_OWN_CAR             int64\n",
              "FLAG_OWN_REALTY          int64\n",
              "CNT_CHILDREN             int64\n",
              "NAME_INCOME_TYPE        object\n",
              "NAME_EDUCATION_TYPE      int64\n",
              "NAME_FAMILY_STATUS      object\n",
              "NAME_HOUSING_TYPE       object\n",
              "DAYS_BIRTH               int64\n",
              "DAYS_EMPLOYED            int64\n",
              "FLAG_MOBIL               int64\n",
              "FLAG_WORK_PHONE          int64\n",
              "FLAG_PHONE               int64\n",
              "FLAG_EMAIL               int64\n",
              "OCCUPATION_TYPE         object\n",
              "CNT_FAM_MEMBERS          int64\n",
              "AMT_INCOME_TOTAL_NEW     int64\n",
              "FLAG_EMPLOYED            int64\n",
              "FLAG_GENDER              int64\n",
              "dtype: object"
            ]
          },
          "metadata": {},
          "execution_count": 189
        }
      ]
    },
    {
      "cell_type": "markdown",
      "source": [
        "####CALCULATING YEARS OF EMPLOYMENT FROM DAYS_EMPLOYED"
      ],
      "metadata": {
        "id": "8B9JV0RAesk8"
      }
    },
    {
      "cell_type": "code",
      "execution_count": null,
      "metadata": {
        "colab": {
          "base_uri": "https://localhost:8080/"
        },
        "id": "omywFhCzPkVC",
        "outputId": "ff91e464-f1e3-4124-d232-cd78a3c5b513"
      },
      "outputs": [
        {
          "output_type": "stream",
          "name": "stderr",
          "text": [
            "/usr/local/lib/python3.7/dist-packages/ipykernel_launcher.py:5: SettingWithCopyWarning: \n",
            "A value is trying to be set on a copy of a slice from a DataFrame\n",
            "\n",
            "See the caveats in the documentation: https://pandas.pydata.org/pandas-docs/stable/user_guide/indexing.html#returning-a-view-versus-a-copy\n",
            "  \"\"\"\n"
          ]
        },
        {
          "output_type": "execute_result",
          "data": {
            "text/plain": [
              "array([12,  3,  8,  0,  2,  4,  6,  9, 19, 15,  5, 13,  7, 17, 30, 16, 11,\n",
              "        1, 10, 24, 14, 25, 20, 27, 18, 21, 23, 22, 28, 39, 32, 33, 37, 26,\n",
              "       38, 31, 29, 35, 34, 41, 40, 36, 42, 43])"
            ]
          },
          "metadata": {},
          "execution_count": 190
        }
      ],
      "source": [
        "#FOR DAYS EMPLOYED, PEOPLE WHO HAVE DAYS EMPLOYED AS +VE WILL BE COUNTED AS 0\n",
        "#FOR PEOPLE WITH -VE DAYS EMPLOYED, IT WILL BE COUNTED AS YEARS BY DIVIDING THE YEARS WITH 365\n",
        "DF_FE['DAYS_EMPLOYED']\n",
        "DF_FE['YEARS_OF_EMPLOYMENT']=0\n",
        "DF_FE['YEARS_OF_EMPLOYMENT'][DF['DAYS_EMPLOYED']<0]=round((DF['DAYS_EMPLOYED']/365)*-1,0).astype(int)\n",
        "DF_FE['YEARS_OF_EMPLOYMENT'].unique()\n",
        "\n"
      ]
    },
    {
      "cell_type": "markdown",
      "source": [
        "####CALCULATING AGE FROM DAYS_BIRTH"
      ],
      "metadata": {
        "id": "xs-S8BXpe3yZ"
      }
    },
    {
      "cell_type": "code",
      "execution_count": null,
      "metadata": {
        "colab": {
          "base_uri": "https://localhost:8080/"
        },
        "id": "6DnMPMjyR9iR",
        "outputId": "e4185982-8c76-43af-87ad-ae8d8406177a"
      },
      "outputs": [
        {
          "output_type": "stream",
          "name": "stderr",
          "text": [
            "/usr/local/lib/python3.7/dist-packages/ipykernel_launcher.py:5: SettingWithCopyWarning: \n",
            "A value is trying to be set on a copy of a slice from a DataFrame\n",
            "\n",
            "See the caveats in the documentation: https://pandas.pydata.org/pandas-docs/stable/user_guide/indexing.html#returning-a-view-versus-a-copy\n",
            "  \"\"\"\n"
          ]
        },
        {
          "output_type": "execute_result",
          "data": {
            "text/plain": [
              "array([33, 59, 52, 62, 46, 49, 29, 51, 27, 30, 35, 32, 56, 43, 44, 34, 55,\n",
              "       47, 37, 42, 28, 61, 57, 45, 54, 40, 39, 48, 24, 21, 36, 26, 50, 63,\n",
              "       58, 41, 60, 64, 31, 38, 53, 22, 23, 25, 65, 67, 66, 69, 68])"
            ]
          },
          "metadata": {},
          "execution_count": 191
        }
      ],
      "source": [
        "#FOR AGE, PEOPLE WHO HAVE DAYS_BIRTH AS +VE WILL BE COUNTED AS 0\n",
        "#FOR PEOPLE WITH -VE DAYS_BIRTH IT WILL BE COUNTED AS YEARS BY DIVIDING THE YEARS WITH 365\n",
        "DF_FE['DAYS_BIRTH']\n",
        "DF_FE['AGE']=0\n",
        "DF_FE['AGE'][DF['DAYS_BIRTH']<0]=round((DF['DAYS_BIRTH']/365)*-1,0).astype(int)\n",
        "DF_FE['AGE'].unique()\n"
      ]
    },
    {
      "cell_type": "code",
      "execution_count": null,
      "metadata": {
        "colab": {
          "base_uri": "https://localhost:8080/"
        },
        "id": "7SzWdR-6iN0i",
        "outputId": "4cca1169-0dc8-4443-a1ce-db45cf30dde5"
      },
      "outputs": [
        {
          "output_type": "execute_result",
          "data": {
            "text/plain": [
              "Index(['TOTAL_NO_OF_MONTHS', 'GOOD_OR_BAD', 'CODE_GENDER', 'FLAG_OWN_CAR',\n",
              "       'FLAG_OWN_REALTY', 'CNT_CHILDREN', 'NAME_INCOME_TYPE',\n",
              "       'NAME_EDUCATION_TYPE', 'NAME_FAMILY_STATUS', 'NAME_HOUSING_TYPE',\n",
              "       'DAYS_BIRTH', 'DAYS_EMPLOYED', 'FLAG_MOBIL', 'FLAG_WORK_PHONE',\n",
              "       'FLAG_PHONE', 'FLAG_EMAIL', 'OCCUPATION_TYPE', 'CNT_FAM_MEMBERS',\n",
              "       'AMT_INCOME_TOTAL_NEW', 'FLAG_EMPLOYED', 'FLAG_GENDER',\n",
              "       'YEARS_OF_EMPLOYMENT', 'AGE'],\n",
              "      dtype='object')"
            ]
          },
          "metadata": {},
          "execution_count": 192
        }
      ],
      "source": [
        "DF_FE.columns"
      ]
    },
    {
      "cell_type": "markdown",
      "source": [
        "####DROPPING THE VALUES WHICH ARE NOT IN USE OR ALREADY ENGINEERED AND REPLACED\n",
        "####DROPPING FLAG_MOBIL AS IT IS A SINGULAR MATRIX"
      ],
      "metadata": {
        "id": "GWHb7fU9fA23"
      }
    },
    {
      "cell_type": "code",
      "execution_count": null,
      "metadata": {
        "colab": {
          "base_uri": "https://localhost:8080/"
        },
        "id": "woZmBX6eiFMb",
        "outputId": "6a1080d5-f943-4ca1-8157-dc78569ee807"
      },
      "outputs": [
        {
          "output_type": "execute_result",
          "data": {
            "text/plain": [
              "Index(['TOTAL_NO_OF_MONTHS', 'GOOD_OR_BAD', 'FLAG_OWN_CAR', 'FLAG_OWN_REALTY',\n",
              "       'CNT_CHILDREN', 'NAME_INCOME_TYPE', 'NAME_EDUCATION_TYPE',\n",
              "       'NAME_FAMILY_STATUS', 'NAME_HOUSING_TYPE', 'FLAG_WORK_PHONE',\n",
              "       'FLAG_PHONE', 'FLAG_EMAIL', 'OCCUPATION_TYPE', 'CNT_FAM_MEMBERS',\n",
              "       'AMT_INCOME_TOTAL_NEW', 'FLAG_EMPLOYED', 'FLAG_GENDER',\n",
              "       'YEARS_OF_EMPLOYMENT', 'AGE'],\n",
              "      dtype='object')"
            ]
          },
          "metadata": {},
          "execution_count": 193
        }
      ],
      "source": [
        "DF_FE=DF_FE.drop(['CODE_GENDER','DAYS_EMPLOYED','DAYS_BIRTH','FLAG_MOBIL'],axis=1)\n",
        "DF_FE.columns"
      ]
    },
    {
      "cell_type": "code",
      "source": [
        "DF_FE"
      ],
      "metadata": {
        "colab": {
          "base_uri": "https://localhost:8080/",
          "height": 522
        },
        "id": "nyEN_MgM17S1",
        "outputId": "cadccfbb-b341-465d-9993-1ce058849ae5"
      },
      "execution_count": null,
      "outputs": [
        {
          "output_type": "execute_result",
          "data": {
            "text/plain": [
              "       TOTAL_NO_OF_MONTHS  GOOD_OR_BAD  FLAG_OWN_CAR  FLAG_OWN_REALTY  \\\n",
              "0                      16            1             1                1   \n",
              "1                      15            1             1                1   \n",
              "2                      30            1             1                1   \n",
              "3                       5            1             0                1   \n",
              "4                       5            1             0                1   \n",
              "...                   ...          ...           ...              ...   \n",
              "36452                  18            1             1                1   \n",
              "36453                  18            1             1                1   \n",
              "36454                  13            1             1                1   \n",
              "36455                   2            1             1                1   \n",
              "36456                  30            1             1                0   \n",
              "\n",
              "       CNT_CHILDREN      NAME_INCOME_TYPE  NAME_EDUCATION_TYPE  \\\n",
              "0                 0               Working                    3   \n",
              "1                 0               Working                    3   \n",
              "2                 0               Working                    1   \n",
              "3                 0  Commercial associate                    1   \n",
              "4                 0  Commercial associate                    1   \n",
              "...             ...                   ...                  ...   \n",
              "36452             1               Working                    1   \n",
              "36453             1               Working                    1   \n",
              "36454             1               Working                    1   \n",
              "36455             1               Working                    1   \n",
              "36456             0               Working                    1   \n",
              "\n",
              "         NAME_FAMILY_STATUS  NAME_HOUSING_TYPE  FLAG_WORK_PHONE  FLAG_PHONE  \\\n",
              "0            Civil marriage   Rented apartment                1           0   \n",
              "1            Civil marriage   Rented apartment                1           0   \n",
              "2                   Married  House / apartment                0           0   \n",
              "3      Single / not married  House / apartment                0           1   \n",
              "4      Single / not married  House / apartment                0           1   \n",
              "...                     ...                ...              ...         ...   \n",
              "36452               Married  House / apartment                0           0   \n",
              "36453               Married  House / apartment                0           0   \n",
              "36454               Married  House / apartment                0           0   \n",
              "36455               Married  House / apartment                0           0   \n",
              "36456               Married  House / apartment                0           0   \n",
              "\n",
              "       FLAG_EMAIL OCCUPATION_TYPE  CNT_FAM_MEMBERS  AMT_INCOME_TOTAL_NEW  \\\n",
              "0               0      Missing NA                2                427500   \n",
              "1               0      Missing NA                2                427500   \n",
              "2               0  Security staff                2                112500   \n",
              "3               1     Sales staff                1                270000   \n",
              "4               1     Sales staff                1                270000   \n",
              "...           ...             ...              ...                   ...   \n",
              "36452           0      Core staff                3                157500   \n",
              "36453           0      Core staff                3                157500   \n",
              "36454           0      Core staff                3                157500   \n",
              "36455           0      Core staff                3                157500   \n",
              "36456           0         Drivers                2                202500   \n",
              "\n",
              "       FLAG_EMPLOYED  FLAG_GENDER  YEARS_OF_EMPLOYMENT  AGE  \n",
              "0                  1            1                   12   33  \n",
              "1                  1            1                   12   33  \n",
              "2                  1            1                    3   59  \n",
              "3                  1            0                    8   52  \n",
              "4                  1            0                    8   52  \n",
              "...              ...          ...                  ...  ...  \n",
              "36452              1            0                    5   30  \n",
              "36453              1            0                    5   30  \n",
              "36454              1            0                    5   30  \n",
              "36455              1            0                    5   30  \n",
              "36456              1            1                    6   53  \n",
              "\n",
              "[36457 rows x 19 columns]"
            ],
            "text/html": [
              "\n",
              "  <div id=\"df-91b5abbe-a041-41c8-aed4-6e222ed655cf\">\n",
              "    <div class=\"colab-df-container\">\n",
              "      <div>\n",
              "<style scoped>\n",
              "    .dataframe tbody tr th:only-of-type {\n",
              "        vertical-align: middle;\n",
              "    }\n",
              "\n",
              "    .dataframe tbody tr th {\n",
              "        vertical-align: top;\n",
              "    }\n",
              "\n",
              "    .dataframe thead th {\n",
              "        text-align: right;\n",
              "    }\n",
              "</style>\n",
              "<table border=\"1\" class=\"dataframe\">\n",
              "  <thead>\n",
              "    <tr style=\"text-align: right;\">\n",
              "      <th></th>\n",
              "      <th>TOTAL_NO_OF_MONTHS</th>\n",
              "      <th>GOOD_OR_BAD</th>\n",
              "      <th>FLAG_OWN_CAR</th>\n",
              "      <th>FLAG_OWN_REALTY</th>\n",
              "      <th>CNT_CHILDREN</th>\n",
              "      <th>NAME_INCOME_TYPE</th>\n",
              "      <th>NAME_EDUCATION_TYPE</th>\n",
              "      <th>NAME_FAMILY_STATUS</th>\n",
              "      <th>NAME_HOUSING_TYPE</th>\n",
              "      <th>FLAG_WORK_PHONE</th>\n",
              "      <th>FLAG_PHONE</th>\n",
              "      <th>FLAG_EMAIL</th>\n",
              "      <th>OCCUPATION_TYPE</th>\n",
              "      <th>CNT_FAM_MEMBERS</th>\n",
              "      <th>AMT_INCOME_TOTAL_NEW</th>\n",
              "      <th>FLAG_EMPLOYED</th>\n",
              "      <th>FLAG_GENDER</th>\n",
              "      <th>YEARS_OF_EMPLOYMENT</th>\n",
              "      <th>AGE</th>\n",
              "    </tr>\n",
              "  </thead>\n",
              "  <tbody>\n",
              "    <tr>\n",
              "      <th>0</th>\n",
              "      <td>16</td>\n",
              "      <td>1</td>\n",
              "      <td>1</td>\n",
              "      <td>1</td>\n",
              "      <td>0</td>\n",
              "      <td>Working</td>\n",
              "      <td>3</td>\n",
              "      <td>Civil marriage</td>\n",
              "      <td>Rented apartment</td>\n",
              "      <td>1</td>\n",
              "      <td>0</td>\n",
              "      <td>0</td>\n",
              "      <td>Missing NA</td>\n",
              "      <td>2</td>\n",
              "      <td>427500</td>\n",
              "      <td>1</td>\n",
              "      <td>1</td>\n",
              "      <td>12</td>\n",
              "      <td>33</td>\n",
              "    </tr>\n",
              "    <tr>\n",
              "      <th>1</th>\n",
              "      <td>15</td>\n",
              "      <td>1</td>\n",
              "      <td>1</td>\n",
              "      <td>1</td>\n",
              "      <td>0</td>\n",
              "      <td>Working</td>\n",
              "      <td>3</td>\n",
              "      <td>Civil marriage</td>\n",
              "      <td>Rented apartment</td>\n",
              "      <td>1</td>\n",
              "      <td>0</td>\n",
              "      <td>0</td>\n",
              "      <td>Missing NA</td>\n",
              "      <td>2</td>\n",
              "      <td>427500</td>\n",
              "      <td>1</td>\n",
              "      <td>1</td>\n",
              "      <td>12</td>\n",
              "      <td>33</td>\n",
              "    </tr>\n",
              "    <tr>\n",
              "      <th>2</th>\n",
              "      <td>30</td>\n",
              "      <td>1</td>\n",
              "      <td>1</td>\n",
              "      <td>1</td>\n",
              "      <td>0</td>\n",
              "      <td>Working</td>\n",
              "      <td>1</td>\n",
              "      <td>Married</td>\n",
              "      <td>House / apartment</td>\n",
              "      <td>0</td>\n",
              "      <td>0</td>\n",
              "      <td>0</td>\n",
              "      <td>Security staff</td>\n",
              "      <td>2</td>\n",
              "      <td>112500</td>\n",
              "      <td>1</td>\n",
              "      <td>1</td>\n",
              "      <td>3</td>\n",
              "      <td>59</td>\n",
              "    </tr>\n",
              "    <tr>\n",
              "      <th>3</th>\n",
              "      <td>5</td>\n",
              "      <td>1</td>\n",
              "      <td>0</td>\n",
              "      <td>1</td>\n",
              "      <td>0</td>\n",
              "      <td>Commercial associate</td>\n",
              "      <td>1</td>\n",
              "      <td>Single / not married</td>\n",
              "      <td>House / apartment</td>\n",
              "      <td>0</td>\n",
              "      <td>1</td>\n",
              "      <td>1</td>\n",
              "      <td>Sales staff</td>\n",
              "      <td>1</td>\n",
              "      <td>270000</td>\n",
              "      <td>1</td>\n",
              "      <td>0</td>\n",
              "      <td>8</td>\n",
              "      <td>52</td>\n",
              "    </tr>\n",
              "    <tr>\n",
              "      <th>4</th>\n",
              "      <td>5</td>\n",
              "      <td>1</td>\n",
              "      <td>0</td>\n",
              "      <td>1</td>\n",
              "      <td>0</td>\n",
              "      <td>Commercial associate</td>\n",
              "      <td>1</td>\n",
              "      <td>Single / not married</td>\n",
              "      <td>House / apartment</td>\n",
              "      <td>0</td>\n",
              "      <td>1</td>\n",
              "      <td>1</td>\n",
              "      <td>Sales staff</td>\n",
              "      <td>1</td>\n",
              "      <td>270000</td>\n",
              "      <td>1</td>\n",
              "      <td>0</td>\n",
              "      <td>8</td>\n",
              "      <td>52</td>\n",
              "    </tr>\n",
              "    <tr>\n",
              "      <th>...</th>\n",
              "      <td>...</td>\n",
              "      <td>...</td>\n",
              "      <td>...</td>\n",
              "      <td>...</td>\n",
              "      <td>...</td>\n",
              "      <td>...</td>\n",
              "      <td>...</td>\n",
              "      <td>...</td>\n",
              "      <td>...</td>\n",
              "      <td>...</td>\n",
              "      <td>...</td>\n",
              "      <td>...</td>\n",
              "      <td>...</td>\n",
              "      <td>...</td>\n",
              "      <td>...</td>\n",
              "      <td>...</td>\n",
              "      <td>...</td>\n",
              "      <td>...</td>\n",
              "      <td>...</td>\n",
              "    </tr>\n",
              "    <tr>\n",
              "      <th>36452</th>\n",
              "      <td>18</td>\n",
              "      <td>1</td>\n",
              "      <td>1</td>\n",
              "      <td>1</td>\n",
              "      <td>1</td>\n",
              "      <td>Working</td>\n",
              "      <td>1</td>\n",
              "      <td>Married</td>\n",
              "      <td>House / apartment</td>\n",
              "      <td>0</td>\n",
              "      <td>0</td>\n",
              "      <td>0</td>\n",
              "      <td>Core staff</td>\n",
              "      <td>3</td>\n",
              "      <td>157500</td>\n",
              "      <td>1</td>\n",
              "      <td>0</td>\n",
              "      <td>5</td>\n",
              "      <td>30</td>\n",
              "    </tr>\n",
              "    <tr>\n",
              "      <th>36453</th>\n",
              "      <td>18</td>\n",
              "      <td>1</td>\n",
              "      <td>1</td>\n",
              "      <td>1</td>\n",
              "      <td>1</td>\n",
              "      <td>Working</td>\n",
              "      <td>1</td>\n",
              "      <td>Married</td>\n",
              "      <td>House / apartment</td>\n",
              "      <td>0</td>\n",
              "      <td>0</td>\n",
              "      <td>0</td>\n",
              "      <td>Core staff</td>\n",
              "      <td>3</td>\n",
              "      <td>157500</td>\n",
              "      <td>1</td>\n",
              "      <td>0</td>\n",
              "      <td>5</td>\n",
              "      <td>30</td>\n",
              "    </tr>\n",
              "    <tr>\n",
              "      <th>36454</th>\n",
              "      <td>13</td>\n",
              "      <td>1</td>\n",
              "      <td>1</td>\n",
              "      <td>1</td>\n",
              "      <td>1</td>\n",
              "      <td>Working</td>\n",
              "      <td>1</td>\n",
              "      <td>Married</td>\n",
              "      <td>House / apartment</td>\n",
              "      <td>0</td>\n",
              "      <td>0</td>\n",
              "      <td>0</td>\n",
              "      <td>Core staff</td>\n",
              "      <td>3</td>\n",
              "      <td>157500</td>\n",
              "      <td>1</td>\n",
              "      <td>0</td>\n",
              "      <td>5</td>\n",
              "      <td>30</td>\n",
              "    </tr>\n",
              "    <tr>\n",
              "      <th>36455</th>\n",
              "      <td>2</td>\n",
              "      <td>1</td>\n",
              "      <td>1</td>\n",
              "      <td>1</td>\n",
              "      <td>1</td>\n",
              "      <td>Working</td>\n",
              "      <td>1</td>\n",
              "      <td>Married</td>\n",
              "      <td>House / apartment</td>\n",
              "      <td>0</td>\n",
              "      <td>0</td>\n",
              "      <td>0</td>\n",
              "      <td>Core staff</td>\n",
              "      <td>3</td>\n",
              "      <td>157500</td>\n",
              "      <td>1</td>\n",
              "      <td>0</td>\n",
              "      <td>5</td>\n",
              "      <td>30</td>\n",
              "    </tr>\n",
              "    <tr>\n",
              "      <th>36456</th>\n",
              "      <td>30</td>\n",
              "      <td>1</td>\n",
              "      <td>1</td>\n",
              "      <td>0</td>\n",
              "      <td>0</td>\n",
              "      <td>Working</td>\n",
              "      <td>1</td>\n",
              "      <td>Married</td>\n",
              "      <td>House / apartment</td>\n",
              "      <td>0</td>\n",
              "      <td>0</td>\n",
              "      <td>0</td>\n",
              "      <td>Drivers</td>\n",
              "      <td>2</td>\n",
              "      <td>202500</td>\n",
              "      <td>1</td>\n",
              "      <td>1</td>\n",
              "      <td>6</td>\n",
              "      <td>53</td>\n",
              "    </tr>\n",
              "  </tbody>\n",
              "</table>\n",
              "<p>36457 rows × 19 columns</p>\n",
              "</div>\n",
              "      <button class=\"colab-df-convert\" onclick=\"convertToInteractive('df-91b5abbe-a041-41c8-aed4-6e222ed655cf')\"\n",
              "              title=\"Convert this dataframe to an interactive table.\"\n",
              "              style=\"display:none;\">\n",
              "        \n",
              "  <svg xmlns=\"http://www.w3.org/2000/svg\" height=\"24px\"viewBox=\"0 0 24 24\"\n",
              "       width=\"24px\">\n",
              "    <path d=\"M0 0h24v24H0V0z\" fill=\"none\"/>\n",
              "    <path d=\"M18.56 5.44l.94 2.06.94-2.06 2.06-.94-2.06-.94-.94-2.06-.94 2.06-2.06.94zm-11 1L8.5 8.5l.94-2.06 2.06-.94-2.06-.94L8.5 2.5l-.94 2.06-2.06.94zm10 10l.94 2.06.94-2.06 2.06-.94-2.06-.94-.94-2.06-.94 2.06-2.06.94z\"/><path d=\"M17.41 7.96l-1.37-1.37c-.4-.4-.92-.59-1.43-.59-.52 0-1.04.2-1.43.59L10.3 9.45l-7.72 7.72c-.78.78-.78 2.05 0 2.83L4 21.41c.39.39.9.59 1.41.59.51 0 1.02-.2 1.41-.59l7.78-7.78 2.81-2.81c.8-.78.8-2.07 0-2.86zM5.41 20L4 18.59l7.72-7.72 1.47 1.35L5.41 20z\"/>\n",
              "  </svg>\n",
              "      </button>\n",
              "      \n",
              "  <style>\n",
              "    .colab-df-container {\n",
              "      display:flex;\n",
              "      flex-wrap:wrap;\n",
              "      gap: 12px;\n",
              "    }\n",
              "\n",
              "    .colab-df-convert {\n",
              "      background-color: #E8F0FE;\n",
              "      border: none;\n",
              "      border-radius: 50%;\n",
              "      cursor: pointer;\n",
              "      display: none;\n",
              "      fill: #1967D2;\n",
              "      height: 32px;\n",
              "      padding: 0 0 0 0;\n",
              "      width: 32px;\n",
              "    }\n",
              "\n",
              "    .colab-df-convert:hover {\n",
              "      background-color: #E2EBFA;\n",
              "      box-shadow: 0px 1px 2px rgba(60, 64, 67, 0.3), 0px 1px 3px 1px rgba(60, 64, 67, 0.15);\n",
              "      fill: #174EA6;\n",
              "    }\n",
              "\n",
              "    [theme=dark] .colab-df-convert {\n",
              "      background-color: #3B4455;\n",
              "      fill: #D2E3FC;\n",
              "    }\n",
              "\n",
              "    [theme=dark] .colab-df-convert:hover {\n",
              "      background-color: #434B5C;\n",
              "      box-shadow: 0px 1px 3px 1px rgba(0, 0, 0, 0.15);\n",
              "      filter: drop-shadow(0px 1px 2px rgba(0, 0, 0, 0.3));\n",
              "      fill: #FFFFFF;\n",
              "    }\n",
              "  </style>\n",
              "\n",
              "      <script>\n",
              "        const buttonEl =\n",
              "          document.querySelector('#df-91b5abbe-a041-41c8-aed4-6e222ed655cf button.colab-df-convert');\n",
              "        buttonEl.style.display =\n",
              "          google.colab.kernel.accessAllowed ? 'block' : 'none';\n",
              "\n",
              "        async function convertToInteractive(key) {\n",
              "          const element = document.querySelector('#df-91b5abbe-a041-41c8-aed4-6e222ed655cf');\n",
              "          const dataTable =\n",
              "            await google.colab.kernel.invokeFunction('convertToInteractive',\n",
              "                                                     [key], {});\n",
              "          if (!dataTable) return;\n",
              "\n",
              "          const docLinkHtml = 'Like what you see? Visit the ' +\n",
              "            '<a target=\"_blank\" href=https://colab.research.google.com/notebooks/data_table.ipynb>data table notebook</a>'\n",
              "            + ' to learn more about interactive tables.';\n",
              "          element.innerHTML = '';\n",
              "          dataTable['output_type'] = 'display_data';\n",
              "          await google.colab.output.renderOutput(dataTable, element);\n",
              "          const docLink = document.createElement('div');\n",
              "          docLink.innerHTML = docLinkHtml;\n",
              "          element.appendChild(docLink);\n",
              "        }\n",
              "      </script>\n",
              "    </div>\n",
              "  </div>\n",
              "  "
            ]
          },
          "metadata": {},
          "execution_count": 194
        }
      ]
    },
    {
      "cell_type": "markdown",
      "source": [
        "APPLYING ONE HOT ENCODING TO CONVERT CATEGORICAL VARIABLES INTO NUMERIC\n",
        "\n",
        "*   NAME_INCOME_TYPE\n",
        "*   NAME_FAMILY_STATUS\n",
        "*   NAME_HOUSING_TYPE\n",
        "*   OCCUPATION_TYPE"
      ],
      "metadata": {
        "id": "TIrP1bP52DCJ"
      }
    },
    {
      "cell_type": "markdown",
      "source": [
        "DF_FE['NAME_INCOME_TYPE']"
      ],
      "metadata": {
        "id": "pQl0TafB2q1e"
      }
    },
    {
      "cell_type": "code",
      "execution_count": null,
      "metadata": {
        "colab": {
          "base_uri": "https://localhost:8080/",
          "height": 522
        },
        "id": "qwW_6EBAUA7Y",
        "outputId": "7c17236f-43ad-472d-f7ef-94e30a20d05f"
      },
      "outputs": [
        {
          "output_type": "execute_result",
          "data": {
            "text/plain": [
              "       TOTAL_NO_OF_MONTHS  GOOD_OR_BAD  FLAG_OWN_CAR  FLAG_OWN_REALTY  \\\n",
              "0                      16            1             1                1   \n",
              "1                      15            1             1                1   \n",
              "2                      30            1             1                1   \n",
              "3                       5            1             0                1   \n",
              "4                       5            1             0                1   \n",
              "...                   ...          ...           ...              ...   \n",
              "36452                  18            1             1                1   \n",
              "36453                  18            1             1                1   \n",
              "36454                  13            1             1                1   \n",
              "36455                   2            1             1                1   \n",
              "36456                  30            1             1                0   \n",
              "\n",
              "       CNT_CHILDREN      NAME_INCOME_TYPE  NAME_EDUCATION_TYPE  \\\n",
              "0                 0               Working                    3   \n",
              "1                 0               Working                    3   \n",
              "2                 0               Working                    1   \n",
              "3                 0  Commercial associate                    1   \n",
              "4                 0  Commercial associate                    1   \n",
              "...             ...                   ...                  ...   \n",
              "36452             1               Working                    1   \n",
              "36453             1               Working                    1   \n",
              "36454             1               Working                    1   \n",
              "36455             1               Working                    1   \n",
              "36456             0               Working                    1   \n",
              "\n",
              "         NAME_FAMILY_STATUS  NAME_HOUSING_TYPE  FLAG_WORK_PHONE  ...  \\\n",
              "0            Civil marriage   Rented apartment                1  ...   \n",
              "1            Civil marriage   Rented apartment                1  ...   \n",
              "2                   Married  House / apartment                0  ...   \n",
              "3      Single / not married  House / apartment                0  ...   \n",
              "4      Single / not married  House / apartment                0  ...   \n",
              "...                     ...                ...              ...  ...   \n",
              "36452               Married  House / apartment                0  ...   \n",
              "36453               Married  House / apartment                0  ...   \n",
              "36454               Married  House / apartment                0  ...   \n",
              "36455               Married  House / apartment                0  ...   \n",
              "36456               Married  House / apartment                0  ...   \n",
              "\n",
              "       AMT_INCOME_TOTAL_NEW  FLAG_EMPLOYED FLAG_GENDER  YEARS_OF_EMPLOYMENT  \\\n",
              "0                    427500              1           1                   12   \n",
              "1                    427500              1           1                   12   \n",
              "2                    112500              1           1                    3   \n",
              "3                    270000              1           0                    8   \n",
              "4                    270000              1           0                    8   \n",
              "...                     ...            ...         ...                  ...   \n",
              "36452                157500              1           0                    5   \n",
              "36453                157500              1           0                    5   \n",
              "36454                157500              1           0                    5   \n",
              "36455                157500              1           0                    5   \n",
              "36456                202500              1           1                    6   \n",
              "\n",
              "       AGE  COMMERCIAL_ASSOCIATE  PENSIONER  STATE_SERVANT  STUDENT  WORKING  \n",
              "0       33                     0          0              0        0        1  \n",
              "1       33                     0          0              0        0        1  \n",
              "2       59                     0          0              0        0        1  \n",
              "3       52                     1          0              0        0        0  \n",
              "4       52                     1          0              0        0        0  \n",
              "...    ...                   ...        ...            ...      ...      ...  \n",
              "36452   30                     0          0              0        0        1  \n",
              "36453   30                     0          0              0        0        1  \n",
              "36454   30                     0          0              0        0        1  \n",
              "36455   30                     0          0              0        0        1  \n",
              "36456   53                     0          0              0        0        1  \n",
              "\n",
              "[36457 rows x 24 columns]"
            ],
            "text/html": [
              "\n",
              "  <div id=\"df-786817fe-065c-4f1a-9548-e4316e0ce4a3\">\n",
              "    <div class=\"colab-df-container\">\n",
              "      <div>\n",
              "<style scoped>\n",
              "    .dataframe tbody tr th:only-of-type {\n",
              "        vertical-align: middle;\n",
              "    }\n",
              "\n",
              "    .dataframe tbody tr th {\n",
              "        vertical-align: top;\n",
              "    }\n",
              "\n",
              "    .dataframe thead th {\n",
              "        text-align: right;\n",
              "    }\n",
              "</style>\n",
              "<table border=\"1\" class=\"dataframe\">\n",
              "  <thead>\n",
              "    <tr style=\"text-align: right;\">\n",
              "      <th></th>\n",
              "      <th>TOTAL_NO_OF_MONTHS</th>\n",
              "      <th>GOOD_OR_BAD</th>\n",
              "      <th>FLAG_OWN_CAR</th>\n",
              "      <th>FLAG_OWN_REALTY</th>\n",
              "      <th>CNT_CHILDREN</th>\n",
              "      <th>NAME_INCOME_TYPE</th>\n",
              "      <th>NAME_EDUCATION_TYPE</th>\n",
              "      <th>NAME_FAMILY_STATUS</th>\n",
              "      <th>NAME_HOUSING_TYPE</th>\n",
              "      <th>FLAG_WORK_PHONE</th>\n",
              "      <th>...</th>\n",
              "      <th>AMT_INCOME_TOTAL_NEW</th>\n",
              "      <th>FLAG_EMPLOYED</th>\n",
              "      <th>FLAG_GENDER</th>\n",
              "      <th>YEARS_OF_EMPLOYMENT</th>\n",
              "      <th>AGE</th>\n",
              "      <th>COMMERCIAL_ASSOCIATE</th>\n",
              "      <th>PENSIONER</th>\n",
              "      <th>STATE_SERVANT</th>\n",
              "      <th>STUDENT</th>\n",
              "      <th>WORKING</th>\n",
              "    </tr>\n",
              "  </thead>\n",
              "  <tbody>\n",
              "    <tr>\n",
              "      <th>0</th>\n",
              "      <td>16</td>\n",
              "      <td>1</td>\n",
              "      <td>1</td>\n",
              "      <td>1</td>\n",
              "      <td>0</td>\n",
              "      <td>Working</td>\n",
              "      <td>3</td>\n",
              "      <td>Civil marriage</td>\n",
              "      <td>Rented apartment</td>\n",
              "      <td>1</td>\n",
              "      <td>...</td>\n",
              "      <td>427500</td>\n",
              "      <td>1</td>\n",
              "      <td>1</td>\n",
              "      <td>12</td>\n",
              "      <td>33</td>\n",
              "      <td>0</td>\n",
              "      <td>0</td>\n",
              "      <td>0</td>\n",
              "      <td>0</td>\n",
              "      <td>1</td>\n",
              "    </tr>\n",
              "    <tr>\n",
              "      <th>1</th>\n",
              "      <td>15</td>\n",
              "      <td>1</td>\n",
              "      <td>1</td>\n",
              "      <td>1</td>\n",
              "      <td>0</td>\n",
              "      <td>Working</td>\n",
              "      <td>3</td>\n",
              "      <td>Civil marriage</td>\n",
              "      <td>Rented apartment</td>\n",
              "      <td>1</td>\n",
              "      <td>...</td>\n",
              "      <td>427500</td>\n",
              "      <td>1</td>\n",
              "      <td>1</td>\n",
              "      <td>12</td>\n",
              "      <td>33</td>\n",
              "      <td>0</td>\n",
              "      <td>0</td>\n",
              "      <td>0</td>\n",
              "      <td>0</td>\n",
              "      <td>1</td>\n",
              "    </tr>\n",
              "    <tr>\n",
              "      <th>2</th>\n",
              "      <td>30</td>\n",
              "      <td>1</td>\n",
              "      <td>1</td>\n",
              "      <td>1</td>\n",
              "      <td>0</td>\n",
              "      <td>Working</td>\n",
              "      <td>1</td>\n",
              "      <td>Married</td>\n",
              "      <td>House / apartment</td>\n",
              "      <td>0</td>\n",
              "      <td>...</td>\n",
              "      <td>112500</td>\n",
              "      <td>1</td>\n",
              "      <td>1</td>\n",
              "      <td>3</td>\n",
              "      <td>59</td>\n",
              "      <td>0</td>\n",
              "      <td>0</td>\n",
              "      <td>0</td>\n",
              "      <td>0</td>\n",
              "      <td>1</td>\n",
              "    </tr>\n",
              "    <tr>\n",
              "      <th>3</th>\n",
              "      <td>5</td>\n",
              "      <td>1</td>\n",
              "      <td>0</td>\n",
              "      <td>1</td>\n",
              "      <td>0</td>\n",
              "      <td>Commercial associate</td>\n",
              "      <td>1</td>\n",
              "      <td>Single / not married</td>\n",
              "      <td>House / apartment</td>\n",
              "      <td>0</td>\n",
              "      <td>...</td>\n",
              "      <td>270000</td>\n",
              "      <td>1</td>\n",
              "      <td>0</td>\n",
              "      <td>8</td>\n",
              "      <td>52</td>\n",
              "      <td>1</td>\n",
              "      <td>0</td>\n",
              "      <td>0</td>\n",
              "      <td>0</td>\n",
              "      <td>0</td>\n",
              "    </tr>\n",
              "    <tr>\n",
              "      <th>4</th>\n",
              "      <td>5</td>\n",
              "      <td>1</td>\n",
              "      <td>0</td>\n",
              "      <td>1</td>\n",
              "      <td>0</td>\n",
              "      <td>Commercial associate</td>\n",
              "      <td>1</td>\n",
              "      <td>Single / not married</td>\n",
              "      <td>House / apartment</td>\n",
              "      <td>0</td>\n",
              "      <td>...</td>\n",
              "      <td>270000</td>\n",
              "      <td>1</td>\n",
              "      <td>0</td>\n",
              "      <td>8</td>\n",
              "      <td>52</td>\n",
              "      <td>1</td>\n",
              "      <td>0</td>\n",
              "      <td>0</td>\n",
              "      <td>0</td>\n",
              "      <td>0</td>\n",
              "    </tr>\n",
              "    <tr>\n",
              "      <th>...</th>\n",
              "      <td>...</td>\n",
              "      <td>...</td>\n",
              "      <td>...</td>\n",
              "      <td>...</td>\n",
              "      <td>...</td>\n",
              "      <td>...</td>\n",
              "      <td>...</td>\n",
              "      <td>...</td>\n",
              "      <td>...</td>\n",
              "      <td>...</td>\n",
              "      <td>...</td>\n",
              "      <td>...</td>\n",
              "      <td>...</td>\n",
              "      <td>...</td>\n",
              "      <td>...</td>\n",
              "      <td>...</td>\n",
              "      <td>...</td>\n",
              "      <td>...</td>\n",
              "      <td>...</td>\n",
              "      <td>...</td>\n",
              "      <td>...</td>\n",
              "    </tr>\n",
              "    <tr>\n",
              "      <th>36452</th>\n",
              "      <td>18</td>\n",
              "      <td>1</td>\n",
              "      <td>1</td>\n",
              "      <td>1</td>\n",
              "      <td>1</td>\n",
              "      <td>Working</td>\n",
              "      <td>1</td>\n",
              "      <td>Married</td>\n",
              "      <td>House / apartment</td>\n",
              "      <td>0</td>\n",
              "      <td>...</td>\n",
              "      <td>157500</td>\n",
              "      <td>1</td>\n",
              "      <td>0</td>\n",
              "      <td>5</td>\n",
              "      <td>30</td>\n",
              "      <td>0</td>\n",
              "      <td>0</td>\n",
              "      <td>0</td>\n",
              "      <td>0</td>\n",
              "      <td>1</td>\n",
              "    </tr>\n",
              "    <tr>\n",
              "      <th>36453</th>\n",
              "      <td>18</td>\n",
              "      <td>1</td>\n",
              "      <td>1</td>\n",
              "      <td>1</td>\n",
              "      <td>1</td>\n",
              "      <td>Working</td>\n",
              "      <td>1</td>\n",
              "      <td>Married</td>\n",
              "      <td>House / apartment</td>\n",
              "      <td>0</td>\n",
              "      <td>...</td>\n",
              "      <td>157500</td>\n",
              "      <td>1</td>\n",
              "      <td>0</td>\n",
              "      <td>5</td>\n",
              "      <td>30</td>\n",
              "      <td>0</td>\n",
              "      <td>0</td>\n",
              "      <td>0</td>\n",
              "      <td>0</td>\n",
              "      <td>1</td>\n",
              "    </tr>\n",
              "    <tr>\n",
              "      <th>36454</th>\n",
              "      <td>13</td>\n",
              "      <td>1</td>\n",
              "      <td>1</td>\n",
              "      <td>1</td>\n",
              "      <td>1</td>\n",
              "      <td>Working</td>\n",
              "      <td>1</td>\n",
              "      <td>Married</td>\n",
              "      <td>House / apartment</td>\n",
              "      <td>0</td>\n",
              "      <td>...</td>\n",
              "      <td>157500</td>\n",
              "      <td>1</td>\n",
              "      <td>0</td>\n",
              "      <td>5</td>\n",
              "      <td>30</td>\n",
              "      <td>0</td>\n",
              "      <td>0</td>\n",
              "      <td>0</td>\n",
              "      <td>0</td>\n",
              "      <td>1</td>\n",
              "    </tr>\n",
              "    <tr>\n",
              "      <th>36455</th>\n",
              "      <td>2</td>\n",
              "      <td>1</td>\n",
              "      <td>1</td>\n",
              "      <td>1</td>\n",
              "      <td>1</td>\n",
              "      <td>Working</td>\n",
              "      <td>1</td>\n",
              "      <td>Married</td>\n",
              "      <td>House / apartment</td>\n",
              "      <td>0</td>\n",
              "      <td>...</td>\n",
              "      <td>157500</td>\n",
              "      <td>1</td>\n",
              "      <td>0</td>\n",
              "      <td>5</td>\n",
              "      <td>30</td>\n",
              "      <td>0</td>\n",
              "      <td>0</td>\n",
              "      <td>0</td>\n",
              "      <td>0</td>\n",
              "      <td>1</td>\n",
              "    </tr>\n",
              "    <tr>\n",
              "      <th>36456</th>\n",
              "      <td>30</td>\n",
              "      <td>1</td>\n",
              "      <td>1</td>\n",
              "      <td>0</td>\n",
              "      <td>0</td>\n",
              "      <td>Working</td>\n",
              "      <td>1</td>\n",
              "      <td>Married</td>\n",
              "      <td>House / apartment</td>\n",
              "      <td>0</td>\n",
              "      <td>...</td>\n",
              "      <td>202500</td>\n",
              "      <td>1</td>\n",
              "      <td>1</td>\n",
              "      <td>6</td>\n",
              "      <td>53</td>\n",
              "      <td>0</td>\n",
              "      <td>0</td>\n",
              "      <td>0</td>\n",
              "      <td>0</td>\n",
              "      <td>1</td>\n",
              "    </tr>\n",
              "  </tbody>\n",
              "</table>\n",
              "<p>36457 rows × 24 columns</p>\n",
              "</div>\n",
              "      <button class=\"colab-df-convert\" onclick=\"convertToInteractive('df-786817fe-065c-4f1a-9548-e4316e0ce4a3')\"\n",
              "              title=\"Convert this dataframe to an interactive table.\"\n",
              "              style=\"display:none;\">\n",
              "        \n",
              "  <svg xmlns=\"http://www.w3.org/2000/svg\" height=\"24px\"viewBox=\"0 0 24 24\"\n",
              "       width=\"24px\">\n",
              "    <path d=\"M0 0h24v24H0V0z\" fill=\"none\"/>\n",
              "    <path d=\"M18.56 5.44l.94 2.06.94-2.06 2.06-.94-2.06-.94-.94-2.06-.94 2.06-2.06.94zm-11 1L8.5 8.5l.94-2.06 2.06-.94-2.06-.94L8.5 2.5l-.94 2.06-2.06.94zm10 10l.94 2.06.94-2.06 2.06-.94-2.06-.94-.94-2.06-.94 2.06-2.06.94z\"/><path d=\"M17.41 7.96l-1.37-1.37c-.4-.4-.92-.59-1.43-.59-.52 0-1.04.2-1.43.59L10.3 9.45l-7.72 7.72c-.78.78-.78 2.05 0 2.83L4 21.41c.39.39.9.59 1.41.59.51 0 1.02-.2 1.41-.59l7.78-7.78 2.81-2.81c.8-.78.8-2.07 0-2.86zM5.41 20L4 18.59l7.72-7.72 1.47 1.35L5.41 20z\"/>\n",
              "  </svg>\n",
              "      </button>\n",
              "      \n",
              "  <style>\n",
              "    .colab-df-container {\n",
              "      display:flex;\n",
              "      flex-wrap:wrap;\n",
              "      gap: 12px;\n",
              "    }\n",
              "\n",
              "    .colab-df-convert {\n",
              "      background-color: #E8F0FE;\n",
              "      border: none;\n",
              "      border-radius: 50%;\n",
              "      cursor: pointer;\n",
              "      display: none;\n",
              "      fill: #1967D2;\n",
              "      height: 32px;\n",
              "      padding: 0 0 0 0;\n",
              "      width: 32px;\n",
              "    }\n",
              "\n",
              "    .colab-df-convert:hover {\n",
              "      background-color: #E2EBFA;\n",
              "      box-shadow: 0px 1px 2px rgba(60, 64, 67, 0.3), 0px 1px 3px 1px rgba(60, 64, 67, 0.15);\n",
              "      fill: #174EA6;\n",
              "    }\n",
              "\n",
              "    [theme=dark] .colab-df-convert {\n",
              "      background-color: #3B4455;\n",
              "      fill: #D2E3FC;\n",
              "    }\n",
              "\n",
              "    [theme=dark] .colab-df-convert:hover {\n",
              "      background-color: #434B5C;\n",
              "      box-shadow: 0px 1px 3px 1px rgba(0, 0, 0, 0.15);\n",
              "      filter: drop-shadow(0px 1px 2px rgba(0, 0, 0, 0.3));\n",
              "      fill: #FFFFFF;\n",
              "    }\n",
              "  </style>\n",
              "\n",
              "      <script>\n",
              "        const buttonEl =\n",
              "          document.querySelector('#df-786817fe-065c-4f1a-9548-e4316e0ce4a3 button.colab-df-convert');\n",
              "        buttonEl.style.display =\n",
              "          google.colab.kernel.accessAllowed ? 'block' : 'none';\n",
              "\n",
              "        async function convertToInteractive(key) {\n",
              "          const element = document.querySelector('#df-786817fe-065c-4f1a-9548-e4316e0ce4a3');\n",
              "          const dataTable =\n",
              "            await google.colab.kernel.invokeFunction('convertToInteractive',\n",
              "                                                     [key], {});\n",
              "          if (!dataTable) return;\n",
              "\n",
              "          const docLinkHtml = 'Like what you see? Visit the ' +\n",
              "            '<a target=\"_blank\" href=https://colab.research.google.com/notebooks/data_table.ipynb>data table notebook</a>'\n",
              "            + ' to learn more about interactive tables.';\n",
              "          element.innerHTML = '';\n",
              "          dataTable['output_type'] = 'display_data';\n",
              "          await google.colab.output.renderOutput(dataTable, element);\n",
              "          const docLink = document.createElement('div');\n",
              "          docLink.innerHTML = docLinkHtml;\n",
              "          element.appendChild(docLink);\n",
              "        }\n",
              "      </script>\n",
              "    </div>\n",
              "  </div>\n",
              "  "
            ]
          },
          "metadata": {},
          "execution_count": 195
        }
      ],
      "source": [
        "DF_ONE_HOT=pd.get_dummies(DF_FE['NAME_INCOME_TYPE']).astype(int)\n",
        "DF_FE = pd.concat([DF_FE,DF_ONE_HOT],axis=1)\n",
        "\n",
        "DF_FE.rename(columns={'Commercial associate':'COMMERCIAL_ASSOCIATE',\n",
        "                     'Pensioner':'PENSIONER','State servant':'STATE_SERVANT','Student':'STUDENT',\n",
        "                     'Working':'WORKING'},inplace=True)\n",
        "DF_ONE_HOT\n",
        "DF_FE"
      ]
    },
    {
      "cell_type": "markdown",
      "source": [
        "DF_FE['NAME_FAMILY_STATUS']"
      ],
      "metadata": {
        "id": "NRbyB6gR3sOl"
      }
    },
    {
      "cell_type": "code",
      "source": [
        "DF_ONE_HOT=pd.get_dummies(DF_FE['NAME_FAMILY_STATUS']).astype(int)\n",
        "DF_FE = pd.concat([DF_FE,DF_ONE_HOT],axis=1)\n",
        "DF_FE.rename(columns={'Civil marriage':'CIVIL_MARRIAGE','Married':'MARRIED','Separated':'SEPARATED',\n",
        "                     'Lower secondary':'LOWER_SECONDARY',\n",
        "                      'Single / not married':'SINGLE_NOT_MARRIED','Widow':'WIDOW'},inplace=True)\n",
        "DF_ONE_HOT\n",
        "DF_FE"
      ],
      "metadata": {
        "colab": {
          "base_uri": "https://localhost:8080/",
          "height": 522
        },
        "id": "QkdD2uBo2j9p",
        "outputId": "0e2d1eea-80ed-4049-cd15-b16d85bc50bb"
      },
      "execution_count": null,
      "outputs": [
        {
          "output_type": "execute_result",
          "data": {
            "text/plain": [
              "       TOTAL_NO_OF_MONTHS  GOOD_OR_BAD  FLAG_OWN_CAR  FLAG_OWN_REALTY  \\\n",
              "0                      16            1             1                1   \n",
              "1                      15            1             1                1   \n",
              "2                      30            1             1                1   \n",
              "3                       5            1             0                1   \n",
              "4                       5            1             0                1   \n",
              "...                   ...          ...           ...              ...   \n",
              "36452                  18            1             1                1   \n",
              "36453                  18            1             1                1   \n",
              "36454                  13            1             1                1   \n",
              "36455                   2            1             1                1   \n",
              "36456                  30            1             1                0   \n",
              "\n",
              "       CNT_CHILDREN      NAME_INCOME_TYPE  NAME_EDUCATION_TYPE  \\\n",
              "0                 0               Working                    3   \n",
              "1                 0               Working                    3   \n",
              "2                 0               Working                    1   \n",
              "3                 0  Commercial associate                    1   \n",
              "4                 0  Commercial associate                    1   \n",
              "...             ...                   ...                  ...   \n",
              "36452             1               Working                    1   \n",
              "36453             1               Working                    1   \n",
              "36454             1               Working                    1   \n",
              "36455             1               Working                    1   \n",
              "36456             0               Working                    1   \n",
              "\n",
              "         NAME_FAMILY_STATUS  NAME_HOUSING_TYPE  FLAG_WORK_PHONE  ...  \\\n",
              "0            Civil marriage   Rented apartment                1  ...   \n",
              "1            Civil marriage   Rented apartment                1  ...   \n",
              "2                   Married  House / apartment                0  ...   \n",
              "3      Single / not married  House / apartment                0  ...   \n",
              "4      Single / not married  House / apartment                0  ...   \n",
              "...                     ...                ...              ...  ...   \n",
              "36452               Married  House / apartment                0  ...   \n",
              "36453               Married  House / apartment                0  ...   \n",
              "36454               Married  House / apartment                0  ...   \n",
              "36455               Married  House / apartment                0  ...   \n",
              "36456               Married  House / apartment                0  ...   \n",
              "\n",
              "       COMMERCIAL_ASSOCIATE  PENSIONER STATE_SERVANT  STUDENT  WORKING  \\\n",
              "0                         0          0             0        0        1   \n",
              "1                         0          0             0        0        1   \n",
              "2                         0          0             0        0        1   \n",
              "3                         1          0             0        0        0   \n",
              "4                         1          0             0        0        0   \n",
              "...                     ...        ...           ...      ...      ...   \n",
              "36452                     0          0             0        0        1   \n",
              "36453                     0          0             0        0        1   \n",
              "36454                     0          0             0        0        1   \n",
              "36455                     0          0             0        0        1   \n",
              "36456                     0          0             0        0        1   \n",
              "\n",
              "       CIVIL_MARRIAGE  MARRIED  SEPARATED  SINGLE_NOT_MARRIED  WIDOW  \n",
              "0                   1        0          0                   0      0  \n",
              "1                   1        0          0                   0      0  \n",
              "2                   0        1          0                   0      0  \n",
              "3                   0        0          0                   1      0  \n",
              "4                   0        0          0                   1      0  \n",
              "...               ...      ...        ...                 ...    ...  \n",
              "36452               0        1          0                   0      0  \n",
              "36453               0        1          0                   0      0  \n",
              "36454               0        1          0                   0      0  \n",
              "36455               0        1          0                   0      0  \n",
              "36456               0        1          0                   0      0  \n",
              "\n",
              "[36457 rows x 29 columns]"
            ],
            "text/html": [
              "\n",
              "  <div id=\"df-123bd301-1ecb-43a2-a8fe-2c534537da76\">\n",
              "    <div class=\"colab-df-container\">\n",
              "      <div>\n",
              "<style scoped>\n",
              "    .dataframe tbody tr th:only-of-type {\n",
              "        vertical-align: middle;\n",
              "    }\n",
              "\n",
              "    .dataframe tbody tr th {\n",
              "        vertical-align: top;\n",
              "    }\n",
              "\n",
              "    .dataframe thead th {\n",
              "        text-align: right;\n",
              "    }\n",
              "</style>\n",
              "<table border=\"1\" class=\"dataframe\">\n",
              "  <thead>\n",
              "    <tr style=\"text-align: right;\">\n",
              "      <th></th>\n",
              "      <th>TOTAL_NO_OF_MONTHS</th>\n",
              "      <th>GOOD_OR_BAD</th>\n",
              "      <th>FLAG_OWN_CAR</th>\n",
              "      <th>FLAG_OWN_REALTY</th>\n",
              "      <th>CNT_CHILDREN</th>\n",
              "      <th>NAME_INCOME_TYPE</th>\n",
              "      <th>NAME_EDUCATION_TYPE</th>\n",
              "      <th>NAME_FAMILY_STATUS</th>\n",
              "      <th>NAME_HOUSING_TYPE</th>\n",
              "      <th>FLAG_WORK_PHONE</th>\n",
              "      <th>...</th>\n",
              "      <th>COMMERCIAL_ASSOCIATE</th>\n",
              "      <th>PENSIONER</th>\n",
              "      <th>STATE_SERVANT</th>\n",
              "      <th>STUDENT</th>\n",
              "      <th>WORKING</th>\n",
              "      <th>CIVIL_MARRIAGE</th>\n",
              "      <th>MARRIED</th>\n",
              "      <th>SEPARATED</th>\n",
              "      <th>SINGLE_NOT_MARRIED</th>\n",
              "      <th>WIDOW</th>\n",
              "    </tr>\n",
              "  </thead>\n",
              "  <tbody>\n",
              "    <tr>\n",
              "      <th>0</th>\n",
              "      <td>16</td>\n",
              "      <td>1</td>\n",
              "      <td>1</td>\n",
              "      <td>1</td>\n",
              "      <td>0</td>\n",
              "      <td>Working</td>\n",
              "      <td>3</td>\n",
              "      <td>Civil marriage</td>\n",
              "      <td>Rented apartment</td>\n",
              "      <td>1</td>\n",
              "      <td>...</td>\n",
              "      <td>0</td>\n",
              "      <td>0</td>\n",
              "      <td>0</td>\n",
              "      <td>0</td>\n",
              "      <td>1</td>\n",
              "      <td>1</td>\n",
              "      <td>0</td>\n",
              "      <td>0</td>\n",
              "      <td>0</td>\n",
              "      <td>0</td>\n",
              "    </tr>\n",
              "    <tr>\n",
              "      <th>1</th>\n",
              "      <td>15</td>\n",
              "      <td>1</td>\n",
              "      <td>1</td>\n",
              "      <td>1</td>\n",
              "      <td>0</td>\n",
              "      <td>Working</td>\n",
              "      <td>3</td>\n",
              "      <td>Civil marriage</td>\n",
              "      <td>Rented apartment</td>\n",
              "      <td>1</td>\n",
              "      <td>...</td>\n",
              "      <td>0</td>\n",
              "      <td>0</td>\n",
              "      <td>0</td>\n",
              "      <td>0</td>\n",
              "      <td>1</td>\n",
              "      <td>1</td>\n",
              "      <td>0</td>\n",
              "      <td>0</td>\n",
              "      <td>0</td>\n",
              "      <td>0</td>\n",
              "    </tr>\n",
              "    <tr>\n",
              "      <th>2</th>\n",
              "      <td>30</td>\n",
              "      <td>1</td>\n",
              "      <td>1</td>\n",
              "      <td>1</td>\n",
              "      <td>0</td>\n",
              "      <td>Working</td>\n",
              "      <td>1</td>\n",
              "      <td>Married</td>\n",
              "      <td>House / apartment</td>\n",
              "      <td>0</td>\n",
              "      <td>...</td>\n",
              "      <td>0</td>\n",
              "      <td>0</td>\n",
              "      <td>0</td>\n",
              "      <td>0</td>\n",
              "      <td>1</td>\n",
              "      <td>0</td>\n",
              "      <td>1</td>\n",
              "      <td>0</td>\n",
              "      <td>0</td>\n",
              "      <td>0</td>\n",
              "    </tr>\n",
              "    <tr>\n",
              "      <th>3</th>\n",
              "      <td>5</td>\n",
              "      <td>1</td>\n",
              "      <td>0</td>\n",
              "      <td>1</td>\n",
              "      <td>0</td>\n",
              "      <td>Commercial associate</td>\n",
              "      <td>1</td>\n",
              "      <td>Single / not married</td>\n",
              "      <td>House / apartment</td>\n",
              "      <td>0</td>\n",
              "      <td>...</td>\n",
              "      <td>1</td>\n",
              "      <td>0</td>\n",
              "      <td>0</td>\n",
              "      <td>0</td>\n",
              "      <td>0</td>\n",
              "      <td>0</td>\n",
              "      <td>0</td>\n",
              "      <td>0</td>\n",
              "      <td>1</td>\n",
              "      <td>0</td>\n",
              "    </tr>\n",
              "    <tr>\n",
              "      <th>4</th>\n",
              "      <td>5</td>\n",
              "      <td>1</td>\n",
              "      <td>0</td>\n",
              "      <td>1</td>\n",
              "      <td>0</td>\n",
              "      <td>Commercial associate</td>\n",
              "      <td>1</td>\n",
              "      <td>Single / not married</td>\n",
              "      <td>House / apartment</td>\n",
              "      <td>0</td>\n",
              "      <td>...</td>\n",
              "      <td>1</td>\n",
              "      <td>0</td>\n",
              "      <td>0</td>\n",
              "      <td>0</td>\n",
              "      <td>0</td>\n",
              "      <td>0</td>\n",
              "      <td>0</td>\n",
              "      <td>0</td>\n",
              "      <td>1</td>\n",
              "      <td>0</td>\n",
              "    </tr>\n",
              "    <tr>\n",
              "      <th>...</th>\n",
              "      <td>...</td>\n",
              "      <td>...</td>\n",
              "      <td>...</td>\n",
              "      <td>...</td>\n",
              "      <td>...</td>\n",
              "      <td>...</td>\n",
              "      <td>...</td>\n",
              "      <td>...</td>\n",
              "      <td>...</td>\n",
              "      <td>...</td>\n",
              "      <td>...</td>\n",
              "      <td>...</td>\n",
              "      <td>...</td>\n",
              "      <td>...</td>\n",
              "      <td>...</td>\n",
              "      <td>...</td>\n",
              "      <td>...</td>\n",
              "      <td>...</td>\n",
              "      <td>...</td>\n",
              "      <td>...</td>\n",
              "      <td>...</td>\n",
              "    </tr>\n",
              "    <tr>\n",
              "      <th>36452</th>\n",
              "      <td>18</td>\n",
              "      <td>1</td>\n",
              "      <td>1</td>\n",
              "      <td>1</td>\n",
              "      <td>1</td>\n",
              "      <td>Working</td>\n",
              "      <td>1</td>\n",
              "      <td>Married</td>\n",
              "      <td>House / apartment</td>\n",
              "      <td>0</td>\n",
              "      <td>...</td>\n",
              "      <td>0</td>\n",
              "      <td>0</td>\n",
              "      <td>0</td>\n",
              "      <td>0</td>\n",
              "      <td>1</td>\n",
              "      <td>0</td>\n",
              "      <td>1</td>\n",
              "      <td>0</td>\n",
              "      <td>0</td>\n",
              "      <td>0</td>\n",
              "    </tr>\n",
              "    <tr>\n",
              "      <th>36453</th>\n",
              "      <td>18</td>\n",
              "      <td>1</td>\n",
              "      <td>1</td>\n",
              "      <td>1</td>\n",
              "      <td>1</td>\n",
              "      <td>Working</td>\n",
              "      <td>1</td>\n",
              "      <td>Married</td>\n",
              "      <td>House / apartment</td>\n",
              "      <td>0</td>\n",
              "      <td>...</td>\n",
              "      <td>0</td>\n",
              "      <td>0</td>\n",
              "      <td>0</td>\n",
              "      <td>0</td>\n",
              "      <td>1</td>\n",
              "      <td>0</td>\n",
              "      <td>1</td>\n",
              "      <td>0</td>\n",
              "      <td>0</td>\n",
              "      <td>0</td>\n",
              "    </tr>\n",
              "    <tr>\n",
              "      <th>36454</th>\n",
              "      <td>13</td>\n",
              "      <td>1</td>\n",
              "      <td>1</td>\n",
              "      <td>1</td>\n",
              "      <td>1</td>\n",
              "      <td>Working</td>\n",
              "      <td>1</td>\n",
              "      <td>Married</td>\n",
              "      <td>House / apartment</td>\n",
              "      <td>0</td>\n",
              "      <td>...</td>\n",
              "      <td>0</td>\n",
              "      <td>0</td>\n",
              "      <td>0</td>\n",
              "      <td>0</td>\n",
              "      <td>1</td>\n",
              "      <td>0</td>\n",
              "      <td>1</td>\n",
              "      <td>0</td>\n",
              "      <td>0</td>\n",
              "      <td>0</td>\n",
              "    </tr>\n",
              "    <tr>\n",
              "      <th>36455</th>\n",
              "      <td>2</td>\n",
              "      <td>1</td>\n",
              "      <td>1</td>\n",
              "      <td>1</td>\n",
              "      <td>1</td>\n",
              "      <td>Working</td>\n",
              "      <td>1</td>\n",
              "      <td>Married</td>\n",
              "      <td>House / apartment</td>\n",
              "      <td>0</td>\n",
              "      <td>...</td>\n",
              "      <td>0</td>\n",
              "      <td>0</td>\n",
              "      <td>0</td>\n",
              "      <td>0</td>\n",
              "      <td>1</td>\n",
              "      <td>0</td>\n",
              "      <td>1</td>\n",
              "      <td>0</td>\n",
              "      <td>0</td>\n",
              "      <td>0</td>\n",
              "    </tr>\n",
              "    <tr>\n",
              "      <th>36456</th>\n",
              "      <td>30</td>\n",
              "      <td>1</td>\n",
              "      <td>1</td>\n",
              "      <td>0</td>\n",
              "      <td>0</td>\n",
              "      <td>Working</td>\n",
              "      <td>1</td>\n",
              "      <td>Married</td>\n",
              "      <td>House / apartment</td>\n",
              "      <td>0</td>\n",
              "      <td>...</td>\n",
              "      <td>0</td>\n",
              "      <td>0</td>\n",
              "      <td>0</td>\n",
              "      <td>0</td>\n",
              "      <td>1</td>\n",
              "      <td>0</td>\n",
              "      <td>1</td>\n",
              "      <td>0</td>\n",
              "      <td>0</td>\n",
              "      <td>0</td>\n",
              "    </tr>\n",
              "  </tbody>\n",
              "</table>\n",
              "<p>36457 rows × 29 columns</p>\n",
              "</div>\n",
              "      <button class=\"colab-df-convert\" onclick=\"convertToInteractive('df-123bd301-1ecb-43a2-a8fe-2c534537da76')\"\n",
              "              title=\"Convert this dataframe to an interactive table.\"\n",
              "              style=\"display:none;\">\n",
              "        \n",
              "  <svg xmlns=\"http://www.w3.org/2000/svg\" height=\"24px\"viewBox=\"0 0 24 24\"\n",
              "       width=\"24px\">\n",
              "    <path d=\"M0 0h24v24H0V0z\" fill=\"none\"/>\n",
              "    <path d=\"M18.56 5.44l.94 2.06.94-2.06 2.06-.94-2.06-.94-.94-2.06-.94 2.06-2.06.94zm-11 1L8.5 8.5l.94-2.06 2.06-.94-2.06-.94L8.5 2.5l-.94 2.06-2.06.94zm10 10l.94 2.06.94-2.06 2.06-.94-2.06-.94-.94-2.06-.94 2.06-2.06.94z\"/><path d=\"M17.41 7.96l-1.37-1.37c-.4-.4-.92-.59-1.43-.59-.52 0-1.04.2-1.43.59L10.3 9.45l-7.72 7.72c-.78.78-.78 2.05 0 2.83L4 21.41c.39.39.9.59 1.41.59.51 0 1.02-.2 1.41-.59l7.78-7.78 2.81-2.81c.8-.78.8-2.07 0-2.86zM5.41 20L4 18.59l7.72-7.72 1.47 1.35L5.41 20z\"/>\n",
              "  </svg>\n",
              "      </button>\n",
              "      \n",
              "  <style>\n",
              "    .colab-df-container {\n",
              "      display:flex;\n",
              "      flex-wrap:wrap;\n",
              "      gap: 12px;\n",
              "    }\n",
              "\n",
              "    .colab-df-convert {\n",
              "      background-color: #E8F0FE;\n",
              "      border: none;\n",
              "      border-radius: 50%;\n",
              "      cursor: pointer;\n",
              "      display: none;\n",
              "      fill: #1967D2;\n",
              "      height: 32px;\n",
              "      padding: 0 0 0 0;\n",
              "      width: 32px;\n",
              "    }\n",
              "\n",
              "    .colab-df-convert:hover {\n",
              "      background-color: #E2EBFA;\n",
              "      box-shadow: 0px 1px 2px rgba(60, 64, 67, 0.3), 0px 1px 3px 1px rgba(60, 64, 67, 0.15);\n",
              "      fill: #174EA6;\n",
              "    }\n",
              "\n",
              "    [theme=dark] .colab-df-convert {\n",
              "      background-color: #3B4455;\n",
              "      fill: #D2E3FC;\n",
              "    }\n",
              "\n",
              "    [theme=dark] .colab-df-convert:hover {\n",
              "      background-color: #434B5C;\n",
              "      box-shadow: 0px 1px 3px 1px rgba(0, 0, 0, 0.15);\n",
              "      filter: drop-shadow(0px 1px 2px rgba(0, 0, 0, 0.3));\n",
              "      fill: #FFFFFF;\n",
              "    }\n",
              "  </style>\n",
              "\n",
              "      <script>\n",
              "        const buttonEl =\n",
              "          document.querySelector('#df-123bd301-1ecb-43a2-a8fe-2c534537da76 button.colab-df-convert');\n",
              "        buttonEl.style.display =\n",
              "          google.colab.kernel.accessAllowed ? 'block' : 'none';\n",
              "\n",
              "        async function convertToInteractive(key) {\n",
              "          const element = document.querySelector('#df-123bd301-1ecb-43a2-a8fe-2c534537da76');\n",
              "          const dataTable =\n",
              "            await google.colab.kernel.invokeFunction('convertToInteractive',\n",
              "                                                     [key], {});\n",
              "          if (!dataTable) return;\n",
              "\n",
              "          const docLinkHtml = 'Like what you see? Visit the ' +\n",
              "            '<a target=\"_blank\" href=https://colab.research.google.com/notebooks/data_table.ipynb>data table notebook</a>'\n",
              "            + ' to learn more about interactive tables.';\n",
              "          element.innerHTML = '';\n",
              "          dataTable['output_type'] = 'display_data';\n",
              "          await google.colab.output.renderOutput(dataTable, element);\n",
              "          const docLink = document.createElement('div');\n",
              "          docLink.innerHTML = docLinkHtml;\n",
              "          element.appendChild(docLink);\n",
              "        }\n",
              "      </script>\n",
              "    </div>\n",
              "  </div>\n",
              "  "
            ]
          },
          "metadata": {},
          "execution_count": 196
        }
      ]
    },
    {
      "cell_type": "markdown",
      "source": [
        "DF_FE['NAME_HOUSING_TYPE']"
      ],
      "metadata": {
        "id": "M7Int2Sf3vWT"
      }
    },
    {
      "cell_type": "code",
      "source": [
        "DF_ONE_HOT=pd.get_dummies(DF_FE['NAME_HOUSING_TYPE']).astype(int)\n",
        "DF_FE = pd.concat([DF_FE,DF_ONE_HOT],axis=1)\n",
        "DF_FE.rename(columns={'Co-op apartment':'CO_OP_APARTMENT','House / apartment':'HOUSE_APARTMENT',\n",
        "                      'Municipal apartment':'MUNICIPAL_APARTMENT','Office apartment':'OFFICE_APARTMENT',\n",
        "                      'Rented apartment':'RENTED_APARTMENT','With parents':'WITH_PARENTS'},inplace=True)\n",
        "\n",
        "DF_ONE_HOT\n",
        "DF_FE"
      ],
      "metadata": {
        "id": "tjcxLg5H2l1r",
        "colab": {
          "base_uri": "https://localhost:8080/",
          "height": 522
        },
        "outputId": "9c3226b4-548f-49ee-a64e-b88fd737a836"
      },
      "execution_count": null,
      "outputs": [
        {
          "output_type": "execute_result",
          "data": {
            "text/plain": [
              "       TOTAL_NO_OF_MONTHS  GOOD_OR_BAD  FLAG_OWN_CAR  FLAG_OWN_REALTY  \\\n",
              "0                      16            1             1                1   \n",
              "1                      15            1             1                1   \n",
              "2                      30            1             1                1   \n",
              "3                       5            1             0                1   \n",
              "4                       5            1             0                1   \n",
              "...                   ...          ...           ...              ...   \n",
              "36452                  18            1             1                1   \n",
              "36453                  18            1             1                1   \n",
              "36454                  13            1             1                1   \n",
              "36455                   2            1             1                1   \n",
              "36456                  30            1             1                0   \n",
              "\n",
              "       CNT_CHILDREN      NAME_INCOME_TYPE  NAME_EDUCATION_TYPE  \\\n",
              "0                 0               Working                    3   \n",
              "1                 0               Working                    3   \n",
              "2                 0               Working                    1   \n",
              "3                 0  Commercial associate                    1   \n",
              "4                 0  Commercial associate                    1   \n",
              "...             ...                   ...                  ...   \n",
              "36452             1               Working                    1   \n",
              "36453             1               Working                    1   \n",
              "36454             1               Working                    1   \n",
              "36455             1               Working                    1   \n",
              "36456             0               Working                    1   \n",
              "\n",
              "         NAME_FAMILY_STATUS  NAME_HOUSING_TYPE  FLAG_WORK_PHONE  ...  MARRIED  \\\n",
              "0            Civil marriage   Rented apartment                1  ...        0   \n",
              "1            Civil marriage   Rented apartment                1  ...        0   \n",
              "2                   Married  House / apartment                0  ...        1   \n",
              "3      Single / not married  House / apartment                0  ...        0   \n",
              "4      Single / not married  House / apartment                0  ...        0   \n",
              "...                     ...                ...              ...  ...      ...   \n",
              "36452               Married  House / apartment                0  ...        1   \n",
              "36453               Married  House / apartment                0  ...        1   \n",
              "36454               Married  House / apartment                0  ...        1   \n",
              "36455               Married  House / apartment                0  ...        1   \n",
              "36456               Married  House / apartment                0  ...        1   \n",
              "\n",
              "       SEPARATED SINGLE_NOT_MARRIED  WIDOW  CO_OP_APARTMENT  HOUSE_APARTMENT  \\\n",
              "0              0                  0      0                0                0   \n",
              "1              0                  0      0                0                0   \n",
              "2              0                  0      0                0                1   \n",
              "3              0                  1      0                0                1   \n",
              "4              0                  1      0                0                1   \n",
              "...          ...                ...    ...              ...              ...   \n",
              "36452          0                  0      0                0                1   \n",
              "36453          0                  0      0                0                1   \n",
              "36454          0                  0      0                0                1   \n",
              "36455          0                  0      0                0                1   \n",
              "36456          0                  0      0                0                1   \n",
              "\n",
              "       MUNICIPAL_APARTMENT  OFFICE_APARTMENT  RENTED_APARTMENT  WITH_PARENTS  \n",
              "0                        0                 0                 1             0  \n",
              "1                        0                 0                 1             0  \n",
              "2                        0                 0                 0             0  \n",
              "3                        0                 0                 0             0  \n",
              "4                        0                 0                 0             0  \n",
              "...                    ...               ...               ...           ...  \n",
              "36452                    0                 0                 0             0  \n",
              "36453                    0                 0                 0             0  \n",
              "36454                    0                 0                 0             0  \n",
              "36455                    0                 0                 0             0  \n",
              "36456                    0                 0                 0             0  \n",
              "\n",
              "[36457 rows x 35 columns]"
            ],
            "text/html": [
              "\n",
              "  <div id=\"df-87bebeee-fcff-481c-b539-4741a4817235\">\n",
              "    <div class=\"colab-df-container\">\n",
              "      <div>\n",
              "<style scoped>\n",
              "    .dataframe tbody tr th:only-of-type {\n",
              "        vertical-align: middle;\n",
              "    }\n",
              "\n",
              "    .dataframe tbody tr th {\n",
              "        vertical-align: top;\n",
              "    }\n",
              "\n",
              "    .dataframe thead th {\n",
              "        text-align: right;\n",
              "    }\n",
              "</style>\n",
              "<table border=\"1\" class=\"dataframe\">\n",
              "  <thead>\n",
              "    <tr style=\"text-align: right;\">\n",
              "      <th></th>\n",
              "      <th>TOTAL_NO_OF_MONTHS</th>\n",
              "      <th>GOOD_OR_BAD</th>\n",
              "      <th>FLAG_OWN_CAR</th>\n",
              "      <th>FLAG_OWN_REALTY</th>\n",
              "      <th>CNT_CHILDREN</th>\n",
              "      <th>NAME_INCOME_TYPE</th>\n",
              "      <th>NAME_EDUCATION_TYPE</th>\n",
              "      <th>NAME_FAMILY_STATUS</th>\n",
              "      <th>NAME_HOUSING_TYPE</th>\n",
              "      <th>FLAG_WORK_PHONE</th>\n",
              "      <th>...</th>\n",
              "      <th>MARRIED</th>\n",
              "      <th>SEPARATED</th>\n",
              "      <th>SINGLE_NOT_MARRIED</th>\n",
              "      <th>WIDOW</th>\n",
              "      <th>CO_OP_APARTMENT</th>\n",
              "      <th>HOUSE_APARTMENT</th>\n",
              "      <th>MUNICIPAL_APARTMENT</th>\n",
              "      <th>OFFICE_APARTMENT</th>\n",
              "      <th>RENTED_APARTMENT</th>\n",
              "      <th>WITH_PARENTS</th>\n",
              "    </tr>\n",
              "  </thead>\n",
              "  <tbody>\n",
              "    <tr>\n",
              "      <th>0</th>\n",
              "      <td>16</td>\n",
              "      <td>1</td>\n",
              "      <td>1</td>\n",
              "      <td>1</td>\n",
              "      <td>0</td>\n",
              "      <td>Working</td>\n",
              "      <td>3</td>\n",
              "      <td>Civil marriage</td>\n",
              "      <td>Rented apartment</td>\n",
              "      <td>1</td>\n",
              "      <td>...</td>\n",
              "      <td>0</td>\n",
              "      <td>0</td>\n",
              "      <td>0</td>\n",
              "      <td>0</td>\n",
              "      <td>0</td>\n",
              "      <td>0</td>\n",
              "      <td>0</td>\n",
              "      <td>0</td>\n",
              "      <td>1</td>\n",
              "      <td>0</td>\n",
              "    </tr>\n",
              "    <tr>\n",
              "      <th>1</th>\n",
              "      <td>15</td>\n",
              "      <td>1</td>\n",
              "      <td>1</td>\n",
              "      <td>1</td>\n",
              "      <td>0</td>\n",
              "      <td>Working</td>\n",
              "      <td>3</td>\n",
              "      <td>Civil marriage</td>\n",
              "      <td>Rented apartment</td>\n",
              "      <td>1</td>\n",
              "      <td>...</td>\n",
              "      <td>0</td>\n",
              "      <td>0</td>\n",
              "      <td>0</td>\n",
              "      <td>0</td>\n",
              "      <td>0</td>\n",
              "      <td>0</td>\n",
              "      <td>0</td>\n",
              "      <td>0</td>\n",
              "      <td>1</td>\n",
              "      <td>0</td>\n",
              "    </tr>\n",
              "    <tr>\n",
              "      <th>2</th>\n",
              "      <td>30</td>\n",
              "      <td>1</td>\n",
              "      <td>1</td>\n",
              "      <td>1</td>\n",
              "      <td>0</td>\n",
              "      <td>Working</td>\n",
              "      <td>1</td>\n",
              "      <td>Married</td>\n",
              "      <td>House / apartment</td>\n",
              "      <td>0</td>\n",
              "      <td>...</td>\n",
              "      <td>1</td>\n",
              "      <td>0</td>\n",
              "      <td>0</td>\n",
              "      <td>0</td>\n",
              "      <td>0</td>\n",
              "      <td>1</td>\n",
              "      <td>0</td>\n",
              "      <td>0</td>\n",
              "      <td>0</td>\n",
              "      <td>0</td>\n",
              "    </tr>\n",
              "    <tr>\n",
              "      <th>3</th>\n",
              "      <td>5</td>\n",
              "      <td>1</td>\n",
              "      <td>0</td>\n",
              "      <td>1</td>\n",
              "      <td>0</td>\n",
              "      <td>Commercial associate</td>\n",
              "      <td>1</td>\n",
              "      <td>Single / not married</td>\n",
              "      <td>House / apartment</td>\n",
              "      <td>0</td>\n",
              "      <td>...</td>\n",
              "      <td>0</td>\n",
              "      <td>0</td>\n",
              "      <td>1</td>\n",
              "      <td>0</td>\n",
              "      <td>0</td>\n",
              "      <td>1</td>\n",
              "      <td>0</td>\n",
              "      <td>0</td>\n",
              "      <td>0</td>\n",
              "      <td>0</td>\n",
              "    </tr>\n",
              "    <tr>\n",
              "      <th>4</th>\n",
              "      <td>5</td>\n",
              "      <td>1</td>\n",
              "      <td>0</td>\n",
              "      <td>1</td>\n",
              "      <td>0</td>\n",
              "      <td>Commercial associate</td>\n",
              "      <td>1</td>\n",
              "      <td>Single / not married</td>\n",
              "      <td>House / apartment</td>\n",
              "      <td>0</td>\n",
              "      <td>...</td>\n",
              "      <td>0</td>\n",
              "      <td>0</td>\n",
              "      <td>1</td>\n",
              "      <td>0</td>\n",
              "      <td>0</td>\n",
              "      <td>1</td>\n",
              "      <td>0</td>\n",
              "      <td>0</td>\n",
              "      <td>0</td>\n",
              "      <td>0</td>\n",
              "    </tr>\n",
              "    <tr>\n",
              "      <th>...</th>\n",
              "      <td>...</td>\n",
              "      <td>...</td>\n",
              "      <td>...</td>\n",
              "      <td>...</td>\n",
              "      <td>...</td>\n",
              "      <td>...</td>\n",
              "      <td>...</td>\n",
              "      <td>...</td>\n",
              "      <td>...</td>\n",
              "      <td>...</td>\n",
              "      <td>...</td>\n",
              "      <td>...</td>\n",
              "      <td>...</td>\n",
              "      <td>...</td>\n",
              "      <td>...</td>\n",
              "      <td>...</td>\n",
              "      <td>...</td>\n",
              "      <td>...</td>\n",
              "      <td>...</td>\n",
              "      <td>...</td>\n",
              "      <td>...</td>\n",
              "    </tr>\n",
              "    <tr>\n",
              "      <th>36452</th>\n",
              "      <td>18</td>\n",
              "      <td>1</td>\n",
              "      <td>1</td>\n",
              "      <td>1</td>\n",
              "      <td>1</td>\n",
              "      <td>Working</td>\n",
              "      <td>1</td>\n",
              "      <td>Married</td>\n",
              "      <td>House / apartment</td>\n",
              "      <td>0</td>\n",
              "      <td>...</td>\n",
              "      <td>1</td>\n",
              "      <td>0</td>\n",
              "      <td>0</td>\n",
              "      <td>0</td>\n",
              "      <td>0</td>\n",
              "      <td>1</td>\n",
              "      <td>0</td>\n",
              "      <td>0</td>\n",
              "      <td>0</td>\n",
              "      <td>0</td>\n",
              "    </tr>\n",
              "    <tr>\n",
              "      <th>36453</th>\n",
              "      <td>18</td>\n",
              "      <td>1</td>\n",
              "      <td>1</td>\n",
              "      <td>1</td>\n",
              "      <td>1</td>\n",
              "      <td>Working</td>\n",
              "      <td>1</td>\n",
              "      <td>Married</td>\n",
              "      <td>House / apartment</td>\n",
              "      <td>0</td>\n",
              "      <td>...</td>\n",
              "      <td>1</td>\n",
              "      <td>0</td>\n",
              "      <td>0</td>\n",
              "      <td>0</td>\n",
              "      <td>0</td>\n",
              "      <td>1</td>\n",
              "      <td>0</td>\n",
              "      <td>0</td>\n",
              "      <td>0</td>\n",
              "      <td>0</td>\n",
              "    </tr>\n",
              "    <tr>\n",
              "      <th>36454</th>\n",
              "      <td>13</td>\n",
              "      <td>1</td>\n",
              "      <td>1</td>\n",
              "      <td>1</td>\n",
              "      <td>1</td>\n",
              "      <td>Working</td>\n",
              "      <td>1</td>\n",
              "      <td>Married</td>\n",
              "      <td>House / apartment</td>\n",
              "      <td>0</td>\n",
              "      <td>...</td>\n",
              "      <td>1</td>\n",
              "      <td>0</td>\n",
              "      <td>0</td>\n",
              "      <td>0</td>\n",
              "      <td>0</td>\n",
              "      <td>1</td>\n",
              "      <td>0</td>\n",
              "      <td>0</td>\n",
              "      <td>0</td>\n",
              "      <td>0</td>\n",
              "    </tr>\n",
              "    <tr>\n",
              "      <th>36455</th>\n",
              "      <td>2</td>\n",
              "      <td>1</td>\n",
              "      <td>1</td>\n",
              "      <td>1</td>\n",
              "      <td>1</td>\n",
              "      <td>Working</td>\n",
              "      <td>1</td>\n",
              "      <td>Married</td>\n",
              "      <td>House / apartment</td>\n",
              "      <td>0</td>\n",
              "      <td>...</td>\n",
              "      <td>1</td>\n",
              "      <td>0</td>\n",
              "      <td>0</td>\n",
              "      <td>0</td>\n",
              "      <td>0</td>\n",
              "      <td>1</td>\n",
              "      <td>0</td>\n",
              "      <td>0</td>\n",
              "      <td>0</td>\n",
              "      <td>0</td>\n",
              "    </tr>\n",
              "    <tr>\n",
              "      <th>36456</th>\n",
              "      <td>30</td>\n",
              "      <td>1</td>\n",
              "      <td>1</td>\n",
              "      <td>0</td>\n",
              "      <td>0</td>\n",
              "      <td>Working</td>\n",
              "      <td>1</td>\n",
              "      <td>Married</td>\n",
              "      <td>House / apartment</td>\n",
              "      <td>0</td>\n",
              "      <td>...</td>\n",
              "      <td>1</td>\n",
              "      <td>0</td>\n",
              "      <td>0</td>\n",
              "      <td>0</td>\n",
              "      <td>0</td>\n",
              "      <td>1</td>\n",
              "      <td>0</td>\n",
              "      <td>0</td>\n",
              "      <td>0</td>\n",
              "      <td>0</td>\n",
              "    </tr>\n",
              "  </tbody>\n",
              "</table>\n",
              "<p>36457 rows × 35 columns</p>\n",
              "</div>\n",
              "      <button class=\"colab-df-convert\" onclick=\"convertToInteractive('df-87bebeee-fcff-481c-b539-4741a4817235')\"\n",
              "              title=\"Convert this dataframe to an interactive table.\"\n",
              "              style=\"display:none;\">\n",
              "        \n",
              "  <svg xmlns=\"http://www.w3.org/2000/svg\" height=\"24px\"viewBox=\"0 0 24 24\"\n",
              "       width=\"24px\">\n",
              "    <path d=\"M0 0h24v24H0V0z\" fill=\"none\"/>\n",
              "    <path d=\"M18.56 5.44l.94 2.06.94-2.06 2.06-.94-2.06-.94-.94-2.06-.94 2.06-2.06.94zm-11 1L8.5 8.5l.94-2.06 2.06-.94-2.06-.94L8.5 2.5l-.94 2.06-2.06.94zm10 10l.94 2.06.94-2.06 2.06-.94-2.06-.94-.94-2.06-.94 2.06-2.06.94z\"/><path d=\"M17.41 7.96l-1.37-1.37c-.4-.4-.92-.59-1.43-.59-.52 0-1.04.2-1.43.59L10.3 9.45l-7.72 7.72c-.78.78-.78 2.05 0 2.83L4 21.41c.39.39.9.59 1.41.59.51 0 1.02-.2 1.41-.59l7.78-7.78 2.81-2.81c.8-.78.8-2.07 0-2.86zM5.41 20L4 18.59l7.72-7.72 1.47 1.35L5.41 20z\"/>\n",
              "  </svg>\n",
              "      </button>\n",
              "      \n",
              "  <style>\n",
              "    .colab-df-container {\n",
              "      display:flex;\n",
              "      flex-wrap:wrap;\n",
              "      gap: 12px;\n",
              "    }\n",
              "\n",
              "    .colab-df-convert {\n",
              "      background-color: #E8F0FE;\n",
              "      border: none;\n",
              "      border-radius: 50%;\n",
              "      cursor: pointer;\n",
              "      display: none;\n",
              "      fill: #1967D2;\n",
              "      height: 32px;\n",
              "      padding: 0 0 0 0;\n",
              "      width: 32px;\n",
              "    }\n",
              "\n",
              "    .colab-df-convert:hover {\n",
              "      background-color: #E2EBFA;\n",
              "      box-shadow: 0px 1px 2px rgba(60, 64, 67, 0.3), 0px 1px 3px 1px rgba(60, 64, 67, 0.15);\n",
              "      fill: #174EA6;\n",
              "    }\n",
              "\n",
              "    [theme=dark] .colab-df-convert {\n",
              "      background-color: #3B4455;\n",
              "      fill: #D2E3FC;\n",
              "    }\n",
              "\n",
              "    [theme=dark] .colab-df-convert:hover {\n",
              "      background-color: #434B5C;\n",
              "      box-shadow: 0px 1px 3px 1px rgba(0, 0, 0, 0.15);\n",
              "      filter: drop-shadow(0px 1px 2px rgba(0, 0, 0, 0.3));\n",
              "      fill: #FFFFFF;\n",
              "    }\n",
              "  </style>\n",
              "\n",
              "      <script>\n",
              "        const buttonEl =\n",
              "          document.querySelector('#df-87bebeee-fcff-481c-b539-4741a4817235 button.colab-df-convert');\n",
              "        buttonEl.style.display =\n",
              "          google.colab.kernel.accessAllowed ? 'block' : 'none';\n",
              "\n",
              "        async function convertToInteractive(key) {\n",
              "          const element = document.querySelector('#df-87bebeee-fcff-481c-b539-4741a4817235');\n",
              "          const dataTable =\n",
              "            await google.colab.kernel.invokeFunction('convertToInteractive',\n",
              "                                                     [key], {});\n",
              "          if (!dataTable) return;\n",
              "\n",
              "          const docLinkHtml = 'Like what you see? Visit the ' +\n",
              "            '<a target=\"_blank\" href=https://colab.research.google.com/notebooks/data_table.ipynb>data table notebook</a>'\n",
              "            + ' to learn more about interactive tables.';\n",
              "          element.innerHTML = '';\n",
              "          dataTable['output_type'] = 'display_data';\n",
              "          await google.colab.output.renderOutput(dataTable, element);\n",
              "          const docLink = document.createElement('div');\n",
              "          docLink.innerHTML = docLinkHtml;\n",
              "          element.appendChild(docLink);\n",
              "        }\n",
              "      </script>\n",
              "    </div>\n",
              "  </div>\n",
              "  "
            ]
          },
          "metadata": {},
          "execution_count": 197
        }
      ]
    },
    {
      "cell_type": "code",
      "source": [
        "DF_ONE_HOT=pd.get_dummies(DF_FE['OCCUPATION_TYPE']).astype(int)\n",
        "DF_FE = pd.concat([DF_FE,DF_ONE_HOT],axis=1)\n",
        "DF_FE.rename(columns={'Accountants':'ACCOUNTANTS','Cleaning staff':'CLEANING_STAFF','Cooking staff':'COOKING_STAFF',\n",
        "                     'Core staff':'CORE_STAFF','Drivers':'DRIVERS','HR staff':'HR_STAFF',\n",
        "                     'High skill tech staff':'HIGH_SKILL_TECH_STAFF','IT staff':'IT_STAFF','Laborers':'LABOURERS',\n",
        "                     'Low-skill Laborers':'LOW_SKILL_LABOURERS','Managers':'MANAGERS',\n",
        "                     'Medicine staff':'MEDICINE_STAFF','Missing NA':'MISSING_NA',\n",
        "                     'Private service staff':'PRIVATE_SERVICE_STAFF','Realty agents':'REALTY_AGENTS',\n",
        "                     'Sales staff':'SALES_STAFF','Secretaries':'SECRETARIES','Security staff':'SECURITY_STAFF',\n",
        "                     'Waiters/barmen staff':'WAITER_BARMEN_STAFF'},inplace=True)\n"
      ],
      "metadata": {
        "id": "yy1wflKn2o0D"
      },
      "execution_count": null,
      "outputs": []
    },
    {
      "cell_type": "code",
      "execution_count": null,
      "metadata": {
        "id": "2iBc7LQyo8BW",
        "colab": {
          "base_uri": "https://localhost:8080/"
        },
        "outputId": "9f0b472b-8b01-4330-f84a-5596d64db50a"
      },
      "outputs": [
        {
          "output_type": "stream",
          "name": "stdout",
          "text": [
            "So far the number of FEATURES: 50\n"
          ]
        }
      ],
      "source": [
        "DF_FE=DF_FE.drop(['NAME_INCOME_TYPE','NAME_FAMILY_STATUS','NAME_HOUSING_TYPE','OCCUPATION_TYPE'],axis=1)\n",
        "print('So far the number of FEATURES:', len(DF_FE.columns))"
      ]
    },
    {
      "cell_type": "code",
      "execution_count": null,
      "metadata": {
        "colab": {
          "base_uri": "https://localhost:8080/"
        },
        "id": "Jdcw-NQpsBn9",
        "outputId": "8c3df382-ce94-4775-8364-4d683962bdf3"
      },
      "outputs": [
        {
          "output_type": "execute_result",
          "data": {
            "text/plain": [
              "Index(['TOTAL_NO_OF_MONTHS', 'GOOD_OR_BAD', 'FLAG_OWN_CAR', 'FLAG_OWN_REALTY',\n",
              "       'CNT_CHILDREN', 'NAME_EDUCATION_TYPE', 'FLAG_WORK_PHONE', 'FLAG_PHONE',\n",
              "       'FLAG_EMAIL', 'CNT_FAM_MEMBERS', 'AMT_INCOME_TOTAL_NEW',\n",
              "       'FLAG_EMPLOYED', 'FLAG_GENDER', 'YEARS_OF_EMPLOYMENT', 'AGE',\n",
              "       'COMMERCIAL_ASSOCIATE', 'PENSIONER', 'STATE_SERVANT', 'STUDENT',\n",
              "       'WORKING', 'CIVIL_MARRIAGE', 'MARRIED', 'SEPARATED',\n",
              "       'SINGLE_NOT_MARRIED', 'WIDOW', 'CO_OP_APARTMENT', 'HOUSE_APARTMENT',\n",
              "       'MUNICIPAL_APARTMENT', 'OFFICE_APARTMENT', 'RENTED_APARTMENT',\n",
              "       'WITH_PARENTS', 'ACCOUNTANTS', 'CLEANING_STAFF', 'COOKING_STAFF',\n",
              "       'CORE_STAFF', 'DRIVERS', 'HR_STAFF', 'HIGH_SKILL_TECH_STAFF',\n",
              "       'IT_STAFF', 'LABOURERS', 'LOW_SKILL_LABOURERS', 'MANAGERS',\n",
              "       'MEDICINE_STAFF', 'MISSING_NA', 'PRIVATE_SERVICE_STAFF',\n",
              "       'REALTY_AGENTS', 'SALES_STAFF', 'SECRETARIES', 'SECURITY_STAFF',\n",
              "       'WAITER_BARMEN_STAFF'],\n",
              "      dtype='object')"
            ]
          },
          "metadata": {},
          "execution_count": 200
        }
      ],
      "source": [
        "DF_FE.columns\n"
      ]
    },
    {
      "cell_type": "markdown",
      "metadata": {
        "id": "ZHIUxtejU1Bu"
      },
      "source": [
        "#MODEL M2\n",
        "METHOD-Logistic Regression & Decision Tree\n",
        "\n",
        "METHODOLOGY-Building the model after doing FEATURE ENGINEERING\n",
        "\n",
        "PACKAGE-sklearn & statsmodel"
      ]
    },
    {
      "cell_type": "markdown",
      "metadata": {
        "id": "TLSao_t4UzdJ"
      },
      "source": [
        "**METHOD-LOGISTIC REGRESSION**"
      ]
    },
    {
      "cell_type": "code",
      "execution_count": null,
      "metadata": {
        "colab": {
          "base_uri": "https://localhost:8080/"
        },
        "id": "pdh4-WiiU3pW",
        "outputId": "07589bca-cf23-4a4f-e88c-d18039278a86"
      },
      "outputs": [
        {
          "output_type": "stream",
          "name": "stderr",
          "text": [
            "/usr/local/lib/python3.7/dist-packages/sklearn/utils/validation.py:993: DataConversionWarning: A column-vector y was passed when a 1d array was expected. Please change the shape of y to (n_samples, ), for example using ravel().\n",
            "  y = column_or_1d(y, warn=True)\n"
          ]
        },
        {
          "output_type": "stream",
          "name": "stdout",
          "text": [
            "Intercept [0.00132908]\n",
            "Coefficients [[ 7.51642381e-03  1.69395552e-04  9.65533145e-04  4.52113545e-04\n",
            "   1.42523395e-03  3.61091504e-04  4.19958666e-04  4.75167134e-05\n",
            "   2.91454681e-03  6.22839846e-06  7.92021929e-04 -4.58095919e-05\n",
            "   7.36778762e-03  6.52393557e-02  5.71528213e-05  4.93077583e-04\n",
            "   1.18944261e-04  5.88073018e-07  6.59318047e-04  9.36620461e-05\n",
            "   1.06693166e-03  7.74400620e-05  6.33272585e-05  2.77197631e-05\n",
            "   2.74007945e-06  1.22102553e-03  2.64816222e-05 -3.79716089e-06\n",
            "   1.29913574e-05  6.96393583e-05  1.64435693e-05  6.18622965e-05\n",
            "   5.61989804e-05  7.14516400e-05 -3.94142178e-05  1.28991128e-06\n",
            "   1.24685888e-06 -4.80470773e-06  1.66753111e-04  3.48008295e-06\n",
            "  -4.35844269e-05  9.76453709e-05  7.11134354e-04  1.26248597e-05\n",
            "   1.07688450e-06  1.83397598e-04  8.56088406e-06  1.36917461e-05\n",
            "   1.00259908e-05]]\n"
          ]
        }
      ],
      "source": [
        "logistic= LogisticRegression()\n",
        "logistic.fit(DF_FE.drop('GOOD_OR_BAD',axis=1),DF_FE[['GOOD_OR_BAD']])\n",
        "print(\"Intercept\", logistic.intercept_)\n",
        "print(\"Coefficients\", logistic.coef_)"
      ]
    },
    {
      "cell_type": "code",
      "execution_count": null,
      "metadata": {
        "id": "YmNMLPH4vGIe"
      },
      "outputs": [],
      "source": [
        "## Function for OLS formula\n",
        "def ols_formula(df, dependent_var, *excluded_cols):\n",
        "    '''\n",
        "    Generates the y~X style formula for statsmodels (patsy) given\n",
        "    the dataframe, dependent variable and optional excluded columns\n",
        "    as strings\n",
        "    '''\n",
        "    df_columns = list(df.columns.values)\n",
        "    df_columns.remove(dependent_var)\n",
        "    for col in excluded_cols:\n",
        "        df_columns.remove(col)\n",
        "    return dependent_var + ' ~ ' + ' + '.join(df_columns)"
      ]
    },
    {
      "cell_type": "code",
      "execution_count": null,
      "metadata": {
        "colab": {
          "base_uri": "https://localhost:8080/"
        },
        "id": "ZCxrJySjvLDl",
        "outputId": "d6190917-8838-430c-e671-afcdb8d2a918"
      },
      "outputs": [
        {
          "output_type": "stream",
          "name": "stdout",
          "text": [
            "Model Formula\n",
            " GOOD_OR_BAD ~ TOTAL_NO_OF_MONTHS + FLAG_OWN_CAR + FLAG_OWN_REALTY + CNT_CHILDREN + NAME_EDUCATION_TYPE + FLAG_WORK_PHONE + FLAG_PHONE + FLAG_EMAIL + CNT_FAM_MEMBERS + AMT_INCOME_TOTAL_NEW + FLAG_EMPLOYED + FLAG_GENDER + YEARS_OF_EMPLOYMENT + AGE + COMMERCIAL_ASSOCIATE + PENSIONER + STATE_SERVANT + STUDENT + WORKING + CIVIL_MARRIAGE + MARRIED + SEPARATED + SINGLE_NOT_MARRIED + WIDOW + CO_OP_APARTMENT + HOUSE_APARTMENT + MUNICIPAL_APARTMENT + OFFICE_APARTMENT + RENTED_APARTMENT + WITH_PARENTS + ACCOUNTANTS + CLEANING_STAFF + COOKING_STAFF + CORE_STAFF + DRIVERS + HR_STAFF + HIGH_SKILL_TECH_STAFF + IT_STAFF + LABOURERS + LOW_SKILL_LABOURERS + MANAGERS + MEDICINE_STAFF + MISSING_NA + PRIVATE_SERVICE_STAFF + REALTY_AGENTS + SALES_STAFF + SECRETARIES + SECURITY_STAFF + WAITER_BARMEN_STAFF\n"
          ]
        }
      ],
      "source": [
        "model_formula=ols_formula(DF_FE, dependent_var=\"GOOD_OR_BAD\")\n",
        "print('Model Formula\\n',model_formula)"
      ]
    },
    {
      "cell_type": "code",
      "source": [
        "print(len(DF_FE.columns))\n",
        "DF_FE.columns\n"
      ],
      "metadata": {
        "colab": {
          "base_uri": "https://localhost:8080/"
        },
        "id": "-YRq8XNBt6i0",
        "outputId": "92bfc227-0e49-423c-b05c-24f1e9beeab5"
      },
      "execution_count": null,
      "outputs": [
        {
          "output_type": "stream",
          "name": "stdout",
          "text": [
            "50\n"
          ]
        },
        {
          "output_type": "execute_result",
          "data": {
            "text/plain": [
              "Index(['TOTAL_NO_OF_MONTHS', 'GOOD_OR_BAD', 'FLAG_OWN_CAR', 'FLAG_OWN_REALTY',\n",
              "       'CNT_CHILDREN', 'NAME_EDUCATION_TYPE', 'FLAG_WORK_PHONE', 'FLAG_PHONE',\n",
              "       'FLAG_EMAIL', 'CNT_FAM_MEMBERS', 'AMT_INCOME_TOTAL_NEW',\n",
              "       'FLAG_EMPLOYED', 'FLAG_GENDER', 'YEARS_OF_EMPLOYMENT', 'AGE',\n",
              "       'COMMERCIAL_ASSOCIATE', 'PENSIONER', 'STATE_SERVANT', 'STUDENT',\n",
              "       'WORKING', 'CIVIL_MARRIAGE', 'MARRIED', 'SEPARATED',\n",
              "       'SINGLE_NOT_MARRIED', 'WIDOW', 'CO_OP_APARTMENT', 'HOUSE_APARTMENT',\n",
              "       'MUNICIPAL_APARTMENT', 'OFFICE_APARTMENT', 'RENTED_APARTMENT',\n",
              "       'WITH_PARENTS', 'ACCOUNTANTS', 'CLEANING_STAFF', 'COOKING_STAFF',\n",
              "       'CORE_STAFF', 'DRIVERS', 'HR_STAFF', 'HIGH_SKILL_TECH_STAFF',\n",
              "       'IT_STAFF', 'LABOURERS', 'LOW_SKILL_LABOURERS', 'MANAGERS',\n",
              "       'MEDICINE_STAFF', 'MISSING_NA', 'PRIVATE_SERVICE_STAFF',\n",
              "       'REALTY_AGENTS', 'SALES_STAFF', 'SECRETARIES', 'SECURITY_STAFF',\n",
              "       'WAITER_BARMEN_STAFF'],\n",
              "      dtype='object')"
            ]
          },
          "metadata": {},
          "execution_count": 204
        }
      ]
    },
    {
      "cell_type": "markdown",
      "metadata": {
        "id": "sA2u99jXlD-5"
      },
      "source": [
        "MULTICOLLINEARITY-M2\n",
        "--------------------\n",
        "\n"
      ]
    },
    {
      "cell_type": "code",
      "execution_count": null,
      "metadata": {
        "id": "i4sbGEV3Q7Rd"
      },
      "outputs": [],
      "source": [
        "#MULTICOLLINEARITY CHECK\n",
        "import statsmodels.formula.api as sm\n",
        "\n",
        "def vif_cal(input_data, dependent_col):\n",
        "    x_vars=input_data.drop([dependent_col], axis=1)\n",
        "    xvar_names=x_vars.columns\n",
        "    for i in range(0,xvar_names.shape[0]):\n",
        "        y=x_vars[xvar_names[i]] \n",
        "        x=x_vars[xvar_names.drop(xvar_names[i])]\n",
        "        rsq=sm.ols(formula=\"y~x\", data=x_vars).fit().rsquared  \n",
        "        vif=round(1/(1-rsq),2)\n",
        "        print (xvar_names[i], \" VIF = \" , vif)"
      ]
    },
    {
      "cell_type": "markdown",
      "metadata": {
        "id": "7WWG45zlVP3i"
      },
      "source": [
        "**CHECKING MULTICOLLINEARITY**\n",
        "\n",
        "NOTE TO SELF- Whenever there is inf for all values of a cluster after Feature Engineering, then VIF should be checked for each group separately. \n",
        "\n",
        "For Example for OCCUPATION_TYPE we got these many distinct values\n",
        "\n",
        "OCCUPATION_TYPE      \n",
        "Missing NA               11323\n",
        "Laborers                  6211\n",
        "Core staff                3591\n",
        "Sales staff               3485\n",
        "Managers                  3012\n",
        "Drivers                   2138\n",
        "High skill tech staff     1383\n",
        "Accountants               1241\n",
        "Medicine staff            1207\n",
        "Cooking staff              655\n",
        "Security staff             592\n",
        "Cleaning staff             551\n",
        "Private service staff      344\n",
        "Low-skill Laborers         175\n",
        "Waiters/barmen staff       174\n",
        "Secretaries                151\n",
        "HR staff                    85\n",
        "Realty agents               79\n",
        "IT staff                    60\n",
        "\n",
        "However while checking VIF collectively, all came as inf. So one value needs to be dropped first to check the highest VIF as after dropping one value VIF will change into number and then replace the original Variable which was dropped with the Variable having highest VIF and then continue the process.\n",
        "\n",
        "\n",
        "Same needs to be done with all categorical fields converted to 1,0 by ONE HOT ENCODING\n"
      ]
    },
    {
      "cell_type": "code",
      "execution_count": null,
      "metadata": {
        "colab": {
          "base_uri": "https://localhost:8080/"
        },
        "id": "wcf66sToRJn0",
        "outputId": "f838c8c8-cff3-47b5-c313-710e2cc9c5c2"
      },
      "outputs": [
        {
          "output_type": "stream",
          "name": "stdout",
          "text": [
            "TOTAL_NO_OF_MONTHS  VIF =  1.02\n",
            "FLAG_OWN_CAR  VIF =  1.23\n",
            "FLAG_OWN_REALTY  VIF =  1.11\n",
            "CNT_CHILDREN  VIF =  1.15\n",
            "NAME_EDUCATION_TYPE  VIF =  1.23\n",
            "FLAG_WORK_PHONE  VIF =  1.26\n",
            "FLAG_PHONE  VIF =  1.13\n",
            "FLAG_EMAIL  VIF =  1.04\n",
            "AMT_INCOME_TOTAL_NEW  VIF =  1.24\n",
            "FLAG_EMPLOYED  VIF =  3.33\n",
            "FLAG_GENDER  VIF =  1.57\n",
            "YEARS_OF_EMPLOYMENT  VIF =  1.47\n",
            "AGE  VIF =  2.21\n",
            "COMMERCIAL_ASSOCIATE  VIF =  1.18\n",
            "STATE_SERVANT  VIF =  1.18\n",
            "STUDENT  VIF =  1.0\n",
            "CIVIL_MARRIAGE  VIF =  1.03\n",
            "SEPARATED  VIF =  1.03\n",
            "WIDOW  VIF =  1.09\n",
            "CO_OP_APARTMENT  VIF =  1.01\n",
            "MUNICIPAL_APARTMENT  VIF =  1.03\n",
            "OFFICE_APARTMENT  VIF =  1.01\n",
            "RENTED_APARTMENT  VIF =  1.02\n",
            "WITH_PARENTS  VIF =  1.08\n",
            "ACCOUNTANTS  VIF =  1.23\n",
            "CLEANING_STAFF  VIF =  1.13\n",
            "COOKING_STAFF  VIF =  1.12\n",
            "CORE_STAFF  VIF =  1.58\n",
            "DRIVERS  VIF =  1.49\n",
            "HR_STAFF  VIF =  1.02\n",
            "HIGH_SKILL_TECH_STAFF  VIF =  1.22\n",
            "IT_STAFF  VIF =  1.01\n",
            "LABOURERS  VIF =  1.95\n",
            "LOW_SKILL_LABOURERS  VIF =  1.05\n",
            "MANAGERS  VIF =  1.54\n",
            "MEDICINE_STAFF  VIF =  1.25\n",
            "PRIVATE_SERVICE_STAFF  VIF =  1.06\n",
            "REALTY_AGENTS  VIF =  1.02\n",
            "SALES_STAFF  VIF =  1.57\n",
            "SECRETARIES  VIF =  1.03\n",
            "SECURITY_STAFF  VIF =  1.14\n",
            "WAITER_BARMEN_STAFF  VIF =  1.04\n"
          ]
        }
      ],
      "source": [
        "vif_cal(input_data=DF_FE.drop(['MISSING_NA','MARRIED','SINGLE_NOT_MARRIED','HOUSE_APARTMENT','WORKING','PENSIONER','CNT_FAM_MEMBERS'],axis=1), dependent_col=\"GOOD_OR_BAD\")"
      ]
    },
    {
      "cell_type": "markdown",
      "metadata": {
        "id": "9sqadpqnW1WR"
      },
      "source": [
        "**CHECKING INDIVIDUAL VARIABLE IMPACT**\n",
        "---------------------------------------\n",
        "\n",
        "\n",
        "DROPPING THE VARIABLES WHERE MULTICOLLINEARITY WAS FOUND"
      ]
    },
    {
      "cell_type": "code",
      "execution_count": null,
      "metadata": {
        "colab": {
          "base_uri": "https://localhost:8080/"
        },
        "id": "-VUCVzt3XS0I",
        "outputId": "579d5e48-1485-484e-aadc-a09cc1504845"
      },
      "outputs": [
        {
          "output_type": "stream",
          "name": "stdout",
          "text": [
            "Warning: Maximum number of iterations has been exceeded.\n",
            "         Current function value: 0.079025\n",
            "         Iterations: 35\n"
          ]
        },
        {
          "output_type": "stream",
          "name": "stderr",
          "text": [
            "/usr/local/lib/python3.7/dist-packages/statsmodels/base/model.py:568: ConvergenceWarning: Maximum Likelihood optimization failed to converge. Check mle_retvals\n",
            "  ConvergenceWarning)\n"
          ]
        },
        {
          "output_type": "stream",
          "name": "stdout",
          "text": [
            "                           Logit Regression Results                           \n",
            "==============================================================================\n",
            "Dep. Variable:            GOOD_OR_BAD   No. Observations:                36457\n",
            "Model:                          Logit   Df Residuals:                    36414\n",
            "Method:                           MLE   Df Model:                           42\n",
            "Date:                Tue, 11 Oct 2022   Pseudo R-squ.:                 0.07791\n",
            "Time:                        19:04:53   Log-Likelihood:                -2881.0\n",
            "converged:                      False   LL-Null:                       -3124.4\n",
            "Covariance Type:            nonrobust   LLR p-value:                 4.620e-77\n",
            "=========================================================================================\n",
            "                            coef    std err          z      P>|z|      [0.025      0.975]\n",
            "-----------------------------------------------------------------------------------------\n",
            "Intercept                 4.8786      0.350     13.922      0.000       4.192       5.565\n",
            "TOTAL_NO_OF_MONTHS       -0.0484      0.003    -19.320      0.000      -0.053      -0.044\n",
            "FLAG_OWN_CAR              0.2270      0.095      2.388      0.017       0.041       0.413\n",
            "FLAG_OWN_REALTY           0.2592      0.088      2.933      0.003       0.086       0.432\n",
            "CNT_CHILDREN              0.0115      0.059      0.194      0.846      -0.104       0.127\n",
            "NAME_EDUCATION_TYPE      -0.0246      0.050     -0.492      0.623      -0.123       0.073\n",
            "FLAG_WORK_PHONE          -0.0239      0.108     -0.222      0.824      -0.235       0.187\n",
            "FLAG_PHONE                0.0169      0.095      0.178      0.859      -0.169       0.203\n",
            "FLAG_EMAIL                0.0920      0.150      0.614      0.539      -0.202       0.386\n",
            "AMT_INCOME_TOTAL_NEW  -7.227e-09   4.68e-07     -0.015      0.988   -9.25e-07    9.11e-07\n",
            "FLAG_EMPLOYED            -0.1284      0.201     -0.640      0.522      -0.521       0.265\n",
            "FLAG_GENDER              -0.2384      0.109     -2.196      0.028      -0.451      -0.026\n",
            "YEARS_OF_EMPLOYMENT       0.0447      0.009      4.892      0.000       0.027       0.063\n",
            "AGE                       0.0062      0.005      1.170      0.242      -0.004       0.017\n",
            "COMMERCIAL_ASSOCIATE      0.0449      0.105      0.429      0.668      -0.160       0.250\n",
            "STATE_SERVANT             0.3560      0.184      1.937      0.053      -0.004       0.716\n",
            "STUDENT                  16.9518   9693.310      0.002      0.999    -1.9e+04     1.9e+04\n",
            "CIVIL_MARRIAGE            0.0714      0.159      0.449      0.653      -0.240       0.383\n",
            "SEPARATED                 0.0933      0.190      0.490      0.624      -0.280       0.467\n",
            "WIDOW                    -0.7708      0.173     -4.463      0.000      -1.109      -0.432\n",
            "CO_OP_APARTMENT           0.0601      0.595      0.101      0.919      -1.105       1.226\n",
            "MUNICIPAL_APARTMENT      -0.4509      0.197     -2.294      0.022      -0.836      -0.066\n",
            "OFFICE_APARTMENT         -0.6985      0.354     -1.972      0.049      -1.393      -0.004\n",
            "RENTED_APARTMENT          0.1685      0.364      0.463      0.643      -0.544       0.881\n",
            "WITH_PARENTS              0.2474      0.210      1.179      0.238      -0.164       0.659\n",
            "ACCOUNTANTS              -0.1605      0.245     -0.654      0.513      -0.641       0.320\n",
            "CLEANING_STAFF            0.6259      0.472      1.327      0.184      -0.298       1.550\n",
            "COOKING_STAFF             0.1222      0.359      0.340      0.734      -0.582       0.826\n",
            "CORE_STAFF               -0.3764      0.167     -2.256      0.024      -0.703      -0.049\n",
            "DRIVERS                  -0.2182      0.196     -1.112      0.266      -0.603       0.166\n",
            "HR_STAFF                  0.5137      1.023      0.502      0.616      -1.492       2.519\n",
            "HIGH_SKILL_TECH_STAFF    -0.3939      0.219     -1.803      0.071      -0.822       0.034\n",
            "IT_STAFF                 -1.0384      0.622     -1.669      0.095      -2.258       0.181\n",
            "LABOURERS                 0.0188      0.157      0.120      0.904      -0.288       0.326\n",
            "LOW_SKILL_LABOURERS      -0.9368      0.396     -2.366      0.018      -1.713      -0.161\n",
            "MANAGERS                  0.0343      0.192      0.178      0.859      -0.343       0.411\n",
            "MEDICINE_STAFF            0.3769      0.343      1.099      0.272      -0.295       1.049\n",
            "PRIVATE_SERVICE_STAFF     0.8327      0.722      1.153      0.249      -0.582       2.248\n",
            "REALTY_AGENTS            16.1126   3522.979      0.005      0.996   -6888.799    6921.024\n",
            "SALES_STAFF               0.2066      0.192      1.079      0.281      -0.169       0.582\n",
            "SECRETARIES               0.0950      0.727      0.131      0.896      -1.330       1.520\n",
            "SECURITY_STAFF           -0.1621      0.313     -0.519      0.604      -0.775       0.451\n",
            "WAITER_BARMEN_STAFF       0.0430      0.726      0.059      0.953      -1.381       1.467\n",
            "=========================================================================================\n"
          ]
        }
      ],
      "source": [
        "# model_formula=ols_formula(DF_FE.drop(['MISSING_NA','MARRIED','SINGLE_NOT_MARRIED','HOUSE_APARTMENT','WORKING','PENSIONER','CNT_FAM_MEMBERS'],axis=1), dependent_var=\"GOOD_OR_BAD\")\n",
        "# print('Model Formula\\n',model_formula)\n",
        "DF_M2_NEW=DF_FE.drop(['MISSING_NA','MARRIED','SINGLE_NOT_MARRIED','HOUSE_APARTMENT','WORKING','PENSIONER','CNT_FAM_MEMBERS'],axis=1)\n",
        "M2=sm.logit('GOOD_OR_BAD ~ TOTAL_NO_OF_MONTHS + FLAG_OWN_CAR + FLAG_OWN_REALTY + CNT_CHILDREN + NAME_EDUCATION_TYPE + FLAG_WORK_PHONE + FLAG_PHONE + FLAG_EMAIL + AMT_INCOME_TOTAL_NEW + FLAG_EMPLOYED + FLAG_GENDER + YEARS_OF_EMPLOYMENT + AGE + COMMERCIAL_ASSOCIATE + STATE_SERVANT + STUDENT + CIVIL_MARRIAGE + SEPARATED + WIDOW + CO_OP_APARTMENT + MUNICIPAL_APARTMENT + OFFICE_APARTMENT + RENTED_APARTMENT + WITH_PARENTS + ACCOUNTANTS + CLEANING_STAFF + COOKING_STAFF + CORE_STAFF + DRIVERS + HR_STAFF + HIGH_SKILL_TECH_STAFF + IT_STAFF + LABOURERS + LOW_SKILL_LABOURERS + MANAGERS + MEDICINE_STAFF + PRIVATE_SERVICE_STAFF + REALTY_AGENTS + SALES_STAFF + SECRETARIES + SECURITY_STAFF + WAITER_BARMEN_STAFF',\n",
        "            data=DF_M2_NEW)\n",
        "results=M2.fit()\n",
        "print(results.summary())"
      ]
    },
    {
      "cell_type": "code",
      "source": [
        "M2=sm.logit('GOOD_OR_BAD ~ TOTAL_NO_OF_MONTHS + FLAG_OWN_CAR + FLAG_OWN_REALTY + FLAG_GENDER + YEARS_OF_EMPLOYMENT + WIDOW + MUNICIPAL_APARTMENT + CORE_STAFF + LOW_SKILL_LABOURERS',\n",
        "            data=DF_M2_NEW)\n",
        "results=M2.fit()\n",
        "print(results.summary())\n"
      ],
      "metadata": {
        "colab": {
          "base_uri": "https://localhost:8080/"
        },
        "id": "eRRb0QohPEaR",
        "outputId": "72856e39-0de2-4395-ccc3-b0fed632b695"
      },
      "execution_count": null,
      "outputs": [
        {
          "output_type": "stream",
          "name": "stdout",
          "text": [
            "Optimization terminated successfully.\n",
            "         Current function value: 0.079446\n",
            "         Iterations 9\n",
            "                           Logit Regression Results                           \n",
            "==============================================================================\n",
            "Dep. Variable:            GOOD_OR_BAD   No. Observations:                36457\n",
            "Model:                          Logit   Df Residuals:                    36447\n",
            "Method:                           MLE   Df Model:                            9\n",
            "Date:                Tue, 11 Oct 2022   Pseudo R-squ.:                 0.07300\n",
            "Time:                        19:04:53   Log-Likelihood:                -2896.4\n",
            "converged:                       True   LL-Null:                       -3124.4\n",
            "Covariance Type:            nonrobust   LLR p-value:                 1.369e-92\n",
            "=======================================================================================\n",
            "                          coef    std err          z      P>|z|      [0.025      0.975]\n",
            "---------------------------------------------------------------------------------------\n",
            "Intercept               5.1223      0.122     41.968      0.000       4.883       5.362\n",
            "TOTAL_NO_OF_MONTHS     -0.0485      0.002    -19.491      0.000      -0.053      -0.044\n",
            "FLAG_OWN_CAR            0.1837      0.092      1.990      0.047       0.003       0.365\n",
            "FLAG_OWN_REALTY         0.2864      0.085      3.382      0.001       0.120       0.452\n",
            "FLAG_GENDER            -0.3566      0.094     -3.808      0.000      -0.540      -0.173\n",
            "YEARS_OF_EMPLOYMENT     0.0431      0.008      5.586      0.000       0.028       0.058\n",
            "WIDOW                  -0.6753      0.164     -4.119      0.000      -0.997      -0.354\n",
            "MUNICIPAL_APARTMENT    -0.4086      0.194     -2.105      0.035      -0.789      -0.028\n",
            "CORE_STAFF             -0.3962      0.128     -3.088      0.002      -0.648      -0.145\n",
            "LOW_SKILL_LABOURERS    -0.9497      0.376     -2.529      0.011      -1.686      -0.214\n",
            "=======================================================================================\n"
          ]
        }
      ]
    },
    {
      "cell_type": "code",
      "source": [
        "DF_M2_FINAL=DF_M2_NEW[['TOTAL_NO_OF_MONTHS','FLAG_OWN_CAR','FLAG_OWN_REALTY','FLAG_GENDER','YEARS_OF_EMPLOYMENT','WIDOW','MUNICIPAL_APARTMENT','CORE_STAFF','GOOD_OR_BAD']]"
      ],
      "metadata": {
        "id": "B9pOgcpzTgAe"
      },
      "execution_count": null,
      "outputs": []
    },
    {
      "cell_type": "code",
      "execution_count": null,
      "metadata": {
        "colab": {
          "base_uri": "https://localhost:8080/"
        },
        "id": "XW51riNd3tVK",
        "outputId": "4e923032-2a30-491b-8bc1-c15ef6cc3be3"
      },
      "outputs": [
        {
          "output_type": "stream",
          "name": "stdout",
          "text": [
            "Optimization terminated successfully.\n",
            "         Current function value: 0.123354\n",
            "         Iterations 9\n",
            "Optimization terminated successfully.\n",
            "         Current function value: 0.123354\n",
            "         Iterations 9\n",
            "                           Logit Regression Results                           \n",
            "==============================================================================\n",
            "Dep. Variable:            GOOD_OR_BAD   No. Observations:                36457\n",
            "Model:                          Logit   Df Residuals:                    36449\n",
            "Method:                           MLE   Df Model:                            7\n",
            "Date:                Tue, 11 Oct 2022   Pseudo R-squ.:                 -0.4393\n",
            "Time:                        19:04:54   Log-Likelihood:                -4497.1\n",
            "converged:                       True   LL-Null:                       -3124.4\n",
            "Covariance Type:            nonrobust   LLR p-value:                     1.000\n",
            "=======================================================================================\n",
            "                          coef    std err          z      P>|z|      [0.025      0.975]\n",
            "---------------------------------------------------------------------------------------\n",
            "TOTAL_NO_OF_MONTHS      0.0422      0.002     22.038      0.000       0.038       0.046\n",
            "FLAG_OWN_CAR            0.9672      0.078     12.398      0.000       0.814       1.120\n",
            "FLAG_OWN_REALTY         2.2395      0.058     38.466      0.000       2.125       2.354\n",
            "FLAG_GENDER             0.8392      0.076     10.981      0.000       0.689       0.989\n",
            "YEARS_OF_EMPLOYMENT     0.2342      0.009     24.792      0.000       0.216       0.253\n",
            "WIDOW                   1.0548      0.160      6.599      0.000       0.741       1.368\n",
            "MUNICIPAL_APARTMENT     1.1858      0.193      6.131      0.000       0.807       1.565\n",
            "CORE_STAFF              0.6608      0.126      5.228      0.000       0.413       0.909\n",
            "=======================================================================================\n"
          ]
        }
      ],
      "source": [
        "import statsmodels.api as sm\n",
        "DF_M2_FE_X=DF_M2_FINAL.drop('GOOD_OR_BAD',axis=1)\n",
        "DF_M2_FE_y=DF_M2_FINAL[['GOOD_OR_BAD']]\n",
        "M2_STATSMODEL=sm.Logit(DF_M2_FE_y,DF_M2_FE_X)\n",
        "M2_STATSMODEL.fit()\n",
        "print(M2_STATSMODEL.fit().summary())"
      ]
    },
    {
      "cell_type": "code",
      "source": [
        "DF_FE.columns"
      ],
      "metadata": {
        "colab": {
          "base_uri": "https://localhost:8080/"
        },
        "id": "3mFEhH1SVWN_",
        "outputId": "856995d8-9aac-4f70-9545-9ef8695de13f"
      },
      "execution_count": null,
      "outputs": [
        {
          "output_type": "execute_result",
          "data": {
            "text/plain": [
              "Index(['TOTAL_NO_OF_MONTHS', 'GOOD_OR_BAD', 'FLAG_OWN_CAR', 'FLAG_OWN_REALTY',\n",
              "       'CNT_CHILDREN', 'NAME_EDUCATION_TYPE', 'FLAG_WORK_PHONE', 'FLAG_PHONE',\n",
              "       'FLAG_EMAIL', 'CNT_FAM_MEMBERS', 'AMT_INCOME_TOTAL_NEW',\n",
              "       'FLAG_EMPLOYED', 'FLAG_GENDER', 'YEARS_OF_EMPLOYMENT', 'AGE',\n",
              "       'COMMERCIAL_ASSOCIATE', 'PENSIONER', 'STATE_SERVANT', 'STUDENT',\n",
              "       'WORKING', 'CIVIL_MARRIAGE', 'MARRIED', 'SEPARATED',\n",
              "       'SINGLE_NOT_MARRIED', 'WIDOW', 'CO_OP_APARTMENT', 'HOUSE_APARTMENT',\n",
              "       'MUNICIPAL_APARTMENT', 'OFFICE_APARTMENT', 'RENTED_APARTMENT',\n",
              "       'WITH_PARENTS', 'ACCOUNTANTS', 'CLEANING_STAFF', 'COOKING_STAFF',\n",
              "       'CORE_STAFF', 'DRIVERS', 'HR_STAFF', 'HIGH_SKILL_TECH_STAFF',\n",
              "       'IT_STAFF', 'LABOURERS', 'LOW_SKILL_LABOURERS', 'MANAGERS',\n",
              "       'MEDICINE_STAFF', 'MISSING_NA', 'PRIVATE_SERVICE_STAFF',\n",
              "       'REALTY_AGENTS', 'SALES_STAFF', 'SECRETARIES', 'SECURITY_STAFF',\n",
              "       'WAITER_BARMEN_STAFF'],\n",
              "      dtype='object')"
            ]
          },
          "metadata": {},
          "execution_count": 211
        }
      ]
    },
    {
      "cell_type": "markdown",
      "metadata": {
        "id": "tjdq7D5wk1rt"
      },
      "source": [
        "HANDLING CLASS IMBALANCE IN M2\n",
        "--------------------------------\n"
      ]
    },
    {
      "cell_type": "markdown",
      "metadata": {
        "id": "kA0YFdjrl4eS"
      },
      "source": [
        "We will use only one  methods for treating CLASS IMBALANCE\n",
        "\n",
        "1.   SMOTE-Synthetic Minority Oversampling Technique"
      ]
    },
    {
      "cell_type": "code",
      "execution_count": null,
      "metadata": {
        "colab": {
          "base_uri": "https://localhost:8080/",
          "height": 459
        },
        "id": "GjmRmZi9l5iR",
        "outputId": "4d76fade-f8c6-4ac0-e133-40775f5080bd"
      },
      "outputs": [
        {
          "output_type": "stream",
          "name": "stdout",
          "text": [
            "BAD CUSTOMERS: 28672\n",
            "GOOD CUSTOMERS: 35841\n"
          ]
        },
        {
          "output_type": "execute_result",
          "data": {
            "text/plain": [
              "       GOOD_OR_BAD\n",
              "0                1\n",
              "1                1\n",
              "2                1\n",
              "3                1\n",
              "4                1\n",
              "...            ...\n",
              "64508            0\n",
              "64509            0\n",
              "64510            0\n",
              "64511            0\n",
              "64512            0\n",
              "\n",
              "[64513 rows x 1 columns]"
            ],
            "text/html": [
              "\n",
              "  <div id=\"df-64b2c716-4991-4362-88a8-deea333eaef5\">\n",
              "    <div class=\"colab-df-container\">\n",
              "      <div>\n",
              "<style scoped>\n",
              "    .dataframe tbody tr th:only-of-type {\n",
              "        vertical-align: middle;\n",
              "    }\n",
              "\n",
              "    .dataframe tbody tr th {\n",
              "        vertical-align: top;\n",
              "    }\n",
              "\n",
              "    .dataframe thead th {\n",
              "        text-align: right;\n",
              "    }\n",
              "</style>\n",
              "<table border=\"1\" class=\"dataframe\">\n",
              "  <thead>\n",
              "    <tr style=\"text-align: right;\">\n",
              "      <th></th>\n",
              "      <th>GOOD_OR_BAD</th>\n",
              "    </tr>\n",
              "  </thead>\n",
              "  <tbody>\n",
              "    <tr>\n",
              "      <th>0</th>\n",
              "      <td>1</td>\n",
              "    </tr>\n",
              "    <tr>\n",
              "      <th>1</th>\n",
              "      <td>1</td>\n",
              "    </tr>\n",
              "    <tr>\n",
              "      <th>2</th>\n",
              "      <td>1</td>\n",
              "    </tr>\n",
              "    <tr>\n",
              "      <th>3</th>\n",
              "      <td>1</td>\n",
              "    </tr>\n",
              "    <tr>\n",
              "      <th>4</th>\n",
              "      <td>1</td>\n",
              "    </tr>\n",
              "    <tr>\n",
              "      <th>...</th>\n",
              "      <td>...</td>\n",
              "    </tr>\n",
              "    <tr>\n",
              "      <th>64508</th>\n",
              "      <td>0</td>\n",
              "    </tr>\n",
              "    <tr>\n",
              "      <th>64509</th>\n",
              "      <td>0</td>\n",
              "    </tr>\n",
              "    <tr>\n",
              "      <th>64510</th>\n",
              "      <td>0</td>\n",
              "    </tr>\n",
              "    <tr>\n",
              "      <th>64511</th>\n",
              "      <td>0</td>\n",
              "    </tr>\n",
              "    <tr>\n",
              "      <th>64512</th>\n",
              "      <td>0</td>\n",
              "    </tr>\n",
              "  </tbody>\n",
              "</table>\n",
              "<p>64513 rows × 1 columns</p>\n",
              "</div>\n",
              "      <button class=\"colab-df-convert\" onclick=\"convertToInteractive('df-64b2c716-4991-4362-88a8-deea333eaef5')\"\n",
              "              title=\"Convert this dataframe to an interactive table.\"\n",
              "              style=\"display:none;\">\n",
              "        \n",
              "  <svg xmlns=\"http://www.w3.org/2000/svg\" height=\"24px\"viewBox=\"0 0 24 24\"\n",
              "       width=\"24px\">\n",
              "    <path d=\"M0 0h24v24H0V0z\" fill=\"none\"/>\n",
              "    <path d=\"M18.56 5.44l.94 2.06.94-2.06 2.06-.94-2.06-.94-.94-2.06-.94 2.06-2.06.94zm-11 1L8.5 8.5l.94-2.06 2.06-.94-2.06-.94L8.5 2.5l-.94 2.06-2.06.94zm10 10l.94 2.06.94-2.06 2.06-.94-2.06-.94-.94-2.06-.94 2.06-2.06.94z\"/><path d=\"M17.41 7.96l-1.37-1.37c-.4-.4-.92-.59-1.43-.59-.52 0-1.04.2-1.43.59L10.3 9.45l-7.72 7.72c-.78.78-.78 2.05 0 2.83L4 21.41c.39.39.9.59 1.41.59.51 0 1.02-.2 1.41-.59l7.78-7.78 2.81-2.81c.8-.78.8-2.07 0-2.86zM5.41 20L4 18.59l7.72-7.72 1.47 1.35L5.41 20z\"/>\n",
              "  </svg>\n",
              "      </button>\n",
              "      \n",
              "  <style>\n",
              "    .colab-df-container {\n",
              "      display:flex;\n",
              "      flex-wrap:wrap;\n",
              "      gap: 12px;\n",
              "    }\n",
              "\n",
              "    .colab-df-convert {\n",
              "      background-color: #E8F0FE;\n",
              "      border: none;\n",
              "      border-radius: 50%;\n",
              "      cursor: pointer;\n",
              "      display: none;\n",
              "      fill: #1967D2;\n",
              "      height: 32px;\n",
              "      padding: 0 0 0 0;\n",
              "      width: 32px;\n",
              "    }\n",
              "\n",
              "    .colab-df-convert:hover {\n",
              "      background-color: #E2EBFA;\n",
              "      box-shadow: 0px 1px 2px rgba(60, 64, 67, 0.3), 0px 1px 3px 1px rgba(60, 64, 67, 0.15);\n",
              "      fill: #174EA6;\n",
              "    }\n",
              "\n",
              "    [theme=dark] .colab-df-convert {\n",
              "      background-color: #3B4455;\n",
              "      fill: #D2E3FC;\n",
              "    }\n",
              "\n",
              "    [theme=dark] .colab-df-convert:hover {\n",
              "      background-color: #434B5C;\n",
              "      box-shadow: 0px 1px 3px 1px rgba(0, 0, 0, 0.15);\n",
              "      filter: drop-shadow(0px 1px 2px rgba(0, 0, 0, 0.3));\n",
              "      fill: #FFFFFF;\n",
              "    }\n",
              "  </style>\n",
              "\n",
              "      <script>\n",
              "        const buttonEl =\n",
              "          document.querySelector('#df-64b2c716-4991-4362-88a8-deea333eaef5 button.colab-df-convert');\n",
              "        buttonEl.style.display =\n",
              "          google.colab.kernel.accessAllowed ? 'block' : 'none';\n",
              "\n",
              "        async function convertToInteractive(key) {\n",
              "          const element = document.querySelector('#df-64b2c716-4991-4362-88a8-deea333eaef5');\n",
              "          const dataTable =\n",
              "            await google.colab.kernel.invokeFunction('convertToInteractive',\n",
              "                                                     [key], {});\n",
              "          if (!dataTable) return;\n",
              "\n",
              "          const docLinkHtml = 'Like what you see? Visit the ' +\n",
              "            '<a target=\"_blank\" href=https://colab.research.google.com/notebooks/data_table.ipynb>data table notebook</a>'\n",
              "            + ' to learn more about interactive tables.';\n",
              "          element.innerHTML = '';\n",
              "          dataTable['output_type'] = 'display_data';\n",
              "          await google.colab.output.renderOutput(dataTable, element);\n",
              "          const docLink = document.createElement('div');\n",
              "          docLink.innerHTML = docLinkHtml;\n",
              "          element.appendChild(docLink);\n",
              "        }\n",
              "      </script>\n",
              "    </div>\n",
              "  </div>\n",
              "  "
            ]
          },
          "metadata": {},
          "execution_count": 212
        }
      ],
      "source": [
        "\n",
        "#Let's now move to SMOTE\n",
        "from imblearn.over_sampling import SMOTE \n",
        "smote = SMOTE(sampling_strategy=0.8,random_state = 2)\n",
        "DF_M2_FE_X_BAL, DF_M2_FE_y_BAL = smote.fit_resample(DF_FE.drop('GOOD_OR_BAD',axis=1), DF_FE[['GOOD_OR_BAD']])\n",
        "\n",
        "print('BAD CUSTOMERS:',len(DF_M2_FE_y_BAL[DF_M2_FE_y_BAL['GOOD_OR_BAD']==0]))\n",
        "print('GOOD CUSTOMERS:',len(DF_M2_FE_y_BAL[DF_M2_FE_y_BAL['GOOD_OR_BAD']==1]))\n",
        "\n",
        "DF_M2_FE_BAL=DF_M2_FE_X_BAL\n",
        "DF_M2_FE_BAL['GOOD_OR_BAD']=DF_M2_FE_y_BAL\n",
        "DF_M2_FE_BAL[['GOOD_OR_BAD']]"
      ]
    },
    {
      "cell_type": "markdown",
      "metadata": {
        "id": "yp4KAhbopq9d"
      },
      "source": [
        "##**DECISION TREE AFTER FEATURE ENGINEERING**\n",
        "\n"
      ]
    },
    {
      "cell_type": "code",
      "execution_count": null,
      "metadata": {
        "colab": {
          "base_uri": "https://localhost:8080/"
        },
        "id": "b6BsUMJFpx1S",
        "outputId": "8d856ce4-20a1-42c1-c4f1-c3ec52e59117"
      },
      "outputs": [
        {
          "output_type": "execute_result",
          "data": {
            "text/plain": [
              "49"
            ]
          },
          "metadata": {},
          "execution_count": 213
        }
      ],
      "source": [
        "#REAL DATA SPLIT INTO TEST AND TRAIN\n",
        "X_REAL_DATA=DF_FE.drop('GOOD_OR_BAD',axis=1)\n",
        "y_REAL_DATA=DF_FE[['GOOD_OR_BAD']]\n",
        "#SPLITTING TRAIN AND TEST DATA\n",
        "# X_train, X_test, y_train, y_test = train_test_split(X, y, test_size=0.2, random_state=42)\n",
        "X_train_real, X_test_real, y_train_real, y_test_real = train_test_split(X_REAL_DATA,y_REAL_DATA, train_size = 0.8 , random_state=333)\n",
        "\n",
        "len(X_test_real.columns)"
      ]
    },
    {
      "cell_type": "code",
      "execution_count": null,
      "metadata": {
        "colab": {
          "base_uri": "https://localhost:8080/",
          "height": 488
        },
        "id": "6WLW1R4QqW_p",
        "outputId": "1f0c8883-924d-4850-f73a-7e990f324818"
      },
      "outputs": [
        {
          "output_type": "execute_result",
          "data": {
            "text/plain": [
              "       TOTAL_NO_OF_MONTHS  FLAG_OWN_CAR  FLAG_OWN_REALTY  CNT_CHILDREN  \\\n",
              "8773                   61             0                1             1   \n",
              "39584                  11             0                0             0   \n",
              "57030                  22             0                0             0   \n",
              "59878                  32             1                0             0   \n",
              "41326                  51             0                1             0   \n",
              "...                   ...           ...              ...           ...   \n",
              "22451                   3             0                1             0   \n",
              "58787                   5             0                1             0   \n",
              "33741                  30             1                0             4   \n",
              "30476                  30             1                1             0   \n",
              "8172                   25             0                1             1   \n",
              "\n",
              "       NAME_EDUCATION_TYPE  FLAG_WORK_PHONE  FLAG_PHONE  FLAG_EMAIL  \\\n",
              "8773                     1                0           0           0   \n",
              "39584                    1                0           0           1   \n",
              "57030                    2                0           0           0   \n",
              "59878                    1                0           0           0   \n",
              "41326                    1                0           0           0   \n",
              "...                    ...              ...         ...         ...   \n",
              "22451                    3                0           0           0   \n",
              "58787                    2                0           0           0   \n",
              "33741                    1                1           0           0   \n",
              "30476                    1                0           1           0   \n",
              "8172                     1                0           0           0   \n",
              "\n",
              "       CNT_FAM_MEMBERS  AMT_INCOME_TOTAL_NEW  ...  LOW_SKILL_LABOURERS  \\\n",
              "8773                 3                135000  ...                    0   \n",
              "39584                2                 92203  ...                    0   \n",
              "57030                2                177263  ...                    0   \n",
              "59878                2                157500  ...                    0   \n",
              "41326                2                 67500  ...                    0   \n",
              "...                ...                   ...  ...                  ...   \n",
              "22451                2                130500  ...                    0   \n",
              "58787                1                 67500  ...                    0   \n",
              "33741                6                202500  ...                    0   \n",
              "30476                2                360000  ...                    0   \n",
              "8172                 2                112500  ...                    0   \n",
              "\n",
              "       MANAGERS  MEDICINE_STAFF  MISSING_NA  PRIVATE_SERVICE_STAFF  \\\n",
              "8773          0               0           1                      0   \n",
              "39584         0               0           1                      0   \n",
              "57030         0               0           0                      0   \n",
              "59878         0               0           0                      0   \n",
              "41326         0               0           0                      0   \n",
              "...         ...             ...         ...                    ...   \n",
              "22451         0               0           1                      0   \n",
              "58787         0               0           0                      0   \n",
              "33741         0               0           0                      0   \n",
              "30476         0               0           0                      0   \n",
              "8172          0               0           0                      0   \n",
              "\n",
              "       REALTY_AGENTS  SALES_STAFF  SECRETARIES  SECURITY_STAFF  \\\n",
              "8773               0            0            0               0   \n",
              "39584              0            0            0               0   \n",
              "57030              0            0            0               0   \n",
              "59878              0            0            0               0   \n",
              "41326              0            0            0               0   \n",
              "...              ...          ...          ...             ...   \n",
              "22451              0            0            0               0   \n",
              "58787              0            0            0               0   \n",
              "33741              0            0            0               0   \n",
              "30476              0            0            0               0   \n",
              "8172               0            0            0               0   \n",
              "\n",
              "       WAITER_BARMEN_STAFF  \n",
              "8773                     0  \n",
              "39584                    0  \n",
              "57030                    0  \n",
              "59878                    0  \n",
              "41326                    0  \n",
              "...                    ...  \n",
              "22451                    0  \n",
              "58787                    0  \n",
              "33741                    0  \n",
              "30476                    0  \n",
              "8172                     0  \n",
              "\n",
              "[51610 rows x 49 columns]"
            ],
            "text/html": [
              "\n",
              "  <div id=\"df-9548a560-eb32-4a50-b0a8-acd41ae28398\">\n",
              "    <div class=\"colab-df-container\">\n",
              "      <div>\n",
              "<style scoped>\n",
              "    .dataframe tbody tr th:only-of-type {\n",
              "        vertical-align: middle;\n",
              "    }\n",
              "\n",
              "    .dataframe tbody tr th {\n",
              "        vertical-align: top;\n",
              "    }\n",
              "\n",
              "    .dataframe thead th {\n",
              "        text-align: right;\n",
              "    }\n",
              "</style>\n",
              "<table border=\"1\" class=\"dataframe\">\n",
              "  <thead>\n",
              "    <tr style=\"text-align: right;\">\n",
              "      <th></th>\n",
              "      <th>TOTAL_NO_OF_MONTHS</th>\n",
              "      <th>FLAG_OWN_CAR</th>\n",
              "      <th>FLAG_OWN_REALTY</th>\n",
              "      <th>CNT_CHILDREN</th>\n",
              "      <th>NAME_EDUCATION_TYPE</th>\n",
              "      <th>FLAG_WORK_PHONE</th>\n",
              "      <th>FLAG_PHONE</th>\n",
              "      <th>FLAG_EMAIL</th>\n",
              "      <th>CNT_FAM_MEMBERS</th>\n",
              "      <th>AMT_INCOME_TOTAL_NEW</th>\n",
              "      <th>...</th>\n",
              "      <th>LOW_SKILL_LABOURERS</th>\n",
              "      <th>MANAGERS</th>\n",
              "      <th>MEDICINE_STAFF</th>\n",
              "      <th>MISSING_NA</th>\n",
              "      <th>PRIVATE_SERVICE_STAFF</th>\n",
              "      <th>REALTY_AGENTS</th>\n",
              "      <th>SALES_STAFF</th>\n",
              "      <th>SECRETARIES</th>\n",
              "      <th>SECURITY_STAFF</th>\n",
              "      <th>WAITER_BARMEN_STAFF</th>\n",
              "    </tr>\n",
              "  </thead>\n",
              "  <tbody>\n",
              "    <tr>\n",
              "      <th>8773</th>\n",
              "      <td>61</td>\n",
              "      <td>0</td>\n",
              "      <td>1</td>\n",
              "      <td>1</td>\n",
              "      <td>1</td>\n",
              "      <td>0</td>\n",
              "      <td>0</td>\n",
              "      <td>0</td>\n",
              "      <td>3</td>\n",
              "      <td>135000</td>\n",
              "      <td>...</td>\n",
              "      <td>0</td>\n",
              "      <td>0</td>\n",
              "      <td>0</td>\n",
              "      <td>1</td>\n",
              "      <td>0</td>\n",
              "      <td>0</td>\n",
              "      <td>0</td>\n",
              "      <td>0</td>\n",
              "      <td>0</td>\n",
              "      <td>0</td>\n",
              "    </tr>\n",
              "    <tr>\n",
              "      <th>39584</th>\n",
              "      <td>11</td>\n",
              "      <td>0</td>\n",
              "      <td>0</td>\n",
              "      <td>0</td>\n",
              "      <td>1</td>\n",
              "      <td>0</td>\n",
              "      <td>0</td>\n",
              "      <td>1</td>\n",
              "      <td>2</td>\n",
              "      <td>92203</td>\n",
              "      <td>...</td>\n",
              "      <td>0</td>\n",
              "      <td>0</td>\n",
              "      <td>0</td>\n",
              "      <td>1</td>\n",
              "      <td>0</td>\n",
              "      <td>0</td>\n",
              "      <td>0</td>\n",
              "      <td>0</td>\n",
              "      <td>0</td>\n",
              "      <td>0</td>\n",
              "    </tr>\n",
              "    <tr>\n",
              "      <th>57030</th>\n",
              "      <td>22</td>\n",
              "      <td>0</td>\n",
              "      <td>0</td>\n",
              "      <td>0</td>\n",
              "      <td>2</td>\n",
              "      <td>0</td>\n",
              "      <td>0</td>\n",
              "      <td>0</td>\n",
              "      <td>2</td>\n",
              "      <td>177263</td>\n",
              "      <td>...</td>\n",
              "      <td>0</td>\n",
              "      <td>0</td>\n",
              "      <td>0</td>\n",
              "      <td>0</td>\n",
              "      <td>0</td>\n",
              "      <td>0</td>\n",
              "      <td>0</td>\n",
              "      <td>0</td>\n",
              "      <td>0</td>\n",
              "      <td>0</td>\n",
              "    </tr>\n",
              "    <tr>\n",
              "      <th>59878</th>\n",
              "      <td>32</td>\n",
              "      <td>1</td>\n",
              "      <td>0</td>\n",
              "      <td>0</td>\n",
              "      <td>1</td>\n",
              "      <td>0</td>\n",
              "      <td>0</td>\n",
              "      <td>0</td>\n",
              "      <td>2</td>\n",
              "      <td>157500</td>\n",
              "      <td>...</td>\n",
              "      <td>0</td>\n",
              "      <td>0</td>\n",
              "      <td>0</td>\n",
              "      <td>0</td>\n",
              "      <td>0</td>\n",
              "      <td>0</td>\n",
              "      <td>0</td>\n",
              "      <td>0</td>\n",
              "      <td>0</td>\n",
              "      <td>0</td>\n",
              "    </tr>\n",
              "    <tr>\n",
              "      <th>41326</th>\n",
              "      <td>51</td>\n",
              "      <td>0</td>\n",
              "      <td>1</td>\n",
              "      <td>0</td>\n",
              "      <td>1</td>\n",
              "      <td>0</td>\n",
              "      <td>0</td>\n",
              "      <td>0</td>\n",
              "      <td>2</td>\n",
              "      <td>67500</td>\n",
              "      <td>...</td>\n",
              "      <td>0</td>\n",
              "      <td>0</td>\n",
              "      <td>0</td>\n",
              "      <td>0</td>\n",
              "      <td>0</td>\n",
              "      <td>0</td>\n",
              "      <td>0</td>\n",
              "      <td>0</td>\n",
              "      <td>0</td>\n",
              "      <td>0</td>\n",
              "    </tr>\n",
              "    <tr>\n",
              "      <th>...</th>\n",
              "      <td>...</td>\n",
              "      <td>...</td>\n",
              "      <td>...</td>\n",
              "      <td>...</td>\n",
              "      <td>...</td>\n",
              "      <td>...</td>\n",
              "      <td>...</td>\n",
              "      <td>...</td>\n",
              "      <td>...</td>\n",
              "      <td>...</td>\n",
              "      <td>...</td>\n",
              "      <td>...</td>\n",
              "      <td>...</td>\n",
              "      <td>...</td>\n",
              "      <td>...</td>\n",
              "      <td>...</td>\n",
              "      <td>...</td>\n",
              "      <td>...</td>\n",
              "      <td>...</td>\n",
              "      <td>...</td>\n",
              "      <td>...</td>\n",
              "    </tr>\n",
              "    <tr>\n",
              "      <th>22451</th>\n",
              "      <td>3</td>\n",
              "      <td>0</td>\n",
              "      <td>1</td>\n",
              "      <td>0</td>\n",
              "      <td>3</td>\n",
              "      <td>0</td>\n",
              "      <td>0</td>\n",
              "      <td>0</td>\n",
              "      <td>2</td>\n",
              "      <td>130500</td>\n",
              "      <td>...</td>\n",
              "      <td>0</td>\n",
              "      <td>0</td>\n",
              "      <td>0</td>\n",
              "      <td>1</td>\n",
              "      <td>0</td>\n",
              "      <td>0</td>\n",
              "      <td>0</td>\n",
              "      <td>0</td>\n",
              "      <td>0</td>\n",
              "      <td>0</td>\n",
              "    </tr>\n",
              "    <tr>\n",
              "      <th>58787</th>\n",
              "      <td>5</td>\n",
              "      <td>0</td>\n",
              "      <td>1</td>\n",
              "      <td>0</td>\n",
              "      <td>2</td>\n",
              "      <td>0</td>\n",
              "      <td>0</td>\n",
              "      <td>0</td>\n",
              "      <td>1</td>\n",
              "      <td>67500</td>\n",
              "      <td>...</td>\n",
              "      <td>0</td>\n",
              "      <td>0</td>\n",
              "      <td>0</td>\n",
              "      <td>0</td>\n",
              "      <td>0</td>\n",
              "      <td>0</td>\n",
              "      <td>0</td>\n",
              "      <td>0</td>\n",
              "      <td>0</td>\n",
              "      <td>0</td>\n",
              "    </tr>\n",
              "    <tr>\n",
              "      <th>33741</th>\n",
              "      <td>30</td>\n",
              "      <td>1</td>\n",
              "      <td>0</td>\n",
              "      <td>4</td>\n",
              "      <td>1</td>\n",
              "      <td>1</td>\n",
              "      <td>0</td>\n",
              "      <td>0</td>\n",
              "      <td>6</td>\n",
              "      <td>202500</td>\n",
              "      <td>...</td>\n",
              "      <td>0</td>\n",
              "      <td>0</td>\n",
              "      <td>0</td>\n",
              "      <td>0</td>\n",
              "      <td>0</td>\n",
              "      <td>0</td>\n",
              "      <td>0</td>\n",
              "      <td>0</td>\n",
              "      <td>0</td>\n",
              "      <td>0</td>\n",
              "    </tr>\n",
              "    <tr>\n",
              "      <th>30476</th>\n",
              "      <td>30</td>\n",
              "      <td>1</td>\n",
              "      <td>1</td>\n",
              "      <td>0</td>\n",
              "      <td>1</td>\n",
              "      <td>0</td>\n",
              "      <td>1</td>\n",
              "      <td>0</td>\n",
              "      <td>2</td>\n",
              "      <td>360000</td>\n",
              "      <td>...</td>\n",
              "      <td>0</td>\n",
              "      <td>0</td>\n",
              "      <td>0</td>\n",
              "      <td>0</td>\n",
              "      <td>0</td>\n",
              "      <td>0</td>\n",
              "      <td>0</td>\n",
              "      <td>0</td>\n",
              "      <td>0</td>\n",
              "      <td>0</td>\n",
              "    </tr>\n",
              "    <tr>\n",
              "      <th>8172</th>\n",
              "      <td>25</td>\n",
              "      <td>0</td>\n",
              "      <td>1</td>\n",
              "      <td>1</td>\n",
              "      <td>1</td>\n",
              "      <td>0</td>\n",
              "      <td>0</td>\n",
              "      <td>0</td>\n",
              "      <td>2</td>\n",
              "      <td>112500</td>\n",
              "      <td>...</td>\n",
              "      <td>0</td>\n",
              "      <td>0</td>\n",
              "      <td>0</td>\n",
              "      <td>0</td>\n",
              "      <td>0</td>\n",
              "      <td>0</td>\n",
              "      <td>0</td>\n",
              "      <td>0</td>\n",
              "      <td>0</td>\n",
              "      <td>0</td>\n",
              "    </tr>\n",
              "  </tbody>\n",
              "</table>\n",
              "<p>51610 rows × 49 columns</p>\n",
              "</div>\n",
              "      <button class=\"colab-df-convert\" onclick=\"convertToInteractive('df-9548a560-eb32-4a50-b0a8-acd41ae28398')\"\n",
              "              title=\"Convert this dataframe to an interactive table.\"\n",
              "              style=\"display:none;\">\n",
              "        \n",
              "  <svg xmlns=\"http://www.w3.org/2000/svg\" height=\"24px\"viewBox=\"0 0 24 24\"\n",
              "       width=\"24px\">\n",
              "    <path d=\"M0 0h24v24H0V0z\" fill=\"none\"/>\n",
              "    <path d=\"M18.56 5.44l.94 2.06.94-2.06 2.06-.94-2.06-.94-.94-2.06-.94 2.06-2.06.94zm-11 1L8.5 8.5l.94-2.06 2.06-.94-2.06-.94L8.5 2.5l-.94 2.06-2.06.94zm10 10l.94 2.06.94-2.06 2.06-.94-2.06-.94-.94-2.06-.94 2.06-2.06.94z\"/><path d=\"M17.41 7.96l-1.37-1.37c-.4-.4-.92-.59-1.43-.59-.52 0-1.04.2-1.43.59L10.3 9.45l-7.72 7.72c-.78.78-.78 2.05 0 2.83L4 21.41c.39.39.9.59 1.41.59.51 0 1.02-.2 1.41-.59l7.78-7.78 2.81-2.81c.8-.78.8-2.07 0-2.86zM5.41 20L4 18.59l7.72-7.72 1.47 1.35L5.41 20z\"/>\n",
              "  </svg>\n",
              "      </button>\n",
              "      \n",
              "  <style>\n",
              "    .colab-df-container {\n",
              "      display:flex;\n",
              "      flex-wrap:wrap;\n",
              "      gap: 12px;\n",
              "    }\n",
              "\n",
              "    .colab-df-convert {\n",
              "      background-color: #E8F0FE;\n",
              "      border: none;\n",
              "      border-radius: 50%;\n",
              "      cursor: pointer;\n",
              "      display: none;\n",
              "      fill: #1967D2;\n",
              "      height: 32px;\n",
              "      padding: 0 0 0 0;\n",
              "      width: 32px;\n",
              "    }\n",
              "\n",
              "    .colab-df-convert:hover {\n",
              "      background-color: #E2EBFA;\n",
              "      box-shadow: 0px 1px 2px rgba(60, 64, 67, 0.3), 0px 1px 3px 1px rgba(60, 64, 67, 0.15);\n",
              "      fill: #174EA6;\n",
              "    }\n",
              "\n",
              "    [theme=dark] .colab-df-convert {\n",
              "      background-color: #3B4455;\n",
              "      fill: #D2E3FC;\n",
              "    }\n",
              "\n",
              "    [theme=dark] .colab-df-convert:hover {\n",
              "      background-color: #434B5C;\n",
              "      box-shadow: 0px 1px 3px 1px rgba(0, 0, 0, 0.15);\n",
              "      filter: drop-shadow(0px 1px 2px rgba(0, 0, 0, 0.3));\n",
              "      fill: #FFFFFF;\n",
              "    }\n",
              "  </style>\n",
              "\n",
              "      <script>\n",
              "        const buttonEl =\n",
              "          document.querySelector('#df-9548a560-eb32-4a50-b0a8-acd41ae28398 button.colab-df-convert');\n",
              "        buttonEl.style.display =\n",
              "          google.colab.kernel.accessAllowed ? 'block' : 'none';\n",
              "\n",
              "        async function convertToInteractive(key) {\n",
              "          const element = document.querySelector('#df-9548a560-eb32-4a50-b0a8-acd41ae28398');\n",
              "          const dataTable =\n",
              "            await google.colab.kernel.invokeFunction('convertToInteractive',\n",
              "                                                     [key], {});\n",
              "          if (!dataTable) return;\n",
              "\n",
              "          const docLinkHtml = 'Like what you see? Visit the ' +\n",
              "            '<a target=\"_blank\" href=https://colab.research.google.com/notebooks/data_table.ipynb>data table notebook</a>'\n",
              "            + ' to learn more about interactive tables.';\n",
              "          element.innerHTML = '';\n",
              "          dataTable['output_type'] = 'display_data';\n",
              "          await google.colab.output.renderOutput(dataTable, element);\n",
              "          const docLink = document.createElement('div');\n",
              "          docLink.innerHTML = docLinkHtml;\n",
              "          element.appendChild(docLink);\n",
              "        }\n",
              "      </script>\n",
              "    </div>\n",
              "  </div>\n",
              "  "
            ]
          },
          "metadata": {},
          "execution_count": 214
        }
      ],
      "source": [
        "#BALANCED DATA SPLIT INTO TEST AND TRAIN\n",
        "X_BAL_DATA=DF_M2_FE_BAL.drop('GOOD_OR_BAD',axis=1)\n",
        "y_BAL_DATA=DF_M2_FE_BAL[['GOOD_OR_BAD']]\n",
        "#SPLITTING TRAIN AND TEST DATA\n",
        "# X_train, X_test, y_train, y_test = train_test_split(X, y, test_size=0.2, random_state=42)\n",
        "X_train_bal, X_test_bal, y_train_bal, y_test_bal = train_test_split(X_BAL_DATA,y_BAL_DATA, train_size = 0.8 , random_state=333)\n",
        "len(X_test_bal.columns)\n",
        "X_train_bal"
      ]
    },
    {
      "cell_type": "code",
      "execution_count": null,
      "metadata": {
        "colab": {
          "base_uri": "https://localhost:8080/"
        },
        "id": "10dPO2cCql8A",
        "outputId": "7ae9a108-df23-48d0-8784-7f3fb9d1f205"
      },
      "outputs": [
        {
          "output_type": "execute_result",
          "data": {
            "text/plain": [
              "DecisionTreeClassifier(max_leaf_nodes=45)"
            ]
          },
          "metadata": {},
          "execution_count": 215
        }
      ],
      "source": [
        "from sklearn import tree\n",
        "\n",
        "#Building Tree Model\n",
        "DTree = tree.DecisionTreeClassifier(max_leaf_nodes = 45)\n",
        "DTree.fit(X_train_bal,y_train_bal)\n"
      ]
    },
    {
      "cell_type": "markdown",
      "metadata": {
        "id": "15tpta4Gq_ak"
      },
      "source": [
        "###TREE VALIDATION"
      ]
    },
    {
      "cell_type": "code",
      "execution_count": null,
      "metadata": {
        "colab": {
          "base_uri": "https://localhost:8080/"
        },
        "id": "YW1rXA3drDey",
        "outputId": "d4023d42-e011-48c5-f5df-36debba78b39"
      },
      "outputs": [
        {
          "output_type": "stream",
          "name": "stdout",
          "text": [
            "[[16734  6208]\n",
            " [ 2498 26170]]\n",
            "Train Data Details\n",
            "==================\n",
            "SENSITIVITY: 0.7294045854764188\n",
            "SPECIFICITY: 0.9128645179293986\n",
            "ACCURACY: 0.8313117612865724\n",
            "PRECISION_CLASS0 :  0.87011231281198\n",
            "RECALL_CLASS0 :  0.7294045854764188\n",
            "F1_CLASS0 :  0.79356949779485\n",
            "PRECISION_CLASS1 :  0.8082648712088455\n",
            "RECALL_CLASS1 :  0.9128645179293986\n",
            "F1_CLASS1 :  0.8573862333322412\n"
          ]
        }
      ],
      "source": [
        "predict1 = DTree.predict(X_train_bal)\n",
        "\n",
        "from sklearn.metrics import confusion_matrix ###for using confusion matrix###\n",
        "CM_M2 = confusion_matrix(y_train_bal, predict1)\n",
        "print(CM_M2)\n",
        "SENSITIVITY_M2=(CM_M2[0,0]/(CM_M2[0,0]+CM_M2[0,1]))\n",
        "SPECIFICITY_M2=(CM_M2[1,1]/(CM_M2[1,0]+CM_M2[1,1]))\n",
        "ACCURACY_M2=(CM_M2[0,0]+CM_M2[1,1])/(CM_M2.sum().sum())\n",
        "PRECISION_CLASS0 = CM_M2[0,0]/(CM_M2[0,0]+CM_M2[1,0])\n",
        "RECALL_CLASS0 = CM_M2[0,0]/(CM_M2[0,0]+CM_M2[0,1])\n",
        "F1_CLASS0 = 2/((1/PRECISION_CLASS0)+(1/RECALL_CLASS0))\n",
        "PRECISION_CLASS1 = CM_M2[1,1]/(CM_M2[0,1]+CM_M2[1,1])\n",
        "RECALL_CLASS1 = CM_M2[1,1]/(CM_M2[1,0]+CM_M2[1,1])\n",
        "F1_CLASS1 = 2/((1/PRECISION_CLASS1)+(1/RECALL_CLASS1))\n",
        "print('Train Data Details\\n==================')\n",
        "print('SENSITIVITY:',SENSITIVITY_M2)\n",
        "print('SPECIFICITY:',SPECIFICITY_M2)\n",
        "print('ACCURACY:',ACCURACY_M2)\n",
        "print('PRECISION_CLASS0 : ', PRECISION_CLASS0 )\n",
        "print('RECALL_CLASS0 : ', RECALL_CLASS0 )\n",
        "print('F1_CLASS0 : ', F1_CLASS0 )\n",
        "print('PRECISION_CLASS1 : ', PRECISION_CLASS1 )\n",
        "print('RECALL_CLASS1 : ', RECALL_CLASS1 )\n",
        "print('F1_CLASS1 : ', F1_CLASS1 )"
      ]
    },
    {
      "cell_type": "code",
      "execution_count": null,
      "metadata": {
        "colab": {
          "base_uri": "https://localhost:8080/"
        },
        "id": "__ees6sRtea4",
        "outputId": "56ed475c-d597-442f-8286-098aeb09f7d9"
      },
      "outputs": [
        {
          "output_type": "stream",
          "name": "stdout",
          "text": [
            "[[  27   80]\n",
            " [ 660 6525]]\n",
            "Test Data Details\n",
            "==================\n",
            "SENSITIVITY: 0.2523364485981308\n",
            "SPECIFICITY: 0.9081419624217119\n",
            "ACCURACY: 0.8985189248491497\n",
            "PRECISION_CLASS0 :  0.039301310043668124\n",
            "RECALL_CLASS0 :  0.2523364485981308\n",
            "F1_CLASS0 :  0.06801007556675064\n",
            "PRECISION_CLASS1 :  0.987887963663891\n",
            "RECALL_CLASS1 :  0.9081419624217119\n",
            "F1_CLASS1 :  0.9463379260333575\n"
          ]
        }
      ],
      "source": [
        "predict1 = DTree.predict(X_test_real)\n",
        "\n",
        "from sklearn.metrics import confusion_matrix ###for using confusion matrix###\n",
        "CM_M2 = confusion_matrix(y_test_real, predict1)\n",
        "print(CM_M2)\n",
        "SENSITIVITY_M2=(CM_M2[0,0]/(CM_M2[0,0]+CM_M2[0,1]))\n",
        "SPECIFICITY_M2=(CM_M2[1,1]/(CM_M2[1,0]+CM_M2[1,1]))\n",
        "ACCURACY_M2=(CM_M2[0,0]+CM_M2[1,1])/(CM_M2.sum().sum())\n",
        "PRECISION_CLASS0 = CM_M2[0,0]/(CM_M2[0,0]+CM_M2[1,0])\n",
        "RECALL_CLASS0 = CM_M2[0,0]/(CM_M2[0,0]+CM_M2[0,1])\n",
        "F1_CLASS0 = 2/((1/PRECISION_CLASS0)+(1/RECALL_CLASS0))\n",
        "PRECISION_CLASS1 = CM_M2[1,1]/(CM_M2[0,1]+CM_M2[1,1])\n",
        "RECALL_CLASS1 = CM_M2[1,1]/(CM_M2[1,0]+CM_M2[1,1])\n",
        "F1_CLASS1 = 2/((1/PRECISION_CLASS1)+(1/RECALL_CLASS1))\n",
        "print('Test Data Details\\n==================')\n",
        "print('SENSITIVITY:',SENSITIVITY_M2)\n",
        "print('SPECIFICITY:',SPECIFICITY_M2)\n",
        "print('ACCURACY:',ACCURACY_M2)\n",
        "print('PRECISION_CLASS0 : ', PRECISION_CLASS0 )\n",
        "print('RECALL_CLASS0 : ', RECALL_CLASS0 )\n",
        "print('F1_CLASS0 : ', F1_CLASS0 )\n",
        "print('PRECISION_CLASS1 : ', PRECISION_CLASS1 )\n",
        "print('RECALL_CLASS1 : ', RECALL_CLASS1 )\n",
        "print('F1_CLASS1 : ', F1_CLASS1 )"
      ]
    },
    {
      "cell_type": "markdown",
      "source": [
        "#RANDOM FOREST"
      ],
      "metadata": {
        "id": "HIh7oRer_oRk"
      }
    },
    {
      "cell_type": "code",
      "source": [
        "from sklearn.ensemble import RandomForestClassifier\n",
        "forest=RandomForestClassifier(n_estimators=100, max_features=10, max_leaf_nodes = 90)\n",
        "# n_estimators - Trees - As high as possible\n",
        "# max_features - p - low ==>(sqrt(t))\n",
        "# max_depth - Slightly higher than single tree\n",
        "forest.fit(X_train_bal,y_train_bal)"
      ],
      "metadata": {
        "colab": {
          "base_uri": "https://localhost:8080/"
        },
        "id": "27Dqg90R_w5M",
        "outputId": "979a0328-6c7a-4551-d53d-072589746a50"
      },
      "execution_count": null,
      "outputs": [
        {
          "output_type": "stream",
          "name": "stderr",
          "text": [
            "/usr/local/lib/python3.7/dist-packages/ipykernel_launcher.py:6: DataConversionWarning: A column-vector y was passed when a 1d array was expected. Please change the shape of y to (n_samples,), for example using ravel().\n",
            "  \n"
          ]
        },
        {
          "output_type": "execute_result",
          "data": {
            "text/plain": [
              "RandomForestClassifier(max_features=10, max_leaf_nodes=90)"
            ]
          },
          "metadata": {},
          "execution_count": 218
        }
      ]
    },
    {
      "cell_type": "code",
      "source": [
        "#####predicting on test data ####\n",
        "Forest_predict_train=forest.predict(X_train_bal)\n",
        "Forest_predict=forest.predict(X_test_real)\n",
        "\n",
        "########Train Data Validation\n",
        "cm1 = confusion_matrix(y_train_bal,Forest_predict_train)\n",
        "print(\"Confusion Matrix for Train data \\n\", cm1)\n",
        "total1=sum(sum(cm1))\n",
        "accuracy_tree=(cm1[0,0]+cm1[1,1])/total1\n",
        "print(\"Accuracy of Train data \\n\", accuracy_tree)\n",
        "\n",
        "########Test Data Validation\n",
        "cm1 = confusion_matrix(y_test_real,Forest_predict)\n",
        "print(\"Confusion Matrix for test data \\n\", cm1)\n",
        "total1=sum(sum(cm1))\n",
        "accuracy_tree=(cm1[0,0]+cm1[1,1])/total1\n",
        "print(\"Accuracy of test data \\n\", accuracy_tree)"
      ],
      "metadata": {
        "colab": {
          "base_uri": "https://localhost:8080/"
        },
        "id": "kC5PLX1YATNv",
        "outputId": "568922e8-dcf3-4cb3-a0fc-a6ac5271ff8d"
      },
      "execution_count": null,
      "outputs": [
        {
          "output_type": "stream",
          "name": "stdout",
          "text": [
            "Confusion Matrix for Train data \n",
            " [[19395  3547]\n",
            " [  682 27986]]\n",
            "Accuracy of Train data \n",
            " 0.9180585157915133\n",
            "Confusion Matrix for test data \n",
            " [[  31   76]\n",
            " [ 169 7016]]\n",
            "Accuracy of test data \n",
            " 0.9664015359297861\n"
          ]
        }
      ]
    },
    {
      "cell_type": "code",
      "source": [],
      "metadata": {
        "id": "HCXcWI1ZAXRh"
      },
      "execution_count": null,
      "outputs": []
    },
    {
      "cell_type": "markdown",
      "source": [
        "# BOOSTING"
      ],
      "metadata": {
        "id": "H82S4Ts0noj-"
      }
    },
    {
      "cell_type": "markdown",
      "source": [
        "##GRADIENT BOOSTING METHOD"
      ],
      "metadata": {
        "id": "Q5rN-qiqnup2"
      }
    },
    {
      "cell_type": "code",
      "source": [
        "from sklearn.ensemble import GradientBoostingClassifier\n",
        "import time\n",
        "boost=GradientBoostingClassifier(n_estimators=100,learning_rate=0.1, verbose=1) \n",
        "##fitting the gradient boost classifier\n",
        "start_time = time.time()\n",
        "boost.fit(X_train_bal,y_train_bal)\n",
        "print(\"Time taken by GBM \"+ str((time.time() - start_time))+ \" Seconds\")"
      ],
      "metadata": {
        "colab": {
          "base_uri": "https://localhost:8080/"
        },
        "id": "zsKn-MDfn4y6",
        "outputId": "38f92fdb-237c-4b47-f7cb-23b829be8575"
      },
      "execution_count": null,
      "outputs": [
        {
          "output_type": "stream",
          "name": "stdout",
          "text": [
            "      Iter       Train Loss   Remaining Time \n",
            "         1           1.3313            6.65s\n",
            "         2           1.2929            6.21s\n"
          ]
        },
        {
          "output_type": "stream",
          "name": "stderr",
          "text": [
            "/usr/local/lib/python3.7/dist-packages/sklearn/ensemble/_gb.py:494: DataConversionWarning: A column-vector y was passed when a 1d array was expected. Please change the shape of y to (n_samples, ), for example using ravel().\n",
            "  y = column_or_1d(y, warn=True)\n"
          ]
        },
        {
          "output_type": "stream",
          "name": "stdout",
          "text": [
            "         3           1.2581            6.11s\n",
            "         4           1.2275            6.06s\n",
            "         5           1.2018            5.99s\n",
            "         6           1.1780            5.87s\n",
            "         7           1.1547            5.79s\n",
            "         8           1.1345            5.72s\n",
            "         9           1.1136            5.63s\n",
            "        10           1.0956            5.64s\n",
            "        20           0.9297            4.97s\n",
            "        30           0.8252            4.25s\n"
          ]
        }
      ]
    },
    {
      "cell_type": "code",
      "source": [
        "###predicting Gradient boosting model on the train Data\n",
        "from sklearn.metrics import f1_score\n",
        "boost_predict_train=boost.predict(X_train_bal)\n",
        "cm1 = confusion_matrix(y_train_bal,boost_predict_train)\n",
        "print(cm1)\n",
        "\n",
        "accuracy_train=f1_score(y_train_bal, boost_predict_train, average='micro') \n",
        "print(\"train accuracy\", accuracy_train)"
      ],
      "metadata": {
        "id": "xUN3jC_boBYI"
      },
      "execution_count": null,
      "outputs": []
    },
    {
      "cell_type": "code",
      "source": [
        "###predicting Gradient boosting model on the test Data\n",
        "boost_predict_test=boost.predict(X_test_real)\n",
        "cm1 = confusion_matrix(y_test_real,boost_predict_test)\n",
        "print(cm1)\n",
        "\n",
        "accuracy_test=f1_score(y_test_real, boost_predict_test, average='micro') \n",
        "print(\"test accuracy\", accuracy_test)"
      ],
      "metadata": {
        "id": "zTUqgRfjpPxJ"
      },
      "execution_count": null,
      "outputs": []
    },
    {
      "cell_type": "markdown",
      "source": [
        "## XGB-EXTREME GRADIENT BOOSTING"
      ],
      "metadata": {
        "id": "I4rOanZcp2V6"
      }
    },
    {
      "cell_type": "code",
      "source": [
        "#Creating XGB Friendly data and matrices\n",
        "from sklearn import preprocessing\n",
        "import xgboost\n",
        "import time\n",
        "train_labels = y_train_bal.values\n",
        "train_labels = preprocessing.LabelEncoder().fit_transform(train_labels)\n",
        "test_labels = y_test_real.values\n",
        "test_labels = preprocessing.LabelEncoder().fit_transform(test_labels)\n",
        "\n",
        "matrix_train = xgboost.DMatrix(X_train_bal,label=train_labels)\n",
        "matrix_test = xgboost.DMatrix(X_test_real,label=test_labels)"
      ],
      "metadata": {
        "id": "x0a0-4HCp6aS"
      },
      "execution_count": null,
      "outputs": []
    },
    {
      "cell_type": "markdown",
      "source": [
        "### FINDINGS\n",
        "IN THE RUNTIME WHEN RUNTIME TYPE WAS CHANGED TO GPU AND EXECUTED, IT TOOK HARDLY .36 SECONDS TO EXECUTE UNLIKE THE INITIAL CASE WHERE IT WAS TAKING 2.7 SECONDS TO RUN WITHOUT USE OF GPU. REMEMBER TO CHANGE THE TYPE BEFORE EXECUTING"
      ],
      "metadata": {
        "id": "Raeh6my_9u4F"
      }
    },
    {
      "cell_type": "code",
      "source": [
        "params = {\n",
        "    'max_depth': 4, \n",
        "    'eta':0.1, #Learning Rate\n",
        "    'eval_metric':'merror', # Multiclass classification error rate. \n",
        "    'tree_method' : \"gpu_hist\", # use this with colab in gpu mode for faster training\n",
        "    'num_class': 9\n",
        "}\n",
        "\n",
        "start_time = time.time()\n",
        "\n",
        "model=xgboost.train(params=params,\n",
        "                    dtrain=matrix_train,\n",
        "                    num_boost_round=300,    #Number of trees\n",
        "                    early_stopping_rounds=4, # Stop after 4 rounds, if test error doesn't improve. \n",
        "                    evals=[(matrix_test,'test')] \n",
        "                   )\n",
        "\n",
        "print(\"Time taken by XGB \"+ str((time.time() - start_time))+ \" Seconds\")"
      ],
      "metadata": {
        "id": "5VpTzAM9qP9d"
      },
      "execution_count": null,
      "outputs": []
    },
    {
      "cell_type": "code",
      "source": [
        "###prediction using XGB on the train Data\n",
        "boost_predict_train=model.predict(matrix_train)\n",
        "cm1 = confusion_matrix(train_labels,boost_predict_train)\n",
        "print(cm1)\n",
        "\n",
        "accuracy_train=f1_score(train_labels, boost_predict_train, average='micro') \n",
        "print(\"train accuracy\", accuracy_train)"
      ],
      "metadata": {
        "id": "WWc2i6ZhqsZi"
      },
      "execution_count": null,
      "outputs": []
    },
    {
      "cell_type": "code",
      "source": [
        "###prediction using XGB on the test Data\n",
        "boost_predict_test=model.predict(matrix_test)\n",
        "cm1 = confusion_matrix(test_labels,boost_predict_test)\n",
        "print(cm1)\n",
        "\n",
        "accuracy_test=f1_score(test_labels, boost_predict_test, average='micro') \n",
        "print(\"test accuracy\", accuracy_test)"
      ],
      "metadata": {
        "id": "Zu9l34zGq3WG"
      },
      "execution_count": null,
      "outputs": []
    },
    {
      "cell_type": "code",
      "source": [],
      "metadata": {
        "id": "1qIDe6cbq63n"
      },
      "execution_count": null,
      "outputs": []
    }
  ],
  "metadata": {
    "colab": {
      "provenance": [],
      "include_colab_link": true
    },
    "kernelspec": {
      "display_name": "Python 3",
      "name": "python3"
    },
    "language_info": {
      "name": "python"
    },
    "accelerator": "GPU"
  },
  "nbformat": 4,
  "nbformat_minor": 0
}